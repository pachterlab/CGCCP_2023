{
  "cells": [
    {
      "cell_type": "markdown",
      "metadata": {
        "id": "view-in-github",
        "colab_type": "text"
      },
      "source": [
        "<a href=\"https://colab.research.google.com/github/pachterlab/GCCP_2021/blob/main/test_colab_ipynb.ipynb\" target=\"_parent\"><img src=\"https://colab.research.google.com/assets/colab-badge.svg\" alt=\"Open In Colab\"/></a>"
      ]
    },
    {
      "cell_type": "markdown",
      "metadata": {
        "id": "4LyHDS0r64Po"
      },
      "source": [
        "Install required packages"
      ]
    },
    {
      "cell_type": "code",
      "execution_count": 1,
      "metadata": {
        "colab": {
          "base_uri": "https://localhost:8080/",
          "height": 286
        },
        "id": "nEiSpc7y8DWk",
        "outputId": "64aa73fe-541d-4fde-a282-1bbfe5ef9396"
      },
      "outputs": [
        {
          "output_type": "execute_result",
          "data": {
            "text/plain": [
              "<matplotlib.axes._subplots.AxesSubplot at 0x7fd59cb82350>"
            ]
          },
          "metadata": {},
          "execution_count": 1
        },
        {
          "output_type": "display_data",
          "data": {
            "text/plain": [
              "<Figure size 432x288 with 1 Axes>"
            ],
            "image/png": "[encoded data removed]"
          },
          "metadata": {
            "needs_background": "light"
          }
        }
      ],
      "source": [
        "import matplotlib.pyplot as plt\n",
        "plt.subplot()"
      ]
    },
    {
      "cell_type": "code",
      "execution_count": 8,
      "metadata": {
        "colab": {
          "base_uri": "https://localhost:8080/"
        },
        "id": "NjOTtMjv63GY",
        "outputId": "1d782e46-a633-4a2a-f7c9-98a9315f0d53"
      },
      "outputs": [
        {
          "output_type": "stream",
          "name": "stdout",
          "text": [
            "Installing collected packages: importlib-metadata, commonmark, rich, anndata, scvi-tools\n",
            "  Attempting uninstall: importlib-metadata\n",
            "    Found existing installation: importlib-metadata 4.11.3\n",
            "    Uninstalling importlib-metadata-4.11.3:\n",
            "      Successfully uninstalled importlib-metadata-4.11.3\n",
            "\u001b[31mERROR: pip's dependency resolver does not currently take into account all the packages that are installed. This behaviour is the source of the following dependency conflicts.\n",
            "markdown 3.3.6 requires importlib-metadata>=4.4; python_version < \"3.10\", but you have importlib-metadata 1.7.0 which is incompatible.\u001b[0m\n",
            "Successfully installed anndata-0.8.0 commonmark-0.9.1 importlib-metadata-1.7.0 rich-12.3.0 scvi-tools-0.8.1\n",
            "Collecting loompy\n",
            "  Downloading loompy-3.0.7.tar.gz (4.8 MB)\n",
            "\u001b[K     |████████████████████████████████| 4.8 MB 4.2 MB/s \n",
            "\u001b[?25hRequirement already satisfied: h5py in /usr/local/lib/python3.7/dist-packages (from loompy) (3.1.0)\n",
            "Requirement already satisfied: numpy in /usr/local/lib/python3.7/dist-packages (from loompy) (1.21.6)\n",
            "Requirement already satisfied: scipy in /usr/local/lib/python3.7/dist-packages (from loompy) (1.4.1)\n",
            "Requirement already satisfied: setuptools in /usr/local/lib/python3.7/dist-packages (from loompy) (57.4.0)\n",
            "Requirement already satisfied: numba in /usr/local/lib/python3.7/dist-packages (from loompy) (0.51.2)\n",
            "Requirement already satisfied: click in /usr/local/lib/python3.7/dist-packages (from loompy) (7.1.2)\n",
            "Collecting numpy-groupies\n",
            "  Downloading numpy_groupies-0.9.15-py3-none-any.whl (25 kB)\n",
            "Requirement already satisfied: cached-property in /usr/local/lib/python3.7/dist-packages (from h5py->loompy) (1.5.2)\n",
            "Requirement already satisfied: llvmlite<0.35,>=0.34.0.dev0 in /usr/local/lib/python3.7/dist-packages (from numba->loompy) (0.34.0)\n",
            "Building wheels for collected packages: loompy\n",
            "  Building wheel for loompy (setup.py) ... \u001b[?25l\u001b[?25hdone\n",
            "  Created wheel for loompy: filename=loompy-3.0.7-py3-none-any.whl size=52040 sha256=f3f9ab561d7e30713e874f16d773412d4a61d75733972eccd565b06c1e8b60e2\n",
            "  Stored in directory: /root/.cache/pip/wheels/48/36/9f/eb3377d4a7423b96105b6667d36c3faa49ee73b96d8cab80b3\n",
            "Successfully built loompy\n",
            "Installing collected packages: numpy-groupies, loompy\n",
            "Successfully installed loompy-3.0.7 numpy-groupies-0.9.15\n",
            "Collecting leidenalg\n",
            "  Downloading leidenalg-0.8.10-cp37-cp37m-manylinux_2_17_x86_64.manylinux2014_x86_64.whl (1.3 MB)\n",
            "\u001b[K     |████████████████████████████████| 1.3 MB 4.3 MB/s \n",
            "\u001b[?25hCollecting igraph<0.10,>=0.9.0\n",
            "  Downloading igraph-0.9.10-cp37-cp37m-manylinux_2_17_x86_64.manylinux2014_x86_64.whl (3.1 MB)\n",
            "\u001b[K     |████████████████████████████████| 3.1 MB 39.0 MB/s \n",
            "\u001b[?25hCollecting texttable>=1.6.2\n",
            "  Downloading texttable-1.6.4-py2.py3-none-any.whl (10 kB)\n",
            "Installing collected packages: texttable, igraph, leidenalg\n",
            "Successfully installed igraph-0.9.10 leidenalg-0.8.10 texttable-1.6.4\n"
          ]
        }
      ],
      "source": [
        "%%capture\n",
        "%pip install scanpy\n",
        "%pip install scvi-tools==0.8.1\n",
        "%pip install loompy\n",
        "%pip install leidenalg"
      ]
    },
    {
      "cell_type": "code",
      "execution_count": 2,
      "metadata": {
        "colab": {
          "base_uri": "https://localhost:8080/"
        },
        "id": "YTE6OfMK9PKZ",
        "outputId": "d9ff25f0-6fee-4ae9-9b12-47a3932f577e"
      },
      "outputs": [
        {
          "output_type": "stream",
          "name": "stdout",
          "text": [
            "True\n",
            "1\n",
            "0\n"
          ]
        }
      ],
      "source": [
        "import torch \n",
        "memory_used = torch.cuda.memory_allocated()\n",
        "print(torch.cuda.is_available())\n",
        "print(torch.cuda.device_count())\n",
        "print(torch.cuda.current_device())"
      ]
    },
    {
      "cell_type": "code",
      "execution_count": 3,
      "metadata": {
        "colab": {
          "base_uri": "https://localhost:8080/"
        },
        "id": "aDkel2eaPXND",
        "outputId": "9f9fd564-800c-44b7-d48e-56d0e54d3880"
      },
      "outputs": [
        {
          "output_type": "stream",
          "name": "stdout",
          "text": [
            "Drive already mounted at /content/drive; to attempt to forcibly remount, call drive.mount(\"/content/drive\", force_remount=True).\n"
          ]
        }
      ],
      "source": [
        "from google.colab import drive\n",
        "drive.mount('/content/drive')"
      ]
    },
    {
      "cell_type": "code",
      "execution_count": 4,
      "metadata": {
        "id": "joGjTBuACaeo"
      },
      "outputs": [],
      "source": [
        "# System\n",
        "import os, pathlib, time, gc\n",
        "\n",
        "# Math\n",
        "import numpy as np\n",
        "import pandas as pd\n",
        "from sklearn.model_selection import StratifiedKFold\n",
        "\n",
        "# Plots\n",
        "import matplotlib\n",
        "matplotlib.use('Agg')\n",
        "import matplotlib.pyplot as plt\n",
        "import matplotlib.colors as colors\n",
        "import seaborn as sns\n",
        "\n",
        "# scvi\n",
        "import anndata\n",
        "import scvi\n",
        "import torch"
      ]
    },
    {
      "cell_type": "code",
      "execution_count": 5,
      "metadata": {
        "colab": {
          "base_uri": "https://localhost:8080/"
        },
        "id": "P8zcWXqLDsTg",
        "outputId": "ebee6831-bb74-4250-89ea-f6bc1950f659"
      },
      "outputs": [
        {
          "output_type": "stream",
          "name": "stdout",
          "text": [
            "/content/drive/Shareddrives/scBIVI/scBIVI colab/scBIVI\n",
            "analysis.py\t download_data.sh     preprocess.py\trun_scBIVI.py\n",
            "bivae.py\t experiment_colab.py  __pycache__\trun.sh\n",
            "data\t\t gena_snippets\t      README.txt\tscBIVI.ipynb\n",
            "distribution.py  out\t\t      requirements.txt\tscBIVI.py\n"
          ]
        }
      ],
      "source": [
        "%cd \"/content/drive/Shareddrives/scBIVI/scBIVI colab/scBIVI\"\n",
        "!ls"
      ]
    },
    {
      "cell_type": "code",
      "execution_count": 6,
      "metadata": {
        "id": "JsCFILc9CiWj"
      },
      "outputs": [],
      "source": [
        "# scbivi\n",
        "from scBIVI import scBIVI\n",
        "from analysis import calculate_accuracy, \\\n",
        "                     plot_corr_comparison, \\\n",
        "                     jaccard_index_split, \\\n",
        "                     knn_overlap\n"
      ]
    },
    {
      "cell_type": "markdown",
      "metadata": {
        "id": "XMklY4401inN"
      },
      "source": [
        "Manual scBIVI code"
      ]
    },
    {
      "cell_type": "markdown",
      "metadata": {
        "id": "r0lQ5lR7XUHd"
      },
      "source": [
        "# Load data "
      ]
    },
    {
      "cell_type": "code",
      "execution_count": 7,
      "metadata": {
        "id": "SHnXm3Pq6WCU"
      },
      "outputs": [],
      "source": [
        "outdir = 'out/pbmc_10k_v3'\n",
        "datadir = os.path.join(outdir,'data/preprocessed.h5ad')\n",
        "logdir = os.path.join(outdir,'out')\n",
        "percent_keep = 1\n",
        "cluster_method_split = 'RNA_leiden'\n",
        "\n",
        "## Load anndata\n",
        "dataext = pathlib.Path(datadir).suffix\n",
        "if dataext == '.h5ad':\n",
        "    adata = anndata.read_h5ad(datadir)\n",
        "elif dataext == '.loom':\n",
        "    adata = anndata.read_loom(datadir)\n",
        "\n",
        "## Downsample the data\n",
        "if percent_keep < 1:\n",
        "    X = adata.layers['counts']\n",
        "    # Convert to numpy array if not already\n",
        "    try:\n",
        "        X = X.toarray()\n",
        "    except:\n",
        "        pass\n",
        "    adata.layers['counts'] = np.random.binomial(X.astype('int32'),percent_keep)\n",
        "\n",
        "# Set up train/test data splits with 5-fold split\n",
        "skf = StratifiedKFold(n_splits=5, random_state=None, shuffle=False)\n",
        "skf_splits = skf.split(adata, adata.obsm['Cluster'][cluster_method_split])\n"
      ]
    },
    {
      "cell_type": "markdown",
      "metadata": {
        "id": "6JjTA6uE4-MQ"
      },
      "source": [
        "# Run single instance for testing"
      ]
    },
    {
      "cell_type": "markdown",
      "metadata": {
        "id": "iw4p1LnWB6wf"
      },
      "source": [
        "Define hyper parameters and model (distribution) type"
      ]
    },
    {
      "cell_type": "code",
      "execution_count": 45,
      "metadata": {
        "id": "RbeH8gXNBvs-"
      },
      "outputs": [],
      "source": [
        "# Hyper-parameters\n",
        "lr       = 1e-3\n",
        "n_latent = 20 # overwritten by setup name\n",
        "n_epochs = 10\n",
        "# n_epochs = 20\n",
        "n_hidden = 1024\n",
        "n_layers = 2\n",
        "\n",
        "# model setup\n",
        "# scBIVI{dist}-{n_latent}-{data type}\n",
        "# type: \n",
        "# setup = 'scBIVIcustom-10-combined'\n",
        "# setup = 'scBIVI-10-combined'\n"
      ]
    },
    {
      "cell_type": "code",
      "execution_count": 46,
      "metadata": {
        "id": "Oqc_DPEE4eM9"
      },
      "outputs": [],
      "source": [
        "# Use last of the K-fold splits\n",
        "for k, (train_index, test_index) in enumerate(skf_splits):\n",
        "  pass\n",
        "\n",
        "# setups = [setup]\n",
        "setups = ['scBIVIcustom-10-combined','scBIVI-10-combined','scBIVIuncorr-10-combined']\n",
        "\n",
        "cluster_methods = adata.obsm['Cluster'].columns.to_list()\n",
        "metrics_list = ['recon_error','latent embedding','compute'] + cluster_methods\n",
        "results_dict = {setup:{metrics: [] for metrics in metrics_list} for setup in setups}\n",
        "\n",
        "logdir_train = os.path.join(logdir,'train')\n",
        "os.makedirs(logdir_train, exist_ok=True)"
      ]
    },
    {
      "cell_type": "code",
      "execution_count": 47,
      "metadata": {
        "id": "NiVlRYSuid9v"
      },
      "outputs": [],
      "source": [
        "from torch._C import Value\n",
        "from seaborn.axisgrid import PairGrid\n",
        "# Define custom_dist if using scBIVIcustom\n",
        "\n",
        "\n",
        "# Set to default bivariate as example\n",
        "# from distribution import log_nb_positive_bi\n",
        "# custom_dist = log_nb_positive_bi\n",
        "def log_bursty_nb_bi_with_checks(x: torch.Tensor, mu1: torch.Tensor, mu2: torch.Tensor,\n",
        "                       theta: torch.Tensor, eps=1e-8, **kwargs):\n",
        "    \"\"\"\n",
        "    Log likelihood (scalar) of a minibatch according to a bivariate nb model.\n",
        "    Parameters\n",
        "    ----------\n",
        "    x\n",
        "        data\n",
        "    mu1,mu2\n",
        "        mean of the negative binomial (has to be positive support) (shape: minibatch x vars/2)\n",
        "    theta\n",
        "        params (has to be positive support) (shape: minibatch x vars)\n",
        "    eps\n",
        "        numerical stability constant\n",
        "    Notes\n",
        "    -----\n",
        "    We parametrize the bernoulli using the logits, hence the softplus functions appearing.\n",
        "    \"\"\"\n",
        "\n",
        "    # Divide the original data x into spliced (x) and unspliced (y)\n",
        "    n,m = torch.chunk(x,2,dim=-1)\n",
        "\n",
        "    # THETA_IS_MAT_SHAPE = True #this breaks at 5%\n",
        "    # THETA_IS_B = False\n",
        "    # THETA_IS_NAS_SHAPE = False\n",
        "    \n",
        "    # THETA_IS_MAT_SHAPE = False #best performance: breaks at 25%\n",
        "    # THETA_IS_B = True\n",
        "    # THETA_IS_NAS_SHAPE = False\n",
        "    \n",
        "    THETA_IS_MAT_SHAPE = False #best performance: breaks at 65%\n",
        "    THETA_IS_B = False\n",
        "    THETA_IS_NAS_SHAPE = True\n",
        "    if THETA_IS_MAT_SHAPE:\n",
        "        gamma = 1/theta\n",
        "        b = mu2*gamma\n",
        "        beta = b/mu1\n",
        "    elif THETA_IS_B:\n",
        "        b = theta\n",
        "        beta = b/mu1\n",
        "        gamma = b/mu2\n",
        "    elif THETA_IS_NAS_SHAPE:\n",
        "        beta = 1/theta\n",
        "        b = mu1*beta\n",
        "        gamma = b/mu2\n",
        "\n",
        "\n",
        "    if torch.any(~torch.isfinite(gamma)):\n",
        "        filt = ~torch.isfinite(gamma)\n",
        "        print(gamma[filt])\n",
        "        print(b[filt])\n",
        "        print(beta[filt])\n",
        "        print(mu1[filt])\n",
        "        print(mu2[filt])\n",
        "        print(\"bad gamma\")\n",
        "        raise ValueError\n",
        "    if torch.any(~torch.isfinite(beta)):\n",
        "        print(\"bad beta\")\n",
        "        raise ValueError\n",
        "    if torch.any(~torch.isfinite(b)):\n",
        "        print(\"bad b\")\n",
        "        raise ValueError\n",
        "\n",
        "    var1 = mu1 * (1+b)\n",
        "    var2 = mu2 * (1+b*beta/(beta+gamma))\n",
        "    cov = b**2/(beta+gamma)\n",
        "    \n",
        "    logvar1 = torch.log((var1/mu1**2)+1)\n",
        "    logvar2 = torch.log((var2/mu2**2)+1)\n",
        "    logstd1 = torch.sqrt(logvar1)\n",
        "    logstd2 = torch.sqrt(logvar2)\n",
        "\n",
        "    logmean1 = torch.log(mu1**2/torch.sqrt(var1+mu1**2))\n",
        "    logmean2 = torch.log(mu2**2/torch.sqrt(var2+mu2**2))\n",
        "\n",
        "    if torch.any(~torch.isfinite(logmean1)):\n",
        "        print(\"bad logmean1\")\n",
        "        raise ValueError\n",
        "    if torch.any(~torch.isfinite(logmean2)):\n",
        "        print(\"bad logmean2\")\n",
        "        raise ValueError\n",
        "    if torch.any(~torch.isfinite(logstd1)):\n",
        "        print(\"bad logstd1\")\n",
        "        raise ValueError\n",
        "    if torch.any(~torch.isfinite(logstd2)):\n",
        "        print(\"bad logstd2\")\n",
        "        raise ValueError\n",
        "    if torch.any(~torch.isfinite(cov)):\n",
        "        print(\"bad cov\")\n",
        "        raise ValueError\n",
        "\n",
        "    logcov = torch.log(cov * torch.exp(-(logmean1 + logmean2 + (logvar1 + logvar2)/2)) +1 )\n",
        "    logcorr = logcov/torch.sqrt(logvar1 * logvar2)\n",
        "    if torch.any(torch.logical_or((logcorr<0), (logcorr>1))):\n",
        "        print('excuse me haha what')\n",
        "        filt = torch.logical_or((logcorr<0), (logcorr>1))\n",
        "        print('params')\n",
        "        # print(b[filt])/\n",
        "        print(gamma[filt][10])\n",
        "        print(beta[filt][10])\n",
        "        # print()\n",
        "        # print('logcov')\n",
        "        # print(logcov[filt])\n",
        "        # print('logcorr')\n",
        "        # print(logcorr[filt])\n",
        "        raise ValueError('Parameters are wrong!')\n",
        "\n",
        "    if torch.any(~torch.isfinite(logcov)):\n",
        "        raise ValueError(\"bad logcov\")\n",
        "    if torch.any(~torch.isfinite(logcorr)):\n",
        "        raise ValueError(\"bad logcorr\")\n",
        "\n",
        "    logmean_cond = logmean2 + logcorr * logstd2/logstd1 * (torch.log(n+1) - logmean1)\n",
        "    logvar_cond = logvar2 * (1-logcorr**2)  \n",
        "    # logstd_cond = logstd2 * torch.sqrt(1-logcorr**2)   \n",
        "    # logvar_cond = logstd_cond**2\n",
        "\n",
        "    if torch.any(~torch.isfinite(logmean_cond)):\n",
        "        raise ValueError(\"bad logmean_cond\")\n",
        "    if torch.any(~torch.isfinite(logcorr**2)):\n",
        "        raise ValueError('bad square')\n",
        "    if torch.any(~torch.isfinite((1-logcorr**2)**0.5)):\n",
        "        print('bad sqrt')\n",
        "        filt = ~torch.isfinite((1-logcorr**2)**0.5)\n",
        "        # print('logstd cond')\n",
        "        # print(logstd_cond[filt])\n",
        "        print('logstd2')\n",
        "        print(logstd2[filt])\n",
        "        print('logcorr')\n",
        "        print(logcorr[filt])\n",
        "        print('sqrt')\n",
        "        print(torch.sqrt(1-logcorr**2)   [filt])\n",
        "        print('radical argument')\n",
        "        print((1-logcorr**2)[filt])\n",
        "        raise ValueError('Something weird in sqrt')\n",
        "    if torch.any(~torch.isfinite(torch.sqrt(1-logcorr**2))):\n",
        "        raise ValueError('bad torch.sqrt')\n",
        "    # if torch.any(~torch.isfinite(logstd_cond)):\n",
        "    #     print(logstd2)\n",
        "    #     print(torch.sqrt(1-logcorr**2) )\n",
        "    #     raise ValueError(\"bad logstd_cond\")\n",
        "    if torch.any(~torch.isfinite(logvar_cond)):\n",
        "        raise ValueError(\"bad logvar_cond\")\n",
        "\n",
        "\n",
        "    mean_cond = torch.exp(logmean_cond + logvar_cond/2)\n",
        "    var_cond = torch.exp(2*logmean_cond + logvar_cond) * (torch.exp(logvar_cond) - 1)\n",
        "    if torch.any(~torch.isfinite(mean_cond)):\n",
        "        raise ValueError(\"bad mean_cond\")\n",
        "    if torch.any(~torch.isfinite(var_cond)):\n",
        "        raise ValueError(\"bad var_cond\")\n",
        "\n",
        "    r = 1/beta\n",
        "    r_cond = mean_cond**2/(var_cond-mean_cond)\n",
        "    p_cond = mean_cond/var_cond\n",
        "    prefactor = torch.lgamma(n+r) - torch.lgamma(n+1) - torch.lgamma(r) \\\n",
        "                + r * torch.log(r/(r+mu1)+eps) + n * torch.log(mu1/(r+mu1)+eps)\n",
        "\n",
        "    if torch.any(~torch.isfinite(r)):\n",
        "        raise ValueError(\"bad r\")\n",
        "    if torch.any(~torch.isfinite(prefactor)):\n",
        "        raise ValueError(\"bad prefactor\")\n",
        "\n",
        "\n",
        "    filt = torch.logical_and(torch.logical_and(r>0,p_cond>0), p_cond<1)\n",
        "\n",
        "    #compute the Poisson mean\n",
        "    y_ = m * torch.log(mean_cond+eps) - mean_cond - torch.lgamma(m+1) \n",
        "    y_[filt] += torch.lgamma(m[filt]+r_cond[filt]) - torch.lgamma(r_cond[filt]) \\\n",
        "                + r_cond[filt] * torch.log(r_cond[filt]/(r_cond[filt]+mean_cond[filt])+eps) \\\n",
        "                - m[filt] * torch.log(r_cond[filt]+mean_cond[filt]+eps) + mean_cond[filt]\n",
        "\n",
        "    # y_ = torch.lgamma(m+r_cond) - torch.lgamma(m+1) - torch.lgamma(r_cond) \\\n",
        "                # + r_cond * torch.log(r_cond/(r_cond+mean_cond)) \\\n",
        "                # + m * torch.log(mean_cond/(r_cond+mean_cond))\n",
        "    # y_ = torch.lgamma(m[filt]+r_cond[filt]) - torch.lgamma(m[filt]+1) - torch.lgamma(r_cond[filt]) \\\n",
        "    #             + r_cond[filt] * torch.log(r_cond[filt]/(r_cond[filt]+mean_cond[filt])) \\\n",
        "    #             + m[filt] * torch.log(mean_cond[filt]/(r_cond[filt]+mean_cond[filt]))\n",
        "    # y_[~filt] = m[~filt] * torch.log(mean_cond[~filt]) - mean_cond[~filt] - torch.lgamma(m[~filt]+1) \n",
        "    # print(y_.device)\n",
        "    # print(y_.shape)\n",
        "    # print(n.shape)\n",
        "    # print(filt.shape)\n",
        "    # print(y_.shape)\n",
        "    # print(prefactor.shape)\n",
        "    P = prefactor +  y_\n",
        "    if torch.any(~torch.isfinite(y_)):\n",
        "        raise ValueError('bad y_')\n",
        "    return P\n",
        "\n",
        "def log_bursty_nb_bi(x: torch.Tensor, mu1: torch.Tensor, mu2: torch.Tensor,\n",
        "                       theta: torch.Tensor, eps=1e-8, **kwargs):\n",
        "    \"\"\"\n",
        "    Log likelihood (scalar) of a minibatch according to a bivariate nb model.\n",
        "    Parameters\n",
        "    ----------\n",
        "    x\n",
        "        data\n",
        "    mu1,mu2\n",
        "        mean of the negative binomial (has to be positive support) (shape: minibatch x vars/2)\n",
        "    theta\n",
        "        params (has to be positive support) (shape: minibatch x vars)\n",
        "    eps\n",
        "        numerical stability constant\n",
        "    Notes\n",
        "    -----\n",
        "    We parametrize the bernoulli using the logits, hence the softplus functions appearing.\n",
        "    \"\"\"\n",
        "\n",
        "    # Divide the original data x into spliced (x) and unspliced (y)\n",
        "    n,m = torch.chunk(x,2,dim=-1)\n",
        "\n",
        "    # THETA_IS_MAT_SHAPE = True #this breaks at 5%\n",
        "    # THETA_IS_B = False\n",
        "    # THETA_IS_NAS_SHAPE = False\n",
        "    \n",
        "    # THETA_IS_MAT_SHAPE = False #best performance: breaks at 25%\n",
        "    # THETA_IS_B = True\n",
        "    # THETA_IS_NAS_SHAPE = False\n",
        "    \n",
        "    THETA_IS_MAT_SHAPE = False #best performance: breaks at 65%\n",
        "    THETA_IS_B = False\n",
        "    THETA_IS_NAS_SHAPE = True\n",
        "\n",
        "    if THETA_IS_MAT_SHAPE:\n",
        "        gamma = 1/theta\n",
        "        b = mu2*gamma\n",
        "        beta = b/mu1\n",
        "    elif THETA_IS_B:\n",
        "        b = theta\n",
        "        beta = b/mu1\n",
        "        gamma = b/mu2\n",
        "    elif THETA_IS_NAS_SHAPE:\n",
        "        beta = 1/theta\n",
        "        b = mu1*beta\n",
        "        gamma = b/mu2\n",
        "\n",
        "    var1 = mu1 * (1+b)\n",
        "    var2 = mu2 * (1+b*beta/(beta+gamma))\n",
        "    cov = b**2/(beta+gamma)\n",
        "    \n",
        "    logvar1 = torch.log((var1/mu1**2)+1)\n",
        "    logvar2 = torch.log((var2/mu2**2)+1)\n",
        "    logstd1 = torch.sqrt(logvar1)\n",
        "    logstd2 = torch.sqrt(logvar2)\n",
        "\n",
        "    logmean1 = torch.log(mu1**2/torch.sqrt(var1+mu1**2))\n",
        "    logmean2 = torch.log(mu2**2/torch.sqrt(var2+mu2**2))\n",
        "\n",
        "    logcov = torch.log(cov * torch.exp(-(logmean1 + logmean2 + (logvar1 + logvar2)/2)) +1 )\n",
        "    logcorr = logcov/torch.sqrt(logvar1 * logvar2)\n",
        "\n",
        "\n",
        "    logmean_cond = logmean2 + logcorr * logstd2/logstd1 * (torch.log(n+1) - logmean1)\n",
        "    logvar_cond = logvar2 * (1-logcorr**2)  \n",
        "\n",
        "\n",
        "    mean_cond = torch.exp(logmean_cond + logvar_cond/2)\n",
        "    var_cond = torch.exp(2*logmean_cond + logvar_cond) * (torch.exp(logvar_cond) - 1)\n",
        "\n",
        "    r = 1/beta\n",
        "    r_cond = mean_cond**2/(var_cond-mean_cond)\n",
        "    p_cond = mean_cond/var_cond\n",
        "    prefactor = torch.lgamma(n+r) - torch.lgamma(n+1) - torch.lgamma(r) \\\n",
        "                + r * torch.log(r/(r+mu1)+eps) + n * torch.log(mu1/(r+mu1)+eps)\n",
        "\n",
        "    filt = torch.logical_and(torch.logical_and(r>0,p_cond>0), p_cond<1)\n",
        "\n",
        "    #compute the Poisson term\n",
        "    y_ = m * torch.log(mean_cond+eps) - mean_cond - torch.lgamma(m+1) \n",
        "    #actually commenting out the next line fixes the Nan gradients... \n",
        "    y_[filt] += torch.lgamma(m[filt]+r_cond[filt]) - torch.lgamma(r_cond[filt]) \\\n",
        "                + r_cond[filt] * torch.log(r_cond[filt]/(r_cond[filt]+mean_cond[filt])+eps) \\\n",
        "                - m[filt] * torch.log(r_cond[filt]+mean_cond[filt]+eps) + mean_cond[filt]\n",
        "\n",
        "    P = prefactor +  y_\n",
        "    if torch.any(~torch.isfinite(y_)):\n",
        "        raise ValueError('bad y_')\n",
        "    return P\n",
        "\n",
        "\n",
        "custom_dist = log_bursty_nb_bi_with_checks\n"
      ]
    },
    {
      "cell_type": "code",
      "execution_count": 48,
      "metadata": {
        "colab": {
          "base_uri": "https://localhost:8080/"
        },
        "id": "qoP6NaxD6zPq",
        "outputId": "8b1a26c3-ca85-4e4d-9a12-f5ec9630fccd"
      },
      "outputs": [
        {
          "output_type": "stream",
          "name": "stdout",
          "text": [
            "True\n",
            "1\n",
            "0\n"
          ]
        }
      ],
      "source": [
        "memory_used = torch.cuda.memory_allocated()\n",
        "print(torch.cuda.is_available())\n",
        "print(torch.cuda.device_count())\n",
        "print(torch.cuda.current_device())"
      ]
    },
    {
      "cell_type": "markdown",
      "source": [
        "The following seed settings work:\n",
        "```\n",
        "scvi._settings.ScviConfig.seed=(8675309)\n",
        "torch.manual_seed(8675309)\n",
        "# np.seed(8675309)\n",
        "np.random.seed(8675309)\n",
        "```\n",
        "Any others, who knows..."
      ],
      "metadata": {
        "id": "Qyo6H11wkiu2"
      }
    },
    {
      "cell_type": "code",
      "execution_count": 57,
      "metadata": {
        "id": "dYiLzRSA5DAq",
        "colab": {
          "base_uri": "https://localhost:8080/"
        },
        "outputId": "6c7b790e-4cb0-4481-9933-ea47cdbc8e2d"
      },
      "outputs": [
        {
          "output_type": "stream",
          "name": "stdout",
          "text": [
            "scBIVIuncorr-10-combined\n",
            "\u001b[34mINFO    \u001b[0m No batch_key inputted, assuming all cells are same batch                            \n",
            "\u001b[34mINFO    \u001b[0m No label_key inputted, assuming all cells have same label                           \n",
            "\u001b[34mINFO    \u001b[0m Using data from adata.layers\u001b[1m[\u001b[0m\u001b[32m\"counts\"\u001b[0m\u001b[1m]\u001b[0m                                              \n",
            "\u001b[34mINFO    \u001b[0m Computing library size prior per batch                                              \n",
            "\u001b[34mINFO    \u001b[0m Successfully registered anndata object containing \u001b[1;36m11581\u001b[0m cells, \u001b[1;36m5428\u001b[0m vars, \u001b[1;36m1\u001b[0m batches,\n",
            "         \u001b[1;36m1\u001b[0m labels, and \u001b[1;36m0\u001b[0m proteins. Also registered \u001b[1;36m0\u001b[0m extra categorical covariates and \u001b[1;36m0\u001b[0m extra\n",
            "         continuous covariates.                                                              \n",
            "\u001b[34mINFO    \u001b[0m Please do not further modify adata until model is trained.                          \n",
            "\u001b[34mINFO    \u001b[0m Training for \u001b[1;36m10\u001b[0m epochs                                                              \n",
            "\u001b[34mINFO    \u001b[0m KL warmup for \u001b[1;36m5.0\u001b[0m epochs                                                            \n",
            "Training...: 100%|██████████| 10/10 [00:33<00:00,  3.39s/it]\n",
            "\u001b[34mINFO    \u001b[0m Training time:  \u001b[1;36m18\u001b[0m s. \u001b[35m/\u001b[0m \u001b[1;36m10\u001b[0m epochs                                                   \n"
          ]
        }
      ],
      "source": [
        "scvi._settings.ScviConfig.seed=(8675309)\n",
        "torch.manual_seed(8675309)\n",
        "# np.seed(8675309)\n",
        "np.random.seed(8675309)\n",
        "\n",
        "SETUP=setups[2]\n",
        "\n",
        "print(SETUP)\n",
        "method,n_latent,datas = SETUP.split(\"-\")\n",
        "method_split = method.split('_')\n",
        "method = method_split[0]\n",
        "\n",
        "# If set up includes additional argument\n",
        "additional_kwargs = {s.split('=')[0]: float(s.split('=')[1]) for s in method_split[1:]}\n",
        "\n",
        "n_latent = int(n_latent)\n",
        "\n",
        "## Split the data\n",
        "if datas == 'spliced':\n",
        "  adata_in = adata[:,:int(adata.shape[1]/2)]\n",
        "elif datas == 'unspliced':\n",
        "  adata_in = adata[:,int(adata.shape[1]/2):]\n",
        "elif datas == 'combined':\n",
        "  adata_in = adata\n",
        "else:\n",
        "  raise ValueError(\"Input valid datas\")\n",
        "\n",
        "adata_in = adata_in.copy()\n",
        "scvi.data.setup_anndata(adata_in, layer=\"counts\")\n",
        "\n",
        "train_adata, test_adata = adata_in[train_index], adata_in[test_index]\n",
        "train_adata = train_adata.copy()\n",
        "\n",
        "## Set model parameters\n",
        "model_args = {'use_cuda'     : True,\n",
        "              'n_latent'     : n_latent,\n",
        "              'n_layers'     : n_layers,\n",
        "              'dispersion'   : 'gene',\n",
        "              'n_hidden'     : n_hidden,\n",
        "              'dropout_rate' :  0.1, #shouldn't use this at all\n",
        "              'gene_likelihood'    :  'nb',\n",
        "              'log_variational'    :  True,\n",
        "              'latent_distribution':  'normal'\n",
        "              }\n",
        "model_args.update(additional_kwargs)\n",
        "\n",
        "## Create model\n",
        "if method == 'LDVAE':\n",
        "    model = scvi.model.LinearSCVI(train_adata,**model_args)\n",
        "elif method == 'scVI':\n",
        "    model = scvi.model.SCVI(train_adata,**model_args)\n",
        "elif method == \"scBIVI\":\n",
        "    model = scBIVI(train_adata,mode='corr',**model_args)\n",
        "elif method == \"scBIVIuncorr\":\n",
        "    model = scBIVI(train_adata,mode='uncorr',**model_args)\n",
        "elif method == 'scBIVImixed':\n",
        "    model = scBIVI(train_adata,mode='mixed',**model_args)\n",
        "elif method == 'scBIVItemp':\n",
        "    model = scBIVI(train_adata,mode='mixed',**model_args)\n",
        "elif method == 'scBIVIcustom':\n",
        "    print(method)\n",
        "    model = scBIVI(train_adata,mode='custom',\n",
        "                   custom_dist=custom_dist,**model_args)\n",
        "else:\n",
        "    raise Exception('Input valid scVI model')\n",
        "\n",
        "## Train model\n",
        "start = time.time()\n",
        "# print(model)\n",
        "model.train(n_epochs = n_epochs,\n",
        "            lr       = lr,\n",
        "            n_epochs_kl_warmup = n_epochs/2,\n",
        "            metrics_to_monitor = ['reconstruction_error'],\n",
        "            frequency = 1,\n",
        "            train_size = 0.9)"
      ]
    },
    {
      "cell_type": "code",
      "execution_count": 58,
      "metadata": {
        "colab": {
          "base_uri": "https://localhost:8080/",
          "height": 296
        },
        "id": "ZRy6axjS-N7R",
        "outputId": "08315820-e65b-4d68-957a-db34a9b9efd0"
      },
      "outputs": [
        {
          "output_type": "execute_result",
          "data": {
            "text/plain": [
              "<matplotlib.axes._subplots.AxesSubplot at 0x7fd495690d90>"
            ]
          },
          "metadata": {},
          "execution_count": 58
        },
        {
          "output_type": "display_data",
          "data": {
            "text/plain": [
              "<Figure size 432x288 with 1 Axes>"
            ],
            "image/png": "[encoded data removed]"
          },
          "metadata": {
            "needs_background": "light"
          }
        }
      ],
      "source": [
        "runtime     = time.time() - start\n",
        "memory_used = torch.cuda.memory_allocated()\n",
        "results_dict[SETUP]['compute'].append([runtime,memory_used])\n",
        "\n",
        "## Check train history\n",
        "df_history = {'reconstruction_error_test_set' : model.history['reconstruction_error_test_set'],\n",
        "              'reconstruction_error_train_set': model.history['reconstruction_error_train_set']}\n",
        "df_history = pd.DataFrame(df_history)\n",
        "df_history = pd.DataFrame(df_history.stack())\n",
        "df = df_history\n",
        "df.reset_index(inplace=True)\n",
        "df.columns = ['Epoch','Loss Type', 'Loss']\n",
        "figname = f\"{SETUP}-{k}\"\n",
        "sns.lineplot(data=df, \n",
        "             x='Epoch', \n",
        "             y='Loss', \n",
        "             hue = 'Loss Type')\n",
        "# plt.savefig(os.path.join(logdir_train,f\"{figname}-train-history.pdf\"))\n",
        "# plt.close()"
      ]
    },
    {
      "cell_type": "code",
      "execution_count": 59,
      "metadata": {
        "colab": {
          "base_uri": "https://localhost:8080/"
        },
        "id": "KPhWphSl-ap7",
        "outputId": "16058696-95ed-43c5-babe-1f18b7e059f8"
      },
      "outputs": [
        {
          "output_type": "stream",
          "name": "stdout",
          "text": [
            "\u001b[34mINFO    \u001b[0m Received view of anndata, making copy.                                              \n",
            "\u001b[34mINFO    \u001b[0m Received view of anndata, making copy.                                              \n"
          ]
        }
      ],
      "source": [
        "## Get reconstruction loss on test data\n",
        "test_error  = model.get_reconstruction_error(test_adata)\n",
        "train_error = model.get_reconstruction_error(train_adata)\n",
        "results_dict[SETUP]['recon_error'].append(np.array([train_error,test_error]))\n",
        "\n",
        "## Extract the embedding space for scVI\n",
        "X_out = model.get_latent_representation(test_adata)\n",
        "\n",
        "adata_latent = anndata.AnnData(X_out)\n",
        "adata_latent.obs = test_adata.obs\n",
        "results_dict[SETUP]['latent embedding'] = adata_latent\n",
        "if datas == 'combined':\n",
        "  test_adata_save = test_adata"
      ]
    },
    {
      "cell_type": "code",
      "execution_count": 60,
      "metadata": {
        "colab": {
          "base_uri": "https://localhost:8080/",
          "height": 255
        },
        "id": "Cj-wH5kk5Pi0",
        "outputId": "e67c204f-ccc3-4141-a2a9-d7ca18fe6507"
      },
      "outputs": [
        {
          "output_type": "stream",
          "name": "stdout",
          "text": [
            "\u001b[34mINFO    \u001b[0m Received view of anndata, making copy.                                              \n"
          ]
        },
        {
          "output_type": "execute_result",
          "data": {
            "text/plain": [
              "17824"
            ]
          },
          "metadata": {},
          "execution_count": 60
        },
        {
          "output_type": "display_data",
          "data": {
            "text/plain": [
              "<Figure size 1800x288 with 5 Axes>"
            ],
            "image/png": "[encoded data removed]"
          },
          "metadata": {
            "needs_background": "light"
          }
        }
      ],
      "source": [
        "#### Validation with cluster accuracy based on labels\n",
        "## Iterate through ground truth labels based on different approach\n",
        "\n",
        "for cluster_method, y in test_adata.obsm['Cluster'].iteritems():\n",
        "\n",
        "    y = np.array(y.tolist())\n",
        "\n",
        "    score_dict = calculate_accuracy(X_out,y)\n",
        "    results_dict[SETUP][cluster_method].append(score_dict)\n",
        "\n",
        "#### Get predicted distribution\n",
        "if 'scBIVI' in method:\n",
        "\n",
        "    params = model.get_likelihood_parameters(test_adata)\n",
        "    mu = params['mean']\n",
        "    if method == 'scBIVImixed':\n",
        "        import torch.nn.functional as F\n",
        "        mu,mw = np.split(mu,2,axis=1)\n",
        "        mw_tensor = torch.tensor(mw.reshape(-1,int(mw.shape[1]/2),2))\n",
        "        mw_softmax = F.softmax(mw_tensor/10e-20,dim=-1)\n",
        "\n",
        "    mu1,mu2 = np.split(mu,2,axis=1)\n",
        "    alpha = params['dispersions']\n",
        "\n",
        "    if mu1.shape[1] == alpha.shape[1]:\n",
        "        stats = {'mu1': mu1, 'mu2' : mu2,\n",
        "                  '1/alpha'         : 1/alpha,\n",
        "                  'mu2/(mu1*alpha)' : mu2/(mu1*alpha),\n",
        "                  'mu2/alpha'       : mu2/alpha\n",
        "                  }\n",
        "\n",
        "        fig,axs = plt.subplots(1,len(stats),\n",
        "                                figsize=(5*len(stats),4),\n",
        "                                squeeze=False)\n",
        "\n",
        "        for ax, (stat,x) in zip(axs.reshape(-1),stats.items()):\n",
        "            ax = sns.histplot(np.log(x.reshape(-1)),kde=False,ax=ax,bins=20)\n",
        "            ax.set_title(stat)\n",
        "\n",
        "        # plt.savefig(os.path.join(logdir_train,f\"{figname}-hist.pdf\"))\n",
        "        # plt.close()\n",
        "\n",
        "#### Correlations\n",
        "\n",
        "# cg = plot_corr_comparison(X1,X2)\n",
        "# figname = f\"{setup}-{k}\"\n",
        "# plt.title(figname)\n",
        "# plt.savefig(os.path.join(logdir,f\"{figname}-corr.pdf\"))\n",
        "# plt.close()\n",
        "\n",
        "del model\n",
        "torch.cuda.empty_cache()\n",
        "gc.collect()\n"
      ]
    },
    {
      "cell_type": "markdown",
      "source": [
        "here u go back and redefine `SETUPS`"
      ],
      "metadata": {
        "id": "_FQMQTNpkfCs"
      }
    },
    {
      "cell_type": "code",
      "source": [
        "# results_dict.keys()"
      ],
      "metadata": {
        "id": "5zF3ooK6glIC"
      },
      "execution_count": 61,
      "outputs": []
    },
    {
      "cell_type": "code",
      "execution_count": 62,
      "metadata": {
        "colab": {
          "base_uri": "https://localhost:8080/",
          "height": 460
        },
        "id": "dTfFQVxB_gKn",
        "outputId": "1bc47ea3-eca5-4949-8a0c-f592053ffd79"
      },
      "outputs": [
        {
          "output_type": "stream",
          "name": "stdout",
          "text": [
            "                                Train         Test  KFold\n",
            "Setup                                                    \n",
            "scBIVI-10-combined        1935.477192  1938.967412    0.0\n",
            "scBIVIcustom-10-combined  1929.945857  1937.289428    0.0\n",
            "scBIVIuncorr-10-combined  1917.560921  1925.631074    0.0\n"
          ]
        },
        {
          "output_type": "display_data",
          "data": {
            "text/plain": [
              "<Figure size 432x288 with 1 Axes>"
            ],
            "image/png": "[encoded data removed]"
          },
          "metadata": {
            "needs_background": "light"
          }
        }
      ],
      "source": [
        "#### Plot NLL\n",
        "setups = list(results_dict.keys())\n",
        "df_plot = pd.concat([pd.DataFrame({\"Train\": -np.array(r['recon_error'])[:,0],\n",
        "                                   \"Test\": -np.array(r['recon_error'])[:,1],\n",
        "                                   'Setup': key}) for key,r in results_dict.items()])\n",
        "\n",
        "df_plot['KFold'] = df_plot.index\n",
        "df_plot.reset_index(drop=True)\n",
        "\n",
        "df_plot.to_csv(os.path.join(logdir,'.svg'))\n",
        "\n",
        "fig,ax=plt.subplots()\n",
        "_ = sns.barplot(data=df_plot, x='Setup', y='Test', hue='Setup', dodge=False, ax=ax)\n",
        "ax.get_legend().remove()\n",
        "plt.xticks(rotation=45)\n",
        "# plt.savefig(os.path.join(logdir,'nll.svg'))\n",
        "# plt.close()\n",
        "\n",
        "print(df_plot.groupby(\"Setup\").mean())\n"
      ]
    },
    {
      "cell_type": "code",
      "execution_count": 63,
      "metadata": {
        "colab": {
          "base_uri": "https://localhost:8080/",
          "height": 486
        },
        "id": "lGSWBFrL_k15",
        "outputId": "d77dc740-3fa9-47d0-eb3b-62385ff41e1b"
      },
      "outputs": [
        {
          "output_type": "stream",
          "name": "stdout",
          "text": [
            "                      Setup      Metric     Score\n",
            "0  scBIVIcustom-10-combined         ARI  0.687543\n",
            "1        scBIVI-10-combined         ARI  0.673958\n",
            "2  scBIVIuncorr-10-combined         ARI  0.725156\n",
            "3  scBIVIcustom-10-combined         NMI  0.811726\n",
            "4        scBIVI-10-combined         NMI  0.804688\n",
            "5  scBIVIuncorr-10-combined         NMI  0.824531\n",
            "6  scBIVIcustom-10-combined  silhouette  0.158219\n",
            "7        scBIVI-10-combined  silhouette  0.165361\n",
            "8  scBIVIuncorr-10-combined  silhouette  0.173410\n"
          ]
        },
        {
          "output_type": "display_data",
          "data": {
            "text/plain": [
              "<Figure size 432x288 with 1 Axes>"
            ],
            "image/png": "[encoded data removed]"
          },
          "metadata": {
            "needs_background": "light"
          }
        }
      ],
      "source": [
        "#### Plot clustering accuracy\n",
        "\n",
        "# iterate through different cluster methods\n",
        "for cluster_method in cluster_methods:\n",
        "    df_plot = pd.concat([pd.DataFrame(r[cluster_method]).assign(Setup=key) for key,r in results_dict.items()])\n",
        "    df_plot.to_csv(os.path.join(logdir,f'clust_acc_{cluster_method}.csv'))\n",
        "    df_plot = df_plot.melt(id_vars=['Setup'],var_name='Metric',value_name='Score')\n",
        "\n",
        "    fig,ax=plt.subplots()\n",
        "    _ = sns.barplot(data=df_plot, x='Metric', y='Score', hue='Setup', ax=ax)\n",
        "    plt.xticks(rotation=45)\n",
        "    # plt.savefig(os.path.join(logdir,f'clust_acc_{cluster_method}.svg'))\n",
        "    # plt.close()\n",
        "    print(df_plot)"
      ]
    },
    {
      "cell_type": "markdown",
      "metadata": {
        "id": "6RWBNQNq4gPW"
      },
      "source": [
        "# Loop through all K-folds split and setups"
      ]
    },
    {
      "cell_type": "code",
      "execution_count": 21,
      "metadata": {
        "colab": {
          "base_uri": "https://localhost:8080/"
        },
        "id": "RhUPtGZM-AM0",
        "outputId": "d563d4ea-6d0a-4895-eb0d-7bb3b030360a"
      },
      "outputs": [
        {
          "output_type": "stream",
          "name": "stdout",
          "text": [
            "416758784/560718336\n"
          ]
        }
      ],
      "source": [
        "print(\"{}/{}\".format(torch.cuda.memory_allocated(),torch.cuda.max_memory_allocated()))\n",
        "\n",
        "# Hyper-parameters\n",
        "lr       = 1e-3\n",
        "n_latent = 2\n",
        "n_epochs = 10\n",
        "n_hidden = 1024\n",
        "n_layers = 3\n",
        "\n",
        "#'scBIVIcustom-10-combined'\n",
        "# setups = ['scBIVI-10-combined',\n",
        "#           'scVI-10-combined',\n",
        "#           \"scVI-10-spliced\",\n",
        "#           'scVI-10-unspliced',\n",
        "#           'scBIVIuncorr-10-combined',\n",
        "#           'scBIVImixed-10-combined']\n",
        "# setups = ['scBIVItemp_T=0.000001_Trate=0-10-combined']\n",
        "setups = ['scBIVI-10-combined','scBIVIuncorr-10-combined']\n",
        "\n",
        "# setups = ['scBIVI-10-combined',\n",
        "#           'scBIVItemp_T=1_Trate=0.01-10-combined',\n",
        "#           'scBIVItemp_T=1_Trate=0.0001-10-combined',\n",
        "#           'scBIVItemp_T=1_Trate=0.000001-10-combined',\n",
        "#           'scBIVItemp_T=1_Trate=0.00000001-10-combined',\n",
        "#           'scBIVItemp_T=1_Trate=0-10-combined',\n",
        "#           'scBIVItemp_T=0.01_Trate=0-10-combined',\n",
        "#           'scBIVItemp_T=0.0001_Trate=0-10-combined',\n",
        "#           'scBIVItemp_T=0.000001_Trate=0-10-combined',]\n",
        "\n",
        "cluster_methods = adata.obsm['Cluster'].columns.to_list()\n",
        "metrics_list = ['recon_error','latent embedding','compute'] + cluster_methods\n",
        "results_dict = {setup:{metrics: [] for metrics in metrics_list} for setup in setups}\n",
        "\n",
        "logdir_train = os.path.join(logdir,'train')\n",
        "os.makedirs(logdir_train, exist_ok=True)"
      ]
    },
    {
      "cell_type": "code",
      "source": [
        "# skf_splits[0]"
      ],
      "metadata": {
        "id": "XiXejqgMhsWJ"
      },
      "execution_count": 27,
      "outputs": []
    },
    {
      "cell_type": "code",
      "execution_count": 28,
      "metadata": {
        "colab": {
          "base_uri": "https://localhost:8080/"
        },
        "id": "DoSUe5ih2f0F",
        "outputId": "a5eaeb4b-c41b-4b9d-c3fc-bb3341ac2efb"
      },
      "outputs": [
        {
          "output_type": "stream",
          "name": "stdout",
          "text": [
            "scBIVI-10-combined\n",
            "\u001b[34mINFO    \u001b[0m No batch_key inputted, assuming all cells are same batch                            \n",
            "\u001b[34mINFO    \u001b[0m No label_key inputted, assuming all cells have same label                           \n",
            "\u001b[34mINFO    \u001b[0m Using data from adata.layers\u001b[1m[\u001b[0m\u001b[32m\"counts\"\u001b[0m\u001b[1m]\u001b[0m                                              \n",
            "\u001b[34mINFO    \u001b[0m Computing library size prior per batch                                              \n",
            "\u001b[34mINFO    \u001b[0m Successfully registered anndata object containing \u001b[1;36m11581\u001b[0m cells, \u001b[1;36m5428\u001b[0m vars, \u001b[1;36m1\u001b[0m batches,\n",
            "         \u001b[1;36m1\u001b[0m labels, and \u001b[1;36m0\u001b[0m proteins. Also registered \u001b[1;36m0\u001b[0m extra categorical covariates and \u001b[1;36m0\u001b[0m extra\n",
            "         continuous covariates.                                                              \n",
            "\u001b[34mINFO    \u001b[0m Please do not further modify adata until model is trained.                          \n",
            "\u001b[34mINFO    \u001b[0m Training for \u001b[1;36m10\u001b[0m epochs                                                              \n",
            "\u001b[34mINFO    \u001b[0m KL warmup for \u001b[1;36m5.0\u001b[0m epochs                                                            \n",
            "Training...: 100%|██████████| 10/10 [00:39<00:00,  3.94s/it]\n",
            "\u001b[34mINFO    \u001b[0m Training time:  \u001b[1;36m22\u001b[0m s. \u001b[35m/\u001b[0m \u001b[1;36m10\u001b[0m epochs                                                   \n",
            "\u001b[34mINFO    \u001b[0m Received view of anndata, making copy.                                              \n",
            "\u001b[34mINFO    \u001b[0m Received view of anndata, making copy.                                              \n",
            "\u001b[34mINFO    \u001b[0m Received view of anndata, making copy.                                              \n",
            "scBIVIuncorr-10-combined\n",
            "\u001b[34mINFO    \u001b[0m No batch_key inputted, assuming all cells are same batch                            \n",
            "\u001b[34mINFO    \u001b[0m No label_key inputted, assuming all cells have same label                           \n",
            "\u001b[34mINFO    \u001b[0m Using data from adata.layers\u001b[1m[\u001b[0m\u001b[32m\"counts\"\u001b[0m\u001b[1m]\u001b[0m                                              \n",
            "\u001b[34mINFO    \u001b[0m Computing library size prior per batch                                              \n",
            "\u001b[34mINFO    \u001b[0m Successfully registered anndata object containing \u001b[1;36m11581\u001b[0m cells, \u001b[1;36m5428\u001b[0m vars, \u001b[1;36m1\u001b[0m batches,\n",
            "         \u001b[1;36m1\u001b[0m labels, and \u001b[1;36m0\u001b[0m proteins. Also registered \u001b[1;36m0\u001b[0m extra categorical covariates and \u001b[1;36m0\u001b[0m extra\n",
            "         continuous covariates.                                                              \n",
            "\u001b[34mINFO    \u001b[0m Please do not further modify adata until model is trained.                          \n",
            "\u001b[34mINFO    \u001b[0m Training for \u001b[1;36m10\u001b[0m epochs                                                              \n",
            "\u001b[34mINFO    \u001b[0m KL warmup for \u001b[1;36m5.0\u001b[0m epochs                                                            \n",
            "Training...: 100%|██████████| 10/10 [00:36<00:00,  3.69s/it]\n",
            "\u001b[34mINFO    \u001b[0m Training time:  \u001b[1;36m20\u001b[0m s. \u001b[35m/\u001b[0m \u001b[1;36m10\u001b[0m epochs                                                   \n",
            "\u001b[34mINFO    \u001b[0m Received view of anndata, making copy.                                              \n",
            "\u001b[34mINFO    \u001b[0m Received view of anndata, making copy.                                              \n",
            "\u001b[34mINFO    \u001b[0m Received view of anndata, making copy.                                              \n"
          ]
        }
      ],
      "source": [
        "# for k, (train_index, test_index) in enumerate(skf_splits):\n",
        "for q in range(1):\n",
        "    #\n",
        "  for setup in setups:\n",
        "      #\n",
        "    print(setup)\n",
        "    method,n_latent,datas = setup.split(\"-\")\n",
        "    method_split = method.split('_')\n",
        "    method = method_split[0]\n",
        "    additional_kwargs = {s.split('=')[0]:float(s.split('=')[1]) for s in method_split[1:]}\n",
        "\n",
        "    n_latent = int(n_latent)\n",
        "\n",
        "    ## Split the data\n",
        "    if datas == 'spliced':\n",
        "      adata_in = adata[:,:int(adata.shape[1]/2)]\n",
        "    elif datas == 'unspliced':\n",
        "      adata_in = adata[:,int(adata.shape[1]/2):]\n",
        "    elif datas == 'combined':\n",
        "      adata_in = adata\n",
        "    else:\n",
        "      raise ValueError(\"Input valid datas\")\n",
        "\n",
        "    adata_in = adata_in.copy()\n",
        "    scvi.data.setup_anndata(adata_in, layer=\"counts\")\n",
        "\n",
        "    train_adata, test_adata = adata_in[train_index], adata_in[test_index]\n",
        "    train_adata = train_adata.copy()\n",
        "\n",
        "    ## Set model parameters\n",
        "    model_args = {'use_cuda'     : True,\n",
        "                  'n_latent'     : n_latent,\n",
        "                  'n_layers'     : n_layers,\n",
        "                  'dispersion'   : 'gene',\n",
        "                  'n_hidden'     : n_hidden,\n",
        "                  'dropout_rate' :  0.1,\n",
        "                  'gene_likelihood'    :  'nb',\n",
        "                  'log_variational'    :  True,\n",
        "                  'latent_distribution':  'normal'\n",
        "                  }\n",
        "    model_args.update(additional_kwargs)\n",
        "\n",
        "    ## Create model\n",
        "    if method == 'LDVAE':\n",
        "        model = scvi.model.LinearSCVI(train_adata,**model_args)\n",
        "    elif method == 'scVI':\n",
        "        model = scvi.model.SCVI(train_adata,**model_args)\n",
        "    elif method == \"scBIVI\":\n",
        "        model = scBIVI(train_adata,mode='corr',**model_args)\n",
        "    elif method == \"scBIVIuncorr\":\n",
        "        model = scBIVI(train_adata,mode='uncorr',**model_args)\n",
        "    elif method == 'scBIVImixed':\n",
        "        model = scBIVI(train_adata,mode='mixed',**model_args)\n",
        "    elif method == 'scBIVItemp':\n",
        "        # model_args['T'] = 1\n",
        "        # model_args['Trate'] = 1\n",
        "        model = scBIVI(train_adata,mode='mixed',**model_args)\n",
        "    elif method == 'scBIVIcustom':\n",
        "        model = scBIVI(train_adata,mode='custom',**model_args)\n",
        "    else:\n",
        "        raise Exception('Input valid scVI model')\n",
        "\n",
        "    ## Train model\n",
        "    start = time.time()\n",
        "    model.train(n_epochs = n_epochs,\n",
        "                lr       = lr,\n",
        "                n_epochs_kl_warmup = n_epochs/2,\n",
        "                metrics_to_monitor = ['reconstruction_error'],\n",
        "                frequency = 1,\n",
        "                train_size = 0.9)\n",
        "\n",
        "    runtime     = time.time() - start\n",
        "    memory_used = torch.cuda.memory_allocated()\n",
        "    results_dict[setup]['compute'].append([runtime,memory_used])\n",
        "\n",
        "    ## Check train history\n",
        "    df_history = {'reconstruction_error_test_set' : model.history['reconstruction_error_test_set'],\n",
        "                  'reconstruction_error_train_set': model.history['reconstruction_error_train_set']}\n",
        "    df_history = pd.DataFrame(df_history)\n",
        "    df_history = pd.DataFrame(df_history.stack())\n",
        "    df = df_history\n",
        "    df.reset_index(inplace=True)\n",
        "    df.columns = ['Epoch','Loss Type', 'Loss']\n",
        "    figname = f\"{setup}-{k}\"\n",
        "    sns.lineplot(data=df,x='Epoch', y='Loss', hue = 'Loss Type')\n",
        "    plt.savefig(os.path.join(logdir_train,f\"{figname}-train-history.pdf\"))\n",
        "    plt.close()\n",
        "\n",
        "    ## Get reconstruction loss on test data\n",
        "    test_error  = model.get_reconstruction_error(test_adata)\n",
        "    train_error = model.get_reconstruction_error(train_adata)\n",
        "    results_dict[setup]['recon_error'].append(np.array([train_error,test_error]))\n",
        "\n",
        "    ## Extract the embedding space for scVI\n",
        "    X_out = model.get_latent_representation(test_adata)\n",
        "\n",
        "    if k == 0:\n",
        "      adata_latent = anndata.AnnData(X_out)\n",
        "      adata_latent.obs = test_adata.obs\n",
        "      results_dict[setup]['latent embedding'] = adata_latent\n",
        "      if datas == 'combined':\n",
        "        test_adata_save = test_adata\n",
        "\n",
        "    #### Validation with cluster accuracy based on labels\n",
        "    ## Iterate through ground truth labels based on different approach\n",
        "\n",
        "    for cluster_method, y in test_adata.obsm['Cluster'].iteritems():\n",
        "\n",
        "        y = np.array(y.tolist())\n",
        "\n",
        "        score_dict = calculate_accuracy(X_out,y)\n",
        "        results_dict[setup][cluster_method].append(score_dict)\n",
        "\n",
        "    #### Get predicted distribution\n",
        "    if 'scBIVI' in method:\n",
        "\n",
        "        params = model.get_likelihood_parameters(test_adata)\n",
        "        mu = params['mean']\n",
        "        if method == 'scBIVImixed':\n",
        "            import torch.nn.functional as F\n",
        "            mu,mw = np.split(mu,2,axis=1)\n",
        "            mw_tensor = torch.tensor(mw.reshape(-1,int(mw.shape[1]/2),2))\n",
        "            mw_softmax = F.softmax(mw_tensor/10e-20,dim=-1)\n",
        "\n",
        "        mu1,mu2 = np.split(mu,2,axis=1)\n",
        "        alpha = params['dispersions']\n",
        "\n",
        "        if mu1.shape[1] == alpha.shape[1]:\n",
        "            stats = {'mu1': mu1, 'mu2' : mu2,\n",
        "                     '1/alpha'         : 1/alpha,\n",
        "                     'mu2/(mu1*alpha)' : mu2/(mu1*alpha),\n",
        "                     'mu2/alpha'       : mu2/alpha\n",
        "                     }\n",
        "\n",
        "            fig,axs = plt.subplots(1,len(stats),\n",
        "                                   figsize=(5*len(stats),4),\n",
        "                                   squeeze=False)\n",
        "\n",
        "            for ax, (stat,x) in zip(axs.reshape(-1),stats.items()):\n",
        "                ax = sns.histplot(np.log(x.reshape(-1)),kde=False,ax=ax,bins=20)\n",
        "                ax.set_title(stat)\n",
        "\n",
        "            plt.savefig(os.path.join(logdir_train,f\"{figname}-hist.pdf\"))\n",
        "            plt.close()\n",
        "\n",
        "    #### Correlations\n",
        "\n",
        "    # cg = plot_corr_comparison(X1,X2)\n",
        "    # figname = f\"{setup}-{k}\"\n",
        "    # plt.title(figname)\n",
        "    # plt.savefig(os.path.join(logdir,f\"{figname}-corr.pdf\"))\n",
        "    # plt.close()\n",
        "\n",
        "    del model\n",
        "    torch.cuda.empty_cache()\n",
        "    gc.collect()\n"
      ]
    },
    {
      "cell_type": "code",
      "execution_count": null,
      "metadata": {
        "id": "giCrK58d6mlg"
      },
      "outputs": [],
      "source": [
        ""
      ]
    },
    {
      "cell_type": "markdown",
      "source": [
        "More stuff"
      ],
      "metadata": {
        "id": "A6G-uP5omLxp"
      }
    },
    {
      "cell_type": "code",
      "source": [
        "# Use last of the K-fold splits\n",
        "for k, (train_index, test_index) in enumerate(skf_splits):\n",
        "  pass\n",
        "\n",
        "# setups = [setup]\n",
        "# setups = ['scBIVIcustom-6-combined','scBIVI-6-combined','scBIVIuncorr-6-combined',\\\n",
        "        #   'scBIVIcustom-10-combined','scBIVI-10-combined','scBIVIuncorr-10-combined',]\n",
        "setups = ['scBIVIcustom-3-combined','scBIVI-3-combined','scBIVIuncorr-3-combined',\\\n",
        "          'scBIVIcustom-6-combined','scBIVI-6-combined','scBIVIuncorr-6-combined',\\\n",
        "          'scBIVIcustom-10-combined','scBIVI-10-combined','scBIVIuncorr-10-combined',]\n",
        "# setups = ['scBIVIcustom-10-combined','scBIVI-10-combined','scBIVIuncorr-10-combined',]\n",
        "\n",
        "cluster_methods = adata.obsm['Cluster'].columns.to_list()\n",
        "metrics_list = ['recon_error','latent embedding','compute'] + cluster_methods\n",
        "results_dict = {setup:{metrics: [] for metrics in metrics_list} for setup in setups}\n",
        "\n",
        "logdir_train = os.path.join(logdir,'train')\n",
        "os.makedirs(logdir_train, exist_ok=True)\n",
        "\n",
        "for SETUP in setups:\n",
        "\n",
        "    # SETUP=setups[2]\n",
        "\n",
        "    print(SETUP)\n",
        "    method,n_latent,datas = SETUP.split(\"-\")\n",
        "    method_split = method.split('_')\n",
        "    method = method_split[0]\n",
        "\n",
        "    # If set up includes additional argument\n",
        "    additional_kwargs = {s.split('=')[0]: float(s.split('=')[1]) for s in method_split[1:]}\n",
        "\n",
        "    n_latent = int(n_latent)\n",
        "\n",
        "    if n_latent == 3:\n",
        "        sd = 6\n",
        "    if n_latent == 6:\n",
        "        sd = 4\n",
        "    if n_latent==10:\n",
        "        sd = 8675309\n",
        "    scvi._settings.ScviConfig.seed=(sd)\n",
        "    torch.manual_seed(sd)\n",
        "    np.random.seed(sd)\n",
        "\n",
        "    ## Split the data\n",
        "    if datas == 'spliced':\n",
        "        adata_in = adata[:,:int(adata.shape[1]/2)]\n",
        "    elif datas == 'unspliced':\n",
        "        adata_in = adata[:,int(adata.shape[1]/2):]\n",
        "    elif datas == 'combined':\n",
        "        adata_in = adata\n",
        "    else:\n",
        "        raise ValueError(\"Input valid datas\")\n",
        "\n",
        "    adata_in = adata_in.copy()\n",
        "    scvi.data.setup_anndata(adata_in, layer=\"counts\")\n",
        "\n",
        "    train_adata, test_adata = adata_in[train_index], adata_in[test_index]\n",
        "    train_adata = train_adata.copy()\n",
        "\n",
        "    ## Set model parameters\n",
        "    model_args = {'use_cuda'     : True,\n",
        "                'n_latent'     : n_latent,\n",
        "                'n_layers'     : n_layers,\n",
        "                'dispersion'   : 'gene',\n",
        "                'n_hidden'     : n_hidden,\n",
        "                'dropout_rate' :  0.1, #shouldn't use this at all\n",
        "                'gene_likelihood'    :  'nb',\n",
        "                'log_variational'    :  True,\n",
        "                'latent_distribution':  'normal'\n",
        "                }\n",
        "    model_args.update(additional_kwargs)\n",
        "\n",
        "    ## Create model\n",
        "    if method == 'LDVAE':\n",
        "        model = scvi.model.LinearSCVI(train_adata,**model_args)\n",
        "    elif method == 'scVI':\n",
        "        model = scvi.model.SCVI(train_adata,**model_args)\n",
        "    elif method == \"scBIVI\":\n",
        "        model = scBIVI(train_adata,mode='corr',**model_args)\n",
        "    elif method == \"scBIVIuncorr\":\n",
        "        model = scBIVI(train_adata,mode='uncorr',**model_args)\n",
        "    elif method == 'scBIVImixed':\n",
        "        model = scBIVI(train_adata,mode='mixed',**model_args)\n",
        "    elif method == 'scBIVItemp':\n",
        "        model = scBIVI(train_adata,mode='mixed',**model_args)\n",
        "    elif method == 'scBIVIcustom':\n",
        "        print(method)\n",
        "        model = scBIVI(train_adata,mode='custom',\n",
        "                    custom_dist=custom_dist,**model_args)\n",
        "    else:\n",
        "        raise Exception('Input valid scVI model')\n",
        "\n",
        "    ## Train model\n",
        "    start = time.time()\n",
        "    # print(model)\n",
        "    model.train(n_epochs = n_epochs,\n",
        "                lr       = lr,\n",
        "                n_epochs_kl_warmup = n_epochs/2,\n",
        "                metrics_to_monitor = ['reconstruction_error'],\n",
        "                frequency = 1,\n",
        "                train_size = 0.9)\n",
        "    \n",
        "    runtime     = time.time() - start\n",
        "    memory_used = torch.cuda.memory_allocated()\n",
        "    results_dict[SETUP]['compute'].append([runtime,memory_used])\n",
        "\n",
        "    ## Check train history\n",
        "    df_history = {'reconstruction_error_test_set' : model.history['reconstruction_error_test_set'],\n",
        "                'reconstruction_error_train_set': model.history['reconstruction_error_train_set']}\n",
        "    df_history = pd.DataFrame(df_history)\n",
        "    df_history = pd.DataFrame(df_history.stack())\n",
        "    df = df_history\n",
        "    df.reset_index(inplace=True)\n",
        "    df.columns = ['Epoch','Loss Type', 'Loss']\n",
        "    figname = f\"{SETUP}-{k}\"\n",
        "    sns.lineplot(data=df, \n",
        "                x='Epoch', \n",
        "                y='Loss', \n",
        "                hue = 'Loss Type')\n",
        "    plt.savefig(f\"{figname}-train-history.pdf\")\n",
        "\n",
        "    ## Get reconstruction loss on test data\n",
        "    test_error  = model.get_reconstruction_error(test_adata)\n",
        "    train_error = model.get_reconstruction_error(train_adata)\n",
        "    results_dict[SETUP]['recon_error'].append(np.array([train_error,test_error]))\n",
        "\n",
        "    ## Extract the embedding space for scVI\n",
        "    X_out = model.get_latent_representation(test_adata)\n",
        "\n",
        "    adata_latent = anndata.AnnData(X_out)\n",
        "    adata_latent.obs = test_adata.obs\n",
        "    results_dict[SETUP]['latent embedding'] = adata_latent\n",
        "    if datas == 'combined':\n",
        "        test_adata_save = test_adata\n",
        "    # plt.close()\n",
        "\n",
        "        #### Validation with cluster accuracy based on labels\n",
        "    ## Iterate through ground truth labels based on different approach\n",
        "\n",
        "    for cluster_method, y in test_adata.obsm['Cluster'].iteritems():\n",
        "\n",
        "        y = np.array(y.tolist())\n",
        "\n",
        "        score_dict = calculate_accuracy(X_out,y)\n",
        "        results_dict[SETUP][cluster_method].append(score_dict)\n",
        "\n",
        "    del model\n",
        "    torch.cuda.empty_cache()\n",
        "    gc.collect()\n"
      ],
      "metadata": {
        "colab": {
          "base_uri": "https://localhost:8080/",
          "height": 1000
        },
        "id": "KYEkgdOzmKlS",
        "outputId": "34bcb9bb-c4e8-4fca-9dac-92797ee26b78"
      },
      "execution_count": 88,
      "outputs": [
        {
          "output_type": "stream",
          "name": "stdout",
          "text": [
            "scBIVIcustom-3-combined\n",
            "\u001b[34mINFO    \u001b[0m No batch_key inputted, assuming all cells are same batch                            \n",
            "\u001b[34mINFO    \u001b[0m No label_key inputted, assuming all cells have same label                           \n",
            "\u001b[34mINFO    \u001b[0m Using data from adata.layers\u001b[1m[\u001b[0m\u001b[32m\"counts\"\u001b[0m\u001b[1m]\u001b[0m                                              \n",
            "\u001b[34mINFO    \u001b[0m Computing library size prior per batch                                              \n",
            "\u001b[34mINFO    \u001b[0m Successfully registered anndata object containing \u001b[1;36m11581\u001b[0m cells, \u001b[1;36m5428\u001b[0m vars, \u001b[1;36m1\u001b[0m batches,\n",
            "         \u001b[1;36m1\u001b[0m labels, and \u001b[1;36m0\u001b[0m proteins. Also registered \u001b[1;36m0\u001b[0m extra categorical covariates and \u001b[1;36m0\u001b[0m extra\n",
            "         continuous covariates.                                                              \n",
            "\u001b[34mINFO    \u001b[0m Please do not further modify adata until model is trained.                          \n",
            "scBIVIcustom\n",
            "\u001b[34mINFO    \u001b[0m Training for \u001b[1;36m10\u001b[0m epochs                                                              \n",
            "\u001b[34mINFO    \u001b[0m KL warmup for \u001b[1;36m5.0\u001b[0m epochs                                                            \n",
            "Training...: 100%|██████████| 10/10 [01:23<00:00,  8.34s/it]\n",
            "\u001b[34mINFO    \u001b[0m Training time:  \u001b[1;36m51\u001b[0m s. \u001b[35m/\u001b[0m \u001b[1;36m10\u001b[0m epochs                                                   \n",
            "\u001b[34mINFO    \u001b[0m Received view of anndata, making copy.                                              \n",
            "\u001b[34mINFO    \u001b[0m Received view of anndata, making copy.                                              \n",
            "scBIVI-3-combined\n",
            "\u001b[34mINFO    \u001b[0m No batch_key inputted, assuming all cells are same batch                            \n",
            "\u001b[34mINFO    \u001b[0m No label_key inputted, assuming all cells have same label                           \n",
            "\u001b[34mINFO    \u001b[0m Using data from adata.layers\u001b[1m[\u001b[0m\u001b[32m\"counts\"\u001b[0m\u001b[1m]\u001b[0m                                              \n",
            "\u001b[34mINFO    \u001b[0m Computing library size prior per batch                                              \n",
            "\u001b[34mINFO    \u001b[0m Successfully registered anndata object containing \u001b[1;36m11581\u001b[0m cells, \u001b[1;36m5428\u001b[0m vars, \u001b[1;36m1\u001b[0m batches,\n",
            "         \u001b[1;36m1\u001b[0m labels, and \u001b[1;36m0\u001b[0m proteins. Also registered \u001b[1;36m0\u001b[0m extra categorical covariates and \u001b[1;36m0\u001b[0m extra\n",
            "         continuous covariates.                                                              \n",
            "\u001b[34mINFO    \u001b[0m Please do not further modify adata until model is trained.                          \n",
            "\u001b[34mINFO    \u001b[0m Training for \u001b[1;36m10\u001b[0m epochs                                                              \n",
            "\u001b[34mINFO    \u001b[0m KL warmup for \u001b[1;36m5.0\u001b[0m epochs                                                            \n",
            "Training...: 100%|██████████| 10/10 [00:33<00:00,  3.37s/it]\n",
            "\u001b[34mINFO    \u001b[0m Training time:  \u001b[1;36m17\u001b[0m s. \u001b[35m/\u001b[0m \u001b[1;36m10\u001b[0m epochs                                                   \n",
            "\u001b[34mINFO    \u001b[0m Received view of anndata, making copy.                                              \n",
            "\u001b[34mINFO    \u001b[0m Received view of anndata, making copy.                                              \n",
            "scBIVIuncorr-3-combined\n",
            "\u001b[34mINFO    \u001b[0m No batch_key inputted, assuming all cells are same batch                            \n",
            "\u001b[34mINFO    \u001b[0m No label_key inputted, assuming all cells have same label                           \n",
            "\u001b[34mINFO    \u001b[0m Using data from adata.layers\u001b[1m[\u001b[0m\u001b[32m\"counts\"\u001b[0m\u001b[1m]\u001b[0m                                              \n",
            "\u001b[34mINFO    \u001b[0m Computing library size prior per batch                                              \n",
            "\u001b[34mINFO    \u001b[0m Successfully registered anndata object containing \u001b[1;36m11581\u001b[0m cells, \u001b[1;36m5428\u001b[0m vars, \u001b[1;36m1\u001b[0m batches,\n",
            "         \u001b[1;36m1\u001b[0m labels, and \u001b[1;36m0\u001b[0m proteins. Also registered \u001b[1;36m0\u001b[0m extra categorical covariates and \u001b[1;36m0\u001b[0m extra\n",
            "         continuous covariates.                                                              \n",
            "\u001b[34mINFO    \u001b[0m Please do not further modify adata until model is trained.                          \n",
            "\u001b[34mINFO    \u001b[0m Training for \u001b[1;36m10\u001b[0m epochs                                                              \n",
            "\u001b[34mINFO    \u001b[0m KL warmup for \u001b[1;36m5.0\u001b[0m epochs                                                            \n",
            "Training...: 100%|██████████| 10/10 [00:33<00:00,  3.38s/it]\n",
            "\u001b[34mINFO    \u001b[0m Training time:  \u001b[1;36m18\u001b[0m s. \u001b[35m/\u001b[0m \u001b[1;36m10\u001b[0m epochs                                                   \n",
            "\u001b[34mINFO    \u001b[0m Received view of anndata, making copy.                                              \n",
            "\u001b[34mINFO    \u001b[0m Received view of anndata, making copy.                                              \n",
            "scBIVIcustom-6-combined\n",
            "\u001b[34mINFO    \u001b[0m No batch_key inputted, assuming all cells are same batch                            \n",
            "\u001b[34mINFO    \u001b[0m No label_key inputted, assuming all cells have same label                           \n",
            "\u001b[34mINFO    \u001b[0m Using data from adata.layers\u001b[1m[\u001b[0m\u001b[32m\"counts\"\u001b[0m\u001b[1m]\u001b[0m                                              \n",
            "\u001b[34mINFO    \u001b[0m Computing library size prior per batch                                              \n",
            "\u001b[34mINFO    \u001b[0m Successfully registered anndata object containing \u001b[1;36m11581\u001b[0m cells, \u001b[1;36m5428\u001b[0m vars, \u001b[1;36m1\u001b[0m batches,\n",
            "         \u001b[1;36m1\u001b[0m labels, and \u001b[1;36m0\u001b[0m proteins. Also registered \u001b[1;36m0\u001b[0m extra categorical covariates and \u001b[1;36m0\u001b[0m extra\n",
            "         continuous covariates.                                                              \n",
            "\u001b[34mINFO    \u001b[0m Please do not further modify adata until model is trained.                          \n",
            "scBIVIcustom\n",
            "\u001b[34mINFO    \u001b[0m Training for \u001b[1;36m10\u001b[0m epochs                                                              \n",
            "\u001b[34mINFO    \u001b[0m KL warmup for \u001b[1;36m5.0\u001b[0m epochs                                                            \n",
            "Training...: 100%|██████████| 10/10 [01:23<00:00,  8.37s/it]\n",
            "\u001b[34mINFO    \u001b[0m Training time:  \u001b[1;36m51\u001b[0m s. \u001b[35m/\u001b[0m \u001b[1;36m10\u001b[0m epochs                                                   \n",
            "\u001b[34mINFO    \u001b[0m Received view of anndata, making copy.                                              \n",
            "\u001b[34mINFO    \u001b[0m Received view of anndata, making copy.                                              \n",
            "scBIVI-6-combined\n",
            "\u001b[34mINFO    \u001b[0m No batch_key inputted, assuming all cells are same batch                            \n",
            "\u001b[34mINFO    \u001b[0m No label_key inputted, assuming all cells have same label                           \n",
            "\u001b[34mINFO    \u001b[0m Using data from adata.layers\u001b[1m[\u001b[0m\u001b[32m\"counts\"\u001b[0m\u001b[1m]\u001b[0m                                              \n",
            "\u001b[34mINFO    \u001b[0m Computing library size prior per batch                                              \n",
            "\u001b[34mINFO    \u001b[0m Successfully registered anndata object containing \u001b[1;36m11581\u001b[0m cells, \u001b[1;36m5428\u001b[0m vars, \u001b[1;36m1\u001b[0m batches,\n",
            "         \u001b[1;36m1\u001b[0m labels, and \u001b[1;36m0\u001b[0m proteins. Also registered \u001b[1;36m0\u001b[0m extra categorical covariates and \u001b[1;36m0\u001b[0m extra\n",
            "         continuous covariates.                                                              \n",
            "\u001b[34mINFO    \u001b[0m Please do not further modify adata until model is trained.                          \n",
            "\u001b[34mINFO    \u001b[0m Training for \u001b[1;36m10\u001b[0m epochs                                                              \n",
            "\u001b[34mINFO    \u001b[0m KL warmup for \u001b[1;36m5.0\u001b[0m epochs                                                            \n",
            "Training...: 100%|██████████| 10/10 [00:33<00:00,  3.31s/it]\n",
            "\u001b[34mINFO    \u001b[0m Training time:  \u001b[1;36m17\u001b[0m s. \u001b[35m/\u001b[0m \u001b[1;36m10\u001b[0m epochs                                                   \n",
            "\u001b[34mINFO    \u001b[0m Received view of anndata, making copy.                                              \n",
            "\u001b[34mINFO    \u001b[0m Received view of anndata, making copy.                                              \n",
            "scBIVIuncorr-6-combined\n",
            "\u001b[34mINFO    \u001b[0m No batch_key inputted, assuming all cells are same batch                            \n",
            "\u001b[34mINFO    \u001b[0m No label_key inputted, assuming all cells have same label                           \n",
            "\u001b[34mINFO    \u001b[0m Using data from adata.layers\u001b[1m[\u001b[0m\u001b[32m\"counts\"\u001b[0m\u001b[1m]\u001b[0m                                              \n",
            "\u001b[34mINFO    \u001b[0m Computing library size prior per batch                                              \n",
            "\u001b[34mINFO    \u001b[0m Successfully registered anndata object containing \u001b[1;36m11581\u001b[0m cells, \u001b[1;36m5428\u001b[0m vars, \u001b[1;36m1\u001b[0m batches,\n",
            "         \u001b[1;36m1\u001b[0m labels, and \u001b[1;36m0\u001b[0m proteins. Also registered \u001b[1;36m0\u001b[0m extra categorical covariates and \u001b[1;36m0\u001b[0m extra\n",
            "         continuous covariates.                                                              \n",
            "\u001b[34mINFO    \u001b[0m Please do not further modify adata until model is trained.                          \n",
            "\u001b[34mINFO    \u001b[0m Training for \u001b[1;36m10\u001b[0m epochs                                                              \n",
            "\u001b[34mINFO    \u001b[0m KL warmup for \u001b[1;36m5.0\u001b[0m epochs                                                            \n",
            "Training...: 100%|██████████| 10/10 [00:33<00:00,  3.37s/it]\n",
            "\u001b[34mINFO    \u001b[0m Training time:  \u001b[1;36m18\u001b[0m s. \u001b[35m/\u001b[0m \u001b[1;36m10\u001b[0m epochs                                                   \n",
            "\u001b[34mINFO    \u001b[0m Received view of anndata, making copy.                                              \n",
            "\u001b[34mINFO    \u001b[0m Received view of anndata, making copy.                                              \n",
            "scBIVIcustom-10-combined\n",
            "\u001b[34mINFO    \u001b[0m No batch_key inputted, assuming all cells are same batch                            \n",
            "\u001b[34mINFO    \u001b[0m No label_key inputted, assuming all cells have same label                           \n",
            "\u001b[34mINFO    \u001b[0m Using data from adata.layers\u001b[1m[\u001b[0m\u001b[32m\"counts\"\u001b[0m\u001b[1m]\u001b[0m                                              \n",
            "\u001b[34mINFO    \u001b[0m Computing library size prior per batch                                              \n",
            "\u001b[34mINFO    \u001b[0m Successfully registered anndata object containing \u001b[1;36m11581\u001b[0m cells, \u001b[1;36m5428\u001b[0m vars, \u001b[1;36m1\u001b[0m batches,\n",
            "         \u001b[1;36m1\u001b[0m labels, and \u001b[1;36m0\u001b[0m proteins. Also registered \u001b[1;36m0\u001b[0m extra categorical covariates and \u001b[1;36m0\u001b[0m extra\n",
            "         continuous covariates.                                                              \n",
            "\u001b[34mINFO    \u001b[0m Please do not further modify adata until model is trained.                          \n",
            "scBIVIcustom\n",
            "\u001b[34mINFO    \u001b[0m Training for \u001b[1;36m10\u001b[0m epochs                                                              \n",
            "\u001b[34mINFO    \u001b[0m KL warmup for \u001b[1;36m5.0\u001b[0m epochs                                                            \n",
            "Training...: 100%|██████████| 10/10 [01:23<00:00,  8.34s/it]\n",
            "\u001b[34mINFO    \u001b[0m Training time:  \u001b[1;36m51\u001b[0m s. \u001b[35m/\u001b[0m \u001b[1;36m10\u001b[0m epochs                                                   \n",
            "\u001b[34mINFO    \u001b[0m Received view of anndata, making copy.                                              \n",
            "\u001b[34mINFO    \u001b[0m Received view of anndata, making copy.                                              \n",
            "scBIVI-10-combined\n",
            "\u001b[34mINFO    \u001b[0m No batch_key inputted, assuming all cells are same batch                            \n",
            "\u001b[34mINFO    \u001b[0m No label_key inputted, assuming all cells have same label                           \n",
            "\u001b[34mINFO    \u001b[0m Using data from adata.layers\u001b[1m[\u001b[0m\u001b[32m\"counts\"\u001b[0m\u001b[1m]\u001b[0m                                              \n",
            "\u001b[34mINFO    \u001b[0m Computing library size prior per batch                                              \n",
            "\u001b[34mINFO    \u001b[0m Successfully registered anndata object containing \u001b[1;36m11581\u001b[0m cells, \u001b[1;36m5428\u001b[0m vars, \u001b[1;36m1\u001b[0m batches,\n",
            "         \u001b[1;36m1\u001b[0m labels, and \u001b[1;36m0\u001b[0m proteins. Also registered \u001b[1;36m0\u001b[0m extra categorical covariates and \u001b[1;36m0\u001b[0m extra\n",
            "         continuous covariates.                                                              \n",
            "\u001b[34mINFO    \u001b[0m Please do not further modify adata until model is trained.                          \n",
            "\u001b[34mINFO    \u001b[0m Training for \u001b[1;36m10\u001b[0m epochs                                                              \n",
            "\u001b[34mINFO    \u001b[0m KL warmup for \u001b[1;36m5.0\u001b[0m epochs                                                            \n",
            "Training...: 100%|██████████| 10/10 [00:33<00:00,  3.33s/it]\n",
            "\u001b[34mINFO    \u001b[0m Training time:  \u001b[1;36m18\u001b[0m s. \u001b[35m/\u001b[0m \u001b[1;36m10\u001b[0m epochs                                                   \n",
            "\u001b[34mINFO    \u001b[0m Received view of anndata, making copy.                                              \n",
            "\u001b[34mINFO    \u001b[0m Received view of anndata, making copy.                                              \n",
            "scBIVIuncorr-10-combined\n",
            "\u001b[34mINFO    \u001b[0m No batch_key inputted, assuming all cells are same batch                            \n",
            "\u001b[34mINFO    \u001b[0m No label_key inputted, assuming all cells have same label                           \n",
            "\u001b[34mINFO    \u001b[0m Using data from adata.layers\u001b[1m[\u001b[0m\u001b[32m\"counts\"\u001b[0m\u001b[1m]\u001b[0m                                              \n",
            "\u001b[34mINFO    \u001b[0m Computing library size prior per batch                                              \n",
            "\u001b[34mINFO    \u001b[0m Successfully registered anndata object containing \u001b[1;36m11581\u001b[0m cells, \u001b[1;36m5428\u001b[0m vars, \u001b[1;36m1\u001b[0m batches,\n",
            "         \u001b[1;36m1\u001b[0m labels, and \u001b[1;36m0\u001b[0m proteins. Also registered \u001b[1;36m0\u001b[0m extra categorical covariates and \u001b[1;36m0\u001b[0m extra\n",
            "         continuous covariates.                                                              \n",
            "\u001b[34mINFO    \u001b[0m Please do not further modify adata until model is trained.                          \n",
            "\u001b[34mINFO    \u001b[0m Training for \u001b[1;36m10\u001b[0m epochs                                                              \n",
            "\u001b[34mINFO    \u001b[0m KL warmup for \u001b[1;36m5.0\u001b[0m epochs                                                            \n",
            "Training...: 100%|██████████| 10/10 [00:34<00:00,  3.40s/it]\n",
            "\u001b[34mINFO    \u001b[0m Training time:  \u001b[1;36m18\u001b[0m s. \u001b[35m/\u001b[0m \u001b[1;36m10\u001b[0m epochs                                                   \n",
            "\u001b[34mINFO    \u001b[0m Received view of anndata, making copy.                                              \n",
            "\u001b[34mINFO    \u001b[0m Received view of anndata, making copy.                                              \n"
          ]
        },
        {
          "output_type": "display_data",
          "data": {
            "text/plain": [
              "<Figure size 432x288 with 1 Axes>"
            ],
            "image/png": "[encoded data removed]"
          },
          "metadata": {
            "needs_background": "light"
          }
        }
      ]
    },
    {
      "cell_type": "code",
      "source": [
        "#### Plot NLL\n",
        "setups = list(results_dict.keys())\n",
        "df_plot = pd.concat([pd.DataFrame({\"Train\": -np.array(r['recon_error'])[:,0],\n",
        "                                   \"Test\": -np.array(r['recon_error'])[:,1],\n",
        "                                   'Setup': key}) for key,r in results_dict.items()])\n",
        "\n",
        "df_plot['KFold'] = df_plot.index\n",
        "df_plot.reset_index(drop=True)\n",
        "\n",
        "df_plot.to_csv(os.path.join(logdir,'.svg'))\n",
        "\n",
        "fig,ax=plt.subplots()\n",
        "_ = sns.barplot(data=df_plot, x='Setup', y='Test', hue='Setup', dodge=False, ax=ax)\n",
        "ax.get_legend().remove()\n",
        "plt.xticks(rotation=45)\n",
        "# plt.savefig(os.path.join(logdir,'nll.svg'))\n",
        "# plt.close()\n",
        "\n",
        "print(df_plot.groupby(\"Setup\").mean())\n"
      ],
      "metadata": {
        "colab": {
          "base_uri": "https://localhost:8080/",
          "height": 563
        },
        "id": "NQLQnkarmyCE",
        "outputId": "c5354987-c069-48ba-edc3-1335be67cd12"
      },
      "execution_count": 89,
      "outputs": [
        {
          "output_type": "stream",
          "name": "stdout",
          "text": [
            "                                Train         Test  KFold\n",
            "Setup                                                    \n",
            "scBIVI-10-combined        1935.477192  1938.967412    0.0\n",
            "scBIVI-3-combined         1955.669586  1954.095789    0.0\n",
            "scBIVI-6-combined         1936.989677  1942.221621    0.0\n",
            "scBIVIcustom-10-combined  1929.945857  1937.289428    0.0\n",
            "scBIVIcustom-3-combined   1954.626655  1953.540443    0.0\n",
            "scBIVIcustom-6-combined   1940.372077  1945.256521    0.0\n",
            "scBIVIuncorr-10-combined  1917.560921  1925.631074    0.0\n",
            "scBIVIuncorr-3-combined   1953.530405  1951.635734    0.0\n",
            "scBIVIuncorr-6-combined   1929.234163  1933.909041    0.0\n"
          ]
        },
        {
          "output_type": "display_data",
          "data": {
            "text/plain": [
              "<Figure size 432x288 with 1 Axes>"
            ],
            "image/png": "[encoded data removed]"
          },
          "metadata": {
            "needs_background": "light"
          }
        }
      ]
    },
    {
      "cell_type": "code",
      "source": [
        "#### Plot clustering accuracy\n",
        "\n",
        "# iterate through different cluster methods\n",
        "for cluster_method in cluster_methods:\n",
        "    df_plot = pd.concat([pd.DataFrame(r[cluster_method]).assign(Setup=key) for key,r in results_dict.items()])\n",
        "    df_plot.to_csv(os.path.join(logdir,f'clust_acc_{cluster_method}.csv'))\n",
        "    df_plot = df_plot.melt(id_vars=['Setup'],var_name='Metric',value_name='Score')\n",
        "\n",
        "    fig,ax=plt.subplots()\n",
        "    _ = sns.barplot(data=df_plot, x='Metric', y='Score', hue='Setup', ax=ax)\n",
        "    plt.xticks(rotation=45)\n",
        "    # plt.savefig(os.path.join(logdir,f'clust_acc_{cluster_method}.svg'))\n",
        "    # plt.close()\n",
        "    print(df_plot)"
      ],
      "metadata": {
        "colab": {
          "base_uri": "https://localhost:8080/",
          "height": 798
        },
        "id": "hY6-ovgjnCGe",
        "outputId": "336d4673-9b86-42d9-f759-7006a7aa9d01"
      },
      "execution_count": 90,
      "outputs": [
        {
          "output_type": "stream",
          "name": "stdout",
          "text": [
            "                       Setup      Metric     Score\n",
            "0    scBIVIcustom-3-combined         ARI  0.630999\n",
            "1          scBIVI-3-combined         ARI  0.654402\n",
            "2    scBIVIuncorr-3-combined         ARI  0.654488\n",
            "3    scBIVIcustom-6-combined         ARI  0.670762\n",
            "4          scBIVI-6-combined         ARI  0.694881\n",
            "5    scBIVIuncorr-6-combined         ARI  0.673695\n",
            "6   scBIVIcustom-10-combined         ARI  0.687543\n",
            "7         scBIVI-10-combined         ARI  0.673958\n",
            "8   scBIVIuncorr-10-combined         ARI  0.725156\n",
            "9    scBIVIcustom-3-combined         NMI  0.771193\n",
            "10         scBIVI-3-combined         NMI  0.789533\n",
            "11   scBIVIuncorr-3-combined         NMI  0.793112\n",
            "12   scBIVIcustom-6-combined         NMI  0.797786\n",
            "13         scBIVI-6-combined         NMI  0.805153\n",
            "14   scBIVIuncorr-6-combined         NMI  0.804064\n",
            "15  scBIVIcustom-10-combined         NMI  0.811726\n",
            "16        scBIVI-10-combined         NMI  0.804688\n",
            "17  scBIVIuncorr-10-combined         NMI  0.824531\n",
            "18   scBIVIcustom-3-combined  silhouette  0.224418\n",
            "19         scBIVI-3-combined  silhouette  0.220283\n",
            "20   scBIVIuncorr-3-combined  silhouette  0.225432\n",
            "21   scBIVIcustom-6-combined  silhouette  0.185981\n",
            "22         scBIVI-6-combined  silhouette  0.187459\n",
            "23   scBIVIuncorr-6-combined  silhouette  0.180339\n",
            "24  scBIVIcustom-10-combined  silhouette  0.158219\n",
            "25        scBIVI-10-combined  silhouette  0.165361\n",
            "26  scBIVIuncorr-10-combined  silhouette  0.173410\n"
          ]
        },
        {
          "output_type": "display_data",
          "data": {
            "text/plain": [
              "<Figure size 432x288 with 1 Axes>"
            ],
            "image/png": "[encoded data removed]"
          },
          "metadata": {
            "needs_background": "light"
          }
        }
      ]
    },
    {
      "cell_type": "code",
      "source": [
        ""
      ],
      "metadata": {
        "id": "a21U6y6mnE2V"
      },
      "execution_count": null,
      "outputs": []
    }
  ],
  "metadata": {
    "accelerator": "GPU",
    "colab": {
      "collapsed_sections": [],
      "name": "scBIVI.ipynb",
      "provenance": [],
      "include_colab_link": true
    },
    "kernelspec": {
      "display_name": "Python 3",
      "name": "python3"
    },
    "language_info": {
      "name": "python"
    }
  },
  "nbformat": 4,
  "nbformat_minor": 0
}