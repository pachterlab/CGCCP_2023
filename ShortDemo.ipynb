{
  "nbformat": 4,
  "nbformat_minor": 0,
  "metadata": {
    "colab": {
      "provenance": [],
      "toc_visible": true,
      "authorship_tag": "ABX9TyOxn3jdh7FliRnqKlnw3T6A",
      "include_colab_link": true
    },
    "kernelspec": {
      "name": "python3",
      "display_name": "Python 3"
    },
    "language_info": {
      "name": "python"
    },
    "accelerator": "GPU",
    "gpuClass": "standard"
  },
  "cells": [
    {
      "cell_type": "markdown",
      "metadata": {
        "id": "view-in-github",
        "colab_type": "text"
      },
      "source": [
        "<a href=\"https://colab.research.google.com/github/pachterlab/CGCCP_2023/blob/main/ShortDemo.ipynb\" target=\"_parent\"><img src=\"https://colab.research.google.com/assets/colab-badge.svg\" alt=\"Open In Colab\"/></a>"
      ]
    },
    {
      "cell_type": "markdown",
      "source": [
        "# Simple biVI Training\n",
        "\n",
        "\n",
        "This notebook is a short demonstration of how to train a biVI model with a particular generative distribution. \n",
        "\n",
        "\n",
        "Sections:\n",
        "\n",
        "1. Load in and pre-process data\n",
        "2. Train the model\n",
        "3. Visualize results\n"
      ],
      "metadata": {
        "id": "cgsK4LA-XdnH"
      }
    },
    {
      "cell_type": "code",
      "source": [
        "import time\n",
        "t1 = time.time()"
      ],
      "metadata": {
        "id": "X16lt7FtXTgk"
      },
      "execution_count": 2,
      "outputs": []
    },
    {
      "cell_type": "markdown",
      "source": [
        "# Install packages, import data\n",
        "\n"
      ],
      "metadata": {
        "id": "GHb84hakYHzd"
      }
    },
    {
      "cell_type": "markdown",
      "source": [
        "## Clone Github Repository"
      ],
      "metadata": {
        "id": "3QhnQjKaf3aA"
      }
    },
    {
      "cell_type": "code",
      "source": [
        "!git clone https://github.com/pachterlab/CGCCP_2023.git\n",
        "%cd /content/CGCCP_2023"
      ],
      "metadata": {
        "colab": {
          "base_uri": "https://localhost:8080/"
        },
        "id": "Pq0-LTVWYG2t",
        "outputId": "7ed1214b-3512-444d-94e4-ddd5237af0ea"
      },
      "execution_count": 3,
      "outputs": [
        {
          "output_type": "stream",
          "name": "stdout",
          "text": [
            "Cloning into 'CGCCP_2023'...\n",
            "remote: Enumerating objects: 936, done.\u001b[K\n",
            "remote: Counting objects: 100% (936/936), done.\u001b[K\n",
            "remote: Compressing objects: 100% (493/493), done.\u001b[K\n",
            "remote: Total 936 (delta 478), reused 809 (delta 423), pack-reused 0\u001b[K\n",
            "Receiving objects: 100% (936/936), 39.82 MiB | 15.66 MiB/s, done.\n",
            "Resolving deltas: 100% (478/478), done.\n",
            "/content/CGCCP_2023\n"
          ]
        }
      ]
    },
    {
      "cell_type": "markdown",
      "source": [
        "## Load PBMC data\n",
        "\n",
        "Load in aligned single cell data. \n",
        "\n",
        "As in the comparison demo notebook, the raw data is the available [1k PBMC dataset from 10x Genomics](https://www.10xgenomics.com/resources/datasets/1-k-pbm-cs-from-a-healthy-donor-v-3-chemistry-3-standard-3-0-0). Data was processed using kallisto bustools to obtain unspliced and spliced count matrices as described in [Gorin et. al, 2022](https://www.cell.com/biophysreports/fulltext/S2667-0747(22)00054-4). "
      ],
      "metadata": {
        "id": "tCBxWy6OYqxT"
      }
    },
    {
      "cell_type": "code",
      "source": [
        "%%bash\n",
        "\n",
        "mkdir data\n",
        "cd data\n",
        "\n",
        "wget -q --content-disposition \"https://figshare.com/ndownloader/files/38765802\"\n",
        "\n",
        "\n",
        "cd .."
      ],
      "metadata": {
        "id": "uJZQjkNEYqR6"
      },
      "execution_count": 4,
      "outputs": []
    },
    {
      "cell_type": "markdown",
      "source": [
        "## Install packages\n",
        "\n",
        "Install biVI and its dependencies from the local source code."
      ],
      "metadata": {
        "id": "YMSRa8rIZKnn"
      }
    },
    {
      "cell_type": "code",
      "source": [
        "%%bash\n",
        "# Install BIVI and dependencies\n",
        "pip install -q ./Code\n",
        "pip install -q -r Code/requirements.txt"
      ],
      "metadata": {
        "colab": {
          "base_uri": "https://localhost:8080/"
        },
        "id": "9hxemj2mZH_4",
        "outputId": "c5130a3e-d8c6-4a5c-fb2b-4bb829603b5d"
      },
      "execution_count": 5,
      "outputs": [
        {
          "output_type": "stream",
          "name": "stdout",
          "text": [
            "     ━━━━━━━━━━━━━━━━━━━━━━━━━━━━━━━━━━━━━━━━ 2.0/2.0 MB 42.8 MB/s eta 0:00:00\n",
            "     ━━━━━━━━━━━━━━━━━━━━━━━━━━━━━━━━━━━━━━ 290.1/290.1 KB 26.0 MB/s eta 0:00:00\n",
            "     ━━━━━━━━━━━━━━━━━━━━━━━━━━━━━━━━━━━━━━━━ 4.8/4.8 MB 112.1 MB/s eta 0:00:00\n",
            "     ━━━━━━━━━━━━━━━━━━━━━━━━━━━━━━━━━━━━━━ 512.4/512.4 KB 46.2 MB/s eta 0:00:00\n",
            "     ━━━━━━━━━━━━━━━━━━━━━━━━━━━━━━━━━━━━━━━━ 77.9/77.9 KB 10.2 MB/s eta 0:00:00\n",
            "     ━━━━━━━━━━━━━━━━━━━━━━━━━━━━━━━━━━━━━━ 730.7/730.7 KB 54.2 MB/s eta 0:00:00\n",
            "     ━━━━━━━━━━━━━━━━━━━━━━━━━━━━━━━━━━━━━━ 292.7/292.7 KB 26.2 MB/s eta 0:00:00\n",
            "     ━━━━━━━━━━━━━━━━━━━━━━━━━━━━━━━━━━━━━━ 154.9/154.9 KB 18.6 MB/s eta 0:00:00\n",
            "     ━━━━━━━━━━━━━━━━━━━━━━━━━━━━━━━━━━━━━━━━ 96.1/96.1 KB 14.0 MB/s eta 0:00:00\n",
            "     ━━━━━━━━━━━━━━━━━━━━━━━━━━━━━━━━━━━━━━ 197.4/197.4 KB 25.5 MB/s eta 0:00:00\n",
            "     ━━━━━━━━━━━━━━━━━━━━━━━━━━━━━━━━━━━━━━ 708.1/708.1 KB 64.3 MB/s eta 0:00:00\n",
            "     ━━━━━━━━━━━━━━━━━━━━━━━━━━━━━━━━━━━━━━ 238.9/238.9 KB 29.8 MB/s eta 0:00:00\n",
            "     ━━━━━━━━━━━━━━━━━━━━━━━━━━━━━━━━━━━━━━━━ 9.4/9.4 MB 121.9 MB/s eta 0:00:00\n",
            "     ━━━━━━━━━━━━━━━━━━━━━━━━━━━━━━━━━━━━━━━━ 88.2/88.2 KB 12.0 MB/s eta 0:00:00\n",
            "     ━━━━━━━━━━━━━━━━━━━━━━━━━━━━━━━━━━━━━━ 300.0/300.0 KB 36.3 MB/s eta 0:00:00\n",
            "     ━━━━━━━━━━━━━━━━━━━━━━━━━━━━━━━━━━━━━━ 965.4/965.4 KB 71.8 MB/s eta 0:00:00\n",
            "     ━━━━━━━━━━━━━━━━━━━━━━━━━━━━━━━━━━━━━━━━ 84.5/84.5 KB 11.2 MB/s eta 0:00:00\n",
            "     ━━━━━━━━━━━━━━━━━━━━━━━━━━━━━━━━━━━━━━━━ 1.1/1.1 MB 63.6 MB/s eta 0:00:00\n",
            "     ━━━━━━━━━━━━━━━━━━━━━━━━━━━━━━━━━━━━━━━━ 67.0/67.0 KB 9.6 MB/s eta 0:00:00\n",
            "     ━━━━━━━━━━━━━━━━━━━━━━━━━━━━━━━━━━━━━━━━ 8.3/8.3 MB 110.4 MB/s eta 0:00:00\n",
            "     ━━━━━━━━━━━━━━━━━━━━━━━━━━━━━━━━━━━━━━━━ 85.3/85.3 KB 11.8 MB/s eta 0:00:00\n",
            "     ━━━━━━━━━━━━━━━━━━━━━━━━━━━━━━━━━━━━━━━━ 63.5/63.5 KB 9.2 MB/s eta 0:00:00\n",
            "     ━━━━━━━━━━━━━━━━━━━━━━━━━━━━━━━━━━━━━━━━ 1.6/1.6 MB 89.9 MB/s eta 0:00:00\n",
            "     ━━━━━━━━━━━━━━━━━━━━━━━━━━━━━━━━━━━━━━━━ 1.3/1.3 MB 49.1 MB/s eta 0:00:00\n",
            "     ━━━━━━━━━━━━━━━━━━━━━━━━━━━━━━━━━━━━━━━━ 3.3/3.3 MB 74.4 MB/s eta 0:00:00\n"
          ]
        }
      ]
    },
    {
      "cell_type": "code",
      "source": [
        "# import packages\n",
        "\n",
        "# system\n",
        "import os, sys\n",
        "\n",
        "# numbers\n",
        "import numpy as np\n",
        "\n",
        "#sc\n",
        "import anndata\n",
        "import scanpy as sc\n",
        "\n",
        "# Plots\n",
        "import matplotlib\n",
        "import matplotlib.pyplot as plt\n",
        "import seaborn as sns\n",
        "    \n",
        "# biVI\n",
        "from BIVI import biVI"
      ],
      "metadata": {
        "colab": {
          "base_uri": "https://localhost:8080/"
        },
        "id": "6g6B-FwpZPYZ",
        "outputId": "6a0e01ab-859a-4ba7-df7c-39d8ed0c6909"
      },
      "execution_count": 6,
      "outputs": [
        {
          "output_type": "stream",
          "name": "stderr",
          "text": [
            "INFO:pytorch_lightning.utilities.seed:Global seed set to 0\n",
            "/usr/local/lib/python3.8/dist-packages/pytorch_lightning/utilities/warnings.py:53: LightningDeprecationWarning: pytorch_lightning.utilities.warnings.rank_zero_deprecation has been deprecated in v1.6 and will be removed in v1.8. Use the equivalent function from the pytorch_lightning.utilities.rank_zero module instead.\n",
            "  new_rank_zero_deprecation(\n",
            "/usr/local/lib/python3.8/dist-packages/pytorch_lightning/utilities/warnings.py:58: LightningDeprecationWarning: The `pytorch_lightning.loggers.base.rank_zero_experiment` is deprecated in v1.7 and will be removed in v1.9. Please use `pytorch_lightning.loggers.logger.rank_zero_experiment` instead.\n",
            "  return new_rank_zero_deprecation(*args, **kwargs)\n"
          ]
        },
        {
          "output_type": "stream",
          "name": "stdout",
          "text": [
            "/usr/local/lib/python3.8/dist-packages/BIVI\n"
          ]
        }
      ]
    },
    {
      "cell_type": "code",
      "source": [
        "# run if matplotlib gives errors\n",
        "%%bash\n",
        "\n",
        "# Run if matplotlib is giving error with _png\n",
        "pip uninstall -q --yes matplotlib\n",
        "pip install -q matplotlib==3.1.3"
      ],
      "metadata": {
        "colab": {
          "base_uri": "https://localhost:8080/"
        },
        "id": "SdewK4pqkK-T",
        "outputId": "170a2b73-eee3-4eb8-e675-18f2906bb12f"
      },
      "execution_count": 7,
      "outputs": [
        {
          "output_type": "stream",
          "name": "stdout",
          "text": [
            "     ━━━━━━━━━━━━━━━━━━━━━━━━━━━━━━━━━━━━━━━━ 13.1/13.1 MB 94.6 MB/s eta 0:00:00\n"
          ]
        },
        {
          "output_type": "stream",
          "name": "stderr",
          "text": [
            "ERROR: pip's dependency resolver does not currently take into account all the packages that are installed. This behaviour is the source of the following dependency conflicts.\n",
            "scanpy 1.9.1 requires matplotlib>=3.4, but you have matplotlib 3.1.3 which is incompatible.\n"
          ]
        }
      ]
    },
    {
      "cell_type": "code",
      "source": [
        "data_path = 'data/pbmc_1k_v3.loom'\n",
        "adata = sc.read_loom(data_path)\n",
        "\n",
        "\n",
        "if 'gene_name' in adata.var.columns:\n",
        "    adata.var_names = adata.var['gene_name'].to_list()\n",
        "\n",
        "adata.var_names_make_unique()"
      ],
      "metadata": {
        "colab": {
          "base_uri": "https://localhost:8080/"
        },
        "id": "nqMauYcrZgJG",
        "outputId": "0e95b722-cf5c-4f0f-80d1-7b13f8f19f05"
      },
      "execution_count": 8,
      "outputs": [
        {
          "output_type": "stream",
          "name": "stderr",
          "text": [
            "/usr/local/lib/python3.8/dist-packages/anndata/_core/anndata.py:121: ImplicitModificationWarning: Transforming to str index.\n",
            "  warnings.warn(\"Transforming to str index.\", ImplicitModificationWarning)\n"
          ]
        }
      ]
    },
    {
      "cell_type": "code",
      "source": [
        "adata"
      ],
      "metadata": {
        "colab": {
          "base_uri": "https://localhost:8080/"
        },
        "id": "yLnfgtWhaNG8",
        "outputId": "94592777-1944-4510-9cf1-a635da97694b"
      },
      "execution_count": 9,
      "outputs": [
        {
          "output_type": "execute_result",
          "data": {
            "text/plain": [
              "AnnData object with n_obs × n_vars = 1200 × 36601\n",
              "    obs: 'barcode'\n",
              "    var: 'gene_id', 'gene_name'\n",
              "    layers: 'matrix', 'spliced', 'unspliced'"
            ]
          },
          "metadata": {},
          "execution_count": 9
        }
      ]
    },
    {
      "cell_type": "markdown",
      "source": [
        "# Process data\n",
        "\n",
        "Process data to include only high quality cells. Processing based on spliced matrix. \n",
        "\n",
        "\n",
        "Use Scanpy to filter for cells with a minimum of 200 genes, and for genes that occur in a minimum of 3 cells. Then, annotate mitochondrial genes and remove cells if more than 30% of their counts are of mitochondrial gene. Also remove cells with fewer than 1,000 counts (plots showing how these cutoffs were determined are included in Demo.ipynb).\n",
        "\n",
        "Next, normalize by ensuring the counts for all cells sum to 10,000 and log1p transforming the data. \n",
        "\n",
        "Finally, select top 2,000 highly variable genes and subset the data matrix for those genes. \n"
      ],
      "metadata": {
        "id": "KYjySOaCaTRI"
      }
    },
    {
      "cell_type": "code",
      "source": [
        "sc.pp.filter_cells(adata, min_genes=200)\n",
        "sc.pp.filter_genes(adata, min_cells=3)\n",
        "\n",
        "adata.var['mt'] = adata.var_names.str.startswith('MT-')  # annotate the group of mitochondrial genes as 'mt'\n",
        "sc.pp.calculate_qc_metrics(adata, qc_vars=['mt'], percent_top=None, log1p=False, inplace=True)\n",
        "\n",
        "\n",
        "## Further filtering\n",
        "adata = adata[adata.obs.total_counts > 1000, :]\n",
        "adata = adata[adata.obs.pct_counts_mt < 30, :]\n",
        "\n",
        "# Normalize to get highly variable genes\n",
        "sc.pp.normalize_total(adata, target_sum=1e4)\n",
        "sc.pp.log1p(adata)\n",
        "sc.pp.highly_variable_genes(adata, n_top_genes=2000, min_mean=0.0125, max_mean=3, min_disp=0.5)\n",
        "\n",
        "# Subset to highly variable genes\n",
        "adata = adata[:, adata.var.highly_variable]"
      ],
      "metadata": {
        "colab": {
          "base_uri": "https://localhost:8080/"
        },
        "id": "06CvwKSQaYRl",
        "outputId": "c22c6849-8edb-4adf-f80e-fa073560a345"
      },
      "execution_count": 10,
      "outputs": [
        {
          "output_type": "stream",
          "name": "stderr",
          "text": [
            "/usr/local/lib/python3.8/dist-packages/scanpy/preprocessing/_normalization.py:170: UserWarning: Received a view of an AnnData. Making a copy.\n",
            "  view_to_actual(adata)\n"
          ]
        }
      ]
    },
    {
      "cell_type": "markdown",
      "source": [
        "Concatenate unspliced and spliced matrices \n",
        "\n",
        "Finally, concatenate adata unspliced and spliced count layers (raw) for scVI training. Also ensure that \"counts\" layer used for training includes raw counts.  "
      ],
      "metadata": {
        "id": "URiDQe2vgZRT"
      }
    },
    {
      "cell_type": "code",
      "source": [
        "adata_old = adata\n",
        "# separate spliced and unspliced layers\n",
        "adata_spliced   = anndata.AnnData(adata.layers['spliced'])\n",
        "adata_unspliced = anndata.AnnData(adata.layers['unspliced'])\n",
        "\n",
        "adata_spliced.var = adata.var.copy()\n",
        "adata_unspliced.var = adata.var.copy()\n",
        "adata_spliced.var['Spliced']   = True\n",
        "adata_unspliced.var['Spliced'] = False\n",
        "\n",
        "# add a -u to unspliced gene names\n",
        "adata_unspliced.var_names = adata_unspliced.var_names + '-u'\n",
        "\n",
        "\n",
        "# NOTICE -- ORDER IS IMPORTANT -- concatenate so that matrices are ordered unspliced, spliced\n",
        "adata = anndata.concat([adata_unspliced,adata_spliced],axis=1)\n",
        "\n",
        "## Change AnnData expression to raw counts for training\n",
        "adata.layers[\"counts\"] = adata.X.copy() # preserve counts\n",
        "\n",
        "# Update obs,var\n",
        "adata.obs = adata_old.obs.copy()"
      ],
      "metadata": {
        "id": "gFBwJGhzgrlj"
      },
      "execution_count": 11,
      "outputs": []
    },
    {
      "cell_type": "markdown",
      "source": [
        "# Train biVI Model\n",
        "\n",
        "\n",
        "Train a biVI model. "
      ],
      "metadata": {
        "id": "O12R-vdHbkfC"
      }
    },
    {
      "cell_type": "code",
      "source": [
        "# check GPU availability\n",
        "import torch \n",
        "import torch.nn as nn\n",
        "import torch.nn.functional as F\n",
        "memory_used = torch.cuda.memory_allocated()\n",
        "\n",
        "\n",
        "# training split\n",
        "from sklearn.model_selection import StratifiedKFold\n",
        "\n",
        "# set device\n",
        "device = torch.device(\"cuda\" if torch.cuda.is_available() else \"cpu\")\n",
        "\n",
        "try: \n",
        "  print('cuda available:',torch.cuda.is_available())\n",
        "  print('device count:',torch.cuda.device_count())\n",
        "  print('current device:',torch.cuda.current_device())\n",
        "except:\n",
        "  pass"
      ],
      "metadata": {
        "colab": {
          "base_uri": "https://localhost:8080/"
        },
        "id": "fDDJQy4qbh7d",
        "outputId": "0ac7bfce-4a89-484b-c1a1-130d4c5dba5c"
      },
      "execution_count": 12,
      "outputs": [
        {
          "output_type": "stream",
          "name": "stdout",
          "text": [
            "cuda available: True\n",
            "device count: 1\n",
            "current device: 0\n"
          ]
        }
      ]
    },
    {
      "cell_type": "code",
      "source": [
        "# set up anndata with biVI, specifying training layer\n",
        "biVI.biVI.setup_anndata(adata,layer=\"counts\")"
      ],
      "metadata": {
        "id": "I0aAOVMgec5P"
      },
      "execution_count": 13,
      "outputs": []
    },
    {
      "cell_type": "markdown",
      "source": [
        " ## Define training and model hyperparameters"
      ],
      "metadata": {
        "id": "u6ivrypQiSn6"
      }
    },
    {
      "cell_type": "code",
      "source": [
        "model_args = {    'n_latent'     : 10,\n",
        "                  'n_layers'     : 3,\n",
        "                  'dispersion'   : 'gene',\n",
        "                  'n_hidden'     : 128,\n",
        "                  'dropout_rate' :  0.1,\n",
        "                  'log_variational'    :  True,\n",
        "                  'latent_distribution':  'normal',\n",
        "                  }\n",
        "\n",
        "# training plan parameters\n",
        "max_epochs = 10\n",
        "\n",
        "plan_kwargs = {'lr' : 0.001,\n",
        "               'n_epochs_kl_warmup' : max_epochs/2,\n",
        "                }"
      ],
      "metadata": {
        "id": "9x2bw61tiT3D"
      },
      "execution_count": 14,
      "outputs": []
    },
    {
      "cell_type": "markdown",
      "source": [
        "## Define biVI model\n",
        "\n",
        "biVI allows three different generative hypotheses to be parameterized.\n",
        "\n",
        "Argument, \"mode\" takes three possible strings: \n",
        "\n",
        "\n",
        "1. \"Bursty\" : **Bursty** model of transcription\n",
        "2. \"NBcorr\" : **Extrinsic** model of transcription, in which nascent and mature RNA are distributed according to two correlated Negative Binomial distributions\n",
        "3. \"Poisson\" : **Constitutive** model of transcription, in which nascent and mature RNA are distributed according to two independent Poisson distributions"
      ],
      "metadata": {
        "id": "EqlAk-YGinn5"
      }
    },
    {
      "cell_type": "code",
      "source": [
        "model = biVI.biVI(adata,mode='Bursty',**model_args)"
      ],
      "metadata": {
        "colab": {
          "base_uri": "https://localhost:8080/"
        },
        "id": "DRhONqnRij3d",
        "outputId": "11f613e9-a5ff-4354-b1e7-fe7662f50764"
      },
      "execution_count": 15,
      "outputs": [
        {
          "output_type": "stream",
          "name": "stdout",
          "text": [
            "4000\n"
          ]
        }
      ]
    },
    {
      "cell_type": "markdown",
      "source": [
        "## Train! "
      ],
      "metadata": {
        "id": "skFjeXFajXOW"
      }
    },
    {
      "cell_type": "code",
      "source": [
        "model.train(max_epochs = 10,\n",
        "                train_size = 0.9,\n",
        "                check_val_every_n_epoch  = 1,\n",
        "                plan_kwargs = plan_kwargs)"
      ],
      "metadata": {
        "colab": {
          "base_uri": "https://localhost:8080/"
        },
        "id": "sZ2UoJzmjSTl",
        "outputId": "e18e0044-da05-4f23-d00d-db9661cd875d"
      },
      "execution_count": 17,
      "outputs": [
        {
          "output_type": "stream",
          "name": "stderr",
          "text": [
            "/usr/local/lib/python3.8/dist-packages/scvi/model/base/_training_mixin.py:60: UserWarning: max_epochs=10 is less than n_epochs_kl_warmup=50.0. The max_kl_weight will not be reached during training.\n",
            "  warnings.warn(\n",
            "INFO:pytorch_lightning.utilities.rank_zero:GPU available: True (cuda), used: True\n",
            "INFO:pytorch_lightning.utilities.rank_zero:TPU available: False, using: 0 TPU cores\n",
            "INFO:pytorch_lightning.utilities.rank_zero:IPU available: False, using: 0 IPUs\n",
            "INFO:pytorch_lightning.utilities.rank_zero:HPU available: False, using: 0 HPUs\n",
            "INFO:pytorch_lightning.accelerators.cuda:LOCAL_RANK: 0 - CUDA_VISIBLE_DEVICES: [0]\n",
            "/usr/local/lib/python3.8/dist-packages/pytorch_lightning/trainer/trainer.py:1892: PossibleUserWarning: The number of training batches (8) is smaller than the logging interval Trainer(log_every_n_steps=10). Set a lower value for log_every_n_steps if you want to see logs for the training epoch.\n",
            "  rank_zero_warn(\n"
          ]
        },
        {
          "output_type": "stream",
          "name": "stdout",
          "text": [
            "Epoch 10/10: 100%|██████████| 10/10 [00:10<00:00,  1.04it/s, loss=1.27e+03, v_num=1]"
          ]
        },
        {
          "output_type": "stream",
          "name": "stderr",
          "text": [
            "INFO:pytorch_lightning.utilities.rank_zero:`Trainer.fit` stopped: `max_epochs=10` reached.\n"
          ]
        },
        {
          "output_type": "stream",
          "name": "stdout",
          "text": [
            "\rEpoch 10/10: 100%|██████████| 10/10 [00:10<00:00,  1.02s/it, loss=1.27e+03, v_num=1]\n"
          ]
        }
      ]
    },
    {
      "cell_type": "markdown",
      "source": [
        "## How did it do? "
      ],
      "metadata": {
        "id": "ptEqrkzpjoZp"
      }
    },
    {
      "cell_type": "code",
      "source": [
        "# plot history\n",
        "plt.plot(model.history[\"elbo_train\"], label=\"train\")\n",
        "plt.plot(model.history[\"elbo_validation\"], label=\"validation\")\n",
        "plt.title(\"Evidence lower bound over training epochs\")\n",
        "plt.xlabel('Epoch')\n",
        "plt.ylabel('ELBO value')\n",
        "plt.legend()"
      ],
      "metadata": {
        "colab": {
          "base_uri": "https://localhost:8080/",
          "height": 313
        },
        "id": "Cm7bB23SjZAa",
        "outputId": "8c1cb995-7d44-4b9e-869c-a67f92682e81"
      },
      "execution_count": 19,
      "outputs": [
        {
          "output_type": "execute_result",
          "data": {
            "text/plain": [
              "<matplotlib.legend.Legend at 0x7f3731cc5820>"
            ]
          },
          "metadata": {},
          "execution_count": 19
        },
        {
          "output_type": "display_data",
          "data": {
            "text/plain": [
              "<Figure size 432x288 with 1 Axes>"
            ],
            "image/png": "[encoded data removed]"
          },
          "metadata": {
            "needs_background": "light"
          }
        }
      ]
    },
    {
      "cell_type": "code",
      "source": [
        "# extract latent space and parameters, can use for clustering, etc.\n",
        "latent_representation = model.get_latent_representation(adata)\n",
        "\n",
        "# for ALL models, returns spliced and unspliced means \n",
        "# for Bursty Model: burst size, relative splicing rate, relative degradation rate\n",
        "# for Constitutive Model: relative splicing rate, relative degradation rate\n",
        "# for Extrinsic Model: mean of gamma distributed transcriptional rates, relative splicing rate, relative degradation rate\n",
        "\n",
        "parameters = model.get_likelihood_parameters(adata)"
      ],
      "metadata": {
        "id": "EhJ-EWyEkIUq"
      },
      "execution_count": 30,
      "outputs": []
    },
    {
      "cell_type": "markdown",
      "source": [
        "## Plot Parameters\n",
        "\n",
        "\n",
        "Plot parameters for marker gene 'CD2', which marks T-cells, across all cells. \n",
        "\n",
        "\n",
        "Cells separate out in parameter space "
      ],
      "metadata": {
        "id": "lypOpy_uM1je"
      }
    },
    {
      "cell_type": "code",
      "source": [
        "# locate the marker gene\n",
        "cd2_index_u,cd2_index_s = np.where(adata.var['gene_name']=='CD2')[0][0],np.where(adata.var['gene_name']=='CD2')[0][1]"
      ],
      "metadata": {
        "id": "2pJyscY2OgTH"
      },
      "execution_count": 67,
      "outputs": []
    },
    {
      "cell_type": "code",
      "source": [
        "plt.scatter(np.log10(parameters['mean'][:,cd2_index_u]),np.log10(parameters['mean'][:,cd2_index_s]))\n",
        "plt.xlabel('Unspliced mean')\n",
        "plt.ylabel('Spliced mean')\n",
        "plt.title('Inferred parameters for CD2 across all cells')"
      ],
      "metadata": {
        "colab": {
          "base_uri": "https://localhost:8080/",
          "height": 313
        },
        "id": "ufEwCSYE6uOQ",
        "outputId": "70bf764d-aa56-4c5d-dd21-3599c9328517"
      },
      "execution_count": 70,
      "outputs": [
        {
          "output_type": "execute_result",
          "data": {
            "text/plain": [
              "Text(0.5, 1.0, 'Inferred parameters for CD2 across all cells')"
            ]
          },
          "metadata": {},
          "execution_count": 70
        },
        {
          "output_type": "display_data",
          "data": {
            "text/plain": [
              "<Figure size 432x288 with 1 Axes>"
            ],
            "image/png": "[encoded data removed]"
          },
          "metadata": {
            "needs_background": "light"
          }
        }
      ]
    }
  ]
}