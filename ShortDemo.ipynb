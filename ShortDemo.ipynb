{
  "nbformat": 4,
  "nbformat_minor": 0,
  "metadata": {
    "colab": {
      "provenance": [],
      "toc_visible": true,
      "authorship_tag": "ABX9TyPVSUSp/Cj4pkcLkz/y/XOn",
      "include_colab_link": true
    },
    "kernelspec": {
      "name": "python3",
      "display_name": "Python 3"
    },
    "language_info": {
      "name": "python"
    },
    "accelerator": "GPU",
    "gpuClass": "standard"
  },
  "cells": [
    {
      "cell_type": "markdown",
      "metadata": {
        "id": "view-in-github",
        "colab_type": "text"
      },
      "source": [
        "<a href=\"https://colab.research.google.com/github/pachterlab/CGCCP_2023/blob/main/ShortDemo.ipynb\" target=\"_parent\"><img src=\"https://colab.research.google.com/assets/colab-badge.svg\" alt=\"Open In Colab\"/></a>"
      ]
    },
    {
      "cell_type": "markdown",
      "source": [
        "# Simple biVI Training\n",
        "\n",
        "\n",
        "This notebook is a short demonstration of how to train a biVI model with a particular generative distribution. \n",
        "\n",
        "\n",
        "Sections:\n",
        "\n",
        "1. Load in and pre-process data\n",
        "2. Train the model\n",
        "3. Visualize results\n"
      ],
      "metadata": {
        "id": "cgsK4LA-XdnH"
      }
    },
    {
      "cell_type": "code",
      "source": [
        "import time\n",
        "t1 = time.time()"
      ],
      "metadata": {
        "id": "X16lt7FtXTgk"
      },
      "execution_count": 71,
      "outputs": []
    },
    {
      "cell_type": "markdown",
      "source": [
        "# Install packages, import data\n",
        "\n"
      ],
      "metadata": {
        "id": "GHb84hakYHzd"
      }
    },
    {
      "cell_type": "markdown",
      "source": [
        "## Clone Github Repository"
      ],
      "metadata": {
        "id": "3QhnQjKaf3aA"
      }
    },
    {
      "cell_type": "code",
      "source": [
        "!git clone https://github.com/pachterlab/CGCCP_2023.git\n",
        "%cd /content/CGCCP_2023"
      ],
      "metadata": {
        "colab": {
          "base_uri": "https://localhost:8080/"
        },
        "id": "Pq0-LTVWYG2t",
        "outputId": "e5c2f3af-bc63-46c8-8142-d46fe8286fa0"
      },
      "execution_count": 72,
      "outputs": [
        {
          "output_type": "stream",
          "name": "stdout",
          "text": [
            "Cloning into 'CGCCP_2023'...\n",
            "remote: Enumerating objects: 950, done.\u001b[K\n",
            "remote: Counting objects: 100% (950/950), done.\u001b[K\n",
            "remote: Compressing objects: 100% (504/504), done.\u001b[K\n",
            "remote: Total 950 (delta 484), reused 815 (delta 426), pack-reused 0\u001b[K\n",
            "Receiving objects: 100% (950/950), 39.86 MiB | 14.98 MiB/s, done.\n",
            "Resolving deltas: 100% (484/484), done.\n",
            "/content/CGCCP_2023\n"
          ]
        }
      ]
    },
    {
      "cell_type": "markdown",
      "source": [
        "## Load PBMC data\n",
        "\n",
        "Load in aligned single cell data. \n",
        "\n",
        "As in the comparison demo notebook, the raw data is the available [1k PBMC dataset from 10x Genomics](https://www.10xgenomics.com/resources/datasets/1-k-pbm-cs-from-a-healthy-donor-v-3-chemistry-3-standard-3-0-0). Data was processed using kallisto bustools to obtain unspliced and spliced count matrices as described in [Gorin et. al, 2022](https://www.cell.com/biophysreports/fulltext/S2667-0747(22)00054-4). "
      ],
      "metadata": {
        "id": "tCBxWy6OYqxT"
      }
    },
    {
      "cell_type": "code",
      "source": [
        "%%bash\n",
        "\n",
        "mkdir data\n",
        "cd data\n",
        "\n",
        "wget -q --content-disposition \"https://figshare.com/ndownloader/files/38765802\"\n",
        "\n",
        "\n",
        "cd .."
      ],
      "metadata": {
        "id": "uJZQjkNEYqR6",
        "colab": {
          "base_uri": "https://localhost:8080/"
        },
        "outputId": "604dd144-5e3a-4182-dff6-a8184b32dc13"
      },
      "execution_count": 73,
      "outputs": [
        {
          "output_type": "stream",
          "name": "stderr",
          "text": [
            "mkdir: cannot create directory ‘data’: File exists\n"
          ]
        }
      ]
    },
    {
      "cell_type": "markdown",
      "source": [
        "## Install packages\n",
        "\n",
        "Install biVI and its dependencies from the local source code."
      ],
      "metadata": {
        "id": "YMSRa8rIZKnn"
      }
    },
    {
      "cell_type": "code",
      "source": [
        "%%bash\n",
        "# Install BIVI and dependencies\n",
        "pip install -q ./Code\n",
        "pip install -q -r Code/requirements.txt"
      ],
      "metadata": {
        "id": "9hxemj2mZH_4"
      },
      "execution_count": 74,
      "outputs": []
    },
    {
      "cell_type": "code",
      "source": [
        "# import packages\n",
        "\n",
        "# system\n",
        "import os, sys\n",
        "\n",
        "# numbers\n",
        "import numpy as np\n",
        "\n",
        "#sc\n",
        "import anndata\n",
        "import scanpy as sc\n",
        "\n",
        "# Plots\n",
        "import matplotlib\n",
        "import matplotlib.pyplot as plt\n",
        "import seaborn as sns\n",
        "    \n",
        "# biVI\n",
        "from BIVI import biVI"
      ],
      "metadata": {
        "id": "6g6B-FwpZPYZ"
      },
      "execution_count": 75,
      "outputs": []
    },
    {
      "cell_type": "code",
      "source": [
        "# run if matplotlib gives errors\n",
        "%%bash\n",
        "\n",
        "# Run if matplotlib is giving error with _png\n",
        "pip uninstall -q --yes matplotlib\n",
        "pip install -q matplotlib==3.1.3"
      ],
      "metadata": {
        "colab": {
          "base_uri": "https://localhost:8080/"
        },
        "id": "SdewK4pqkK-T",
        "outputId": "4ca20c54-3cc5-4d23-e89a-655b639a14dc"
      },
      "execution_count": 76,
      "outputs": [
        {
          "output_type": "stream",
          "name": "stderr",
          "text": [
            "ERROR: pip's dependency resolver does not currently take into account all the packages that are installed. This behaviour is the source of the following dependency conflicts.\n",
            "scanpy 1.9.1 requires matplotlib>=3.4, but you have matplotlib 3.1.3 which is incompatible.\n"
          ]
        }
      ]
    },
    {
      "cell_type": "code",
      "source": [
        "data_path = 'data/pbmc_1k_v3.loom'\n",
        "adata = sc.read_loom(data_path)\n",
        "\n",
        "\n",
        "if 'gene_name' in adata.var.columns:\n",
        "    adata.var_names = adata.var['gene_name'].to_list()\n",
        "\n",
        "adata.var_names_make_unique()"
      ],
      "metadata": {
        "colab": {
          "base_uri": "https://localhost:8080/"
        },
        "id": "nqMauYcrZgJG",
        "outputId": "f7191dd5-24ea-4375-e5a9-8a138a1d7af7"
      },
      "execution_count": 77,
      "outputs": [
        {
          "output_type": "stream",
          "name": "stderr",
          "text": [
            "/usr/local/lib/python3.8/dist-packages/anndata/_core/anndata.py:121: ImplicitModificationWarning: Transforming to str index.\n",
            "  warnings.warn(\"Transforming to str index.\", ImplicitModificationWarning)\n"
          ]
        }
      ]
    },
    {
      "cell_type": "code",
      "source": [
        "adata"
      ],
      "metadata": {
        "colab": {
          "base_uri": "https://localhost:8080/"
        },
        "id": "yLnfgtWhaNG8",
        "outputId": "bece1c2d-2383-4add-b156-4ef3b98fa599"
      },
      "execution_count": 78,
      "outputs": [
        {
          "output_type": "execute_result",
          "data": {
            "text/plain": [
              "AnnData object with n_obs × n_vars = 1200 × 36601\n",
              "    obs: 'barcode'\n",
              "    var: 'gene_id', 'gene_name'\n",
              "    layers: 'matrix', 'spliced', 'unspliced'"
            ]
          },
          "metadata": {},
          "execution_count": 78
        }
      ]
    },
    {
      "cell_type": "markdown",
      "source": [
        "# Process data\n",
        "\n",
        "Process data to include only high quality cells. Processing based on spliced matrix. \n",
        "\n",
        "\n",
        "Use Scanpy to filter for cells with a minimum of 200 genes, and for genes that occur in a minimum of 3 cells. Then, annotate mitochondrial genes and remove cells if more than 30% of their counts are of mitochondrial gene. Also remove cells with fewer than 1,000 counts (plots showing how these cutoffs were determined are included in Demo.ipynb).\n",
        "\n",
        "Next, normalize by ensuring the counts for all cells sum to 10,000 and log1p transforming the data. \n",
        "\n",
        "Finally, select top 2,000 highly variable genes and subset the data matrix for those genes. \n"
      ],
      "metadata": {
        "id": "KYjySOaCaTRI"
      }
    },
    {
      "cell_type": "code",
      "source": [
        "sc.pp.filter_cells(adata, min_genes=200)\n",
        "sc.pp.filter_genes(adata, min_cells=3)\n",
        "\n",
        "adata.var['mt'] = adata.var_names.str.startswith('MT-')  # annotate the group of mitochondrial genes as 'mt'\n",
        "sc.pp.calculate_qc_metrics(adata, qc_vars=['mt'], percent_top=None, log1p=False, inplace=True)\n",
        "\n",
        "\n",
        "## Further filtering\n",
        "adata = adata[adata.obs.total_counts > 1000, :]\n",
        "adata = adata[adata.obs.pct_counts_mt < 30, :]\n",
        "\n",
        "# Normalize to get highly variable genes\n",
        "sc.pp.normalize_total(adata, target_sum=1e4)\n",
        "sc.pp.log1p(adata)\n",
        "sc.pp.highly_variable_genes(adata, n_top_genes=2000, min_mean=0.0125, max_mean=3, min_disp=0.5)\n",
        "\n",
        "# Subset to highly variable genes\n",
        "adata = adata[:, adata.var.highly_variable]"
      ],
      "metadata": {
        "colab": {
          "base_uri": "https://localhost:8080/"
        },
        "id": "06CvwKSQaYRl",
        "outputId": "2c5b85a7-c577-4349-e05c-91f9ff34c127"
      },
      "execution_count": 79,
      "outputs": [
        {
          "output_type": "stream",
          "name": "stderr",
          "text": [
            "/usr/local/lib/python3.8/dist-packages/scanpy/preprocessing/_normalization.py:170: UserWarning: Received a view of an AnnData. Making a copy.\n",
            "  view_to_actual(adata)\n"
          ]
        }
      ]
    },
    {
      "cell_type": "markdown",
      "source": [
        "Concatenate unspliced and spliced matrices \n",
        "\n",
        "Finally, concatenate adata unspliced and spliced count layers (raw) for scVI training. Also ensure that \"counts\" layer used for training includes raw counts.  "
      ],
      "metadata": {
        "id": "URiDQe2vgZRT"
      }
    },
    {
      "cell_type": "code",
      "source": [
        "adata_old = adata\n",
        "# separate spliced and unspliced layers\n",
        "adata_spliced   = anndata.AnnData(adata.layers['spliced'])\n",
        "adata_unspliced = anndata.AnnData(adata.layers['unspliced'])\n",
        "\n",
        "adata_spliced.var = adata.var.copy()\n",
        "adata_unspliced.var = adata.var.copy()\n",
        "adata_spliced.var['Spliced']   = True\n",
        "adata_unspliced.var['Spliced'] = False\n",
        "\n",
        "# add a -u to unspliced gene names\n",
        "adata_unspliced.var_names = adata_unspliced.var_names + '-u'\n",
        "\n",
        "\n",
        "# NOTICE -- ORDER IS IMPORTANT -- concatenate so that matrices are ordered unspliced, spliced\n",
        "adata = anndata.concat([adata_unspliced,adata_spliced],axis=1)\n",
        "\n",
        "## Change AnnData expression to raw counts for training\n",
        "adata.layers[\"counts\"] = adata.X.copy() # preserve counts\n",
        "\n",
        "# Update obs,var\n",
        "adata.obs = adata_old.obs.copy()"
      ],
      "metadata": {
        "id": "gFBwJGhzgrlj"
      },
      "execution_count": 80,
      "outputs": []
    },
    {
      "cell_type": "markdown",
      "source": [
        "# Train biVI Model\n",
        "\n",
        "\n",
        "Train a biVI model. "
      ],
      "metadata": {
        "id": "O12R-vdHbkfC"
      }
    },
    {
      "cell_type": "code",
      "source": [
        "# check GPU availability\n",
        "import torch \n",
        "import torch.nn as nn\n",
        "import torch.nn.functional as F\n",
        "memory_used = torch.cuda.memory_allocated()\n",
        "\n",
        "\n",
        "# training split\n",
        "from sklearn.model_selection import StratifiedKFold\n",
        "\n",
        "# set device\n",
        "device = torch.device(\"cuda\" if torch.cuda.is_available() else \"cpu\")\n",
        "\n",
        "try: \n",
        "  print('cuda available:',torch.cuda.is_available())\n",
        "  print('device count:',torch.cuda.device_count())\n",
        "  print('current device:',torch.cuda.current_device())\n",
        "except:\n",
        "  pass"
      ],
      "metadata": {
        "colab": {
          "base_uri": "https://localhost:8080/"
        },
        "id": "fDDJQy4qbh7d",
        "outputId": "3203c7eb-21fa-4a12-9753-b7be6955b70f"
      },
      "execution_count": 81,
      "outputs": [
        {
          "output_type": "stream",
          "name": "stdout",
          "text": [
            "cuda available: True\n",
            "device count: 1\n",
            "current device: 0\n"
          ]
        }
      ]
    },
    {
      "cell_type": "code",
      "source": [
        "# set up anndata with biVI, specifying training layer\n",
        "biVI.biVI.setup_anndata(adata,layer=\"counts\")"
      ],
      "metadata": {
        "id": "I0aAOVMgec5P"
      },
      "execution_count": 82,
      "outputs": []
    },
    {
      "cell_type": "markdown",
      "source": [
        " ## Define training and model hyperparameters"
      ],
      "metadata": {
        "id": "u6ivrypQiSn6"
      }
    },
    {
      "cell_type": "code",
      "source": [
        "model_args = {    'n_latent'     : 10,\n",
        "                  'n_layers'     : 3,\n",
        "                  'dispersion'   : 'gene',\n",
        "                  'n_hidden'     : 128,\n",
        "                  'dropout_rate' :  0.1,\n",
        "                  'log_variational'    :  True,\n",
        "                  'latent_distribution':  'normal',\n",
        "                  }\n",
        "\n",
        "# training plan parameters\n",
        "max_epochs = 10\n",
        "\n",
        "plan_kwargs = {'lr' : 0.001,\n",
        "               'n_epochs_kl_warmup' : max_epochs/2,\n",
        "                }"
      ],
      "metadata": {
        "id": "9x2bw61tiT3D"
      },
      "execution_count": 83,
      "outputs": []
    },
    {
      "cell_type": "markdown",
      "source": [
        "## Define biVI model\n",
        "\n",
        "biVI allows three different generative hypotheses to be parameterized.\n",
        "\n",
        "Argument, \"mode\" takes three possible strings: \n",
        "\n",
        "\n",
        "1. \"Bursty\" : **Bursty** model of transcription\n",
        "2. \"NBcorr\" : **Extrinsic** model of transcription, in which nascent and mature RNA are distributed according to two correlated Negative Binomial distributions\n",
        "3. \"Poisson\" : **Constitutive** model of transcription, in which nascent and mature RNA are distributed according to two independent Poisson distributions"
      ],
      "metadata": {
        "id": "EqlAk-YGinn5"
      }
    },
    {
      "cell_type": "code",
      "source": [
        "model = biVI.biVI(adata,mode='Bursty',**model_args)"
      ],
      "metadata": {
        "colab": {
          "base_uri": "https://localhost:8080/"
        },
        "id": "DRhONqnRij3d",
        "outputId": "138925d4-e81e-49e6-912c-0cbd6ee3c459"
      },
      "execution_count": 84,
      "outputs": [
        {
          "output_type": "stream",
          "name": "stdout",
          "text": [
            "4000\n"
          ]
        }
      ]
    },
    {
      "cell_type": "markdown",
      "source": [
        "## Train! "
      ],
      "metadata": {
        "id": "skFjeXFajXOW"
      }
    },
    {
      "cell_type": "code",
      "source": [
        "model.train(max_epochs = 100,\n",
        "                train_size = 0.9,\n",
        "                check_val_every_n_epoch  = 1,\n",
        "                plan_kwargs = plan_kwargs)"
      ],
      "metadata": {
        "colab": {
          "base_uri": "https://localhost:8080/"
        },
        "id": "sZ2UoJzmjSTl",
        "outputId": "b4906942-a756-4fcb-9382-6f0618f31b25"
      },
      "execution_count": 86,
      "outputs": [
        {
          "output_type": "stream",
          "name": "stderr",
          "text": [
            "INFO:pytorch_lightning.utilities.rank_zero:GPU available: True (cuda), used: True\n",
            "INFO:pytorch_lightning.utilities.rank_zero:TPU available: False, using: 0 TPU cores\n",
            "INFO:pytorch_lightning.utilities.rank_zero:IPU available: False, using: 0 IPUs\n",
            "INFO:pytorch_lightning.utilities.rank_zero:HPU available: False, using: 0 HPUs\n",
            "INFO:pytorch_lightning.accelerators.cuda:LOCAL_RANK: 0 - CUDA_VISIBLE_DEVICES: [0]\n",
            "/usr/local/lib/python3.8/dist-packages/pytorch_lightning/trainer/trainer.py:1892: PossibleUserWarning: The number of training batches (8) is smaller than the logging interval Trainer(log_every_n_steps=10). Set a lower value for log_every_n_steps if you want to see logs for the training epoch.\n",
            "  rank_zero_warn(\n"
          ]
        },
        {
          "output_type": "stream",
          "name": "stdout",
          "text": [
            "Epoch 100/100: 100%|██████████| 100/100 [01:39<00:00,  1.07it/s, loss=1.22e+03, v_num=1]"
          ]
        },
        {
          "output_type": "stream",
          "name": "stderr",
          "text": [
            "INFO:pytorch_lightning.utilities.rank_zero:`Trainer.fit` stopped: `max_epochs=100` reached.\n"
          ]
        },
        {
          "output_type": "stream",
          "name": "stdout",
          "text": [
            "\rEpoch 100/100: 100%|██████████| 100/100 [01:39<00:00,  1.01it/s, loss=1.22e+03, v_num=1]\n"
          ]
        }
      ]
    },
    {
      "cell_type": "markdown",
      "source": [
        "## How did it do? "
      ],
      "metadata": {
        "id": "ptEqrkzpjoZp"
      }
    },
    {
      "cell_type": "code",
      "source": [
        "# plot history\n",
        "plt.plot(model.history[\"elbo_train\"], label=\"train\")\n",
        "plt.plot(model.history[\"elbo_validation\"], label=\"validation\")\n",
        "plt.title(\"Evidence lower bound over training epochs\")\n",
        "plt.xlabel('Epoch')\n",
        "plt.ylabel('ELBO value')\n",
        "plt.legend()"
      ],
      "metadata": {
        "colab": {
          "base_uri": "https://localhost:8080/",
          "height": 313
        },
        "id": "Cm7bB23SjZAa",
        "outputId": "273fe56c-712c-44d5-f7e7-2f0e470dfbbd"
      },
      "execution_count": 89,
      "outputs": [
        {
          "output_type": "execute_result",
          "data": {
            "text/plain": [
              "<matplotlib.legend.Legend at 0x7f3731c34df0>"
            ]
          },
          "metadata": {},
          "execution_count": 89
        },
        {
          "output_type": "display_data",
          "data": {
            "text/plain": [
              "<Figure size 432x288 with 1 Axes>"
            ],
            "image/png": "[encoded data removed]"
          },
          "metadata": {
            "needs_background": "light"
          }
        }
      ]
    },
    {
      "cell_type": "code",
      "source": [
        "# extract latent space and parameters, can use for clustering, etc.\n",
        "latent_representation = model.get_latent_representation(adata)\n",
        "\n",
        "# for ALL models, returns spliced and unspliced means \n",
        "# for Bursty Model: burst size, relative splicing rate, relative degradation rate\n",
        "# for Constitutive Model: relative splicing rate, relative degradation rate\n",
        "# for Extrinsic Model: mean of gamma distributed transcriptional rates, relative splicing rate, relative degradation rate\n",
        "\n",
        "parameters = model.get_likelihood_parameters(adata)"
      ],
      "metadata": {
        "id": "EhJ-EWyEkIUq"
      },
      "execution_count": 90,
      "outputs": []
    },
    {
      "cell_type": "markdown",
      "source": [
        "## Plot burst size and relative degradation rate across all cells\n",
        "\n",
        "Plot parameters for marker gene 'CD2', which marks T-cells, across all cells. \n",
        "\n",
        "\n",
        "Cells separate out in parameter space! Likely the cells that have separated by larger burst size are T-cells.  "
      ],
      "metadata": {
        "id": "lypOpy_uM1je"
      }
    },
    {
      "cell_type": "code",
      "source": [
        "# locate the marker gene\n",
        "cd2_index_u,cd2_index_s = np.where(adata.var['gene_name']=='CD2')[0][0],np.where(adata.var['gene_name']=='CD2')[0][1]"
      ],
      "metadata": {
        "id": "2pJyscY2OgTH"
      },
      "execution_count": 91,
      "outputs": []
    },
    {
      "cell_type": "code",
      "source": [
        "plt.scatter(np.log10(parameters[''][:,cd2_index_u]),np.log10(parameters['mean'][:,cd2_index_s]))\n",
        "plt.xlabel('Unspliced mean')\n",
        "plt.ylabel('Spliced mean')\n",
        "plt.title('Inferred parameters for CD2 across all cells')"
      ],
      "metadata": {
        "colab": {
          "base_uri": "https://localhost:8080/",
          "height": 313
        },
        "id": "ufEwCSYE6uOQ",
        "outputId": "70bf764d-aa56-4c5d-dd21-3599c9328517"
      },
      "execution_count": null,
      "outputs": [
        {
          "output_type": "execute_result",
          "data": {
            "text/plain": [
              "Text(0.5, 1.0, 'Inferred parameters for CD2 across all cells')"
            ]
          },
          "metadata": {},
          "execution_count": 70
        },
        {
          "output_type": "display_data",
          "data": {
            "text/plain": [
              "<Figure size 432x288 with 1 Axes>"
            ],
            "image/png": "[encoded data removed]"
          },
          "metadata": {
            "needs_background": "light"
          }
        }
      ]
    }
  ]
}