{
 "cells": [
  {
   "cell_type": "markdown",
   "metadata": {},
   "source": [
    "# Validating results with fluorescence data\n",
    "\n",
    "\n",
    "\n",
    "Data from the seqFISH (transcriptomic fluorescence assays) paper \"High-resolution spatial multi-omics reveals cell-type specific nuclear compartments\" by Takei *et al.* (2023).\n",
    "\n",
    "Preprint: https://www.biorxiv.org/content/10.1101/2023.05.07.539762v1\n",
    "'Raw' Data: https://outlook.office.com/mail/safelink.html?url=https://zenodo.org/record/7693825&corid=cddd4553-1e93-1bbb-63f9-c163d915e8dc \n",
    "\n"
   ]
  },
  {
   "cell_type": "code",
   "execution_count": 1,
   "metadata": {},
   "outputs": [
    {
     "name": "stderr",
     "output_type": "stream",
     "text": [
      "Global seed set to 0\n",
      "/home/tara/.local/lib/python3.8/site-packages/pytorch_lightning/utilities/warnings.py:53: LightningDeprecationWarning: pytorch_lightning.utilities.warnings.rank_zero_deprecation has been deprecated in v1.6 and will be removed in v1.8. Use the equivalent function from the pytorch_lightning.utilities.rank_zero module instead.\n",
      "  new_rank_zero_deprecation(\n",
      "/home/tara/.local/lib/python3.8/site-packages/pytorch_lightning/utilities/warnings.py:58: LightningDeprecationWarning: The `pytorch_lightning.loggers.base.rank_zero_experiment` is deprecated in v1.7 and will be removed in v1.9. Please use `pytorch_lightning.loggers.logger.rank_zero_experiment` instead.\n",
      "  return new_rank_zero_deprecation(*args, **kwargs)\n"
     ]
    }
   ],
   "source": [
    "# System\n",
    "import os,sys\n",
    "sys.path.insert(0, '../../BIVI')\n",
    "\n",
    "\n",
    "\n",
    "import numpy as np\n",
    "import torch\n",
    "import pandas as pd\n",
    "import pickle\n",
    "from scipy.stats import pearsonr\n",
    "from scipy.sparse import csr_matrix\n",
    "\n",
    "# colors\n",
    "import matplotlib\n",
    "import matplotlib.pyplot as plt\n",
    "import seaborn as sns\n",
    "matplotlib.rc('xtick', labelsize=24) \n",
    "matplotlib.rc('ytick', labelsize=24) \n",
    "\n",
    "# single cell\n",
    "import anndata\n",
    "import scanpy as sc\n",
    "\n",
    "# import biVI scripts\n",
    "import biVI\n",
    "\n",
    "\n",
    "# reproducibility -- set random seeds\n",
    "torch.manual_seed(8675309);"
   ]
  },
  {
   "cell_type": "code",
   "execution_count": 2,
   "metadata": {},
   "outputs": [],
   "source": [
    "def nd(matrix):\n",
    "    return(np.array(matrix).flatten())"
   ]
  },
  {
   "cell_type": "markdown",
   "metadata": {},
   "source": [
    "# Verifying *biVI* inferred burst sizes using seqFISH data\n",
    "\n",
    "This notebook processes and analyzes fluorescent transcriptomic data from this recent pre-print from Elowitz lab: https://www.biorxiv.org/content/10.1101/2023.05.07.539762v1.abstract , which assayed intron (transcription active sites, TAS) spot and intensity and mRNA spots for more than 1,000 genes in several hundred cultured mouse embryonic stem cells (E14 cells). \n",
    "\n",
    "\n",
    "\n"
   ]
  },
  {
   "cell_type": "code",
   "execution_count": 3,
   "metadata": {},
   "outputs": [],
   "source": [
    "# functions \n",
    "\n",
    "def get_burst_size_per_cell(count_df):\n",
    "    ''' Return cell by gene count matrix with burst sizes, which is the average of intensity of intronic spots\n",
    "        observed per gene per cell. \n",
    "    '''\n",
    "    \n",
    "    num_genes = len(count_df['geneID'].unique())\n",
    "    num_cells = len(count_df['unique_id'].unique())\n",
    "    df_ = count_df.groupby(['unique_id','geneID'])['intensity'].mean().reset_index(name='mean_burst_size')\n",
    "    \n",
    "    genes = count_df['geneID'].unique()\n",
    "    cells = count_df['unique_id'].unique()\n",
    "    genes_long = list(genes)*len(cells)\n",
    "\n",
    "    cells_long = []\n",
    "\n",
    "    for c in cells:\n",
    "        cells_long+=[c]*len(genes)\n",
    "    \n",
    "    all_genes_cells = pd.DataFrame({'geneID': genes_long,'unique_id' : cells_long})\n",
    "    df_merge = all_genes_cells.merge(df_,left_on=['geneID','unique_id'],right_on=['geneID','unique_id'],\n",
    "                                how='left').fillna(0)\n",
    "    \n",
    "    count_array = np.zeros((num_cells,num_genes))\n",
    "    \n",
    "    for i,ID in enumerate(count_df['unique_id'].unique()):\n",
    "        counts_ = df_merge[df_merge['unique_id']==ID]\n",
    "        count_array[i,:] = counts_['mean_burst_size']\n",
    "    \n",
    "        \n",
    "    return(count_array)\n",
    "\n",
    "\n",
    "def get_count_matrix(count_df):\n",
    "    ''' Given a count data frame with each count, return cell by gene matrix \n",
    "    with number of times each gene was observed in each cell.\n",
    "    '''\n",
    "    \n",
    "    num_genes = len(count_df['geneID'].unique())\n",
    "    num_cells = len(count_df['unique_id'].unique())\n",
    "    df_ = count_df.groupby(['unique_id','geneID']).size().reset_index(name='counts')\n",
    "    \n",
    "    genes = count_df['geneID'].unique()\n",
    "    cells = count_df['unique_id'].unique()\n",
    "    genes_long = list(genes)*len(cells)\n",
    "\n",
    "    cells_long = []\n",
    "\n",
    "    for c in cells:\n",
    "        cells_long+=[c]*len(genes)\n",
    "    \n",
    "    all_genes_cells = pd.DataFrame({'geneID': genes_long,'unique_id' : cells_long})\n",
    "    df_merge = all_genes_cells.merge(df_,left_on=['geneID','unique_id'],right_on=['geneID','unique_id'],\n",
    "                                how='left').fillna(0)\n",
    "    \n",
    "    count_array = np.zeros((num_cells,num_genes))\n",
    "    \n",
    "    for i,ID in enumerate(count_df['unique_id'].unique()):\n",
    "        counts_ = df_merge[df_merge['unique_id']==ID]\n",
    "        count_array[i,:] = counts_['counts']\n",
    "    \n",
    "        \n",
    "    return(count_array)\n",
    "\n",
    "\n",
    "def get_adjusted_count_matrix(count_df):\n",
    "    ''' Return cell by gene count matrix with intronic counts adjusted by intensity value.\n",
    "    '''\n",
    "    \n",
    "    count_df['adjusted_intron_counts'] = np.ceil(count_df['intensity'].values)\n",
    "\n",
    "    num_genes = len(count_df['geneID'].unique())\n",
    "    num_cells = len(count_df['unique_id'].unique())\n",
    "    df_ = count_df.groupby(['unique_id','geneID'])['adjusted_intron_counts'].sum().reset_index(name='adjusted_intron_counts')\n",
    "    \n",
    "    genes = count_df['geneID'].unique()\n",
    "    cells = count_df['unique_id'].unique()\n",
    "    genes_long = list(genes)*len(cells)\n",
    "\n",
    "    cells_long = []\n",
    "\n",
    "    for c in cells:\n",
    "        cells_long+=[c]*len(genes)\n",
    "    \n",
    "    all_genes_cells = pd.DataFrame({'geneID': genes_long,'unique_id' : cells_long})\n",
    "    df_merge = all_genes_cells.merge(df_,left_on=['geneID','unique_id'],right_on=['geneID','unique_id'],\n",
    "                                how='left').fillna(0)\n",
    "    \n",
    "    count_array = np.zeros((num_cells,num_genes))\n",
    "    \n",
    "    for i,ID in enumerate(count_df['unique_id'].unique()):\n",
    "        counts_ = df_merge[df_merge['unique_id']==ID]\n",
    "        count_array[i,:] = counts_['adjusted_intron_counts']\n",
    "    \n",
    "        \n",
    "    return(count_array)"
   ]
  },
  {
   "cell_type": "code",
   "execution_count": 4,
   "metadata": {},
   "outputs": [
    {
     "name": "stdout",
     "output_type": "stream",
     "text": [
      "desai\t  ERR2248252.fastq.gz  larsson\t NIHMS970209-supplement-10.xlsx  takei\r\n",
      "E14_rep1  jensen\t       mmc2.csv  riba\r\n"
     ]
    }
   ],
   "source": [
    "!ls ../data"
   ]
  },
  {
   "cell_type": "code",
   "execution_count": 5,
   "metadata": {},
   "outputs": [],
   "source": [
    "# load in data\n",
    "\n",
    "count_dir = '../data/takei'\n",
    "es_intron_raw = pd.read_csv(os.path.join(count_dir,'E14-replicate1-intron-seqFISH-ch2.csv'))\n",
    "es_exon_raw = pd.read_csv(os.path.join(count_dir,'E14-replicate1-mRNA-seqFISH-ch1.csv'))\n",
    "\n",
    "es_intron_raw2 = pd.read_csv(os.path.join(count_dir,'E14-replicate2-intron-seqFISH-ch2.csv'))\n",
    "es_exon_raw2 = pd.read_csv(os.path.join(count_dir,'E14-replicate2-mRNA-seqFISH-ch1.csv'))\n",
    "\n",
    "\n",
    "# add unique ids\n",
    "es_intron_raw['unique_id'] = 'cell' + es_intron_raw['cellID'].astype(str)+'_fov'+es_intron_raw['fov'].astype('str')\n",
    "es_exon_raw['unique_id'] = 'cell' + es_exon_raw ['cellID'].astype(str)+'_fov'+es_exon_raw['fov'].astype('str')\n",
    "es_intron_raw2['unique_id'] = 'cell' + es_intron_raw2['cellID'].astype(str)+'_fov'+es_intron_raw2['fov'].astype('str')\n",
    "es_exon_raw2['unique_id'] = 'cell' + es_exon_raw2['cellID'].astype(str)+'_fov'+es_exon_raw2['fov'].astype('str')"
   ]
  },
  {
   "cell_type": "markdown",
   "metadata": {},
   "source": [
    "# Data exploration"
   ]
  },
  {
   "cell_type": "code",
   "execution_count": 6,
   "metadata": {},
   "outputs": [
    {
     "name": "stdout",
     "output_type": "stream",
     "text": [
      "There were 17683 TAS genes in E14 rep1\n",
      "There were 17682 TAS genes in E14 rep2\n",
      "There were 4096 exon genes in E14 rep1\n",
      "There were 4096 exon genes in E14 rep2\n",
      "There were 523 TAS cells in E14 rep1\n",
      "There were 553 TAS cells in E14 rep2\n",
      "There were 523 exon cells in E14 rep1\n",
      "There were 553 exon cells in E14 rep2\n"
     ]
    }
   ],
   "source": [
    "# how many genes are observed for introns/exons in rep1 and rep2\n",
    "a = len(es_intron_raw['geneID'].unique()) \n",
    "print(f'There were {a} TAS genes in E14 rep1')\n",
    "a = len(es_intron_raw2['geneID'].unique()) \n",
    "print(f'There were {a} TAS genes in E14 rep2')\n",
    "a = len(es_exon_raw['geneID'].unique()) \n",
    "print(f'There were {a} exon genes in E14 rep1')\n",
    "a = len(es_exon_raw2['geneID'].unique()) \n",
    "print(f'There were {a} exon genes in E14 rep2')\n",
    "\n",
    "# how many cells were observed for introns/exons in rep1 and rep2\n",
    "a = len(es_intron_raw['unique_id'].unique()) \n",
    "print(f'There were {a} TAS cells in E14 rep1')\n",
    "a = len(es_intron_raw2['unique_id'].unique()) \n",
    "print(f'There were {a} TAS cells in E14 rep2')\n",
    "a = len(es_exon_raw['unique_id'].unique()) \n",
    "print(f'There were {a} exon cells in E14 rep1')\n",
    "a = len(es_exon_raw2['unique_id'].unique()) \n",
    "print(f'There were {a} exon cells in E14 rep2')"
   ]
  },
  {
   "cell_type": "code",
   "execution_count": null,
   "metadata": {},
   "outputs": [],
   "source": [
    "# ALL burst sizes, for all introns\n",
    "es_burst_sizes_all_1 = get_burst_size_per_cell(es_intron_raw)\n",
    "es_burst_sizes_all_2 = get_burst_size_per_cell(es_intron_raw2)"
   ]
  },
  {
   "cell_type": "code",
   "execution_count": null,
   "metadata": {},
   "outputs": [],
   "source": [
    "es_bs_dict_1 = {'burst_size' : es_burst_sizes_all_1,\n",
    "           'gene_name' : es_intron_raw['geneID'].unique(),\n",
    "           'cell_id' : es_intron_raw['unique_id'].unique()}\n",
    "\n",
    "es_bs_dict_2 = {'burst_size' : es_burst_sizes_all_2,\n",
    "           'gene_name' : es_intron_raw2['geneID'].unique(),\n",
    "           'cell_id' : es_intron_raw2['unique_id'].unique()}"
   ]
  },
  {
   "cell_type": "code",
   "execution_count": null,
   "metadata": {},
   "outputs": [],
   "source": [
    "# save! \n",
    "with open('../results/E14_rep1_seqFISH_burst_sizes_all','wb') as file:\n",
    "    pickle.dump(es_bs_dict_1,file,protocol=pickle.HIGHEST_PROTOCOL)\n",
    "with open('../results/E14_rep2_seqFISH_burst_sizes_all','wb') as file:\n",
    "    pickle.dump(es_bs_dict_2,file,protocol=pickle.HIGHEST_PROTOCOL)"
   ]
  },
  {
   "cell_type": "markdown",
   "metadata": {},
   "source": [
    "Let us look at how the read distributions for genes with both observed TAS spots and exon spots look."
   ]
  },
  {
   "cell_type": "code",
   "execution_count": null,
   "metadata": {},
   "outputs": [],
   "source": [
    "len(es_intron_raw2['geneID'].unique())"
   ]
  },
  {
   "cell_type": "code",
   "execution_count": 7,
   "metadata": {},
   "outputs": [],
   "source": [
    "# subset reads\n",
    "mask = es_exon_raw['geneID'].isin(es_intron_raw['geneID'].unique())\n",
    "es_exon_subset1 = es_exon_raw[mask]\n",
    "\n",
    "mask = es_intron_raw['geneID'].isin(es_exon_raw['geneID'].unique())\n",
    "es_intron_subset1 = es_intron_raw[mask]\n",
    "\n",
    "mask = es_exon_raw2['geneID'].isin(es_intron_raw2['geneID'].unique())\n",
    "es_exon_subset2 = es_exon_raw2[mask]\n",
    "\n",
    "mask = es_intron_raw2['geneID'].isin(es_exon_raw2['geneID'].unique())\n",
    "es_intron_subset2 = es_intron_raw2[mask]\n"
   ]
  },
  {
   "cell_type": "markdown",
   "metadata": {},
   "source": [
    "## Histograms of intensities"
   ]
  },
  {
   "cell_type": "code",
   "execution_count": 8,
   "metadata": {},
   "outputs": [
    {
     "data": {
      "image/png": "[encoded data removed]",
      "text/plain": [
       "<Figure size 432x288 with 1 Axes>"
      ]
     },
     "metadata": {
      "needs_background": "light"
     },
     "output_type": "display_data"
    }
   ],
   "source": [
    "plt.hist(es_intron_subset1['intensity'],bins=200,alpha=0.7,label='rep1')\n",
    "plt.axvline(np.mean(es_intron_subset1['intensity']),label='mean intensity, rep1',color='darkblue')\n",
    "plt.hist(es_intron_subset2['intensity'],bins=200,alpha=0.7,label='rep2')\n",
    "plt.axvline(np.mean(es_intron_subset2['intensity']),color='brown',label='mean intensity, rep2')\n",
    "plt.ylabel('Number of spots')\n",
    "plt.xlabel('Normalized intensity')\n",
    "plt.grid()\n",
    "plt.legend()\n",
    "mean1 = np.mean(es_intron_subset1['intensity'])\n",
    "mean2 = np.mean(es_intron_subset2['intensity'])\n",
    "plt.title(f'Frequency of intron spot intensities, rep1: {mean1:.3f}, rep2: {mean2:.3f}');"
   ]
  },
  {
   "cell_type": "markdown",
   "metadata": {},
   "source": [
    "### Histogram intensities > 0.5 um away from chromosomes\n",
    "\n",
    "\n",
    "Yodai Takei (first author) suggested using only spots < 0.5 um away from chromosomes as to reduce noise. However, their analysis is particularly interested in transcription active sites (TASs), which are at DNA so near chromosome regions; we want, however, to get approximate counts for introns, regardless of if they are actively being transcribed or not. We thus consider all intron spots. Further, the distributions of intensities look very similar for chromosome far and chromosome close intron/TAS spots, leading us to believe that there is not significantly increased noise in the chromosome far intron spots. \n",
    "\n",
    "\n",
    "\n"
   ]
  },
  {
   "cell_type": "code",
   "execution_count": 9,
   "metadata": {},
   "outputs": [],
   "source": [
    "es_intron_subset1_far = es_intron_subset1[es_intron_subset1['min_dist']>0.5]\n",
    "es_intron_subset2_far = es_intron_subset2[es_intron_subset2['min_dist']>0.5]\n",
    "\n",
    "es_intron_subset1_close = es_intron_subset1[es_intron_subset1['min_dist']<=0.5]\n",
    "es_intron_subset2_close = es_intron_subset2[es_intron_subset2['min_dist']<=0.5]"
   ]
  },
  {
   "cell_type": "code",
   "execution_count": 10,
   "metadata": {},
   "outputs": [
    {
     "data": {
      "image/png": "[encoded data removed]",
      "text/plain": [
       "<Figure size 720x360 with 2 Axes>"
      ]
     },
     "metadata": {
      "needs_background": "light"
     },
     "output_type": "display_data"
    }
   ],
   "source": [
    "fig,ax = plt.subplots(1,2,figsize=(10,5))\n",
    "ax[0].hist(es_intron_subset1_far['intensity'],bins=200,alpha=0.7,label='rep1')\n",
    "ax[0].axvline(np.mean(es_intron_subset1_far['intensity']),label='mean intensity, rep1',color='darkblue')\n",
    "ax[0].hist(es_intron_subset2_far['intensity'],bins=200,alpha=0.7,label='rep2')\n",
    "ax[0].axvline(np.mean(es_intron_subset2_far['intensity']),color='brown',label='mean intensity, rep2')\n",
    "ax[0].set_ylabel('Number of spots')\n",
    "ax[0].set_xlabel('Normalized intensity')\n",
    "ax[0].grid()\n",
    "ax[0].legend()\n",
    "ax[0].set_xlim(0,10)\n",
    "mean1 = np.mean(es_intron_subset1_far['intensity'])\n",
    "mean2 = np.mean(es_intron_subset2_far['intensity'])\n",
    "ax[0].set_title(f'TAS spot intensities >0.5um away, rep1: {mean1:.3f}, rep2: {mean2:.3f}');\n",
    "\n",
    "ax[1].hist(es_intron_subset1_close['intensity'],bins=200,alpha=0.7,label='rep1')\n",
    "ax[1].axvline(np.mean(es_intron_subset1_close['intensity']),label='mean intensity, rep1',color='darkblue')\n",
    "ax[1].hist(es_intron_subset2_close['intensity'],bins=200,alpha=0.7,label='rep2')\n",
    "ax[1].axvline(np.mean(es_intron_subset2_close['intensity']),color='brown',label='mean intensity, rep2')\n",
    "ax[1].set_ylabel('Number of spots')\n",
    "ax[1].set_xlabel('Normalized intensity')\n",
    "ax[1].grid()\n",
    "ax[1].legend()\n",
    "ax[1].set_xlim(0,10)\n",
    "mean1 = np.mean(es_intron_subset1_close['intensity'])\n",
    "mean2 = np.mean(es_intron_subset2_close['intensity'])\n",
    "ax[1].set_title(f'TAS spot intensities <=0.5um away, rep1: {mean1:.3f}, rep2: {mean2:.3f}')\n",
    "plt.tight_layout();"
   ]
  },
  {
   "cell_type": "markdown",
   "metadata": {},
   "source": [
    "# Calculate counts"
   ]
  },
  {
   "cell_type": "code",
   "execution_count": 11,
   "metadata": {},
   "outputs": [],
   "source": [
    "# es_intron_counts1 = get_count_matrix(es_intron_subset1)\n",
    "# es_intron_counts2 = get_count_matrix(es_intron_subset2)\n",
    "# es_exon_counts1 = get_count_matrix(es_exon_subset1)\n",
    "# es_exon_counts2 = get_count_matrix(es_exon_subset2)\n",
    "\n",
    "es_intron_counts1_all = get_count_matrix(es_intron_raw)\n",
    "es_intron_counts2_all = get_count_matrix(es_intron_raw2)\n",
    "es_exon_counts1_all = get_count_matrix(es_exon_raw)\n",
    "es_exon_counts2_all = get_count_matrix(es_exon_raw2)"
   ]
  },
  {
   "cell_type": "code",
   "execution_count": 12,
   "metadata": {},
   "outputs": [
    {
     "name": "stderr",
     "output_type": "stream",
     "text": [
      "<ipython-input-3-0b16cb214df5>:71: SettingWithCopyWarning: \n",
      "A value is trying to be set on a copy of a slice from a DataFrame.\n",
      "Try using .loc[row_indexer,col_indexer] = value instead\n",
      "\n",
      "See the caveats in the documentation: https://pandas.pydata.org/pandas-docs/stable/user_guide/indexing.html#returning-a-view-versus-a-copy\n",
      "  count_df['adjusted_intron_counts'] = np.ceil(count_df['intensity'].values)\n",
      "<ipython-input-3-0b16cb214df5>:71: SettingWithCopyWarning: \n",
      "A value is trying to be set on a copy of a slice from a DataFrame.\n",
      "Try using .loc[row_indexer,col_indexer] = value instead\n",
      "\n",
      "See the caveats in the documentation: https://pandas.pydata.org/pandas-docs/stable/user_guide/indexing.html#returning-a-view-versus-a-copy\n",
      "  count_df['adjusted_intron_counts'] = np.ceil(count_df['intensity'].values)\n"
     ]
    }
   ],
   "source": [
    "es_adjusted_intron_counts1 = get_adjusted_count_matrix(es_intron_subset1)\n",
    "es_adjusted_intron_counts2 = get_adjusted_count_matrix(es_intron_subset2)"
   ]
  },
  {
   "cell_type": "code",
   "execution_count": 13,
   "metadata": {},
   "outputs": [],
   "source": [
    "es_adjusted_intron_counts1_all = get_adjusted_count_matrix(es_intron_raw)\n",
    "es_adjusted_intron_counts2_all = get_adjusted_count_matrix(es_intron_raw2)"
   ]
  },
  {
   "cell_type": "code",
   "execution_count": 28,
   "metadata": {},
   "outputs": [
    {
     "name": "stdout",
     "output_type": "stream",
     "text": [
      "17683 17682\n",
      "4096 4096\n"
     ]
    }
   ],
   "source": [
    "print(len(np.mean(es_adjusted_intron_counts1_all,axis=0)),len(np.mean(es_adjusted_intron_counts2_all,axis=0)))\n",
    "print(len(np.mean(es_exon_counts1_all,axis=0)),len(np.mean(es_exon_counts2_all,axis=0)))"
   ]
  },
  {
   "cell_type": "code",
   "execution_count": 24,
   "metadata": {},
   "outputs": [
    {
     "data": {
      "image/png": "[encoded data removed]",
      "text/plain": [
       "<Figure size 1080x360 with 3 Axes>"
      ]
     },
     "metadata": {
      "needs_background": "light"
     },
     "output_type": "display_data"
    }
   ],
   "source": [
    "# plot variance vs. mean for intron (adjusted and non-adjusted) and exon counts\n",
    "\n",
    "save_path = True\n",
    "fs = 24\n",
    "fig,ax = plt.subplots(1,3,figsize=(15,5))\n",
    "ax[0].scatter(np.mean(es_intron_counts1_all,axis=0),np.var(es_intron_counts1_all,axis=0),\n",
    "              s=10,alpha=0.5,label='Rep 1',color=sns.color_palette(\"tab10\")[0],edgecolor='gray')\n",
    "ax[0].scatter(np.mean(es_intron_counts2_all,axis=0),np.var(es_intron_counts2_all,axis=0),\n",
    "              s=10,alpha=0.5,label='Rep 2',color=sns.color_palette(\"tab10\")[1],edgecolor='gray')\n",
    "ax[0].set_title(f'Raw introns',fontsize=fs)\n",
    "ax[0].set_xlabel('Mean',fontsize=fs)\n",
    "ax[0].set_ylabel('Variance',fontsize=fs)\n",
    "\n",
    "plot_ = [np.min(np.mean(es_intron_counts1_all,axis=0)),np.max(np.mean(es_intron_counts1_all,axis=0))]\n",
    "ax[0].plot(plot_,plot_,color='k',linestyle='--',label='Identity')\n",
    "\n",
    "ax[0].set_xscale('log')\n",
    "ax[0].set_yscale('log')\n",
    "ax[0].legend(fontsize=17,loc='lower right');\n",
    "\n",
    "ax[1].scatter(np.mean(es_adjusted_intron_counts1_all,axis=0),np.var(es_adjusted_intron_counts1_all,axis=0),\n",
    "              s=10,alpha=0.5,label='Rep 1',color=sns.color_palette(\"tab10\")[0],edgecolor='gray')\n",
    "ax[1].scatter(np.mean(es_adjusted_intron_counts2_all,axis=0),np.var(es_adjusted_intron_counts2_all,axis=0),\n",
    "              s=10,alpha=0.5,label='Rep 2',color=sns.color_palette(\"tab10\")[1],edgecolor='gray')\n",
    "ax[1].set_title(f'Adjusted introns',fontsize=fs)\n",
    "ax[1].set_xlabel('Mean',fontsize=fs)\n",
    "ax[1].set_ylabel('Variance',fontsize=fs)\n",
    "plot_ = [np.min(np.mean(es_adjusted_intron_counts1_all,axis=0)),np.max(np.mean(es_adjusted_intron_counts1_all,axis=0))]\n",
    "ax[1].plot(plot_,plot_,color='k',linestyle='--',label='Identity')\n",
    "ax[1].set_xscale('log')\n",
    "ax[1].set_yscale('log')\n",
    "# ax[1].legend(fontsize=fs);\n",
    "\n",
    "ax[2].scatter(np.mean(es_exon_counts1_all,axis=0),np.var(es_exon_counts1_all,axis=0),\n",
    "              s=10,alpha=0.5,label='Rep 1',color=sns.color_palette(\"tab10\")[0],edgecolor='gray')\n",
    "ax[2].scatter(np.mean(es_exon_counts2_all,axis=0),\n",
    "              np.var(es_exon_counts2_all,axis=0),\n",
    "              s=10,alpha=0.5,label='Rep 2',color=sns.color_palette(\"tab10\")[1],edgecolor='gray')\n",
    "ax[2].set_title(f'mRNA',fontsize=fs)\n",
    "ax[2].set_xlabel('Mean',fontsize=fs)\n",
    "ax[2].set_ylabel('Variance',fontsize=fs)\n",
    "plot_ = [np.min(np.mean(es_exon_counts1_all,axis=0)),np.max(np.mean(es_exon_counts1_all,axis=0))]\n",
    "ax[2].plot(plot_,plot_,color='k',linestyle='--',label='Identity')\n",
    "ax[2].set_xscale('log')\n",
    "ax[2].set_yscale('log')\n",
    "# ax[2].legend(fontsize=20);\n",
    "\n",
    "\n",
    "plt.tight_layout();\n",
    "\n",
    "if save_path != None:\n",
    "    plt.savefig('./figures/seqFISH_mean_vs_variance',dpi=450,bbox_inches='tight')\n",
    "\n"
   ]
  },
  {
   "cell_type": "code",
   "execution_count": null,
   "metadata": {},
   "outputs": [],
   "source": [
    "# # exon counts per gene\n",
    "fgi,ax = plt.subplots(1,2,figsize=(10,5))\n",
    "ax[0].hist(np.sum(es_intron_counts1,axis=1),alpha=0.5,bins=50,label='rep1',color='blue')\n",
    "ax[0].hist(np.sum(es_intron_counts2,axis=1),alpha=0.5,bins=50,label='rep2',color='gray')\n",
    "# ax[0].hist(np.sum(intron_counts1,axis=1),alpha=0.5,bins=50,label='intron counts')\n",
    "ax[0].set_title('Intron counts per cell')\n",
    "ax[0].set_xlabel('# intron counts')\n",
    "ax[0].set_ylabel('# cells')\n",
    "ax[0].legend();\n",
    "\n",
    "ax[1].hist(np.sum(es_exon_counts1,axis=1),alpha=0.5,bins=50,color='red',label='rep1')\n",
    "ax[1].hist(np.sum(es_exon_counts2,axis=1),alpha=0.5,bins=50,color='darkred',label='rep2')\n",
    "# ax[0].hist(np.sum(intron_counts1,axis=1),alpha=0.5,bins=50,label='intron counts')\n",
    "ax[1].set_title('mRNA/Exon counts per cell')\n",
    "ax[1].set_xlabel('# exon counts')\n",
    "ax[1].set_ylabel('# cells')\n",
    "ax[1].legend()\n",
    "\n",
    "plt.tight_layout();"
   ]
  },
  {
   "cell_type": "code",
   "execution_count": null,
   "metadata": {},
   "outputs": [],
   "source": [
    "# exon counts per gene\n",
    "fgi,ax = plt.subplots(1,2,figsize=(10,5))\n",
    "ax[0].hist(es_intron_counts1.flatten(),alpha=0.5,bins=50,label='rep1',color='blue')\n",
    "ax[0].hist(es_intron_counts2.flatten(),alpha=0.5,bins=50,label='rep2',color='gray')\n",
    "# ax[0].hist(np.sum(intron_counts1,axis=1),alpha=0.5,bins=50,label='intron counts')\n",
    "ax[0].set_title('Intron Counts per gene')\n",
    "ax[0].set_xlabel('# intron counts')\n",
    "ax[0].set_ylabel('# genes')\n",
    "ax[0].legend();\n",
    "\n",
    "ax[1].hist(es_exon_counts1.flatten(),alpha=0.5,bins=50,color='red',label='rep1')\n",
    "ax[1].hist(es_exon_counts2.flatten(),alpha=0.5,bins=50,color='darkred',label='rep2')\n",
    "# ax[0].hist(np.sum(intron_counts1,axis=1),alpha=0.5,bins=50,label='intron counts')\n",
    "ax[1].set_title('mRNA/Exon counts per gene')\n",
    "ax[1].set_xlabel('# exon counts')\n",
    "ax[1].set_ylabel('# genes')\n",
    "ax[1].legend()\n",
    "\n",
    "plt.tight_layout();"
   ]
  },
  {
   "cell_type": "code",
   "execution_count": null,
   "metadata": {},
   "outputs": [],
   "source": [
    "# # exon counts per gene\n",
    "fgi,ax = plt.subplots(1,2,figsize=(10,5))\n",
    "ax[0].hist(es_adjusted_intron_counts1.flatten(),alpha=0.5,bins=50,label='rep1',color='blue')\n",
    "ax[0].hist(es_adjusted_intron_counts2.flatten(),alpha=0.5,bins=50,label='rep2',color='gray')\n",
    "# ax[0].hist(np.sum(intron_counts1,axis=1),alpha=0.5,bins=50,label='intron counts')\n",
    "ax[0].set_title('Adjusted Intron Counts per gene')\n",
    "ax[0].set_xlabel('# adjusted intron counts')\n",
    "ax[0].set_ylabel('# genes')\n",
    "ax[0].set_xlim(-1,10)\n",
    "ax[0].legend();\n",
    "\n",
    "ax[1].hist(es_exon_counts1.flatten(),alpha=0.5,bins=50,color='red',label='rep1')\n",
    "ax[1].hist(es_exon_counts2.flatten(),alpha=0.5,bins=50,color='darkred',label='rep2')\n",
    "# ax[0].hist(np.sum(intron_counts1,axis=1),alpha=0.5,bins=50,label='intron counts')\n",
    "ax[1].set_title('mRNA/Exon counts per gene')\n",
    "ax[1].set_xlabel('# exon counts')\n",
    "ax[1].set_ylabel('# genes')\n",
    "ax[1].legend()\n",
    "\n",
    "plt.tight_layout();"
   ]
  },
  {
   "cell_type": "markdown",
   "metadata": {},
   "source": [
    "-----\n",
    "\n",
    "\n",
    "\n",
    "# Fit biVI to adjusted intron counts\n",
    "\n",
    "\n"
   ]
  },
  {
   "cell_type": "code",
   "execution_count": null,
   "metadata": {},
   "outputs": [],
   "source": [
    "# get subset burst sizes\n",
    "es_burst_sizes_subset1 = get_burst_size_per_cell(es_intron_subset1)\n",
    "es_burst_sizes_subset2 = get_burst_size_per_cell(es_intron_subset2)"
   ]
  },
  {
   "cell_type": "code",
   "execution_count": null,
   "metadata": {},
   "outputs": [],
   "source": [
    "# create anndata, first with rep1\n",
    "\n",
    "adata_u = anndata.AnnData(csr_matrix(es_adjusted_intron_counts1, dtype=np.float32))\n",
    "# adata_u.obs_names = es_intron['unique_id'].unique()\n",
    "# adata_u.var_names = es_intron['geneID'].unique()\n",
    "\n",
    "adata_s = anndata.AnnData(csr_matrix(es_exon_counts1, dtype=np.float32))\n",
    "# adata_s.obs_names = es_intron['unique_id'].unique()\n",
    "# adata_s.var_names = es_intron['geneID'].unique()\n",
    "\n",
    "adata_u.var['Spliced']   = False\n",
    "adata_s.var['Spliced'] =  True"
   ]
  },
  {
   "cell_type": "code",
   "execution_count": null,
   "metadata": {},
   "outputs": [],
   "source": [
    "adata_1 = anndata.concat([adata_u,adata_s],axis=1)\n",
    "adata_1.layers[\"counts\"] = adata_1.X.copy() # preserve counts\n",
    "\n",
    "# Update obs,var\n",
    "adata_1.obs = adata_u.obs.copy()"
   ]
  },
  {
   "cell_type": "code",
   "execution_count": null,
   "metadata": {},
   "outputs": [],
   "source": [
    "# set up anndata with biVI, specifying training layer\n",
    "biVI.biVI.setup_anndata(adata_1,layer=\"counts\")"
   ]
  },
  {
   "cell_type": "code",
   "execution_count": null,
   "metadata": {},
   "outputs": [],
   "source": [
    "model_args = {    'n_latent'     : 10,\n",
    "                  'n_layers'     : 3,\n",
    "                  'dispersion'   : 'gene',\n",
    "                  'n_hidden'     : 128,\n",
    "                  'dropout_rate' :  0.1,\n",
    "                  'log_variational'    :  True,\n",
    "                  'latent_distribution':  'normal',\n",
    "                  'THETA_IS' : 'NAS_SHAPE'\n",
    "                  }\n",
    "\n",
    "# training plan parameters\n",
    "max_epochs = 400\n",
    "\n",
    "plan_kwargs = {'lr' : 0.001,\n",
    "               'n_epochs_kl_warmup' : max_epochs/2,\n",
    "                }"
   ]
  },
  {
   "cell_type": "code",
   "execution_count": null,
   "metadata": {},
   "outputs": [],
   "source": [
    "model = biVI.biVI(adata_1,mode='Bursty',**model_args)"
   ]
  },
  {
   "cell_type": "code",
   "execution_count": null,
   "metadata": {},
   "outputs": [],
   "source": [
    "model.train(max_epochs = max_epochs,\n",
    "                train_size = 0.9,\n",
    "                check_val_every_n_epoch  = 1,\n",
    "                plan_kwargs = plan_kwargs)"
   ]
  },
  {
   "cell_type": "code",
   "execution_count": null,
   "metadata": {},
   "outputs": [],
   "source": [
    "# and same for rep2\n",
    "\n",
    "adata_u2 = anndata.AnnData(csr_matrix(es_adjusted_intron_counts2, dtype=np.float32))\n",
    "adata_s2 = anndata.AnnData(csr_matrix(es_exon_counts2, dtype=np.float32))\n",
    "adata_u2.var['Spliced']   = False\n",
    "adata_s2.var['Spliced'] = True\n",
    "adata_2 = anndata.concat([adata_u2,adata_s2],axis=1)\n",
    "adata_2.layers[\"counts\"] = adata_2.X.copy() # preserve counts\n",
    "adata_2.obs = adata_u2.obs.copy()"
   ]
  },
  {
   "cell_type": "code",
   "execution_count": null,
   "metadata": {},
   "outputs": [],
   "source": [
    "# set up anndata with biVI, specifying training layer\n",
    "biVI.biVI.setup_anndata(adata_2,layer=\"counts\")"
   ]
  },
  {
   "cell_type": "code",
   "execution_count": null,
   "metadata": {},
   "outputs": [],
   "source": [
    "model2 = biVI.biVI(adata_2,mode='Bursty',**model_args)"
   ]
  },
  {
   "cell_type": "code",
   "execution_count": null,
   "metadata": {},
   "outputs": [],
   "source": [
    "model2.train(max_epochs = max_epochs,\n",
    "                train_size = 0.9,\n",
    "                check_val_every_n_epoch  = 1,\n",
    "                plan_kwargs = plan_kwargs)"
   ]
  },
  {
   "cell_type": "markdown",
   "metadata": {},
   "source": [
    "# Investigate returned parameters"
   ]
  },
  {
   "cell_type": "code",
   "execution_count": null,
   "metadata": {},
   "outputs": [],
   "source": [
    "# get parameters\n",
    "parameters = model.get_likelihood_parameters()\n",
    "parameters2 = model2.get_likelihood_parameters()"
   ]
  },
  {
   "cell_type": "code",
   "execution_count": null,
   "metadata": {},
   "outputs": [],
   "source": [
    "# save parameters and counts\n",
    "parameters['seqFISH_burst_size'] = es_burst_sizes_subset1,\n",
    "parameters['gene_name'] = es_intron_subset1['geneID'].unique()\n",
    "parameters['cell_id'] = es_intron_subset1['unique_id'].unique()\n",
    "parameters['intron_counts'] = es_adjusted_intron_counts1\n",
    "parameters['exon_counts'] = es_exon_counts1\n",
    "\n",
    "parameters2['seqFISH_burst_size'] = es_burst_sizes_subset2,\n",
    "parameters2['gene_name'] = es_intron_subset2['geneID'].unique()\n",
    "parameters2['cell_id'] = es_intron_subset2['unique_id'].unique()\n",
    "parameters2['intron_counts'] = es_adjusted_intron_counts2\n",
    "parameters2['exon_counts'] = es_exon_counts2\n",
    "\n",
    "# and save\n",
    "with open('../results/E14_rep1_seqFISH_biVI_parameters_adj_introns_subset','wb') as file:\n",
    "    pickle.dump(parameters,file,protocol=pickle.HIGHEST_PROTOCOL)\n",
    "with open('../results/E14_rep2_seqFISH_biVI_parameters_adj_introns_subset','wb') as file:\n",
    "    pickle.dump(parameters2,file,protocol=pickle.HIGHEST_PROTOCOL)"
   ]
  },
  {
   "cell_type": "code",
   "execution_count": null,
   "metadata": {},
   "outputs": [],
   "source": [
    "bs_biVI = parameters['burst_size']\n",
    "betas_biVI = parameters['rel_splicing_rate']\n",
    "gammas_biVI = parameters['rel_degradation_rate']\n",
    "unspliced_means_biVI = parameters['unspliced_means']\n",
    "spliced_means_biVI= parameters['spliced_means']\n",
    "\n",
    "bs_biVI2 = parameters2['burst_size']\n",
    "betas_biVI2 = parameters2['rel_splicing_rate']\n",
    "gammas_biVI2 = parameters2['rel_degradation_rate']\n",
    "unspliced_means_biVI2 = parameters2['unspliced_means']\n",
    "spliced_means_biVI2 = parameters2['spliced_means']\n"
   ]
  },
  {
   "cell_type": "code",
   "execution_count": null,
   "metadata": {},
   "outputs": [],
   "source": [
    "fs=27\n",
    "save_path=True\n",
    "fig,ax = plt.subplots(1,1,figsize=(7,7))\n",
    "\n",
    "correlation_,p = pearsonr(np.log(np.mean(es_burst_sizes_subset1 ,axis=0)),np.log(np.mean(bs_biVI,axis=0)))\n",
    "plt.scatter(np.mean(es_burst_sizes_subset1 ,axis=0),np.mean(bs_biVI,axis=0),s=15,\n",
    "            edgecolor='gray',\n",
    "            alpha=0.5,\n",
    "            label='Rep 1')\n",
    "ax.set_xlabel('seqFISH reported burst size',fontsize=fs)\n",
    "ax.set_ylabel('$biVI$ burst size',fontsize=fs)\n",
    "ax.set_title(f'Adjusted intron spots, N = {len(np.mean(es_burst_sizes_subset1 ,axis=0))}',fontsize=fs)\n",
    "ax.set_xscale('log')\n",
    "ax.set_yscale('log')\n",
    "ax.annotate(f'R: {correlation_:.3f}',(0.15*10**-2,4),\n",
    "            fontsize=fs,color=sns.color_palette()[0])\n",
    "ax.grid('lightgray')\n",
    "\n",
    "correlation_,p = pearsonr(np.log(np.mean(es_burst_sizes_subset2 ,axis=0)),np.log(np.mean(bs_biVI2,axis=0)))\n",
    "plt.scatter(np.mean(es_burst_sizes_subset2 ,axis=0),np.mean(bs_biVI2,axis=0),s=15,\n",
    "            edgecolor='gray',\n",
    "            alpha=0.5,\n",
    "            label='Rep 2')\n",
    "# ax[1].set_xlabel('seqFISH reported burstsize',fontsize=fs)\n",
    "# ax[1].set_ylabel('$biVI$ burstsize',fontsize=fs)\n",
    "# ax[1].set_title(f'E14 Rep2',fontsize=fs)\n",
    "# ax[1].set_xscale('log')\n",
    "# ax[1].set_yscale('log')\n",
    "ax.annotate(f'R: {correlation_:.3f}',(0.15*10**-2,2),\n",
    "            fontsize=fs,color=sns.color_palette()[1])\n",
    "ax.legend(fontsize=20)\n",
    "plt.xticks(fontsize=20)\n",
    "plt.yticks(fontsize=20)\n",
    "\n",
    "# if save_path:\n",
    "#     plt.savefig('results/biVI_on_seqFISH_vs_seqFISH_burst_size_adj_introns',dpi=300,bbox_inches='tight')"
   ]
  },
  {
   "cell_type": "markdown",
   "metadata": {},
   "source": [
    "# Fit *biVI* models WITHOUT adjusting intron counts by intensity"
   ]
  },
  {
   "cell_type": "code",
   "execution_count": null,
   "metadata": {},
   "outputs": [],
   "source": [
    "# create anndata, first with rep1\n",
    "adata_u = anndata.AnnData(csr_matrix(es_intron_counts1, dtype=np.float32))\n",
    "adata_s = anndata.AnnData(csr_matrix(es_exon_counts1, dtype=np.float32))\n",
    "\n",
    "adata_u.var['Spliced'] = False\n",
    "adata_s.var['Spliced'] = True\n",
    "\n",
    "adata_1 = anndata.concat([adata_u,adata_s],axis=1)\n",
    "adata_1.layers[\"counts\"] = adata_1.X.copy() # preserve counts\n",
    "adata_1.obs = adata_u.obs.copy()\n",
    "\n",
    "# set up anndata with biVI, specifying training layer\n",
    "biVI.biVI.setup_anndata(adata_1,layer=\"counts\")"
   ]
  },
  {
   "cell_type": "code",
   "execution_count": null,
   "metadata": {},
   "outputs": [],
   "source": [
    "model = biVI.biVI(adata_1,mode='Bursty',**model_args)"
   ]
  },
  {
   "cell_type": "code",
   "execution_count": null,
   "metadata": {},
   "outputs": [],
   "source": [
    "model.train(max_epochs = max_epochs,\n",
    "                train_size = 0.9,\n",
    "                check_val_every_n_epoch  = 1,\n",
    "                plan_kwargs = plan_kwargs)"
   ]
  },
  {
   "cell_type": "code",
   "execution_count": null,
   "metadata": {},
   "outputs": [],
   "source": [
    "# same for rep2 \n",
    "adata_u2 = anndata.AnnData(csr_matrix(es_intron_counts2, dtype=np.float32))\n",
    "adata_s2 = anndata.AnnData(csr_matrix(es_exon_counts2, dtype=np.float32))\n",
    "adata_u2.var['Spliced']   = False\n",
    "adata_s2.var['Spliced'] = True\n",
    "adata_2 = anndata.concat([adata_u2,adata_s2],axis=1)\n",
    "adata_2.layers[\"counts\"] = adata_2.X.copy() # preserve counts\n",
    "adata_2.obs = adata_u2.obs.copy()\n",
    "# set up anndata with biVI, specifying training layer\n",
    "biVI.biVI.setup_anndata(adata_2,layer=\"counts\")"
   ]
  },
  {
   "cell_type": "code",
   "execution_count": null,
   "metadata": {},
   "outputs": [],
   "source": [
    "model2 = biVI.biVI(adata_2,mode='Bursty',**model_args)"
   ]
  },
  {
   "cell_type": "code",
   "execution_count": null,
   "metadata": {},
   "outputs": [],
   "source": [
    "model2.train(max_epochs = max_epochs,\n",
    "                train_size = 0.9,\n",
    "                check_val_every_n_epoch  = 1,\n",
    "                plan_kwargs = plan_kwargs)"
   ]
  },
  {
   "cell_type": "markdown",
   "metadata": {},
   "source": [
    "#  Plot"
   ]
  },
  {
   "cell_type": "code",
   "execution_count": null,
   "metadata": {},
   "outputs": [],
   "source": [
    "# get parameters\n",
    "parameters = model.get_likelihood_parameters()\n",
    "parameters2 = model2.get_likelihood_parameters()\n",
    "\n",
    "bs_biVI = parameters['burst_size']\n",
    "bs_biVI2 = parameters2['burst_size']"
   ]
  },
  {
   "cell_type": "code",
   "execution_count": null,
   "metadata": {},
   "outputs": [],
   "source": [
    "es_intron_counts2.shape"
   ]
  },
  {
   "cell_type": "code",
   "execution_count": null,
   "metadata": {},
   "outputs": [],
   "source": [
    "# save parameters and counts\n",
    "parameters['seqFISH_burst_size'] = es_burst_sizes_subset1,\n",
    "parameters['gene_name'] = es_intron_subset1['geneID'].unique()\n",
    "parameters['cell_id'] = es_intron_subset1['unique_id'].unique()\n",
    "parameters['intron_counts'] = es_intron_counts1\n",
    "parameters['exon_counts'] = es_exon_counts1\n",
    "\n",
    "parameters2['seqFISH_burst_size'] = es_burst_sizes_subset2,\n",
    "parameters2['gene_name'] = es_intron_subset2['geneID'].unique()\n",
    "parameters2['cell_id'] = es_intron_subset2['unique_id'].unique()\n",
    "parameters2['intron_counts'] = es_intron_counts2\n",
    "parameters2['exon_counts'] = es_exon_counts2\n",
    "\n",
    "# and save\n",
    "with open('../results/E14_rep1_seqFISH_biVI_parameters_raw_introns_subset','wb') as file:\n",
    "    pickle.dump(parameters,file,protocol=pickle.HIGHEST_PROTOCOL)\n",
    "with open('../results/E14_rep2_seqFISH_biVI_parameters_raw_introns_subset','wb') as file:\n",
    "    pickle.dump(parameters2,file,protocol=pickle.HIGHEST_PROTOCOL)"
   ]
  },
  {
   "cell_type": "code",
   "execution_count": null,
   "metadata": {},
   "outputs": [],
   "source": []
  },
  {
   "cell_type": "markdown",
   "metadata": {},
   "source": [
    "# Plot saved parameters"
   ]
  },
  {
   "cell_type": "code",
   "execution_count": 15,
   "metadata": {},
   "outputs": [],
   "source": [
    "# load in to plot\n",
    "\n",
    "# and save\n",
    "with open('../results/E14_rep1_seqFISH_biVI_parameters_raw_introns_subset','rb') as file:\n",
    "    parameters = pickle.load(file)\n",
    "with open('../results/E14_rep2_seqFISH_biVI_parameters_raw_introns_subset','rb') as file:\n",
    "    parameters2 = pickle.load(file)\n",
    "    \n",
    "    \n",
    "es_burst_sizes_subset1 = parameters['seqFISH_burst_size'][0]\n",
    "bs_biVI = parameters['burst_size']\n",
    "\n",
    "es_burst_sizes_subset2 = parameters2['seqFISH_burst_size'][0]\n",
    "bs_biVI2 = parameters2['burst_size']"
   ]
  },
  {
   "cell_type": "code",
   "execution_count": 16,
   "metadata": {},
   "outputs": [
    {
     "name": "stdout",
     "output_type": "stream",
     "text": [
      "mESC marker genes:\n",
      "Tcf3\n",
      "Dppa4\n",
      "Sall3\n",
      "-------\n",
      "epithelial marker genes:\n",
      "Krt18\n",
      "Acta2\n",
      "Tagln\n"
     ]
    }
   ],
   "source": [
    "# ES from https://www.ncbi.nlm.nih.gov/pmc/articles/PMC6268870/\n",
    "# myoepithelial markers from https://www.biorxiv.org/content/10.1101/2020.11.06.371443v2.full\n",
    "es_MG = [\n",
    "'Tcf3',\n",
    "'Dppa4',\n",
    "'Sall3']\n",
    "\n",
    "\n",
    "epithelial_MG = [\n",
    "'Krt18',\n",
    "'Acta2',\n",
    "'Tagln'\n",
    "]\n",
    "\n",
    "mg_filt1 = [mg in es_MG for mg in parameters['gene_name']]\n",
    "mg_filt2 = [mg in es_MG for mg in parameters2['gene_name']]\n",
    "\n",
    "fibro_filt1 = [mg in fibro_MG for mg in parameters['gene_name']]\n",
    "fibro_filt2 = [mg in fibro_MG for mg in parameters2['gene_name']]\n",
    "\n",
    "epithelial_filt1 = [mg in epithelial_MG for mg in parameters['gene_name']]\n",
    "epithelial_filt2 = [mg in epithelial_MG for mg in parameters2['gene_name']]\n",
    "\n",
    "print('mESC marker genes:')\n",
    "for mg in es_MG:\n",
    "    if mg in parameters['gene_name']:\n",
    "        print(mg)\n",
    "\n",
    "print('-------') \n",
    "print('epithelial marker genes:')  \n",
    "for mg in epithelial_MG:\n",
    "    if mg in parameters['gene_name']:\n",
    "        print(mg)"
   ]
  },
  {
   "cell_type": "code",
   "execution_count": null,
   "metadata": {},
   "outputs": [],
   "source": [
    "fs=27\n",
    "save_path=True\n",
    "fig,ax = plt.subplots(1,1,figsize=(7,7))\n",
    "\n",
    "correlation_,p = pearsonr(np.log(np.mean(es_burst_sizes_subset1 ,axis=0)),np.log(np.mean(bs_biVI,axis=0)))\n",
    "plt.scatter(np.mean(es_burst_sizes_subset1 ,axis=0),np.mean(bs_biVI,axis=0),s=15,\n",
    "            edgecolor='gray',\n",
    "            alpha=0.5,\n",
    "            label='Rep 1')\n",
    "ax.set_xlabel('average seqFISH+ reported burst size',fontsize=fs)\n",
    "ax.set_ylabel('average $biVI$ burst size',fontsize=fs)\n",
    "ax.set_title(f'N = {len(np.mean(es_burst_sizes_subset1 ,axis=0))} (Rep 1), N = {len(np.mean(es_burst_sizes_subset2 ,axis=0))} (Rep 2)',fontsize=fs)\n",
    "ax.set_xscale('log')\n",
    "ax.set_yscale('log')\n",
    "ax.annotate(f'R: {correlation_:.3f}',(0.15*10**-2,4),\n",
    "            fontsize=fs,color=sns.color_palette()[0])\n",
    "ax.grid('lightgray')\n",
    "\n",
    "correlation_,p = pearsonr(np.log(np.mean(es_burst_sizes_subset2 ,axis=0)),np.log(np.mean(bs_biVI2,axis=0)))\n",
    "plt.scatter(np.mean(es_burst_sizes_subset2 ,axis=0),np.mean(bs_biVI2,axis=0),s=15,\n",
    "            edgecolor='gray',\n",
    "            alpha=0.5,\n",
    "            label='Rep 2')\n",
    "# ax[1].set_xlabel('seqFISH reported burstsize',fontsize=fs)\n",
    "# ax[1].set_ylabel('$biVI$ burstsize',fontsize=fs)\n",
    "# ax[1].set_title(f'E14 Rep2',fontsize=fs)\n",
    "# ax[1].set_xscale('log')\n",
    "# ax[1].set_yscale('log')\n",
    "ax.annotate(f'R: {correlation_:.3f}',(0.15*10**-2,2),\n",
    "            fontsize=fs,color=sns.color_palette()[1])\n",
    "plt.xticks(fontsize=20)\n",
    "plt.yticks(fontsize=20)\n",
    "\n",
    "\n",
    "# scatter marker genes\n",
    "plt.scatter(np.mean(es_burst_sizes_subset1 ,axis=0)[mg_filt1],np.mean(bs_biVI,axis=0)[mg_filt1],\n",
    "            s=110,\n",
    "            marker='^',\n",
    "            edgecolor='black',\n",
    "            alpha=0.9,\n",
    "            color = 'red',\n",
    "            label = 'mESC marker genes',\n",
    "            )\n",
    "\n",
    "plt.scatter(np.mean(es_burst_sizes_subset1 ,axis=0)[epithelial_filt1],np.mean(bs_biVI,axis=0)[epithelial_filt1],\n",
    "            s=110,\n",
    "            marker='^',\n",
    "            edgecolor='black',\n",
    "            alpha=0.9,\n",
    "            color = 'black',\n",
    "            label = 'epithelial marker genes',\n",
    "            )\n",
    "# ax.legend(fontsize=20,bbox_to_anchor=(1.,.7))\n",
    "\n",
    "\n",
    "plt.suptitle('Raw intron spots',fontsize=28)\n",
    "\n",
    "if save_path:\n",
    "    plt.savefig('figures/biVI_on_seqFISH_vs_seqFISH_burst_size_raw_introns',dpi=300,bbox_inches='tight')"
   ]
  },
  {
   "cell_type": "code",
   "execution_count": null,
   "metadata": {},
   "outputs": [],
   "source": [
    "print('Takei, raw introns')\n",
    "print('mESC marker genes:')\n",
    "print(parameters['gene_name'][mg_filt1])\n",
    "print('avg seqFISH burstsize',np.mean(es_burst_sizes_subset1,axis=0)[mg_filt1])\n",
    "print('avg biVI burstsize',np.mean(bs_biVI,axis=0)[mg_filt1])\n",
    "print('---------')\n",
    "print('epithelial marker genes:')\n",
    "print(parameters['gene_name'][epithelial_filt1])\n",
    "print('avg seqFISH burstsize',np.mean(es_burst_sizes_subset1,axis=0)[epithelial_filt1])\n",
    "print('avg biVI burstsize',np.mean(bs_biVI,axis=0)[epithelial_filt1])"
   ]
  },
  {
   "cell_type": "code",
   "execution_count": null,
   "metadata": {},
   "outputs": [],
   "source": [
    "# same but for adjusted introns\n",
    "\n",
    "# load in to plot\n",
    "\n",
    "# and save\n",
    "with open('../results/E14_rep1_seqFISH_biVI_parameters_adj_introns_subset','rb') as file:\n",
    "    parameters = pickle.load(file)\n",
    "with open('../results/E14_rep2_seqFISH_biVI_parameters_adj_introns_subset','rb') as file:\n",
    "    parameters2 = pickle.load(file)\n",
    "    \n",
    "    \n",
    "es_burst_sizes_subset1 = parameters['seqFISH_burst_size'][0]\n",
    "bs_biVI = parameters['burst_size']\n",
    "\n",
    "es_burst_sizes_subset2 = parameters2['seqFISH_burst_size'][0]\n",
    "bs_biVI2 = parameters2['burst_size']"
   ]
  },
  {
   "cell_type": "code",
   "execution_count": null,
   "metadata": {},
   "outputs": [],
   "source": [
    "\n",
    "mg_filt1 = [mg in es_MG for mg in parameters['gene_name']]\n",
    "mg_filt2 = [mg in es_MG for mg in parameters2['gene_name']]\n",
    "\n",
    "fibro_filt1 = [mg in fibro_MG for mg in parameters['gene_name']]\n",
    "fibro_filt2 = [mg in fibro_MG for mg in parameters2['gene_name']]\n",
    "\n",
    "epithelial_filt1 = [mg in epithelial_MG for mg in parameters['gene_name']]\n",
    "epithelial_filt2 = [mg in epithelial_MG for mg in parameters2['gene_name']]\n",
    "\n",
    "print('mESC marker genes:')\n",
    "for mg in es_MG:\n",
    "    if mg in parameters['gene_name']:\n",
    "        print(mg)\n",
    "\n",
    "print('-------') \n",
    "print('epithelial marker genes:')  \n",
    "for mg in epithelial_MG:\n",
    "    if mg in parameters['gene_name']:\n",
    "        print(mg)"
   ]
  },
  {
   "cell_type": "code",
   "execution_count": null,
   "metadata": {},
   "outputs": [],
   "source": [
    "fs=27\n",
    "save_path=True\n",
    "fig,ax = plt.subplots(1,1,figsize=(7,7))\n",
    "\n",
    "correlation_,p = pearsonr(np.log(np.mean(es_burst_sizes_subset1 ,axis=0)),np.log(np.mean(bs_biVI,axis=0)))\n",
    "plt.scatter(np.mean(es_burst_sizes_subset1 ,axis=0),np.mean(bs_biVI,axis=0),s=15,\n",
    "            edgecolor='gray',\n",
    "            alpha=0.5,\n",
    "            label='Rep 1')\n",
    "ax.set_xlabel('average seqFISH+ reported burst size',fontsize=fs)\n",
    "ax.set_ylabel('average $biVI$ burst size',fontsize=fs)\n",
    "ax.set_title(f'N = {len(np.mean(es_burst_sizes_subset1 ,axis=0))} (Rep 1), N = {len(np.mean(es_burst_sizes_subset2 ,axis=0))} (Rep 2)',fontsize=fs)\n",
    "ax.set_xscale('log')\n",
    "ax.set_yscale('log')\n",
    "ax.annotate(f'R: {correlation_:.3f}',(0.15*10**-2,4),\n",
    "            fontsize=fs,color=sns.color_palette()[0])\n",
    "ax.grid('lightgray')\n",
    "\n",
    "correlation_,p = pearsonr(np.log(np.mean(es_burst_sizes_subset2 ,axis=0)),np.log(np.mean(bs_biVI2,axis=0)))\n",
    "plt.scatter(np.mean(es_burst_sizes_subset2 ,axis=0),np.mean(bs_biVI2,axis=0),s=15,\n",
    "            edgecolor='gray',\n",
    "            alpha=0.5,\n",
    "            label='Rep 2')\n",
    "# ax[1].set_xlabel('seqFISH reported burstsize',fontsize=fs)\n",
    "# ax[1].set_ylabel('$biVI$ burstsize',fontsize=fs)\n",
    "# ax[1].set_title(f'E14 Rep2',fontsize=fs)\n",
    "# ax[1].set_xscale('log')\n",
    "# ax[1].set_yscale('log')\n",
    "ax.annotate(f'R: {correlation_:.3f}',(0.15*10**-2,2),\n",
    "            fontsize=fs,color=sns.color_palette()[1])\n",
    "plt.xticks(fontsize=20)\n",
    "plt.yticks(fontsize=20)\n",
    "\n",
    "\n",
    "# scatter marker genes\n",
    "plt.scatter(np.mean(es_burst_sizes_subset1 ,axis=0)[mg_filt1],np.mean(bs_biVI,axis=0)[mg_filt1],\n",
    "            s=110,\n",
    "            marker='^',\n",
    "            edgecolor='black',\n",
    "            alpha=0.9,\n",
    "            color = 'red',\n",
    "            label = 'mESC marker genes',\n",
    "            )\n",
    "\n",
    "plt.scatter(np.mean(es_burst_sizes_subset1,axis=0)[epithelial_filt1],np.mean(bs_biVI,axis=0)[epithelial_filt1],\n",
    "            s=110,\n",
    "            marker='^',\n",
    "            edgecolor='black',\n",
    "            alpha=0.9,\n",
    "            color = 'black',\n",
    "            label = 'epithelial marker genes',\n",
    "            )\n",
    "# ax.legend(fontsize=20,bbox_to_anchor=(1.,.7))\n",
    "\n",
    "\n",
    "plt.suptitle('Adjusted intron spots',fontsize=28)\n",
    "\n",
    "# if save_path:\n",
    "#     plt.savefig('results/biVI_on_seqFISH_vs_seqFISH_burst_size_adj_introns',dpi=300,bbox_inches='tight')"
   ]
  },
  {
   "cell_type": "code",
   "execution_count": null,
   "metadata": {},
   "outputs": [],
   "source": [
    "print('Takei, adjusted introns')\n",
    "print('mESC marker genes:')\n",
    "print(parameters['gene_name'][mg_filt1])\n",
    "print('avg seqFISH burstsize',np.mean(es_burst_sizes_subset1,axis=0)[mg_filt1])\n",
    "print('avg biVI burstsize',np.mean(bs_biVI,axis=0)[mg_filt1])\n",
    "print('---------')\n",
    "print('epithelial marker genes:')\n",
    "print(parameters['gene_name'][epithelial_filt1])\n",
    "print('avg seqFISH burstsize',np.mean(es_burst_sizes_subset1,axis=0)[epithelial_filt1])\n",
    "print('avg biVI burstsize',np.mean(bs_biVI,axis=0)[epithelial_filt1])"
   ]
  },
  {
   "cell_type": "markdown",
   "metadata": {},
   "source": [
    "--------\n",
    "\n",
    "# Repeating analysis and inference on NMuMG cultured cells"
   ]
  },
  {
   "cell_type": "code",
   "execution_count": null,
   "metadata": {},
   "outputs": [],
   "source": [
    "!ls ../data/E14_rep1/transcriptomic-data/NMuMG-replicate1"
   ]
  },
  {
   "cell_type": "code",
   "execution_count": null,
   "metadata": {},
   "outputs": [],
   "source": [
    "# load in data\n",
    "\n",
    "count_dir = '../data/E14_rep1/transcriptomic-data/NMuMG-replicate1/'\n",
    "nm_intron_raw = pd.read_csv(os.path.join(count_dir,'NMuMG-replicate1-intron-seqFISH-ch2.csv'))\n",
    "nm_exon_raw = pd.read_csv(os.path.join(count_dir,'NMuMG-replicate1-mRNA-seqFISH-ch1.csv'))\n",
    "\n",
    "\n",
    "\n",
    "# add unique ids\n",
    "nm_intron_raw['unique_id'] = 'cell' + nm_intron_raw['cellID'].astype(str)+'_fov'+nm_intron_raw['fov'].astype('str')\n",
    "nm_exon_raw['unique_id'] = 'cell' + nm_exon_raw ['cellID'].astype(str)+'_fov'+nm_exon_raw['fov'].astype('str')"
   ]
  },
  {
   "cell_type": "code",
   "execution_count": null,
   "metadata": {},
   "outputs": [],
   "source": [
    "# subset reads, for now work with replicate 1\n",
    "mask = nm_exon_raw['geneID'].isin(nm_intron_raw['geneID'].unique())\n",
    "nm_exon_subset = nm_exon_raw[mask]\n",
    "\n",
    "mask = nm_intron_raw['geneID'].isin(nm_exon_raw['geneID'].unique())\n",
    "nm_intron_subset = nm_intron_raw[mask]\n"
   ]
  },
  {
   "cell_type": "code",
   "execution_count": null,
   "metadata": {},
   "outputs": [],
   "source": [
    "nm_intron_counts = get_count_matrix(nm_intron_subset)\n",
    "nm_exon_counts = get_count_matrix(nm_exon_subset)\n",
    "nm_adjusted_intron_counts = get_adjusted_count_matrix(nm_intron_subset)"
   ]
  },
  {
   "cell_type": "code",
   "execution_count": null,
   "metadata": {},
   "outputs": [],
   "source": [
    "nm_burst_sizes_subset = get_burst_size_per_cell(nm_intron_subset)"
   ]
  },
  {
   "cell_type": "markdown",
   "metadata": {},
   "source": [
    "### Fit **biVI**\n",
    "\n",
    "\n",
    "Without adjusting for intensity."
   ]
  },
  {
   "cell_type": "code",
   "execution_count": null,
   "metadata": {},
   "outputs": [],
   "source": [
    "# create anndata, first with rep1\n",
    "adata_u = anndata.AnnData(csr_matrix(nm_intron_counts, dtype=np.float32))\n",
    "adata_s = anndata.AnnData(csr_matrix(nm_exon_counts, dtype=np.float32))\n",
    "\n",
    "adata_u.var['Spliced'] = False\n",
    "adata_s.var['Spliced'] = True\n",
    "\n",
    "adata_1 = anndata.concat([adata_u,adata_s],axis=1)\n",
    "adata_1.layers[\"counts\"] = adata_1.X.copy() # preserve counts\n",
    "adata_1.obs = adata_u.obs.copy()\n",
    "\n",
    "# set up anndata with biVI, specifying training layer\n",
    "biVI.biVI.setup_anndata(adata_1,layer=\"counts\")"
   ]
  },
  {
   "cell_type": "code",
   "execution_count": null,
   "metadata": {},
   "outputs": [],
   "source": [
    "model = biVI.biVI(adata_1,mode='Bursty',**model_args)"
   ]
  },
  {
   "cell_type": "code",
   "execution_count": null,
   "metadata": {},
   "outputs": [],
   "source": [
    "model.train(max_epochs = max_epochs,\n",
    "                train_size = 0.9,\n",
    "                check_val_every_n_epoch  = 1,\n",
    "                plan_kwargs = plan_kwargs)"
   ]
  },
  {
   "cell_type": "code",
   "execution_count": null,
   "metadata": {},
   "outputs": [],
   "source": [
    "# get parameters\n",
    "parameters = model.get_likelihood_parameters()\n",
    "bs_biVI = parameters['burst_size']\n",
    "\n",
    "# save parameters and counts\n",
    "parameters['seqFISH_burst_size'] = nm_burst_sizes_subset,\n",
    "parameters['gene_name'] = nm_intron_subset['geneID'].unique()\n",
    "parameters['cell_id'] = nm_intron_subset['unique_id'].unique()\n",
    "parameters['intron_counts'] = nm_intron_counts\n",
    "parameters['exon_counts'] = nm_exon_counts\n",
    "\n",
    "\n",
    "\n",
    "# and save\n",
    "with open('../results/NMuMG_rep1_seqFISH_biVI_parameters_raw_introns_subset','wb') as file:\n",
    "    pickle.dump(parameters,file,protocol=pickle.HIGHEST_PROTOCOL)"
   ]
  },
  {
   "cell_type": "markdown",
   "metadata": {},
   "source": [
    "Same, but with adjusted introns."
   ]
  },
  {
   "cell_type": "code",
   "execution_count": null,
   "metadata": {},
   "outputs": [],
   "source": [
    "# create anndata, first with rep1\n",
    "adata_u = anndata.AnnData(csr_matrix(nm_adjusted_intron_counts, dtype=np.float32))\n",
    "adata_s = anndata.AnnData(csr_matrix(nm_exon_counts, dtype=np.float32))\n",
    "\n",
    "adata_u.var['Spliced'] = False\n",
    "adata_s.var['Spliced'] = True\n",
    "\n",
    "adata_1 = anndata.concat([adata_u,adata_s],axis=1)\n",
    "adata_1.layers[\"counts\"] = adata_1.X.copy() # preserve counts\n",
    "adata_1.obs = adata_u.obs.copy()\n",
    "\n",
    "# set up anndata with biVI, specifying training layer\n",
    "biVI.biVI.setup_anndata(adata_1,layer=\"counts\")"
   ]
  },
  {
   "cell_type": "code",
   "execution_count": null,
   "metadata": {},
   "outputs": [],
   "source": [
    "model = biVI.biVI(adata_1,mode='Bursty',**model_args)\n",
    "model.train(max_epochs = max_epochs,\n",
    "                train_size = 0.9,\n",
    "                check_val_every_n_epoch  = 1,\n",
    "                plan_kwargs = plan_kwargs)"
   ]
  },
  {
   "cell_type": "code",
   "execution_count": null,
   "metadata": {},
   "outputs": [],
   "source": [
    "# get parameters\n",
    "parameters = model.get_likelihood_parameters()\n",
    "bs_biVI = parameters['burst_size']\n",
    "\n",
    "# save parameters and counts\n",
    "parameters['seqFISH_burst_size'] = nm_burst_sizes_subset,\n",
    "parameters['gene_name'] = nm_intron_subset['geneID'].unique()\n",
    "parameters['cell_id'] = nm_intron_subset['unique_id'].unique()\n",
    "parameters['adjusted_intron_counts'] = nm_adjusted_intron_counts\n",
    "parameters['exon_counts'] = nm_exon_counts\n",
    "\n",
    "\n",
    "\n",
    "# and save\n",
    "with open('../results/NMuMG_rep1_seqFISH_biVI_parameters_adjusted_introns_subset','wb') as file:\n",
    "    pickle.dump(parameters,file,protocol=pickle.HIGHEST_PROTOCOL)"
   ]
  },
  {
   "cell_type": "markdown",
   "metadata": {},
   "source": [
    "## Plot NMuMG inferred parameters"
   ]
  },
  {
   "cell_type": "code",
   "execution_count": null,
   "metadata": {},
   "outputs": [],
   "source": [
    "# load in to plot\n",
    "\n",
    "# and save\n",
    "with open('../results/NMuMG_rep1_seqFISH_biVI_parameters_raw_introns_subset','rb') as file:\n",
    "    parameters = pickle.load(file)\n",
    "    \n",
    "nm_burst_sizes_subset1 = parameters['seqFISH_burst_size'][0]\n",
    "nm_bs_biVI = parameters['burst_size']\n"
   ]
  },
  {
   "cell_type": "code",
   "execution_count": null,
   "metadata": {},
   "outputs": [],
   "source": [
    "mg_filt1 = [mg in es_MG for mg in parameters['gene_name']]\n",
    "epithelial_filt1 = [mg in epithelial_MG for mg in parameters['gene_name']]\n",
    "\n",
    "print('mESC marker genes:')\n",
    "for mg in es_MG:\n",
    "    if mg in parameters['gene_name']:\n",
    "        print(mg)\n",
    "\n",
    "print('-------') \n",
    "print('epithelial marker genes:')  \n",
    "for mg in epithelial_MG:\n",
    "    if mg in parameters['gene_name']:\n",
    "        print(mg)"
   ]
  },
  {
   "cell_type": "code",
   "execution_count": null,
   "metadata": {},
   "outputs": [],
   "source": [
    "fs=27\n",
    "save_path=True\n",
    "fig,ax = plt.subplots(1,1,figsize=(7,7))\n",
    "\n",
    "\n",
    "correlation_,p = pearsonr(np.log(np.mean(nm_burst_sizes_subset1 ,axis=0)),np.log(np.mean(nm_bs_biVI,axis=0)))\n",
    "plt.scatter(np.mean(nm_burst_sizes_subset1,axis=0),np.mean(nm_bs_biVI,axis=0),s=15,\n",
    "            edgecolor='gray',\n",
    "            alpha=0.5)\n",
    "# ax[1].set_xlabel('seqFISH reported burstsize',fontsize=fs)\n",
    "# ax[1].set_ylabel('$biVI$ burstsize',fontsize=fs)\n",
    "# ax[1].set_title(f'E14 Rep2',fontsize=fs)\n",
    "# ax[1].set_xscale('log')\n",
    "# ax[1].set_yscale('log')\n",
    "ax.annotate(f'R: {correlation_:.3f}',(0.23*10**-2,5),\n",
    "            fontsize=fs,color=sns.color_palette()[0])\n",
    "plt.xticks(fontsize=20)\n",
    "plt.yticks(fontsize=20)\n",
    "ax.set_xlabel('average seqFISH reported burst size',fontsize=fs)\n",
    "ax.set_ylabel('average $biVI$ burst size',fontsize=fs)\n",
    "ax.set_title(f'N = {len(np.mean(nm_burst_sizes_subset1 ,axis=0))}',fontsize=fs)\n",
    "ax.set_xscale('log')\n",
    "ax.set_yscale('log')\n",
    "\n",
    "ax.grid('lightgray')\n",
    "\n",
    "# scatter marker genes\n",
    "plt.scatter(np.mean(nm_burst_sizes_subset1 ,axis=0)[mg_filt1],np.mean(nm_bs_biVI,axis=0)[mg_filt1],\n",
    "            s=110,\n",
    "            marker='^',\n",
    "            edgecolor='black',\n",
    "            alpha=0.9,\n",
    "            color = 'red',\n",
    "            label = 'mESC marker genes',\n",
    "            )\n",
    "\n",
    "plt.scatter(np.mean(nm_burst_sizes_subset1,axis=0)[epithelial_filt1],np.mean(nm_bs_biVI,axis=0)[epithelial_filt1],\n",
    "            s=110,\n",
    "            marker='^',\n",
    "            edgecolor='black',\n",
    "            alpha=0.9,\n",
    "            color = 'black',\n",
    "            label = 'epithelial marker genes',\n",
    "            )\n",
    "# ax.legend(fontsize=20,bbox_to_anchor=(1.,.7))\n",
    "\n",
    "\n",
    "plt.suptitle('Raw intron spots',fontsize=28)\n",
    "\n",
    "# if save_path:\n",
    "#     plt.savefig('results/NMuMG_biVI_on_seqFISH_vs_seqFISH_burst_size_raw_introns',dpi=300,bbox_inches='tight')"
   ]
  },
  {
   "cell_type": "code",
   "execution_count": null,
   "metadata": {},
   "outputs": [],
   "source": [
    "print('Takei, NMuMG raw introns')\n",
    "print('mESC marker genes:')\n",
    "print(parameters['gene_name'][mg_filt1])\n",
    "print('avg seqFISH burstsize',np.mean(nm_burst_sizes_subset1,axis=0)[mg_filt1])\n",
    "print('avg biVI burstsize',np.mean(nm_bs_biVI,axis=0)[mg_filt1])\n",
    "print('---------')\n",
    "print('epithelial marker genes:')\n",
    "print(parameters['gene_name'][epithelial_filt1])\n",
    "print('avg seqFISH burstsize',np.mean(nm_burst_sizes_subset1,axis=0)[epithelial_filt1])\n",
    "print('avg biVI burstsize',np.mean(nm_bs_biVI,axis=0)[epithelial_filt1])"
   ]
  },
  {
   "cell_type": "markdown",
   "metadata": {},
   "source": [
    "### Same for adjusted introns."
   ]
  },
  {
   "cell_type": "code",
   "execution_count": null,
   "metadata": {},
   "outputs": [],
   "source": [
    "# load in to plot\n",
    "\n",
    "# and save\n",
    "with open('../results/NMuMG_rep1_seqFISH_biVI_parameters_adjusted_introns_subset','rb') as file:\n",
    "    parameters = pickle.load(file)\n",
    "    \n",
    "nm_burst_sizes_subset1 = parameters['seqFISH_burst_size'][0]\n",
    "nm_bs_biVI = parameters['burst_size']\n"
   ]
  },
  {
   "cell_type": "code",
   "execution_count": null,
   "metadata": {},
   "outputs": [],
   "source": [
    "mg_filt1 = [mg in es_MG for mg in parameters['gene_name']]\n",
    "epithelial_filt1 = [mg in epithelial_MG for mg in parameters['gene_name']]\n",
    "\n",
    "print('mESC marker genes:')\n",
    "for mg in es_MG:\n",
    "    if mg in parameters['gene_name']:\n",
    "        print(mg)\n",
    "\n",
    "print('-------') \n",
    "print('epithelial marker genes:')  \n",
    "for mg in epithelial_MG:\n",
    "    if mg in parameters['gene_name']:\n",
    "        print(mg)"
   ]
  },
  {
   "cell_type": "code",
   "execution_count": null,
   "metadata": {},
   "outputs": [],
   "source": [
    "fs=27\n",
    "save_path=True\n",
    "fig,ax = plt.subplots(1,1,figsize=(7,7))\n",
    "\n",
    "\n",
    "correlation_,p = pearsonr(np.log(np.mean(nm_burst_sizes_subset1 ,axis=0)),np.log(np.mean(nm_bs_biVI,axis=0)))\n",
    "plt.scatter(np.mean(nm_burst_sizes_subset1,axis=0),np.mean(nm_bs_biVI,axis=0),s=15,\n",
    "            edgecolor='gray',\n",
    "            alpha=0.5)\n",
    "# ax[1].set_xlabel('seqFISH reported burstsize',fontsize=fs)\n",
    "# ax[1].set_ylabel('$biVI$ burstsize',fontsize=fs)\n",
    "# ax[1].set_title(f'E14 Rep2',fontsize=fs)\n",
    "# ax[1].set_xscale('log')\n",
    "# ax[1].set_yscale('log')\n",
    "ax.annotate(f'R: {correlation_:.3f}',(0.23*10**-2,11),\n",
    "            fontsize=fs,color=sns.color_palette()[0])\n",
    "plt.xticks(fontsize=20)\n",
    "plt.yticks(fontsize=20)\n",
    "ax.set_xlabel('average seqFISH reported burst size',fontsize=fs)\n",
    "ax.set_ylabel('average $biVI$ burst size',fontsize=fs)\n",
    "ax.set_title(f'N = {len(np.mean(nm_burst_sizes_subset1 ,axis=0))}',fontsize=fs)\n",
    "ax.set_xscale('log')\n",
    "ax.set_yscale('log')\n",
    "ax.grid('lightgray')\n",
    "\n",
    "# scatter marker genes\n",
    "plt.scatter(np.mean(nm_burst_sizes_subset1 ,axis=0)[mg_filt1],np.mean(nm_bs_biVI,axis=0)[mg_filt1],\n",
    "            s=110,\n",
    "            marker='^',\n",
    "            edgecolor='black',\n",
    "            alpha=0.9,\n",
    "            color = 'red',\n",
    "            label = 'mESC marker genes',\n",
    "            )\n",
    "\n",
    "plt.scatter(np.mean(nm_burst_sizes_subset1,axis=0)[epithelial_filt1],np.mean(nm_bs_biVI,axis=0)[epithelial_filt1],\n",
    "            s=110,\n",
    "            marker='^',\n",
    "            edgecolor='black',\n",
    "            alpha=0.9,\n",
    "            color = 'black',\n",
    "            label = 'epithelial marker genes',\n",
    "            )\n",
    "ax.legend(fontsize=20,bbox_to_anchor=(1.,.7))\n",
    "\n",
    "\n",
    "plt.suptitle('Adjusted intron spots',fontsize=28)\n",
    "\n",
    "# if save_path:\n",
    "#     plt.savefig('results/NMuMG_biVI_on_seqFISH_vs_seqFISH_burst_size_adjusted_introns',dpi=300,bbox_inches='tight')"
   ]
  },
  {
   "cell_type": "code",
   "execution_count": null,
   "metadata": {},
   "outputs": [],
   "source": [
    "print('Takei, NMuMG adjusted introns')\n",
    "print('mESC marker genes:')\n",
    "print(parameters['gene_name'][mg_filt1])\n",
    "print('avg seqFISH burstsize',np.mean(nm_burst_sizes_subset1,axis=0)[mg_filt1])\n",
    "print('avg biVI burstsize',np.mean(nm_bs_biVI,axis=0)[mg_filt1])\n",
    "print('---------')\n",
    "print('epithelial marker genes:')\n",
    "print(parameters['gene_name'][epithelial_filt1])\n",
    "print('avg seqFISH burstsize',np.mean(nm_burst_sizes_subset1,axis=0)[epithelial_filt1])\n",
    "print('avg biVI burstsize',np.mean(nm_bs_biVI,axis=0)[epithelial_filt1])"
   ]
  },
  {
   "cell_type": "code",
   "execution_count": null,
   "metadata": {},
   "outputs": [],
   "source": []
  }
 ],
 "metadata": {
  "kernelspec": {
   "display_name": "Python 3",
   "language": "python",
   "name": "python3"
  },
  "language_info": {
   "codemirror_mode": {
    "name": "ipython",
    "version": 3
   },
   "file_extension": ".py",
   "mimetype": "text/x-python",
   "name": "python",
   "nbconvert_exporter": "python",
   "pygments_lexer": "ipython3",
   "version": "3.8.10"
  }
 },
 "nbformat": 4,
 "nbformat_minor": 4
}
