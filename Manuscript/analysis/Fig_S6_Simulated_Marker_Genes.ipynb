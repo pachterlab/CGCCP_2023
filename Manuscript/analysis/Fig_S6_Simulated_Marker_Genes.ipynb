{
 "cells": [
  {
   "cell_type": "markdown",
   "metadata": {},
   "source": [
    "# Bayes factor hypothesis testing on simulated data\n",
    "\n",
    "\n",
    "See if BF accurately picks up on cell type marker genes.\n",
    "\n",
    "Also, see how inferred means for *biVI* and *scVI* compare to the ground truth means. \n",
    "\n",
    "\n",
    "For now, I will ignore test vs. train and treat all together.\n"
   ]
  },
  {
   "cell_type": "code",
   "execution_count": 1,
   "metadata": {},
   "outputs": [
    {
     "name": "stderr",
     "output_type": "stream",
     "text": [
      "Global seed set to 0\n",
      "/home/tara/.local/lib/python3.8/site-packages/pytorch_lightning/utilities/warnings.py:53: LightningDeprecationWarning: pytorch_lightning.utilities.warnings.rank_zero_deprecation has been deprecated in v1.6 and will be removed in v1.8. Use the equivalent function from the pytorch_lightning.utilities.rank_zero module instead.\n",
      "  new_rank_zero_deprecation(\n",
      "/home/tara/.local/lib/python3.8/site-packages/pytorch_lightning/utilities/warnings.py:58: LightningDeprecationWarning: The `pytorch_lightning.loggers.base.rank_zero_experiment` is deprecated in v1.7 and will be removed in v1.9. Please use `pytorch_lightning.loggers.logger.rank_zero_experiment` instead.\n",
      "  return new_rank_zero_deprecation(*args, **kwargs)\n"
     ]
    },
    {
     "name": "stdout",
     "output_type": "stream",
     "text": [
      "0.18.0\n"
     ]
    }
   ],
   "source": [
    "# system\n",
    "import sys, os\n",
    "sys.path.insert(0,'../../BIVI/')\n",
    "\n",
    "# timing\n",
    "import time\n",
    "\n",
    "# numbers\n",
    "import numpy as np\n",
    "import torch\n",
    "import pandas as pd\n",
    "import pickle\n",
    "\n",
    "# sc \n",
    "import anndata\n",
    "\n",
    "# plots\n",
    "import matplotlib.pyplot as plt\n",
    "import seaborn as sns\n",
    "cmap = plt.get_cmap('Purples')\n",
    "\n",
    "# biVI\n",
    "import biVI\n",
    "import scvi\n",
    "print(scvi.__version__)\n",
    "\n",
    "\n",
    "\n",
    "# reproducibility, set random seeds\n",
    "scvi._settings.ScviConfig.seed=(8675309)\n",
    "torch.manual_seed(8675309)\n",
    "np.random.seed(8675309)"
   ]
  },
  {
   "cell_type": "code",
   "execution_count": 2,
   "metadata": {},
   "outputs": [
    {
     "name": "stderr",
     "output_type": "stream",
     "text": [
      "/usr/local/lib/python3.8/dist-packages/anndata/_core/anndata.py:121: ImplicitModificationWarning: Transforming to str index.\n",
      "  warnings.warn(\"Transforming to str index.\", ImplicitModificationWarning)\n"
     ]
    }
   ],
   "source": [
    "# load in data\n",
    "name = 'bursty_20ct_many'\n",
    "data_dir = '../data/simulated_data/'\n",
    "\n",
    "with open(f'../results/{name}_results_dict.pickle', 'rb') as results_file:\n",
    "    results_dict = pickle.load(results_file)\n",
    "\n",
    "cell_types = results_dict.pop('Cell Type')\n",
    "cluster_assignments_full = np.array([int(ct[2:]) for ct in cell_types])\n",
    "unique_cell_types = np.unique(np.array(cell_types))\n",
    "\n",
    "\n",
    "\n",
    "# read in adata and subset to test or train data\n",
    "adata = anndata.read_loom(data_dir+f'{name}.loom')\n",
    "    "
   ]
  },
  {
   "cell_type": "code",
   "execution_count": 3,
   "metadata": {},
   "outputs": [],
   "source": [
    "genes_unspliced = adata.var.index.tolist()\n",
    "genes_unspliced[2000:] = [0]*2000\n",
    "genes_spliced = adata.var.index.tolist()\n",
    "genes_spliced[:2000] = [0]*2000\n",
    "genes = np.array(adata.var.index)[:2000]"
   ]
  },
  {
   "cell_type": "code",
   "execution_count": 4,
   "metadata": {},
   "outputs": [
    {
     "name": "stdout",
     "output_type": "stream",
     "text": [
      "\u001b[34mINFO    \u001b[0m File ..\u001b[35m/../results/Bursty_bursty_20ct_many_MODEL/\u001b[0m\u001b[95mmodel.pt\u001b[0m already downloaded                              \n",
      "{'n_input': 4000, 'n_hidden': 128, 'n_latent': 10, 'n_layers': 3, 'dropout_rate': 0.1, 'dispersion': 'gene', 'latent_distribution': 'normal', 'log_variational': True}\n",
      "Initiating biVAE\n",
      "Mode: Bursty, Decoder: non-linear\n",
      "\u001b[34mINFO    \u001b[0m File ..\u001b[35m/../results/scVI_bursty_20ct_many_MODEL/\u001b[0m\u001b[95mmodel.pt\u001b[0m already downloaded                                \n",
      "\u001b[34mINFO    \u001b[0m File ..\u001b[35m/../results/Constitutive_bursty_20ct_many_MODEL/\u001b[0m\u001b[95mmodel.pt\u001b[0m already downloaded                        \n",
      "{'n_input': 4000, 'n_hidden': 128, 'n_latent': 10, 'n_layers': 3, 'dropout_rate': 0.1, 'dispersion': 'gene', 'latent_distribution': 'normal', 'log_variational': True}\n",
      "Initiating biVAE\n",
      "Mode: Poisson, Decoder: non-linear\n",
      "\u001b[34mINFO    \u001b[0m File ..\u001b[35m/../results/Extrinsic_bursty_20ct_many_MODEL/\u001b[0m\u001b[95mmodel.pt\u001b[0m already downloaded                           \n",
      "{'n_input': 4000, 'n_hidden': 128, 'n_latent': 10, 'n_layers': 3, 'dropout_rate': 0.1, 'dispersion': 'gene', 'latent_distribution': 'normal', 'log_variational': True}\n",
      "Initiating biVAE\n",
      "Mode: NBcorr, Decoder: non-linear\n"
     ]
    }
   ],
   "source": [
    "# load in trained models\n",
    "model1 = biVI.biVI.load(f\"../results/Bursty_{name}_MODEL\", adata=adata, use_gpu = True)\n",
    "model2 = scvi.model.SCVI.load(f\"../results/scVI_{name}_MODEL\", adata=adata, use_gpu = True)\n",
    "model3 = biVI.biVI.load(f\"../results/Constitutive_{name}_MODEL\", adata=adata, use_gpu = True)\n",
    "model4 = biVI.biVI.load(f\"../results/Extrinsic_{name}_MODEL\", adata=adata, use_gpu = True)"
   ]
  },
  {
   "cell_type": "markdown",
   "metadata": {},
   "source": [
    "# Bayes factor hypothesis, one CT vs. rest"
   ]
  },
  {
   "cell_type": "code",
   "execution_count": 5,
   "metadata": {},
   "outputs": [],
   "source": [
    "# wrapper functions for nice comparisons\n",
    "\n",
    "# getting BF dictionaries\n",
    "def get_BF_dict(delta,n_samples = 10):\n",
    "    \n",
    "\n",
    "    scVI_BF_DE_built = model2.differential_expression(adata, groupby = \"Cell Type\", m_permutation = 10000,\n",
    "                                           mode = \"change\", delta = delta, n_samples = n_samples)\n",
    "    \n",
    "    \n",
    "    # biVI \n",
    "    batch_size = None\n",
    "    bursty_BF_DE = {ct : {} for ct in unique_cell_types}\n",
    "    const_BF_DE = {ct : {} for ct in unique_cell_types}\n",
    "    ext_BF_DE = {ct : {} for ct in unique_cell_types}\n",
    "    scVI_BF_DE = {ct : {} for ct in unique_cell_types}\n",
    "\n",
    "    for cell_type in unique_cell_types:\n",
    "    \n",
    "        print(cell_type)\n",
    "        print(f'working on cell_type : {cell_type}')\n",
    "        idx1 = np.arange(len(cell_types))[cell_types == cell_type]\n",
    "        idx2 =  np.arange(len(cell_types))[cell_types != cell_type]\n",
    "\n",
    "\n",
    "        torch.cuda.empty_cache()\n",
    "        # biVI bursty\n",
    "        bursty_BF_DE[cell_type] = model1.get_bayes_factors(adata,idx1,idx2,\n",
    "                                                     n_samples_1 = n_samples,\n",
    "                                                     n_samples_2 = n_samples,\n",
    "                                                     n_comparisons = 10000,\n",
    "                                                     return_df = True,\n",
    "                                                     delta = delta,\n",
    "                                                     batch_size = batch_size)\n",
    "        print(f'The keys for cell type {cell_type} are',bursty_BF_DE[cell_type].keys())\n",
    "    \n",
    "    \n",
    "        # scVI with my function\n",
    "        params1 = model2.get_normalized_expression(adata[idx1],\n",
    "                                               n_samples = n_samples, \n",
    "                                               return_mean = False)\n",
    "        params2 = model2.get_normalized_expression(adata[idx2],\n",
    "                                               n_samples = n_samples, \n",
    "                                               return_mean = False)\n",
    "    \n",
    "        params_dict_1 = {}\n",
    "        params_dict_2 = {}\n",
    "        params_dict_1['norm_unspliced_mean'] = params1[:,:,:2000]\n",
    "        params_dict_1['norm_spliced_mean'] = params1[:,:,2000:]\n",
    "        params_dict_2['norm_unspliced_mean'] = params2[:,:,:2000]\n",
    "        params_dict_2['norm_spliced_mean'] = params2[:,:,2000:]\n",
    "    \n",
    "        torch.cuda.empty_cache()\n",
    "        scVI_BF_DE[cell_type] = model1.get_bayes_factors(adata,idx1,idx2,\n",
    "                                                     n_samples_1 = n_samples,\n",
    "                                                     n_samples_2 = n_samples,\n",
    "                                                     n_comparisons = 10000,\n",
    "                                                     return_df = True,\n",
    "                                                     delta = delta,\n",
    "                                                     params_dict_1 = params_dict_1,\n",
    "                                                     params_dict_2 = params_dict_2,\n",
    "                                                     batch_size = batch_size)\n",
    "    \n",
    "        torch.cuda.empty_cache()\n",
    "        const_BF_DE[cell_type] = model3.get_bayes_factors(adata,idx1,idx2,\n",
    "                                                     n_samples_1 = n_samples,\n",
    "                                                     n_samples_2 = n_samples,\n",
    "                                                     n_comparisons = 10000,\n",
    "                                                     return_df = True,\n",
    "                                                     delta = delta,\n",
    "                                                     batch_size = batch_size)\n",
    "    \n",
    "        torch.cuda.empty_cache()\n",
    "        ext_BF_DE[cell_type] = model4.get_bayes_factors(adata,idx1,idx2,\n",
    "                                                     n_samples_1 = n_samples,\n",
    "                                                     n_samples_2 = n_samples,\n",
    "                                                     n_comparisons = 10000,\n",
    "                                                     return_df = True,\n",
    "                                                     delta = delta,\n",
    "                                                     batch_size = batch_size)\n",
    "        \n",
    "        \n",
    "    return(bursty_BF_DE,const_BF_DE,ext_BF_DE,scVI_BF_DE,scVI_BF_DE_built)"
   ]
  },
  {
   "cell_type": "code",
   "execution_count": 6,
   "metadata": {},
   "outputs": [],
   "source": [
    "# getting DE genes\n",
    "def get_DE_gene_dict(bursty_BF_DE,const_BF_DE,ext_BF_DE,scVI_BF_DE,scVI_BF_DE_built,\n",
    "                    BF_THRESH = 0.7):\n",
    "    \n",
    "    bursty_sig_BF_genes = {ct : {} for ct in unique_cell_types}\n",
    "    scVI_sig_BF_genes = {ct : {} for ct in unique_cell_types}\n",
    "    const_sig_BF_genes = {ct : {} for ct in unique_cell_types}\n",
    "    ext_sig_BF_genes = {ct : {} for ct in unique_cell_types}\n",
    "\n",
    "    scVI_sig_BF_genes_built = {ct : {} for ct in unique_cell_types}\n",
    "\n",
    "\n",
    "    for cell_type in unique_cell_types:\n",
    "        print(cell_type)\n",
    "        idx_scVI = np.array(scVI_BF_DE_built[(scVI_BF_DE_built['group1']==cell_type) & (scVI_BF_DE_built['bayes_factor']>BF_THRESH)].index,dtype=int)\n",
    "\n",
    "        sig_genes_unspliced = list(map(genes_unspliced.__getitem__,idx_scVI))\n",
    "        sig_genes_unspliced = [g for g in sig_genes_unspliced if g != 0]\n",
    "    \n",
    "        sig_genes_spliced = list(map(genes_spliced.__getitem__,idx_scVI))\n",
    "        sig_genes_spliced = [g for g in sig_genes_spliced if g != 0]\n",
    "    \n",
    "    \n",
    "        scVI_sig_BF_genes_built[cell_type]['norm_unspliced_mean'] = sig_genes_unspliced\n",
    "        scVI_sig_BF_genes_built[cell_type]['norm_spliced_mean'] = sig_genes_spliced\n",
    "    \n",
    "        for param in ['norm_unspliced_mean','norm_spliced_mean']:\n",
    "            df = bursty_BF_DE[cell_type][param]\n",
    "        \n",
    "            idx_biVI = np.array(df[np.log(df['bayes_factor'])>BF_THRESH].index,dtype=int)\n",
    "            sig_genes_param = list(map(genes.__getitem__,idx_biVI))\n",
    "        \n",
    "            bursty_sig_BF_genes[cell_type][param] = sig_genes_param\n",
    "        \n",
    "        for param in ['norm_unspliced_mean','norm_spliced_mean']:\n",
    "            df = scVI_BF_DE[cell_type][param]\n",
    "        \n",
    "            idx_scVI = np.array(df[np.log(df['bayes_factor'])>BF_THRESH].index,dtype=int)\n",
    "            sig_genes_param = list(map(genes.__getitem__,idx_scVI))\n",
    "        \n",
    "            scVI_sig_BF_genes[cell_type][param] = sig_genes_param\n",
    "\n",
    "        for param in ['norm_unspliced_mean','norm_spliced_mean']:\n",
    "            df = const_BF_DE[cell_type][param]\n",
    "        \n",
    "            idx_const = np.array(df[np.log(df['bayes_factor'])>BF_THRESH].index,dtype=int)\n",
    "            sig_genes_param = list(map(genes.__getitem__,idx_const))\n",
    "        \n",
    "            const_sig_BF_genes[cell_type][param] = sig_genes_param\n",
    "        \n",
    "        for param in ['norm_unspliced_mean','norm_spliced_mean']:\n",
    "            df = ext_BF_DE[cell_type][param]\n",
    "        \n",
    "            idx_ext = np.array(df[np.log(df['bayes_factor'])>BF_THRESH].index,dtype=int)\n",
    "            sig_genes_param = list(map(genes.__getitem__,idx_ext))\n",
    "        \n",
    "            ext_sig_BF_genes[cell_type][param] = sig_genes_param\n",
    "            \n",
    "            \n",
    "            \n",
    "            \n",
    "    return(bursty_sig_BF_genes, const_sig_BF_genes, ext_sig_BF_genes, scVI_sig_BF_genes, scVI_sig_BF_genes_built)\n",
    "            "
   ]
  },
  {
   "cell_type": "code",
   "execution_count": 7,
   "metadata": {},
   "outputs": [],
   "source": [
    "# and get sensitivity and specificity \n",
    "\n",
    "def get_sens_spec(dictionaries):\n",
    "    \n",
    "    method_list = []\n",
    "    CT_list = []\n",
    "\n",
    "    sensitivity_u = []\n",
    "    specificity_u = []\n",
    "\n",
    "    sensitivity_s = []\n",
    "    specificity_s = []\n",
    "\n",
    "    sensitivity_both = []\n",
    "    specificity_both = []\n",
    "    \n",
    "    #dictionaries = [biVI_sig_BF_genes,const_sig_BF_genes,ext_sig_BF_genes,scVI_sig_BF_genes,scVI_sig_BF_genes_built]\n",
    "    methods = ['Bursty','Constitutive','Extrinsic','scVI, my function','scVI default']\n",
    "    params = ['norm_spliced_mean','norm_unspliced_mean']\n",
    "\n",
    "    for ct in unique_cell_types:\n",
    "    \n",
    "        ct_id = int(ct[2:])\n",
    "        marker_genes = list(adata.var.index[adata.var['Marker Annotation'] == ct_id])\n",
    "        marker_genes = marker_genes[:int(len(marker_genes)/2)]\n",
    "        M = len(marker_genes)\n",
    "        N = 2000 - M\n",
    "    \n",
    "        for i,diction in enumerate(dictionaries):\n",
    "            sig_u = diction[ct]['norm_unspliced_mean']\n",
    "            sig_s = diction[ct]['norm_spliced_mean']\n",
    "            sig_both = union(sig_u,sig_s)\n",
    "        \n",
    "        \n",
    "            true_pos_u = [g for g in sig_u if g in marker_genes]\n",
    "            true_pos_s = [g for g in sig_s if g in marker_genes]\n",
    "            true_pos_both = [g for g in sig_both if g in marker_genes]\n",
    "\n",
    "#             true_neg_u = [g for g in not_marker_genes if g not in sig]\n",
    "#             true_neg_s = []\n",
    "#             true_neg_both = []\n",
    "        \n",
    "            sensitivity_u.append(len(true_pos_u)/M)\n",
    "            sensitivity_s.append(len(true_pos_s)/M)\n",
    "            sensitivity_both.append(len(true_pos_both)/M)\n",
    "        \n",
    "            specificity_u.append( 1 - (len(sig_u) - len(true_pos_u) )/N)\n",
    "            specificity_s.append( 1 - (len(sig_s) - len(true_pos_s) )/N )\n",
    "            specificity_both.append( 1 - (len(sig_both) - len(true_pos_both) )/N )\n",
    "        \n",
    "        \n",
    "            method_list.append(methods[i])\n",
    "            CT_list.append(ct)\n",
    "            \n",
    "    return(sensitivity_u,specificity_u,sensitivity_s,specificity_s,sensitivity_both,specificity_both,\n",
    "          method_list, CT_list)\n",
    "\n",
    "\n",
    "def union(list1,list2):\n",
    "    return(np.unique(np.array(list1+list2)))\n",
    "\n",
    "def intersection(list1,list2):\n",
    "    return([l for l in list1 if l in list2])\n"
   ]
  },
  {
   "cell_type": "markdown",
   "metadata": {},
   "source": [
    "## Calculate Sensitivity and Specificity of different tests\n",
    "\n",
    "Sensitivity = true_pos/ (true_pos + false_neg) <br>\n",
    "Sensitivity measures the percent of the ground truth positives that were detected.\n",
    "\n",
    "Specificity = true_neg / (false_pos + true_neg) <br>\n",
    "Specificity measures the percent of ground truth negatives that were called positive. "
   ]
  },
  {
   "cell_type": "code",
   "execution_count": 8,
   "metadata": {},
   "outputs": [
    {
     "name": "stdout",
     "output_type": "stream",
     "text": [
      "DE...: 100%|██████████| 20/20 [00:11<00:00,  1.73it/s]\n",
      "CT0\n",
      "working on cell_type : CT0\n"
     ]
    },
    {
     "name": "stderr",
     "output_type": "stream",
     "text": [
      "/home/tara/maria/scBIVI/GCCCP_2021/Code/Preprint/../BIVI/biVI.py:529: RuntimeWarning: divide by zero encountered in true_divide\n",
      "  BF = np.sum(lfc_abs>=delta,axis=0)/(np.sum(lfc_abs<delta,axis=0))\n"
     ]
    },
    {
     "name": "stdout",
     "output_type": "stream",
     "text": [
      "The keys for cell type CT0 are dict_keys(['norm_burst_size', 'norm_degradation_rate', 'norm_splicing_rate', 'norm_spliced_mean', 'norm_unspliced_mean'])\n",
      "\u001b[34mINFO    \u001b[0m Received view of anndata, making copy.                                                                    \n",
      "\u001b[34mINFO    \u001b[0m Input AnnData not setup with scvi-tools. attempting to transfer AnnData setup                             \n",
      "\u001b[34mINFO    \u001b[0m Received view of anndata, making copy.                                                                    \n",
      "\u001b[34mINFO    \u001b[0m Input AnnData not setup with scvi-tools. attempting to transfer AnnData setup                             \n",
      "CT1\n",
      "working on cell_type : CT1\n"
     ]
    },
    {
     "name": "stderr",
     "output_type": "stream",
     "text": [
      "/home/tara/maria/scBIVI/GCCCP_2021/Code/Preprint/../BIVI/biVI.py:529: RuntimeWarning: divide by zero encountered in true_divide\n",
      "  BF = np.sum(lfc_abs>=delta,axis=0)/(np.sum(lfc_abs<delta,axis=0))\n"
     ]
    },
    {
     "name": "stdout",
     "output_type": "stream",
     "text": [
      "The keys for cell type CT1 are dict_keys(['norm_burst_size', 'norm_degradation_rate', 'norm_splicing_rate', 'norm_spliced_mean', 'norm_unspliced_mean'])\n",
      "\u001b[34mINFO    \u001b[0m Received view of anndata, making copy.                                                                    \n",
      "\u001b[34mINFO    \u001b[0m Input AnnData not setup with scvi-tools. attempting to transfer AnnData setup                             \n",
      "\u001b[34mINFO    \u001b[0m Received view of anndata, making copy.                                                                    \n",
      "\u001b[34mINFO    \u001b[0m Input AnnData not setup with scvi-tools. attempting to transfer AnnData setup                             \n",
      "CT10\n",
      "working on cell_type : CT10\n"
     ]
    },
    {
     "name": "stderr",
     "output_type": "stream",
     "text": [
      "/home/tara/maria/scBIVI/GCCCP_2021/Code/Preprint/../BIVI/biVI.py:529: RuntimeWarning: divide by zero encountered in true_divide\n",
      "  BF = np.sum(lfc_abs>=delta,axis=0)/(np.sum(lfc_abs<delta,axis=0))\n"
     ]
    },
    {
     "name": "stdout",
     "output_type": "stream",
     "text": [
      "The keys for cell type CT10 are dict_keys(['norm_burst_size', 'norm_degradation_rate', 'norm_splicing_rate', 'norm_spliced_mean', 'norm_unspliced_mean'])\n",
      "\u001b[34mINFO    \u001b[0m Received view of anndata, making copy.                                                                    \n",
      "\u001b[34mINFO    \u001b[0m Input AnnData not setup with scvi-tools. attempting to transfer AnnData setup                             \n",
      "\u001b[34mINFO    \u001b[0m Received view of anndata, making copy.                                                                    \n",
      "\u001b[34mINFO    \u001b[0m Input AnnData not setup with scvi-tools. attempting to transfer AnnData setup                             \n",
      "CT11\n",
      "working on cell_type : CT11\n"
     ]
    },
    {
     "name": "stderr",
     "output_type": "stream",
     "text": [
      "/home/tara/maria/scBIVI/GCCCP_2021/Code/Preprint/../BIVI/biVI.py:529: RuntimeWarning: divide by zero encountered in true_divide\n",
      "  BF = np.sum(lfc_abs>=delta,axis=0)/(np.sum(lfc_abs<delta,axis=0))\n"
     ]
    },
    {
     "name": "stdout",
     "output_type": "stream",
     "text": [
      "The keys for cell type CT11 are dict_keys(['norm_burst_size', 'norm_degradation_rate', 'norm_splicing_rate', 'norm_spliced_mean', 'norm_unspliced_mean'])\n",
      "\u001b[34mINFO    \u001b[0m Received view of anndata, making copy.                                                                    \n",
      "\u001b[34mINFO    \u001b[0m Input AnnData not setup with scvi-tools. attempting to transfer AnnData setup                             \n",
      "\u001b[34mINFO    \u001b[0m Received view of anndata, making copy.                                                                    \n",
      "\u001b[34mINFO    \u001b[0m Input AnnData not setup with scvi-tools. attempting to transfer AnnData setup                             \n",
      "CT12\n",
      "working on cell_type : CT12\n"
     ]
    },
    {
     "name": "stderr",
     "output_type": "stream",
     "text": [
      "/home/tara/maria/scBIVI/GCCCP_2021/Code/Preprint/../BIVI/biVI.py:529: RuntimeWarning: divide by zero encountered in true_divide\n",
      "  BF = np.sum(lfc_abs>=delta,axis=0)/(np.sum(lfc_abs<delta,axis=0))\n"
     ]
    },
    {
     "name": "stdout",
     "output_type": "stream",
     "text": [
      "The keys for cell type CT12 are dict_keys(['norm_burst_size', 'norm_degradation_rate', 'norm_splicing_rate', 'norm_spliced_mean', 'norm_unspliced_mean'])\n",
      "\u001b[34mINFO    \u001b[0m Received view of anndata, making copy.                                                                    \n",
      "\u001b[34mINFO    \u001b[0m Input AnnData not setup with scvi-tools. attempting to transfer AnnData setup                             \n",
      "\u001b[34mINFO    \u001b[0m Received view of anndata, making copy.                                                                    \n",
      "\u001b[34mINFO    \u001b[0m Input AnnData not setup with scvi-tools. attempting to transfer AnnData setup                             \n",
      "CT13\n",
      "working on cell_type : CT13\n"
     ]
    },
    {
     "name": "stderr",
     "output_type": "stream",
     "text": [
      "/home/tara/maria/scBIVI/GCCCP_2021/Code/Preprint/../BIVI/biVI.py:529: RuntimeWarning: divide by zero encountered in true_divide\n",
      "  BF = np.sum(lfc_abs>=delta,axis=0)/(np.sum(lfc_abs<delta,axis=0))\n"
     ]
    },
    {
     "name": "stdout",
     "output_type": "stream",
     "text": [
      "The keys for cell type CT13 are dict_keys(['norm_burst_size', 'norm_degradation_rate', 'norm_splicing_rate', 'norm_spliced_mean', 'norm_unspliced_mean'])\n",
      "\u001b[34mINFO    \u001b[0m Received view of anndata, making copy.                                                                    \n",
      "\u001b[34mINFO    \u001b[0m Input AnnData not setup with scvi-tools. attempting to transfer AnnData setup                             \n",
      "\u001b[34mINFO    \u001b[0m Received view of anndata, making copy.                                                                    \n",
      "\u001b[34mINFO    \u001b[0m Input AnnData not setup with scvi-tools. attempting to transfer AnnData setup                             \n",
      "CT14\n",
      "working on cell_type : CT14\n"
     ]
    },
    {
     "name": "stderr",
     "output_type": "stream",
     "text": [
      "/home/tara/maria/scBIVI/GCCCP_2021/Code/Preprint/../BIVI/biVI.py:529: RuntimeWarning: divide by zero encountered in true_divide\n",
      "  BF = np.sum(lfc_abs>=delta,axis=0)/(np.sum(lfc_abs<delta,axis=0))\n"
     ]
    },
    {
     "name": "stdout",
     "output_type": "stream",
     "text": [
      "The keys for cell type CT14 are dict_keys(['norm_burst_size', 'norm_degradation_rate', 'norm_splicing_rate', 'norm_spliced_mean', 'norm_unspliced_mean'])\n",
      "\u001b[34mINFO    \u001b[0m Received view of anndata, making copy.                                                                    \n",
      "\u001b[34mINFO    \u001b[0m Input AnnData not setup with scvi-tools. attempting to transfer AnnData setup                             \n",
      "\u001b[34mINFO    \u001b[0m Received view of anndata, making copy.                                                                    \n",
      "\u001b[34mINFO    \u001b[0m Input AnnData not setup with scvi-tools. attempting to transfer AnnData setup                             \n",
      "CT15\n",
      "working on cell_type : CT15\n"
     ]
    },
    {
     "name": "stderr",
     "output_type": "stream",
     "text": [
      "/home/tara/maria/scBIVI/GCCCP_2021/Code/Preprint/../BIVI/biVI.py:529: RuntimeWarning: divide by zero encountered in true_divide\n",
      "  BF = np.sum(lfc_abs>=delta,axis=0)/(np.sum(lfc_abs<delta,axis=0))\n"
     ]
    },
    {
     "name": "stdout",
     "output_type": "stream",
     "text": [
      "The keys for cell type CT15 are dict_keys(['norm_burst_size', 'norm_degradation_rate', 'norm_splicing_rate', 'norm_spliced_mean', 'norm_unspliced_mean'])\n",
      "\u001b[34mINFO    \u001b[0m Received view of anndata, making copy.                                                                    \n",
      "\u001b[34mINFO    \u001b[0m Input AnnData not setup with scvi-tools. attempting to transfer AnnData setup                             \n",
      "\u001b[34mINFO    \u001b[0m Received view of anndata, making copy.                                                                    \n",
      "\u001b[34mINFO    \u001b[0m Input AnnData not setup with scvi-tools. attempting to transfer AnnData setup                             \n",
      "CT16\n",
      "working on cell_type : CT16\n"
     ]
    },
    {
     "name": "stderr",
     "output_type": "stream",
     "text": [
      "/home/tara/maria/scBIVI/GCCCP_2021/Code/Preprint/../BIVI/biVI.py:529: RuntimeWarning: divide by zero encountered in true_divide\n",
      "  BF = np.sum(lfc_abs>=delta,axis=0)/(np.sum(lfc_abs<delta,axis=0))\n"
     ]
    },
    {
     "name": "stdout",
     "output_type": "stream",
     "text": [
      "The keys for cell type CT16 are dict_keys(['norm_burst_size', 'norm_degradation_rate', 'norm_splicing_rate', 'norm_spliced_mean', 'norm_unspliced_mean'])\n",
      "\u001b[34mINFO    \u001b[0m Received view of anndata, making copy.                                                                    \n",
      "\u001b[34mINFO    \u001b[0m Input AnnData not setup with scvi-tools. attempting to transfer AnnData setup                             \n",
      "\u001b[34mINFO    \u001b[0m Received view of anndata, making copy.                                                                    \n",
      "\u001b[34mINFO    \u001b[0m Input AnnData not setup with scvi-tools. attempting to transfer AnnData setup                             \n",
      "CT17\n",
      "working on cell_type : CT17\n"
     ]
    },
    {
     "name": "stderr",
     "output_type": "stream",
     "text": [
      "/home/tara/maria/scBIVI/GCCCP_2021/Code/Preprint/../BIVI/biVI.py:529: RuntimeWarning: divide by zero encountered in true_divide\n",
      "  BF = np.sum(lfc_abs>=delta,axis=0)/(np.sum(lfc_abs<delta,axis=0))\n"
     ]
    },
    {
     "name": "stdout",
     "output_type": "stream",
     "text": [
      "The keys for cell type CT17 are dict_keys(['norm_burst_size', 'norm_degradation_rate', 'norm_splicing_rate', 'norm_spliced_mean', 'norm_unspliced_mean'])\n",
      "\u001b[34mINFO    \u001b[0m Received view of anndata, making copy.                                                                    \n",
      "\u001b[34mINFO    \u001b[0m Input AnnData not setup with scvi-tools. attempting to transfer AnnData setup                             \n",
      "\u001b[34mINFO    \u001b[0m Received view of anndata, making copy.                                                                    \n",
      "\u001b[34mINFO    \u001b[0m Input AnnData not setup with scvi-tools. attempting to transfer AnnData setup                             \n",
      "CT18\n",
      "working on cell_type : CT18\n"
     ]
    },
    {
     "name": "stderr",
     "output_type": "stream",
     "text": [
      "/home/tara/maria/scBIVI/GCCCP_2021/Code/Preprint/../BIVI/biVI.py:529: RuntimeWarning: divide by zero encountered in true_divide\n",
      "  BF = np.sum(lfc_abs>=delta,axis=0)/(np.sum(lfc_abs<delta,axis=0))\n"
     ]
    },
    {
     "name": "stdout",
     "output_type": "stream",
     "text": [
      "The keys for cell type CT18 are dict_keys(['norm_burst_size', 'norm_degradation_rate', 'norm_splicing_rate', 'norm_spliced_mean', 'norm_unspliced_mean'])\n",
      "\u001b[34mINFO    \u001b[0m Received view of anndata, making copy.                                                                    \n",
      "\u001b[34mINFO    \u001b[0m Input AnnData not setup with scvi-tools. attempting to transfer AnnData setup                             \n",
      "\u001b[34mINFO    \u001b[0m Received view of anndata, making copy.                                                                    \n",
      "\u001b[34mINFO    \u001b[0m Input AnnData not setup with scvi-tools. attempting to transfer AnnData setup                             \n",
      "CT19\n",
      "working on cell_type : CT19\n"
     ]
    },
    {
     "name": "stderr",
     "output_type": "stream",
     "text": [
      "/home/tara/maria/scBIVI/GCCCP_2021/Code/Preprint/../BIVI/biVI.py:529: RuntimeWarning: divide by zero encountered in true_divide\n",
      "  BF = np.sum(lfc_abs>=delta,axis=0)/(np.sum(lfc_abs<delta,axis=0))\n"
     ]
    },
    {
     "name": "stdout",
     "output_type": "stream",
     "text": [
      "The keys for cell type CT19 are dict_keys(['norm_burst_size', 'norm_degradation_rate', 'norm_splicing_rate', 'norm_spliced_mean', 'norm_unspliced_mean'])\n",
      "\u001b[34mINFO    \u001b[0m Received view of anndata, making copy.                                                                    \n",
      "\u001b[34mINFO    \u001b[0m Input AnnData not setup with scvi-tools. attempting to transfer AnnData setup                             \n",
      "\u001b[34mINFO    \u001b[0m Received view of anndata, making copy.                                                                    \n",
      "\u001b[34mINFO    \u001b[0m Input AnnData not setup with scvi-tools. attempting to transfer AnnData setup                             \n",
      "CT2\n",
      "working on cell_type : CT2\n"
     ]
    },
    {
     "name": "stderr",
     "output_type": "stream",
     "text": [
      "/home/tara/maria/scBIVI/GCCCP_2021/Code/Preprint/../BIVI/biVI.py:529: RuntimeWarning: divide by zero encountered in true_divide\n",
      "  BF = np.sum(lfc_abs>=delta,axis=0)/(np.sum(lfc_abs<delta,axis=0))\n"
     ]
    },
    {
     "name": "stdout",
     "output_type": "stream",
     "text": [
      "The keys for cell type CT2 are dict_keys(['norm_burst_size', 'norm_degradation_rate', 'norm_splicing_rate', 'norm_spliced_mean', 'norm_unspliced_mean'])\n",
      "\u001b[34mINFO    \u001b[0m Received view of anndata, making copy.                                                                    \n",
      "\u001b[34mINFO    \u001b[0m Input AnnData not setup with scvi-tools. attempting to transfer AnnData setup                             \n",
      "\u001b[34mINFO    \u001b[0m Received view of anndata, making copy.                                                                    \n",
      "\u001b[34mINFO    \u001b[0m Input AnnData not setup with scvi-tools. attempting to transfer AnnData setup                             \n",
      "CT3\n",
      "working on cell_type : CT3\n"
     ]
    },
    {
     "name": "stderr",
     "output_type": "stream",
     "text": [
      "/home/tara/maria/scBIVI/GCCCP_2021/Code/Preprint/../BIVI/biVI.py:529: RuntimeWarning: divide by zero encountered in true_divide\n",
      "  BF = np.sum(lfc_abs>=delta,axis=0)/(np.sum(lfc_abs<delta,axis=0))\n"
     ]
    },
    {
     "name": "stdout",
     "output_type": "stream",
     "text": [
      "The keys for cell type CT3 are dict_keys(['norm_burst_size', 'norm_degradation_rate', 'norm_splicing_rate', 'norm_spliced_mean', 'norm_unspliced_mean'])\n",
      "\u001b[34mINFO    \u001b[0m Received view of anndata, making copy.                                                                    \n",
      "\u001b[34mINFO    \u001b[0m Input AnnData not setup with scvi-tools. attempting to transfer AnnData setup                             \n",
      "\u001b[34mINFO    \u001b[0m Received view of anndata, making copy.                                                                    \n",
      "\u001b[34mINFO    \u001b[0m Input AnnData not setup with scvi-tools. attempting to transfer AnnData setup                             \n",
      "CT4\n",
      "working on cell_type : CT4\n"
     ]
    },
    {
     "name": "stderr",
     "output_type": "stream",
     "text": [
      "/home/tara/maria/scBIVI/GCCCP_2021/Code/Preprint/../BIVI/biVI.py:529: RuntimeWarning: divide by zero encountered in true_divide\n",
      "  BF = np.sum(lfc_abs>=delta,axis=0)/(np.sum(lfc_abs<delta,axis=0))\n"
     ]
    },
    {
     "name": "stdout",
     "output_type": "stream",
     "text": [
      "The keys for cell type CT4 are dict_keys(['norm_burst_size', 'norm_degradation_rate', 'norm_splicing_rate', 'norm_spliced_mean', 'norm_unspliced_mean'])\n",
      "\u001b[34mINFO    \u001b[0m Received view of anndata, making copy.                                                                    \n",
      "\u001b[34mINFO    \u001b[0m Input AnnData not setup with scvi-tools. attempting to transfer AnnData setup                             \n",
      "\u001b[34mINFO    \u001b[0m Received view of anndata, making copy.                                                                    \n",
      "\u001b[34mINFO    \u001b[0m Input AnnData not setup with scvi-tools. attempting to transfer AnnData setup                             \n",
      "CT5\n",
      "working on cell_type : CT5\n"
     ]
    },
    {
     "name": "stderr",
     "output_type": "stream",
     "text": [
      "/home/tara/maria/scBIVI/GCCCP_2021/Code/Preprint/../BIVI/biVI.py:529: RuntimeWarning: divide by zero encountered in true_divide\n",
      "  BF = np.sum(lfc_abs>=delta,axis=0)/(np.sum(lfc_abs<delta,axis=0))\n"
     ]
    },
    {
     "name": "stdout",
     "output_type": "stream",
     "text": [
      "The keys for cell type CT5 are dict_keys(['norm_burst_size', 'norm_degradation_rate', 'norm_splicing_rate', 'norm_spliced_mean', 'norm_unspliced_mean'])\n",
      "\u001b[34mINFO    \u001b[0m Received view of anndata, making copy.                                                                    \n",
      "\u001b[34mINFO    \u001b[0m Input AnnData not setup with scvi-tools. attempting to transfer AnnData setup                             \n",
      "\u001b[34mINFO    \u001b[0m Received view of anndata, making copy.                                                                    \n",
      "\u001b[34mINFO    \u001b[0m Input AnnData not setup with scvi-tools. attempting to transfer AnnData setup                             \n",
      "CT6\n",
      "working on cell_type : CT6\n"
     ]
    },
    {
     "name": "stderr",
     "output_type": "stream",
     "text": [
      "/home/tara/maria/scBIVI/GCCCP_2021/Code/Preprint/../BIVI/biVI.py:529: RuntimeWarning: divide by zero encountered in true_divide\n",
      "  BF = np.sum(lfc_abs>=delta,axis=0)/(np.sum(lfc_abs<delta,axis=0))\n"
     ]
    },
    {
     "name": "stdout",
     "output_type": "stream",
     "text": [
      "The keys for cell type CT6 are dict_keys(['norm_burst_size', 'norm_degradation_rate', 'norm_splicing_rate', 'norm_spliced_mean', 'norm_unspliced_mean'])\n",
      "\u001b[34mINFO    \u001b[0m Received view of anndata, making copy.                                                                    \n",
      "\u001b[34mINFO    \u001b[0m Input AnnData not setup with scvi-tools. attempting to transfer AnnData setup                             \n",
      "\u001b[34mINFO    \u001b[0m Received view of anndata, making copy.                                                                    \n",
      "\u001b[34mINFO    \u001b[0m Input AnnData not setup with scvi-tools. attempting to transfer AnnData setup                             \n",
      "CT7\n",
      "working on cell_type : CT7\n"
     ]
    },
    {
     "name": "stderr",
     "output_type": "stream",
     "text": [
      "/home/tara/maria/scBIVI/GCCCP_2021/Code/Preprint/../BIVI/biVI.py:529: RuntimeWarning: divide by zero encountered in true_divide\n",
      "  BF = np.sum(lfc_abs>=delta,axis=0)/(np.sum(lfc_abs<delta,axis=0))\n"
     ]
    },
    {
     "name": "stdout",
     "output_type": "stream",
     "text": [
      "The keys for cell type CT7 are dict_keys(['norm_burst_size', 'norm_degradation_rate', 'norm_splicing_rate', 'norm_spliced_mean', 'norm_unspliced_mean'])\n",
      "\u001b[34mINFO    \u001b[0m Received view of anndata, making copy.                                                                    \n",
      "\u001b[34mINFO    \u001b[0m Input AnnData not setup with scvi-tools. attempting to transfer AnnData setup                             \n",
      "\u001b[34mINFO    \u001b[0m Received view of anndata, making copy.                                                                    \n",
      "\u001b[34mINFO    \u001b[0m Input AnnData not setup with scvi-tools. attempting to transfer AnnData setup                             \n",
      "CT8\n",
      "working on cell_type : CT8\n"
     ]
    },
    {
     "name": "stderr",
     "output_type": "stream",
     "text": [
      "/home/tara/maria/scBIVI/GCCCP_2021/Code/Preprint/../BIVI/biVI.py:529: RuntimeWarning: divide by zero encountered in true_divide\n",
      "  BF = np.sum(lfc_abs>=delta,axis=0)/(np.sum(lfc_abs<delta,axis=0))\n"
     ]
    },
    {
     "name": "stdout",
     "output_type": "stream",
     "text": [
      "The keys for cell type CT8 are dict_keys(['norm_burst_size', 'norm_degradation_rate', 'norm_splicing_rate', 'norm_spliced_mean', 'norm_unspliced_mean'])\n",
      "\u001b[34mINFO    \u001b[0m Received view of anndata, making copy.                                                                    \n",
      "\u001b[34mINFO    \u001b[0m Input AnnData not setup with scvi-tools. attempting to transfer AnnData setup                             \n",
      "\u001b[34mINFO    \u001b[0m Received view of anndata, making copy.                                                                    \n",
      "\u001b[34mINFO    \u001b[0m Input AnnData not setup with scvi-tools. attempting to transfer AnnData setup                             \n",
      "CT9\n",
      "working on cell_type : CT9\n"
     ]
    },
    {
     "name": "stderr",
     "output_type": "stream",
     "text": [
      "/home/tara/maria/scBIVI/GCCCP_2021/Code/Preprint/../BIVI/biVI.py:529: RuntimeWarning: divide by zero encountered in true_divide\n",
      "  BF = np.sum(lfc_abs>=delta,axis=0)/(np.sum(lfc_abs<delta,axis=0))\n"
     ]
    },
    {
     "name": "stdout",
     "output_type": "stream",
     "text": [
      "The keys for cell type CT9 are dict_keys(['norm_burst_size', 'norm_degradation_rate', 'norm_splicing_rate', 'norm_spliced_mean', 'norm_unspliced_mean'])\n",
      "\u001b[34mINFO    \u001b[0m Received view of anndata, making copy.                                                                    \n",
      "\u001b[34mINFO    \u001b[0m Input AnnData not setup with scvi-tools. attempting to transfer AnnData setup                             \n",
      "\u001b[34mINFO    \u001b[0m Received view of anndata, making copy.                                                                    \n",
      "\u001b[34mINFO    \u001b[0m Input AnnData not setup with scvi-tools. attempting to transfer AnnData setup                             \n"
     ]
    },
    {
     "name": "stderr",
     "output_type": "stream",
     "text": [
      "/usr/local/lib/python3.8/dist-packages/pandas/core/arraylike.py:397: RuntimeWarning: divide by zero encountered in log\n",
      "  result = getattr(ufunc, method)(*inputs, **kwargs)\n"
     ]
    },
    {
     "name": "stdout",
     "output_type": "stream",
     "text": [
      "CT0\n",
      "CT1\n",
      "CT10\n",
      "CT11\n",
      "CT12\n",
      "CT13\n",
      "CT14\n",
      "CT15\n",
      "CT16\n",
      "CT17\n",
      "CT18\n",
      "CT19\n",
      "CT2\n",
      "CT3\n",
      "CT4\n",
      "CT5\n",
      "CT6\n",
      "CT7\n",
      "CT8\n",
      "CT9\n",
      "DE...: 100%|██████████| 20/20 [00:09<00:00,  2.11it/s]\n",
      "CT0\n",
      "working on cell_type : CT0\n"
     ]
    },
    {
     "name": "stderr",
     "output_type": "stream",
     "text": [
      "/home/tara/maria/scBIVI/GCCCP_2021/Code/Preprint/../BIVI/biVI.py:529: RuntimeWarning: divide by zero encountered in true_divide\n",
      "  BF = np.sum(lfc_abs>=delta,axis=0)/(np.sum(lfc_abs<delta,axis=0))\n"
     ]
    },
    {
     "name": "stdout",
     "output_type": "stream",
     "text": [
      "The keys for cell type CT0 are dict_keys(['norm_burst_size', 'norm_degradation_rate', 'norm_splicing_rate', 'norm_spliced_mean', 'norm_unspliced_mean'])\n",
      "\u001b[34mINFO    \u001b[0m Received view of anndata, making copy.                                                                    \n",
      "\u001b[34mINFO    \u001b[0m Input AnnData not setup with scvi-tools. attempting to transfer AnnData setup                             \n",
      "\u001b[34mINFO    \u001b[0m Received view of anndata, making copy.                                                                    \n",
      "\u001b[34mINFO    \u001b[0m Input AnnData not setup with scvi-tools. attempting to transfer AnnData setup                             \n",
      "CT1\n",
      "working on cell_type : CT1\n"
     ]
    },
    {
     "name": "stderr",
     "output_type": "stream",
     "text": [
      "/home/tara/maria/scBIVI/GCCCP_2021/Code/Preprint/../BIVI/biVI.py:529: RuntimeWarning: divide by zero encountered in true_divide\n",
      "  BF = np.sum(lfc_abs>=delta,axis=0)/(np.sum(lfc_abs<delta,axis=0))\n"
     ]
    },
    {
     "name": "stdout",
     "output_type": "stream",
     "text": [
      "The keys for cell type CT1 are dict_keys(['norm_burst_size', 'norm_degradation_rate', 'norm_splicing_rate', 'norm_spliced_mean', 'norm_unspliced_mean'])\n",
      "\u001b[34mINFO    \u001b[0m Received view of anndata, making copy.                                                                    \n",
      "\u001b[34mINFO    \u001b[0m Input AnnData not setup with scvi-tools. attempting to transfer AnnData setup                             \n",
      "\u001b[34mINFO    \u001b[0m Received view of anndata, making copy.                                                                    \n",
      "\u001b[34mINFO    \u001b[0m Input AnnData not setup with scvi-tools. attempting to transfer AnnData setup                             \n",
      "CT10\n",
      "working on cell_type : CT10\n"
     ]
    },
    {
     "name": "stderr",
     "output_type": "stream",
     "text": [
      "/home/tara/maria/scBIVI/GCCCP_2021/Code/Preprint/../BIVI/biVI.py:529: RuntimeWarning: divide by zero encountered in true_divide\n",
      "  BF = np.sum(lfc_abs>=delta,axis=0)/(np.sum(lfc_abs<delta,axis=0))\n"
     ]
    },
    {
     "name": "stdout",
     "output_type": "stream",
     "text": [
      "The keys for cell type CT10 are dict_keys(['norm_burst_size', 'norm_degradation_rate', 'norm_splicing_rate', 'norm_spliced_mean', 'norm_unspliced_mean'])\n",
      "\u001b[34mINFO    \u001b[0m Received view of anndata, making copy.                                                                    \n",
      "\u001b[34mINFO    \u001b[0m Input AnnData not setup with scvi-tools. attempting to transfer AnnData setup                             \n",
      "\u001b[34mINFO    \u001b[0m Received view of anndata, making copy.                                                                    \n",
      "\u001b[34mINFO    \u001b[0m Input AnnData not setup with scvi-tools. attempting to transfer AnnData setup                             \n",
      "CT11\n",
      "working on cell_type : CT11\n"
     ]
    },
    {
     "name": "stderr",
     "output_type": "stream",
     "text": [
      "/home/tara/maria/scBIVI/GCCCP_2021/Code/Preprint/../BIVI/biVI.py:529: RuntimeWarning: divide by zero encountered in true_divide\n",
      "  BF = np.sum(lfc_abs>=delta,axis=0)/(np.sum(lfc_abs<delta,axis=0))\n"
     ]
    },
    {
     "name": "stdout",
     "output_type": "stream",
     "text": [
      "The keys for cell type CT11 are dict_keys(['norm_burst_size', 'norm_degradation_rate', 'norm_splicing_rate', 'norm_spliced_mean', 'norm_unspliced_mean'])\n",
      "\u001b[34mINFO    \u001b[0m Received view of anndata, making copy.                                                                    \n",
      "\u001b[34mINFO    \u001b[0m Input AnnData not setup with scvi-tools. attempting to transfer AnnData setup                             \n",
      "\u001b[34mINFO    \u001b[0m Received view of anndata, making copy.                                                                    \n",
      "\u001b[34mINFO    \u001b[0m Input AnnData not setup with scvi-tools. attempting to transfer AnnData setup                             \n",
      "CT12\n",
      "working on cell_type : CT12\n"
     ]
    },
    {
     "name": "stderr",
     "output_type": "stream",
     "text": [
      "/home/tara/maria/scBIVI/GCCCP_2021/Code/Preprint/../BIVI/biVI.py:529: RuntimeWarning: divide by zero encountered in true_divide\n",
      "  BF = np.sum(lfc_abs>=delta,axis=0)/(np.sum(lfc_abs<delta,axis=0))\n"
     ]
    },
    {
     "name": "stdout",
     "output_type": "stream",
     "text": [
      "The keys for cell type CT12 are dict_keys(['norm_burst_size', 'norm_degradation_rate', 'norm_splicing_rate', 'norm_spliced_mean', 'norm_unspliced_mean'])\n",
      "\u001b[34mINFO    \u001b[0m Received view of anndata, making copy.                                                                    \n",
      "\u001b[34mINFO    \u001b[0m Input AnnData not setup with scvi-tools. attempting to transfer AnnData setup                             \n",
      "\u001b[34mINFO    \u001b[0m Received view of anndata, making copy.                                                                    \n",
      "\u001b[34mINFO    \u001b[0m Input AnnData not setup with scvi-tools. attempting to transfer AnnData setup                             \n",
      "CT13\n",
      "working on cell_type : CT13\n"
     ]
    },
    {
     "name": "stderr",
     "output_type": "stream",
     "text": [
      "/home/tara/maria/scBIVI/GCCCP_2021/Code/Preprint/../BIVI/biVI.py:529: RuntimeWarning: divide by zero encountered in true_divide\n",
      "  BF = np.sum(lfc_abs>=delta,axis=0)/(np.sum(lfc_abs<delta,axis=0))\n"
     ]
    },
    {
     "name": "stdout",
     "output_type": "stream",
     "text": [
      "The keys for cell type CT13 are dict_keys(['norm_burst_size', 'norm_degradation_rate', 'norm_splicing_rate', 'norm_spliced_mean', 'norm_unspliced_mean'])\n",
      "\u001b[34mINFO    \u001b[0m Received view of anndata, making copy.                                                                    \n",
      "\u001b[34mINFO    \u001b[0m Input AnnData not setup with scvi-tools. attempting to transfer AnnData setup                             \n",
      "\u001b[34mINFO    \u001b[0m Received view of anndata, making copy.                                                                    \n",
      "\u001b[34mINFO    \u001b[0m Input AnnData not setup with scvi-tools. attempting to transfer AnnData setup                             \n",
      "CT14\n",
      "working on cell_type : CT14\n"
     ]
    },
    {
     "name": "stderr",
     "output_type": "stream",
     "text": [
      "/home/tara/maria/scBIVI/GCCCP_2021/Code/Preprint/../BIVI/biVI.py:529: RuntimeWarning: divide by zero encountered in true_divide\n",
      "  BF = np.sum(lfc_abs>=delta,axis=0)/(np.sum(lfc_abs<delta,axis=0))\n"
     ]
    },
    {
     "name": "stdout",
     "output_type": "stream",
     "text": [
      "The keys for cell type CT14 are dict_keys(['norm_burst_size', 'norm_degradation_rate', 'norm_splicing_rate', 'norm_spliced_mean', 'norm_unspliced_mean'])\n",
      "\u001b[34mINFO    \u001b[0m Received view of anndata, making copy.                                                                    \n",
      "\u001b[34mINFO    \u001b[0m Input AnnData not setup with scvi-tools. attempting to transfer AnnData setup                             \n",
      "\u001b[34mINFO    \u001b[0m Received view of anndata, making copy.                                                                    \n",
      "\u001b[34mINFO    \u001b[0m Input AnnData not setup with scvi-tools. attempting to transfer AnnData setup                             \n",
      "CT15\n",
      "working on cell_type : CT15\n"
     ]
    },
    {
     "name": "stderr",
     "output_type": "stream",
     "text": [
      "/home/tara/maria/scBIVI/GCCCP_2021/Code/Preprint/../BIVI/biVI.py:529: RuntimeWarning: divide by zero encountered in true_divide\n",
      "  BF = np.sum(lfc_abs>=delta,axis=0)/(np.sum(lfc_abs<delta,axis=0))\n"
     ]
    },
    {
     "name": "stdout",
     "output_type": "stream",
     "text": [
      "The keys for cell type CT15 are dict_keys(['norm_burst_size', 'norm_degradation_rate', 'norm_splicing_rate', 'norm_spliced_mean', 'norm_unspliced_mean'])\n",
      "\u001b[34mINFO    \u001b[0m Received view of anndata, making copy.                                                                    \n",
      "\u001b[34mINFO    \u001b[0m Input AnnData not setup with scvi-tools. attempting to transfer AnnData setup                             \n",
      "\u001b[34mINFO    \u001b[0m Received view of anndata, making copy.                                                                    \n",
      "\u001b[34mINFO    \u001b[0m Input AnnData not setup with scvi-tools. attempting to transfer AnnData setup                             \n",
      "CT16\n",
      "working on cell_type : CT16\n"
     ]
    },
    {
     "name": "stderr",
     "output_type": "stream",
     "text": [
      "/home/tara/maria/scBIVI/GCCCP_2021/Code/Preprint/../BIVI/biVI.py:529: RuntimeWarning: divide by zero encountered in true_divide\n",
      "  BF = np.sum(lfc_abs>=delta,axis=0)/(np.sum(lfc_abs<delta,axis=0))\n"
     ]
    },
    {
     "name": "stdout",
     "output_type": "stream",
     "text": [
      "The keys for cell type CT16 are dict_keys(['norm_burst_size', 'norm_degradation_rate', 'norm_splicing_rate', 'norm_spliced_mean', 'norm_unspliced_mean'])\n",
      "\u001b[34mINFO    \u001b[0m Received view of anndata, making copy.                                                                    \n",
      "\u001b[34mINFO    \u001b[0m Input AnnData not setup with scvi-tools. attempting to transfer AnnData setup                             \n",
      "\u001b[34mINFO    \u001b[0m Received view of anndata, making copy.                                                                    \n",
      "\u001b[34mINFO    \u001b[0m Input AnnData not setup with scvi-tools. attempting to transfer AnnData setup                             \n",
      "CT17\n",
      "working on cell_type : CT17\n"
     ]
    },
    {
     "name": "stderr",
     "output_type": "stream",
     "text": [
      "/home/tara/maria/scBIVI/GCCCP_2021/Code/Preprint/../BIVI/biVI.py:529: RuntimeWarning: divide by zero encountered in true_divide\n",
      "  BF = np.sum(lfc_abs>=delta,axis=0)/(np.sum(lfc_abs<delta,axis=0))\n"
     ]
    },
    {
     "name": "stdout",
     "output_type": "stream",
     "text": [
      "The keys for cell type CT17 are dict_keys(['norm_burst_size', 'norm_degradation_rate', 'norm_splicing_rate', 'norm_spliced_mean', 'norm_unspliced_mean'])\n",
      "\u001b[34mINFO    \u001b[0m Received view of anndata, making copy.                                                                    \n",
      "\u001b[34mINFO    \u001b[0m Input AnnData not setup with scvi-tools. attempting to transfer AnnData setup                             \n",
      "\u001b[34mINFO    \u001b[0m Received view of anndata, making copy.                                                                    \n",
      "\u001b[34mINFO    \u001b[0m Input AnnData not setup with scvi-tools. attempting to transfer AnnData setup                             \n",
      "CT18\n",
      "working on cell_type : CT18\n"
     ]
    },
    {
     "name": "stderr",
     "output_type": "stream",
     "text": [
      "/home/tara/maria/scBIVI/GCCCP_2021/Code/Preprint/../BIVI/biVI.py:529: RuntimeWarning: divide by zero encountered in true_divide\n",
      "  BF = np.sum(lfc_abs>=delta,axis=0)/(np.sum(lfc_abs<delta,axis=0))\n"
     ]
    },
    {
     "name": "stdout",
     "output_type": "stream",
     "text": [
      "The keys for cell type CT18 are dict_keys(['norm_burst_size', 'norm_degradation_rate', 'norm_splicing_rate', 'norm_spliced_mean', 'norm_unspliced_mean'])\n",
      "\u001b[34mINFO    \u001b[0m Received view of anndata, making copy.                                                                    \n",
      "\u001b[34mINFO    \u001b[0m Input AnnData not setup with scvi-tools. attempting to transfer AnnData setup                             \n",
      "\u001b[34mINFO    \u001b[0m Received view of anndata, making copy.                                                                    \n",
      "\u001b[34mINFO    \u001b[0m Input AnnData not setup with scvi-tools. attempting to transfer AnnData setup                             \n",
      "CT19\n",
      "working on cell_type : CT19\n"
     ]
    },
    {
     "name": "stderr",
     "output_type": "stream",
     "text": [
      "/home/tara/maria/scBIVI/GCCCP_2021/Code/Preprint/../BIVI/biVI.py:529: RuntimeWarning: divide by zero encountered in true_divide\n",
      "  BF = np.sum(lfc_abs>=delta,axis=0)/(np.sum(lfc_abs<delta,axis=0))\n"
     ]
    },
    {
     "name": "stdout",
     "output_type": "stream",
     "text": [
      "The keys for cell type CT19 are dict_keys(['norm_burst_size', 'norm_degradation_rate', 'norm_splicing_rate', 'norm_spliced_mean', 'norm_unspliced_mean'])\n",
      "\u001b[34mINFO    \u001b[0m Received view of anndata, making copy.                                                                    \n",
      "\u001b[34mINFO    \u001b[0m Input AnnData not setup with scvi-tools. attempting to transfer AnnData setup                             \n",
      "\u001b[34mINFO    \u001b[0m Received view of anndata, making copy.                                                                    \n",
      "\u001b[34mINFO    \u001b[0m Input AnnData not setup with scvi-tools. attempting to transfer AnnData setup                             \n",
      "CT2\n",
      "working on cell_type : CT2\n"
     ]
    },
    {
     "name": "stderr",
     "output_type": "stream",
     "text": [
      "/home/tara/maria/scBIVI/GCCCP_2021/Code/Preprint/../BIVI/biVI.py:529: RuntimeWarning: divide by zero encountered in true_divide\n",
      "  BF = np.sum(lfc_abs>=delta,axis=0)/(np.sum(lfc_abs<delta,axis=0))\n"
     ]
    },
    {
     "name": "stdout",
     "output_type": "stream",
     "text": [
      "The keys for cell type CT2 are dict_keys(['norm_burst_size', 'norm_degradation_rate', 'norm_splicing_rate', 'norm_spliced_mean', 'norm_unspliced_mean'])\n",
      "\u001b[34mINFO    \u001b[0m Received view of anndata, making copy.                                                                    \n",
      "\u001b[34mINFO    \u001b[0m Input AnnData not setup with scvi-tools. attempting to transfer AnnData setup                             \n",
      "\u001b[34mINFO    \u001b[0m Received view of anndata, making copy.                                                                    \n",
      "\u001b[34mINFO    \u001b[0m Input AnnData not setup with scvi-tools. attempting to transfer AnnData setup                             \n",
      "CT3\n",
      "working on cell_type : CT3\n"
     ]
    },
    {
     "name": "stderr",
     "output_type": "stream",
     "text": [
      "/home/tara/maria/scBIVI/GCCCP_2021/Code/Preprint/../BIVI/biVI.py:529: RuntimeWarning: divide by zero encountered in true_divide\n",
      "  BF = np.sum(lfc_abs>=delta,axis=0)/(np.sum(lfc_abs<delta,axis=0))\n"
     ]
    },
    {
     "name": "stdout",
     "output_type": "stream",
     "text": [
      "The keys for cell type CT3 are dict_keys(['norm_burst_size', 'norm_degradation_rate', 'norm_splicing_rate', 'norm_spliced_mean', 'norm_unspliced_mean'])\n",
      "\u001b[34mINFO    \u001b[0m Received view of anndata, making copy.                                                                    \n",
      "\u001b[34mINFO    \u001b[0m Input AnnData not setup with scvi-tools. attempting to transfer AnnData setup                             \n",
      "\u001b[34mINFO    \u001b[0m Received view of anndata, making copy.                                                                    \n",
      "\u001b[34mINFO    \u001b[0m Input AnnData not setup with scvi-tools. attempting to transfer AnnData setup                             \n",
      "CT4\n",
      "working on cell_type : CT4\n"
     ]
    },
    {
     "name": "stderr",
     "output_type": "stream",
     "text": [
      "/home/tara/maria/scBIVI/GCCCP_2021/Code/Preprint/../BIVI/biVI.py:529: RuntimeWarning: divide by zero encountered in true_divide\n",
      "  BF = np.sum(lfc_abs>=delta,axis=0)/(np.sum(lfc_abs<delta,axis=0))\n"
     ]
    },
    {
     "name": "stdout",
     "output_type": "stream",
     "text": [
      "The keys for cell type CT4 are dict_keys(['norm_burst_size', 'norm_degradation_rate', 'norm_splicing_rate', 'norm_spliced_mean', 'norm_unspliced_mean'])\n",
      "\u001b[34mINFO    \u001b[0m Received view of anndata, making copy.                                                                    \n",
      "\u001b[34mINFO    \u001b[0m Input AnnData not setup with scvi-tools. attempting to transfer AnnData setup                             \n",
      "\u001b[34mINFO    \u001b[0m Received view of anndata, making copy.                                                                    \n",
      "\u001b[34mINFO    \u001b[0m Input AnnData not setup with scvi-tools. attempting to transfer AnnData setup                             \n",
      "CT5\n",
      "working on cell_type : CT5\n"
     ]
    },
    {
     "name": "stderr",
     "output_type": "stream",
     "text": [
      "/home/tara/maria/scBIVI/GCCCP_2021/Code/Preprint/../BIVI/biVI.py:529: RuntimeWarning: divide by zero encountered in true_divide\n",
      "  BF = np.sum(lfc_abs>=delta,axis=0)/(np.sum(lfc_abs<delta,axis=0))\n"
     ]
    },
    {
     "name": "stdout",
     "output_type": "stream",
     "text": [
      "The keys for cell type CT5 are dict_keys(['norm_burst_size', 'norm_degradation_rate', 'norm_splicing_rate', 'norm_spliced_mean', 'norm_unspliced_mean'])\n",
      "\u001b[34mINFO    \u001b[0m Received view of anndata, making copy.                                                                    \n",
      "\u001b[34mINFO    \u001b[0m Input AnnData not setup with scvi-tools. attempting to transfer AnnData setup                             \n",
      "\u001b[34mINFO    \u001b[0m Received view of anndata, making copy.                                                                    \n",
      "\u001b[34mINFO    \u001b[0m Input AnnData not setup with scvi-tools. attempting to transfer AnnData setup                             \n",
      "CT6\n",
      "working on cell_type : CT6\n"
     ]
    },
    {
     "name": "stderr",
     "output_type": "stream",
     "text": [
      "/home/tara/maria/scBIVI/GCCCP_2021/Code/Preprint/../BIVI/biVI.py:529: RuntimeWarning: divide by zero encountered in true_divide\n",
      "  BF = np.sum(lfc_abs>=delta,axis=0)/(np.sum(lfc_abs<delta,axis=0))\n"
     ]
    },
    {
     "name": "stdout",
     "output_type": "stream",
     "text": [
      "The keys for cell type CT6 are dict_keys(['norm_burst_size', 'norm_degradation_rate', 'norm_splicing_rate', 'norm_spliced_mean', 'norm_unspliced_mean'])\n",
      "\u001b[34mINFO    \u001b[0m Received view of anndata, making copy.                                                                    \n",
      "\u001b[34mINFO    \u001b[0m Input AnnData not setup with scvi-tools. attempting to transfer AnnData setup                             \n",
      "\u001b[34mINFO    \u001b[0m Received view of anndata, making copy.                                                                    \n",
      "\u001b[34mINFO    \u001b[0m Input AnnData not setup with scvi-tools. attempting to transfer AnnData setup                             \n",
      "CT7\n",
      "working on cell_type : CT7\n"
     ]
    },
    {
     "name": "stderr",
     "output_type": "stream",
     "text": [
      "/home/tara/maria/scBIVI/GCCCP_2021/Code/Preprint/../BIVI/biVI.py:529: RuntimeWarning: divide by zero encountered in true_divide\n",
      "  BF = np.sum(lfc_abs>=delta,axis=0)/(np.sum(lfc_abs<delta,axis=0))\n"
     ]
    },
    {
     "name": "stdout",
     "output_type": "stream",
     "text": [
      "The keys for cell type CT7 are dict_keys(['norm_burst_size', 'norm_degradation_rate', 'norm_splicing_rate', 'norm_spliced_mean', 'norm_unspliced_mean'])\n",
      "\u001b[34mINFO    \u001b[0m Received view of anndata, making copy.                                                                    \n",
      "\u001b[34mINFO    \u001b[0m Input AnnData not setup with scvi-tools. attempting to transfer AnnData setup                             \n",
      "\u001b[34mINFO    \u001b[0m Received view of anndata, making copy.                                                                    \n",
      "\u001b[34mINFO    \u001b[0m Input AnnData not setup with scvi-tools. attempting to transfer AnnData setup                             \n",
      "CT8\n",
      "working on cell_type : CT8\n"
     ]
    },
    {
     "name": "stderr",
     "output_type": "stream",
     "text": [
      "/home/tara/maria/scBIVI/GCCCP_2021/Code/Preprint/../BIVI/biVI.py:529: RuntimeWarning: divide by zero encountered in true_divide\n",
      "  BF = np.sum(lfc_abs>=delta,axis=0)/(np.sum(lfc_abs<delta,axis=0))\n"
     ]
    },
    {
     "name": "stdout",
     "output_type": "stream",
     "text": [
      "The keys for cell type CT8 are dict_keys(['norm_burst_size', 'norm_degradation_rate', 'norm_splicing_rate', 'norm_spliced_mean', 'norm_unspliced_mean'])\n",
      "\u001b[34mINFO    \u001b[0m Received view of anndata, making copy.                                                                    \n",
      "\u001b[34mINFO    \u001b[0m Input AnnData not setup with scvi-tools. attempting to transfer AnnData setup                             \n",
      "\u001b[34mINFO    \u001b[0m Received view of anndata, making copy.                                                                    \n",
      "\u001b[34mINFO    \u001b[0m Input AnnData not setup with scvi-tools. attempting to transfer AnnData setup                             \n",
      "CT9\n",
      "working on cell_type : CT9\n"
     ]
    },
    {
     "name": "stderr",
     "output_type": "stream",
     "text": [
      "/home/tara/maria/scBIVI/GCCCP_2021/Code/Preprint/../BIVI/biVI.py:529: RuntimeWarning: divide by zero encountered in true_divide\n",
      "  BF = np.sum(lfc_abs>=delta,axis=0)/(np.sum(lfc_abs<delta,axis=0))\n"
     ]
    },
    {
     "name": "stdout",
     "output_type": "stream",
     "text": [
      "The keys for cell type CT9 are dict_keys(['norm_burst_size', 'norm_degradation_rate', 'norm_splicing_rate', 'norm_spliced_mean', 'norm_unspliced_mean'])\n",
      "\u001b[34mINFO    \u001b[0m Received view of anndata, making copy.                                                                    \n",
      "\u001b[34mINFO    \u001b[0m Input AnnData not setup with scvi-tools. attempting to transfer AnnData setup                             \n",
      "\u001b[34mINFO    \u001b[0m Received view of anndata, making copy.                                                                    \n",
      "\u001b[34mINFO    \u001b[0m Input AnnData not setup with scvi-tools. attempting to transfer AnnData setup                             \n"
     ]
    },
    {
     "name": "stderr",
     "output_type": "stream",
     "text": [
      "/usr/local/lib/python3.8/dist-packages/pandas/core/arraylike.py:397: RuntimeWarning: divide by zero encountered in log\n",
      "  result = getattr(ufunc, method)(*inputs, **kwargs)\n"
     ]
    },
    {
     "name": "stdout",
     "output_type": "stream",
     "text": [
      "CT0\n",
      "CT1\n",
      "CT10\n",
      "CT11\n",
      "CT12\n",
      "CT13\n",
      "CT14\n",
      "CT15\n",
      "CT16\n",
      "CT17\n",
      "CT18\n",
      "CT19\n",
      "CT2\n",
      "CT3\n",
      "CT4\n",
      "CT5\n",
      "CT6\n",
      "CT7\n",
      "CT8\n",
      "CT9\n",
      "DE...: 100%|██████████| 20/20 [00:10<00:00,  1.88it/s]\n",
      "CT0\n",
      "working on cell_type : CT0\n"
     ]
    },
    {
     "name": "stderr",
     "output_type": "stream",
     "text": [
      "/home/tara/maria/scBIVI/GCCCP_2021/Code/Preprint/../BIVI/biVI.py:529: RuntimeWarning: divide by zero encountered in true_divide\n",
      "  BF = np.sum(lfc_abs>=delta,axis=0)/(np.sum(lfc_abs<delta,axis=0))\n"
     ]
    },
    {
     "name": "stdout",
     "output_type": "stream",
     "text": [
      "The keys for cell type CT0 are dict_keys(['norm_burst_size', 'norm_degradation_rate', 'norm_splicing_rate', 'norm_spliced_mean', 'norm_unspliced_mean'])\n",
      "\u001b[34mINFO    \u001b[0m Received view of anndata, making copy.                                                                    \n",
      "\u001b[34mINFO    \u001b[0m Input AnnData not setup with scvi-tools. attempting to transfer AnnData setup                             \n",
      "\u001b[34mINFO    \u001b[0m Received view of anndata, making copy.                                                                    \n",
      "\u001b[34mINFO    \u001b[0m Input AnnData not setup with scvi-tools. attempting to transfer AnnData setup                             \n",
      "CT1\n",
      "working on cell_type : CT1\n"
     ]
    },
    {
     "name": "stderr",
     "output_type": "stream",
     "text": [
      "/home/tara/maria/scBIVI/GCCCP_2021/Code/Preprint/../BIVI/biVI.py:529: RuntimeWarning: divide by zero encountered in true_divide\n",
      "  BF = np.sum(lfc_abs>=delta,axis=0)/(np.sum(lfc_abs<delta,axis=0))\n"
     ]
    },
    {
     "name": "stdout",
     "output_type": "stream",
     "text": [
      "The keys for cell type CT1 are dict_keys(['norm_burst_size', 'norm_degradation_rate', 'norm_splicing_rate', 'norm_spliced_mean', 'norm_unspliced_mean'])\n",
      "\u001b[34mINFO    \u001b[0m Received view of anndata, making copy.                                                                    \n",
      "\u001b[34mINFO    \u001b[0m Input AnnData not setup with scvi-tools. attempting to transfer AnnData setup                             \n",
      "\u001b[34mINFO    \u001b[0m Received view of anndata, making copy.                                                                    \n",
      "\u001b[34mINFO    \u001b[0m Input AnnData not setup with scvi-tools. attempting to transfer AnnData setup                             \n",
      "CT10\n",
      "working on cell_type : CT10\n"
     ]
    },
    {
     "name": "stderr",
     "output_type": "stream",
     "text": [
      "/home/tara/maria/scBIVI/GCCCP_2021/Code/Preprint/../BIVI/biVI.py:529: RuntimeWarning: divide by zero encountered in true_divide\n",
      "  BF = np.sum(lfc_abs>=delta,axis=0)/(np.sum(lfc_abs<delta,axis=0))\n"
     ]
    },
    {
     "name": "stdout",
     "output_type": "stream",
     "text": [
      "The keys for cell type CT10 are dict_keys(['norm_burst_size', 'norm_degradation_rate', 'norm_splicing_rate', 'norm_spliced_mean', 'norm_unspliced_mean'])\n",
      "\u001b[34mINFO    \u001b[0m Received view of anndata, making copy.                                                                    \n",
      "\u001b[34mINFO    \u001b[0m Input AnnData not setup with scvi-tools. attempting to transfer AnnData setup                             \n",
      "\u001b[34mINFO    \u001b[0m Received view of anndata, making copy.                                                                    \n",
      "\u001b[34mINFO    \u001b[0m Input AnnData not setup with scvi-tools. attempting to transfer AnnData setup                             \n",
      "CT11\n",
      "working on cell_type : CT11\n"
     ]
    },
    {
     "name": "stderr",
     "output_type": "stream",
     "text": [
      "/home/tara/maria/scBIVI/GCCCP_2021/Code/Preprint/../BIVI/biVI.py:529: RuntimeWarning: divide by zero encountered in true_divide\n",
      "  BF = np.sum(lfc_abs>=delta,axis=0)/(np.sum(lfc_abs<delta,axis=0))\n"
     ]
    },
    {
     "name": "stdout",
     "output_type": "stream",
     "text": [
      "The keys for cell type CT11 are dict_keys(['norm_burst_size', 'norm_degradation_rate', 'norm_splicing_rate', 'norm_spliced_mean', 'norm_unspliced_mean'])\n",
      "\u001b[34mINFO    \u001b[0m Received view of anndata, making copy.                                                                    \n",
      "\u001b[34mINFO    \u001b[0m Input AnnData not setup with scvi-tools. attempting to transfer AnnData setup                             \n",
      "\u001b[34mINFO    \u001b[0m Received view of anndata, making copy.                                                                    \n",
      "\u001b[34mINFO    \u001b[0m Input AnnData not setup with scvi-tools. attempting to transfer AnnData setup                             \n",
      "CT12\n",
      "working on cell_type : CT12\n",
      "The keys for cell type CT12 are dict_keys(['norm_burst_size', 'norm_degradation_rate', 'norm_splicing_rate', 'norm_spliced_mean', 'norm_unspliced_mean'])\n",
      "\u001b[34mINFO    \u001b[0m Received view of anndata, making copy.                                                                    \n",
      "\u001b[34mINFO    \u001b[0m Input AnnData not setup with scvi-tools. attempting to transfer AnnData setup                             \n",
      "\u001b[34mINFO    \u001b[0m Received view of anndata, making copy.                                                                    \n",
      "\u001b[34mINFO    \u001b[0m Input AnnData not setup with scvi-tools. attempting to transfer AnnData setup                             \n",
      "CT13\n",
      "working on cell_type : CT13\n"
     ]
    },
    {
     "name": "stderr",
     "output_type": "stream",
     "text": [
      "/home/tara/maria/scBIVI/GCCCP_2021/Code/Preprint/../BIVI/biVI.py:529: RuntimeWarning: divide by zero encountered in true_divide\n",
      "  BF = np.sum(lfc_abs>=delta,axis=0)/(np.sum(lfc_abs<delta,axis=0))\n"
     ]
    },
    {
     "name": "stdout",
     "output_type": "stream",
     "text": [
      "The keys for cell type CT13 are dict_keys(['norm_burst_size', 'norm_degradation_rate', 'norm_splicing_rate', 'norm_spliced_mean', 'norm_unspliced_mean'])\n",
      "\u001b[34mINFO    \u001b[0m Received view of anndata, making copy.                                                                    \n",
      "\u001b[34mINFO    \u001b[0m Input AnnData not setup with scvi-tools. attempting to transfer AnnData setup                             \n",
      "\u001b[34mINFO    \u001b[0m Received view of anndata, making copy.                                                                    \n",
      "\u001b[34mINFO    \u001b[0m Input AnnData not setup with scvi-tools. attempting to transfer AnnData setup                             \n",
      "CT14\n",
      "working on cell_type : CT14\n"
     ]
    },
    {
     "name": "stderr",
     "output_type": "stream",
     "text": [
      "/home/tara/maria/scBIVI/GCCCP_2021/Code/Preprint/../BIVI/biVI.py:529: RuntimeWarning: divide by zero encountered in true_divide\n",
      "  BF = np.sum(lfc_abs>=delta,axis=0)/(np.sum(lfc_abs<delta,axis=0))\n"
     ]
    },
    {
     "name": "stdout",
     "output_type": "stream",
     "text": [
      "The keys for cell type CT14 are dict_keys(['norm_burst_size', 'norm_degradation_rate', 'norm_splicing_rate', 'norm_spliced_mean', 'norm_unspliced_mean'])\n",
      "\u001b[34mINFO    \u001b[0m Received view of anndata, making copy.                                                                    \n",
      "\u001b[34mINFO    \u001b[0m Input AnnData not setup with scvi-tools. attempting to transfer AnnData setup                             \n",
      "\u001b[34mINFO    \u001b[0m Received view of anndata, making copy.                                                                    \n",
      "\u001b[34mINFO    \u001b[0m Input AnnData not setup with scvi-tools. attempting to transfer AnnData setup                             \n",
      "CT15\n",
      "working on cell_type : CT15\n"
     ]
    },
    {
     "name": "stderr",
     "output_type": "stream",
     "text": [
      "/home/tara/maria/scBIVI/GCCCP_2021/Code/Preprint/../BIVI/biVI.py:529: RuntimeWarning: divide by zero encountered in true_divide\n",
      "  BF = np.sum(lfc_abs>=delta,axis=0)/(np.sum(lfc_abs<delta,axis=0))\n"
     ]
    },
    {
     "name": "stdout",
     "output_type": "stream",
     "text": [
      "The keys for cell type CT15 are dict_keys(['norm_burst_size', 'norm_degradation_rate', 'norm_splicing_rate', 'norm_spliced_mean', 'norm_unspliced_mean'])\n",
      "\u001b[34mINFO    \u001b[0m Received view of anndata, making copy.                                                                    \n",
      "\u001b[34mINFO    \u001b[0m Input AnnData not setup with scvi-tools. attempting to transfer AnnData setup                             \n",
      "\u001b[34mINFO    \u001b[0m Received view of anndata, making copy.                                                                    \n",
      "\u001b[34mINFO    \u001b[0m Input AnnData not setup with scvi-tools. attempting to transfer AnnData setup                             \n",
      "CT16\n",
      "working on cell_type : CT16\n"
     ]
    },
    {
     "name": "stderr",
     "output_type": "stream",
     "text": [
      "/home/tara/maria/scBIVI/GCCCP_2021/Code/Preprint/../BIVI/biVI.py:529: RuntimeWarning: divide by zero encountered in true_divide\n",
      "  BF = np.sum(lfc_abs>=delta,axis=0)/(np.sum(lfc_abs<delta,axis=0))\n"
     ]
    },
    {
     "name": "stdout",
     "output_type": "stream",
     "text": [
      "The keys for cell type CT16 are dict_keys(['norm_burst_size', 'norm_degradation_rate', 'norm_splicing_rate', 'norm_spliced_mean', 'norm_unspliced_mean'])\n",
      "\u001b[34mINFO    \u001b[0m Received view of anndata, making copy.                                                                    \n",
      "\u001b[34mINFO    \u001b[0m Input AnnData not setup with scvi-tools. attempting to transfer AnnData setup                             \n",
      "\u001b[34mINFO    \u001b[0m Received view of anndata, making copy.                                                                    \n",
      "\u001b[34mINFO    \u001b[0m Input AnnData not setup with scvi-tools. attempting to transfer AnnData setup                             \n",
      "CT17\n",
      "working on cell_type : CT17\n"
     ]
    },
    {
     "name": "stderr",
     "output_type": "stream",
     "text": [
      "/home/tara/maria/scBIVI/GCCCP_2021/Code/Preprint/../BIVI/biVI.py:529: RuntimeWarning: divide by zero encountered in true_divide\n",
      "  BF = np.sum(lfc_abs>=delta,axis=0)/(np.sum(lfc_abs<delta,axis=0))\n"
     ]
    },
    {
     "name": "stdout",
     "output_type": "stream",
     "text": [
      "The keys for cell type CT17 are dict_keys(['norm_burst_size', 'norm_degradation_rate', 'norm_splicing_rate', 'norm_spliced_mean', 'norm_unspliced_mean'])\n",
      "\u001b[34mINFO    \u001b[0m Received view of anndata, making copy.                                                                    \n",
      "\u001b[34mINFO    \u001b[0m Input AnnData not setup with scvi-tools. attempting to transfer AnnData setup                             \n",
      "\u001b[34mINFO    \u001b[0m Received view of anndata, making copy.                                                                    \n",
      "\u001b[34mINFO    \u001b[0m Input AnnData not setup with scvi-tools. attempting to transfer AnnData setup                             \n",
      "CT18\n",
      "working on cell_type : CT18\n"
     ]
    },
    {
     "name": "stderr",
     "output_type": "stream",
     "text": [
      "/home/tara/maria/scBIVI/GCCCP_2021/Code/Preprint/../BIVI/biVI.py:529: RuntimeWarning: divide by zero encountered in true_divide\n",
      "  BF = np.sum(lfc_abs>=delta,axis=0)/(np.sum(lfc_abs<delta,axis=0))\n"
     ]
    },
    {
     "name": "stdout",
     "output_type": "stream",
     "text": [
      "The keys for cell type CT18 are dict_keys(['norm_burst_size', 'norm_degradation_rate', 'norm_splicing_rate', 'norm_spliced_mean', 'norm_unspliced_mean'])\n",
      "\u001b[34mINFO    \u001b[0m Received view of anndata, making copy.                                                                    \n",
      "\u001b[34mINFO    \u001b[0m Input AnnData not setup with scvi-tools. attempting to transfer AnnData setup                             \n",
      "\u001b[34mINFO    \u001b[0m Received view of anndata, making copy.                                                                    \n",
      "\u001b[34mINFO    \u001b[0m Input AnnData not setup with scvi-tools. attempting to transfer AnnData setup                             \n",
      "CT19\n",
      "working on cell_type : CT19\n"
     ]
    },
    {
     "name": "stderr",
     "output_type": "stream",
     "text": [
      "/home/tara/maria/scBIVI/GCCCP_2021/Code/Preprint/../BIVI/biVI.py:529: RuntimeWarning: divide by zero encountered in true_divide\n",
      "  BF = np.sum(lfc_abs>=delta,axis=0)/(np.sum(lfc_abs<delta,axis=0))\n"
     ]
    },
    {
     "name": "stdout",
     "output_type": "stream",
     "text": [
      "The keys for cell type CT19 are dict_keys(['norm_burst_size', 'norm_degradation_rate', 'norm_splicing_rate', 'norm_spliced_mean', 'norm_unspliced_mean'])\n",
      "\u001b[34mINFO    \u001b[0m Received view of anndata, making copy.                                                                    \n",
      "\u001b[34mINFO    \u001b[0m Input AnnData not setup with scvi-tools. attempting to transfer AnnData setup                             \n",
      "\u001b[34mINFO    \u001b[0m Received view of anndata, making copy.                                                                    \n",
      "\u001b[34mINFO    \u001b[0m Input AnnData not setup with scvi-tools. attempting to transfer AnnData setup                             \n",
      "CT2\n",
      "working on cell_type : CT2\n"
     ]
    },
    {
     "name": "stderr",
     "output_type": "stream",
     "text": [
      "/home/tara/maria/scBIVI/GCCCP_2021/Code/Preprint/../BIVI/biVI.py:529: RuntimeWarning: divide by zero encountered in true_divide\n",
      "  BF = np.sum(lfc_abs>=delta,axis=0)/(np.sum(lfc_abs<delta,axis=0))\n"
     ]
    },
    {
     "name": "stdout",
     "output_type": "stream",
     "text": [
      "The keys for cell type CT2 are dict_keys(['norm_burst_size', 'norm_degradation_rate', 'norm_splicing_rate', 'norm_spliced_mean', 'norm_unspliced_mean'])\n",
      "\u001b[34mINFO    \u001b[0m Received view of anndata, making copy.                                                                    \n",
      "\u001b[34mINFO    \u001b[0m Input AnnData not setup with scvi-tools. attempting to transfer AnnData setup                             \n",
      "\u001b[34mINFO    \u001b[0m Received view of anndata, making copy.                                                                    \n",
      "\u001b[34mINFO    \u001b[0m Input AnnData not setup with scvi-tools. attempting to transfer AnnData setup                             \n",
      "CT3\n",
      "working on cell_type : CT3\n",
      "The keys for cell type CT3 are dict_keys(['norm_burst_size', 'norm_degradation_rate', 'norm_splicing_rate', 'norm_spliced_mean', 'norm_unspliced_mean'])\n",
      "\u001b[34mINFO    \u001b[0m Received view of anndata, making copy.                                                                    \n",
      "\u001b[34mINFO    \u001b[0m Input AnnData not setup with scvi-tools. attempting to transfer AnnData setup                             \n",
      "\u001b[34mINFO    \u001b[0m Received view of anndata, making copy.                                                                    \n",
      "\u001b[34mINFO    \u001b[0m Input AnnData not setup with scvi-tools. attempting to transfer AnnData setup                             \n",
      "CT4\n",
      "working on cell_type : CT4\n"
     ]
    },
    {
     "name": "stderr",
     "output_type": "stream",
     "text": [
      "/home/tara/maria/scBIVI/GCCCP_2021/Code/Preprint/../BIVI/biVI.py:529: RuntimeWarning: divide by zero encountered in true_divide\n",
      "  BF = np.sum(lfc_abs>=delta,axis=0)/(np.sum(lfc_abs<delta,axis=0))\n"
     ]
    },
    {
     "name": "stdout",
     "output_type": "stream",
     "text": [
      "The keys for cell type CT4 are dict_keys(['norm_burst_size', 'norm_degradation_rate', 'norm_splicing_rate', 'norm_spliced_mean', 'norm_unspliced_mean'])\n",
      "\u001b[34mINFO    \u001b[0m Received view of anndata, making copy.                                                                    \n",
      "\u001b[34mINFO    \u001b[0m Input AnnData not setup with scvi-tools. attempting to transfer AnnData setup                             \n",
      "\u001b[34mINFO    \u001b[0m Received view of anndata, making copy.                                                                    \n",
      "\u001b[34mINFO    \u001b[0m Input AnnData not setup with scvi-tools. attempting to transfer AnnData setup                             \n",
      "CT5\n",
      "working on cell_type : CT5\n"
     ]
    },
    {
     "name": "stderr",
     "output_type": "stream",
     "text": [
      "/home/tara/maria/scBIVI/GCCCP_2021/Code/Preprint/../BIVI/biVI.py:529: RuntimeWarning: divide by zero encountered in true_divide\n",
      "  BF = np.sum(lfc_abs>=delta,axis=0)/(np.sum(lfc_abs<delta,axis=0))\n"
     ]
    },
    {
     "name": "stdout",
     "output_type": "stream",
     "text": [
      "The keys for cell type CT5 are dict_keys(['norm_burst_size', 'norm_degradation_rate', 'norm_splicing_rate', 'norm_spliced_mean', 'norm_unspliced_mean'])\n",
      "\u001b[34mINFO    \u001b[0m Received view of anndata, making copy.                                                                    \n",
      "\u001b[34mINFO    \u001b[0m Input AnnData not setup with scvi-tools. attempting to transfer AnnData setup                             \n",
      "\u001b[34mINFO    \u001b[0m Received view of anndata, making copy.                                                                    \n",
      "\u001b[34mINFO    \u001b[0m Input AnnData not setup with scvi-tools. attempting to transfer AnnData setup                             \n",
      "CT6\n",
      "working on cell_type : CT6\n"
     ]
    },
    {
     "name": "stderr",
     "output_type": "stream",
     "text": [
      "/home/tara/maria/scBIVI/GCCCP_2021/Code/Preprint/../BIVI/biVI.py:529: RuntimeWarning: divide by zero encountered in true_divide\n",
      "  BF = np.sum(lfc_abs>=delta,axis=0)/(np.sum(lfc_abs<delta,axis=0))\n"
     ]
    },
    {
     "name": "stdout",
     "output_type": "stream",
     "text": [
      "The keys for cell type CT6 are dict_keys(['norm_burst_size', 'norm_degradation_rate', 'norm_splicing_rate', 'norm_spliced_mean', 'norm_unspliced_mean'])\n",
      "\u001b[34mINFO    \u001b[0m Received view of anndata, making copy.                                                                    \n",
      "\u001b[34mINFO    \u001b[0m Input AnnData not setup with scvi-tools. attempting to transfer AnnData setup                             \n",
      "\u001b[34mINFO    \u001b[0m Received view of anndata, making copy.                                                                    \n",
      "\u001b[34mINFO    \u001b[0m Input AnnData not setup with scvi-tools. attempting to transfer AnnData setup                             \n",
      "CT7\n",
      "working on cell_type : CT7\n"
     ]
    },
    {
     "name": "stderr",
     "output_type": "stream",
     "text": [
      "/home/tara/maria/scBIVI/GCCCP_2021/Code/Preprint/../BIVI/biVI.py:529: RuntimeWarning: divide by zero encountered in true_divide\n",
      "  BF = np.sum(lfc_abs>=delta,axis=0)/(np.sum(lfc_abs<delta,axis=0))\n"
     ]
    },
    {
     "name": "stdout",
     "output_type": "stream",
     "text": [
      "The keys for cell type CT7 are dict_keys(['norm_burst_size', 'norm_degradation_rate', 'norm_splicing_rate', 'norm_spliced_mean', 'norm_unspliced_mean'])\n",
      "\u001b[34mINFO    \u001b[0m Received view of anndata, making copy.                                                                    \n",
      "\u001b[34mINFO    \u001b[0m Input AnnData not setup with scvi-tools. attempting to transfer AnnData setup                             \n",
      "\u001b[34mINFO    \u001b[0m Received view of anndata, making copy.                                                                    \n",
      "\u001b[34mINFO    \u001b[0m Input AnnData not setup with scvi-tools. attempting to transfer AnnData setup                             \n",
      "CT8\n",
      "working on cell_type : CT8\n"
     ]
    },
    {
     "name": "stderr",
     "output_type": "stream",
     "text": [
      "/home/tara/maria/scBIVI/GCCCP_2021/Code/Preprint/../BIVI/biVI.py:529: RuntimeWarning: divide by zero encountered in true_divide\n",
      "  BF = np.sum(lfc_abs>=delta,axis=0)/(np.sum(lfc_abs<delta,axis=0))\n"
     ]
    },
    {
     "name": "stdout",
     "output_type": "stream",
     "text": [
      "The keys for cell type CT8 are dict_keys(['norm_burst_size', 'norm_degradation_rate', 'norm_splicing_rate', 'norm_spliced_mean', 'norm_unspliced_mean'])\n",
      "\u001b[34mINFO    \u001b[0m Received view of anndata, making copy.                                                                    \n",
      "\u001b[34mINFO    \u001b[0m Input AnnData not setup with scvi-tools. attempting to transfer AnnData setup                             \n",
      "\u001b[34mINFO    \u001b[0m Received view of anndata, making copy.                                                                    \n",
      "\u001b[34mINFO    \u001b[0m Input AnnData not setup with scvi-tools. attempting to transfer AnnData setup                             \n",
      "CT9\n",
      "working on cell_type : CT9\n"
     ]
    },
    {
     "name": "stderr",
     "output_type": "stream",
     "text": [
      "/home/tara/maria/scBIVI/GCCCP_2021/Code/Preprint/../BIVI/biVI.py:529: RuntimeWarning: divide by zero encountered in true_divide\n",
      "  BF = np.sum(lfc_abs>=delta,axis=0)/(np.sum(lfc_abs<delta,axis=0))\n"
     ]
    },
    {
     "name": "stdout",
     "output_type": "stream",
     "text": [
      "The keys for cell type CT9 are dict_keys(['norm_burst_size', 'norm_degradation_rate', 'norm_splicing_rate', 'norm_spliced_mean', 'norm_unspliced_mean'])\n",
      "\u001b[34mINFO    \u001b[0m Received view of anndata, making copy.                                                                    \n",
      "\u001b[34mINFO    \u001b[0m Input AnnData not setup with scvi-tools. attempting to transfer AnnData setup                             \n",
      "\u001b[34mINFO    \u001b[0m Received view of anndata, making copy.                                                                    \n",
      "\u001b[34mINFO    \u001b[0m Input AnnData not setup with scvi-tools. attempting to transfer AnnData setup                             \n"
     ]
    },
    {
     "name": "stderr",
     "output_type": "stream",
     "text": [
      "/usr/local/lib/python3.8/dist-packages/pandas/core/arraylike.py:397: RuntimeWarning: divide by zero encountered in log\n",
      "  result = getattr(ufunc, method)(*inputs, **kwargs)\n"
     ]
    },
    {
     "name": "stdout",
     "output_type": "stream",
     "text": [
      "CT0\n",
      "CT1\n",
      "CT10\n",
      "CT11\n",
      "CT12\n",
      "CT13\n",
      "CT14\n",
      "CT15\n",
      "CT16\n",
      "CT17\n",
      "CT18\n",
      "CT19\n",
      "CT2\n",
      "CT3\n",
      "CT4\n",
      "CT5\n",
      "CT6\n",
      "CT7\n",
      "CT8\n",
      "CT9\n",
      "DE...: 100%|██████████| 20/20 [00:08<00:00,  2.25it/s]\n",
      "CT0\n",
      "working on cell_type : CT0\n"
     ]
    },
    {
     "name": "stderr",
     "output_type": "stream",
     "text": [
      "/home/tara/maria/scBIVI/GCCCP_2021/Code/Preprint/../BIVI/biVI.py:529: RuntimeWarning: divide by zero encountered in true_divide\n",
      "  BF = np.sum(lfc_abs>=delta,axis=0)/(np.sum(lfc_abs<delta,axis=0))\n"
     ]
    },
    {
     "name": "stdout",
     "output_type": "stream",
     "text": [
      "The keys for cell type CT0 are dict_keys(['norm_burst_size', 'norm_degradation_rate', 'norm_splicing_rate', 'norm_spliced_mean', 'norm_unspliced_mean'])\n",
      "\u001b[34mINFO    \u001b[0m Received view of anndata, making copy.                                                                    \n",
      "\u001b[34mINFO    \u001b[0m Input AnnData not setup with scvi-tools. attempting to transfer AnnData setup                             \n",
      "\u001b[34mINFO    \u001b[0m Received view of anndata, making copy.                                                                    \n",
      "\u001b[34mINFO    \u001b[0m Input AnnData not setup with scvi-tools. attempting to transfer AnnData setup                             \n",
      "CT1\n",
      "working on cell_type : CT1\n"
     ]
    },
    {
     "name": "stderr",
     "output_type": "stream",
     "text": [
      "/home/tara/maria/scBIVI/GCCCP_2021/Code/Preprint/../BIVI/biVI.py:529: RuntimeWarning: divide by zero encountered in true_divide\n",
      "  BF = np.sum(lfc_abs>=delta,axis=0)/(np.sum(lfc_abs<delta,axis=0))\n"
     ]
    },
    {
     "name": "stdout",
     "output_type": "stream",
     "text": [
      "The keys for cell type CT1 are dict_keys(['norm_burst_size', 'norm_degradation_rate', 'norm_splicing_rate', 'norm_spliced_mean', 'norm_unspliced_mean'])\n",
      "\u001b[34mINFO    \u001b[0m Received view of anndata, making copy.                                                                    \n",
      "\u001b[34mINFO    \u001b[0m Input AnnData not setup with scvi-tools. attempting to transfer AnnData setup                             \n",
      "\u001b[34mINFO    \u001b[0m Received view of anndata, making copy.                                                                    \n",
      "\u001b[34mINFO    \u001b[0m Input AnnData not setup with scvi-tools. attempting to transfer AnnData setup                             \n",
      "CT10\n",
      "working on cell_type : CT10\n"
     ]
    },
    {
     "name": "stderr",
     "output_type": "stream",
     "text": [
      "/home/tara/maria/scBIVI/GCCCP_2021/Code/Preprint/../BIVI/biVI.py:529: RuntimeWarning: divide by zero encountered in true_divide\n",
      "  BF = np.sum(lfc_abs>=delta,axis=0)/(np.sum(lfc_abs<delta,axis=0))\n"
     ]
    },
    {
     "name": "stdout",
     "output_type": "stream",
     "text": [
      "The keys for cell type CT10 are dict_keys(['norm_burst_size', 'norm_degradation_rate', 'norm_splicing_rate', 'norm_spliced_mean', 'norm_unspliced_mean'])\n",
      "\u001b[34mINFO    \u001b[0m Received view of anndata, making copy.                                                                    \n",
      "\u001b[34mINFO    \u001b[0m Input AnnData not setup with scvi-tools. attempting to transfer AnnData setup                             \n",
      "\u001b[34mINFO    \u001b[0m Received view of anndata, making copy.                                                                    \n",
      "\u001b[34mINFO    \u001b[0m Input AnnData not setup with scvi-tools. attempting to transfer AnnData setup                             \n",
      "CT11\n",
      "working on cell_type : CT11\n"
     ]
    },
    {
     "name": "stderr",
     "output_type": "stream",
     "text": [
      "/home/tara/maria/scBIVI/GCCCP_2021/Code/Preprint/../BIVI/biVI.py:529: RuntimeWarning: divide by zero encountered in true_divide\n",
      "  BF = np.sum(lfc_abs>=delta,axis=0)/(np.sum(lfc_abs<delta,axis=0))\n"
     ]
    },
    {
     "name": "stdout",
     "output_type": "stream",
     "text": [
      "The keys for cell type CT11 are dict_keys(['norm_burst_size', 'norm_degradation_rate', 'norm_splicing_rate', 'norm_spliced_mean', 'norm_unspliced_mean'])\n",
      "\u001b[34mINFO    \u001b[0m Received view of anndata, making copy.                                                                    \n",
      "\u001b[34mINFO    \u001b[0m Input AnnData not setup with scvi-tools. attempting to transfer AnnData setup                             \n",
      "\u001b[34mINFO    \u001b[0m Received view of anndata, making copy.                                                                    \n",
      "\u001b[34mINFO    \u001b[0m Input AnnData not setup with scvi-tools. attempting to transfer AnnData setup                             \n",
      "CT12\n",
      "working on cell_type : CT12\n"
     ]
    },
    {
     "name": "stderr",
     "output_type": "stream",
     "text": [
      "/home/tara/maria/scBIVI/GCCCP_2021/Code/Preprint/../BIVI/biVI.py:529: RuntimeWarning: divide by zero encountered in true_divide\n",
      "  BF = np.sum(lfc_abs>=delta,axis=0)/(np.sum(lfc_abs<delta,axis=0))\n"
     ]
    },
    {
     "name": "stdout",
     "output_type": "stream",
     "text": [
      "The keys for cell type CT12 are dict_keys(['norm_burst_size', 'norm_degradation_rate', 'norm_splicing_rate', 'norm_spliced_mean', 'norm_unspliced_mean'])\n",
      "\u001b[34mINFO    \u001b[0m Received view of anndata, making copy.                                                                    \n",
      "\u001b[34mINFO    \u001b[0m Input AnnData not setup with scvi-tools. attempting to transfer AnnData setup                             \n",
      "\u001b[34mINFO    \u001b[0m Received view of anndata, making copy.                                                                    \n",
      "\u001b[34mINFO    \u001b[0m Input AnnData not setup with scvi-tools. attempting to transfer AnnData setup                             \n",
      "CT13\n",
      "working on cell_type : CT13\n"
     ]
    },
    {
     "name": "stderr",
     "output_type": "stream",
     "text": [
      "/home/tara/maria/scBIVI/GCCCP_2021/Code/Preprint/../BIVI/biVI.py:529: RuntimeWarning: divide by zero encountered in true_divide\n",
      "  BF = np.sum(lfc_abs>=delta,axis=0)/(np.sum(lfc_abs<delta,axis=0))\n"
     ]
    },
    {
     "name": "stdout",
     "output_type": "stream",
     "text": [
      "The keys for cell type CT13 are dict_keys(['norm_burst_size', 'norm_degradation_rate', 'norm_splicing_rate', 'norm_spliced_mean', 'norm_unspliced_mean'])\n",
      "\u001b[34mINFO    \u001b[0m Received view of anndata, making copy.                                                                    \n",
      "\u001b[34mINFO    \u001b[0m Input AnnData not setup with scvi-tools. attempting to transfer AnnData setup                             \n",
      "\u001b[34mINFO    \u001b[0m Received view of anndata, making copy.                                                                    \n",
      "\u001b[34mINFO    \u001b[0m Input AnnData not setup with scvi-tools. attempting to transfer AnnData setup                             \n",
      "CT14\n",
      "working on cell_type : CT14\n"
     ]
    },
    {
     "name": "stderr",
     "output_type": "stream",
     "text": [
      "/home/tara/maria/scBIVI/GCCCP_2021/Code/Preprint/../BIVI/biVI.py:529: RuntimeWarning: divide by zero encountered in true_divide\n",
      "  BF = np.sum(lfc_abs>=delta,axis=0)/(np.sum(lfc_abs<delta,axis=0))\n"
     ]
    },
    {
     "name": "stdout",
     "output_type": "stream",
     "text": [
      "The keys for cell type CT14 are dict_keys(['norm_burst_size', 'norm_degradation_rate', 'norm_splicing_rate', 'norm_spliced_mean', 'norm_unspliced_mean'])\n",
      "\u001b[34mINFO    \u001b[0m Received view of anndata, making copy.                                                                    \n",
      "\u001b[34mINFO    \u001b[0m Input AnnData not setup with scvi-tools. attempting to transfer AnnData setup                             \n",
      "\u001b[34mINFO    \u001b[0m Received view of anndata, making copy.                                                                    \n",
      "\u001b[34mINFO    \u001b[0m Input AnnData not setup with scvi-tools. attempting to transfer AnnData setup                             \n",
      "CT15\n",
      "working on cell_type : CT15\n"
     ]
    },
    {
     "name": "stderr",
     "output_type": "stream",
     "text": [
      "/home/tara/maria/scBIVI/GCCCP_2021/Code/Preprint/../BIVI/biVI.py:529: RuntimeWarning: divide by zero encountered in true_divide\n",
      "  BF = np.sum(lfc_abs>=delta,axis=0)/(np.sum(lfc_abs<delta,axis=0))\n"
     ]
    },
    {
     "name": "stdout",
     "output_type": "stream",
     "text": [
      "The keys for cell type CT15 are dict_keys(['norm_burst_size', 'norm_degradation_rate', 'norm_splicing_rate', 'norm_spliced_mean', 'norm_unspliced_mean'])\n",
      "\u001b[34mINFO    \u001b[0m Received view of anndata, making copy.                                                                    \n",
      "\u001b[34mINFO    \u001b[0m Input AnnData not setup with scvi-tools. attempting to transfer AnnData setup                             \n",
      "\u001b[34mINFO    \u001b[0m Received view of anndata, making copy.                                                                    \n",
      "\u001b[34mINFO    \u001b[0m Input AnnData not setup with scvi-tools. attempting to transfer AnnData setup                             \n",
      "CT16\n",
      "working on cell_type : CT16\n"
     ]
    },
    {
     "name": "stderr",
     "output_type": "stream",
     "text": [
      "/home/tara/maria/scBIVI/GCCCP_2021/Code/Preprint/../BIVI/biVI.py:529: RuntimeWarning: divide by zero encountered in true_divide\n",
      "  BF = np.sum(lfc_abs>=delta,axis=0)/(np.sum(lfc_abs<delta,axis=0))\n"
     ]
    },
    {
     "name": "stdout",
     "output_type": "stream",
     "text": [
      "The keys for cell type CT16 are dict_keys(['norm_burst_size', 'norm_degradation_rate', 'norm_splicing_rate', 'norm_spliced_mean', 'norm_unspliced_mean'])\n",
      "\u001b[34mINFO    \u001b[0m Received view of anndata, making copy.                                                                    \n",
      "\u001b[34mINFO    \u001b[0m Input AnnData not setup with scvi-tools. attempting to transfer AnnData setup                             \n",
      "\u001b[34mINFO    \u001b[0m Received view of anndata, making copy.                                                                    \n",
      "\u001b[34mINFO    \u001b[0m Input AnnData not setup with scvi-tools. attempting to transfer AnnData setup                             \n",
      "CT17\n",
      "working on cell_type : CT17\n"
     ]
    },
    {
     "name": "stderr",
     "output_type": "stream",
     "text": [
      "/home/tara/maria/scBIVI/GCCCP_2021/Code/Preprint/../BIVI/biVI.py:529: RuntimeWarning: divide by zero encountered in true_divide\n",
      "  BF = np.sum(lfc_abs>=delta,axis=0)/(np.sum(lfc_abs<delta,axis=0))\n"
     ]
    },
    {
     "name": "stdout",
     "output_type": "stream",
     "text": [
      "The keys for cell type CT17 are dict_keys(['norm_burst_size', 'norm_degradation_rate', 'norm_splicing_rate', 'norm_spliced_mean', 'norm_unspliced_mean'])\n",
      "\u001b[34mINFO    \u001b[0m Received view of anndata, making copy.                                                                    \n",
      "\u001b[34mINFO    \u001b[0m Input AnnData not setup with scvi-tools. attempting to transfer AnnData setup                             \n",
      "\u001b[34mINFO    \u001b[0m Received view of anndata, making copy.                                                                    \n",
      "\u001b[34mINFO    \u001b[0m Input AnnData not setup with scvi-tools. attempting to transfer AnnData setup                             \n",
      "CT18\n",
      "working on cell_type : CT18\n"
     ]
    },
    {
     "name": "stderr",
     "output_type": "stream",
     "text": [
      "/home/tara/maria/scBIVI/GCCCP_2021/Code/Preprint/../BIVI/biVI.py:529: RuntimeWarning: divide by zero encountered in true_divide\n",
      "  BF = np.sum(lfc_abs>=delta,axis=0)/(np.sum(lfc_abs<delta,axis=0))\n"
     ]
    },
    {
     "name": "stdout",
     "output_type": "stream",
     "text": [
      "The keys for cell type CT18 are dict_keys(['norm_burst_size', 'norm_degradation_rate', 'norm_splicing_rate', 'norm_spliced_mean', 'norm_unspliced_mean'])\n",
      "\u001b[34mINFO    \u001b[0m Received view of anndata, making copy.                                                                    \n",
      "\u001b[34mINFO    \u001b[0m Input AnnData not setup with scvi-tools. attempting to transfer AnnData setup                             \n",
      "\u001b[34mINFO    \u001b[0m Received view of anndata, making copy.                                                                    \n",
      "\u001b[34mINFO    \u001b[0m Input AnnData not setup with scvi-tools. attempting to transfer AnnData setup                             \n",
      "CT19\n",
      "working on cell_type : CT19\n"
     ]
    },
    {
     "name": "stderr",
     "output_type": "stream",
     "text": [
      "/home/tara/maria/scBIVI/GCCCP_2021/Code/Preprint/../BIVI/biVI.py:529: RuntimeWarning: divide by zero encountered in true_divide\n",
      "  BF = np.sum(lfc_abs>=delta,axis=0)/(np.sum(lfc_abs<delta,axis=0))\n"
     ]
    },
    {
     "name": "stdout",
     "output_type": "stream",
     "text": [
      "The keys for cell type CT19 are dict_keys(['norm_burst_size', 'norm_degradation_rate', 'norm_splicing_rate', 'norm_spliced_mean', 'norm_unspliced_mean'])\n",
      "\u001b[34mINFO    \u001b[0m Received view of anndata, making copy.                                                                    \n",
      "\u001b[34mINFO    \u001b[0m Input AnnData not setup with scvi-tools. attempting to transfer AnnData setup                             \n",
      "\u001b[34mINFO    \u001b[0m Received view of anndata, making copy.                                                                    \n",
      "\u001b[34mINFO    \u001b[0m Input AnnData not setup with scvi-tools. attempting to transfer AnnData setup                             \n",
      "CT2\n",
      "working on cell_type : CT2\n"
     ]
    },
    {
     "name": "stderr",
     "output_type": "stream",
     "text": [
      "/home/tara/maria/scBIVI/GCCCP_2021/Code/Preprint/../BIVI/biVI.py:529: RuntimeWarning: divide by zero encountered in true_divide\n",
      "  BF = np.sum(lfc_abs>=delta,axis=0)/(np.sum(lfc_abs<delta,axis=0))\n"
     ]
    },
    {
     "name": "stdout",
     "output_type": "stream",
     "text": [
      "The keys for cell type CT2 are dict_keys(['norm_burst_size', 'norm_degradation_rate', 'norm_splicing_rate', 'norm_spliced_mean', 'norm_unspliced_mean'])\n",
      "\u001b[34mINFO    \u001b[0m Received view of anndata, making copy.                                                                    \n",
      "\u001b[34mINFO    \u001b[0m Input AnnData not setup with scvi-tools. attempting to transfer AnnData setup                             \n",
      "\u001b[34mINFO    \u001b[0m Received view of anndata, making copy.                                                                    \n",
      "\u001b[34mINFO    \u001b[0m Input AnnData not setup with scvi-tools. attempting to transfer AnnData setup                             \n",
      "CT3\n",
      "working on cell_type : CT3\n",
      "The keys for cell type CT3 are dict_keys(['norm_burst_size', 'norm_degradation_rate', 'norm_splicing_rate', 'norm_spliced_mean', 'norm_unspliced_mean'])\n",
      "\u001b[34mINFO    \u001b[0m Received view of anndata, making copy.                                                                    \n",
      "\u001b[34mINFO    \u001b[0m Input AnnData not setup with scvi-tools. attempting to transfer AnnData setup                             \n",
      "\u001b[34mINFO    \u001b[0m Received view of anndata, making copy.                                                                    \n",
      "\u001b[34mINFO    \u001b[0m Input AnnData not setup with scvi-tools. attempting to transfer AnnData setup                             \n",
      "CT4\n",
      "working on cell_type : CT4\n"
     ]
    },
    {
     "name": "stderr",
     "output_type": "stream",
     "text": [
      "/home/tara/maria/scBIVI/GCCCP_2021/Code/Preprint/../BIVI/biVI.py:529: RuntimeWarning: divide by zero encountered in true_divide\n",
      "  BF = np.sum(lfc_abs>=delta,axis=0)/(np.sum(lfc_abs<delta,axis=0))\n"
     ]
    },
    {
     "name": "stdout",
     "output_type": "stream",
     "text": [
      "The keys for cell type CT4 are dict_keys(['norm_burst_size', 'norm_degradation_rate', 'norm_splicing_rate', 'norm_spliced_mean', 'norm_unspliced_mean'])\n",
      "\u001b[34mINFO    \u001b[0m Received view of anndata, making copy.                                                                    \n",
      "\u001b[34mINFO    \u001b[0m Input AnnData not setup with scvi-tools. attempting to transfer AnnData setup                             \n",
      "\u001b[34mINFO    \u001b[0m Received view of anndata, making copy.                                                                    \n",
      "\u001b[34mINFO    \u001b[0m Input AnnData not setup with scvi-tools. attempting to transfer AnnData setup                             \n",
      "CT5\n",
      "working on cell_type : CT5\n"
     ]
    },
    {
     "name": "stderr",
     "output_type": "stream",
     "text": [
      "/home/tara/maria/scBIVI/GCCCP_2021/Code/Preprint/../BIVI/biVI.py:529: RuntimeWarning: divide by zero encountered in true_divide\n",
      "  BF = np.sum(lfc_abs>=delta,axis=0)/(np.sum(lfc_abs<delta,axis=0))\n"
     ]
    },
    {
     "name": "stdout",
     "output_type": "stream",
     "text": [
      "The keys for cell type CT5 are dict_keys(['norm_burst_size', 'norm_degradation_rate', 'norm_splicing_rate', 'norm_spliced_mean', 'norm_unspliced_mean'])\n",
      "\u001b[34mINFO    \u001b[0m Received view of anndata, making copy.                                                                    \n",
      "\u001b[34mINFO    \u001b[0m Input AnnData not setup with scvi-tools. attempting to transfer AnnData setup                             \n",
      "\u001b[34mINFO    \u001b[0m Received view of anndata, making copy.                                                                    \n",
      "\u001b[34mINFO    \u001b[0m Input AnnData not setup with scvi-tools. attempting to transfer AnnData setup                             \n",
      "CT6\n",
      "working on cell_type : CT6\n"
     ]
    },
    {
     "name": "stderr",
     "output_type": "stream",
     "text": [
      "/home/tara/maria/scBIVI/GCCCP_2021/Code/Preprint/../BIVI/biVI.py:529: RuntimeWarning: divide by zero encountered in true_divide\n",
      "  BF = np.sum(lfc_abs>=delta,axis=0)/(np.sum(lfc_abs<delta,axis=0))\n"
     ]
    },
    {
     "name": "stdout",
     "output_type": "stream",
     "text": [
      "The keys for cell type CT6 are dict_keys(['norm_burst_size', 'norm_degradation_rate', 'norm_splicing_rate', 'norm_spliced_mean', 'norm_unspliced_mean'])\n",
      "\u001b[34mINFO    \u001b[0m Received view of anndata, making copy.                                                                    \n",
      "\u001b[34mINFO    \u001b[0m Input AnnData not setup with scvi-tools. attempting to transfer AnnData setup                             \n",
      "\u001b[34mINFO    \u001b[0m Received view of anndata, making copy.                                                                    \n",
      "\u001b[34mINFO    \u001b[0m Input AnnData not setup with scvi-tools. attempting to transfer AnnData setup                             \n",
      "CT7\n",
      "working on cell_type : CT7\n"
     ]
    },
    {
     "name": "stderr",
     "output_type": "stream",
     "text": [
      "/home/tara/maria/scBIVI/GCCCP_2021/Code/Preprint/../BIVI/biVI.py:529: RuntimeWarning: divide by zero encountered in true_divide\n",
      "  BF = np.sum(lfc_abs>=delta,axis=0)/(np.sum(lfc_abs<delta,axis=0))\n"
     ]
    },
    {
     "name": "stdout",
     "output_type": "stream",
     "text": [
      "The keys for cell type CT7 are dict_keys(['norm_burst_size', 'norm_degradation_rate', 'norm_splicing_rate', 'norm_spliced_mean', 'norm_unspliced_mean'])\n",
      "\u001b[34mINFO    \u001b[0m Received view of anndata, making copy.                                                                    \n",
      "\u001b[34mINFO    \u001b[0m Input AnnData not setup with scvi-tools. attempting to transfer AnnData setup                             \n",
      "\u001b[34mINFO    \u001b[0m Received view of anndata, making copy.                                                                    \n",
      "\u001b[34mINFO    \u001b[0m Input AnnData not setup with scvi-tools. attempting to transfer AnnData setup                             \n",
      "CT8\n",
      "working on cell_type : CT8\n"
     ]
    },
    {
     "name": "stderr",
     "output_type": "stream",
     "text": [
      "/home/tara/maria/scBIVI/GCCCP_2021/Code/Preprint/../BIVI/biVI.py:529: RuntimeWarning: divide by zero encountered in true_divide\n",
      "  BF = np.sum(lfc_abs>=delta,axis=0)/(np.sum(lfc_abs<delta,axis=0))\n"
     ]
    },
    {
     "name": "stdout",
     "output_type": "stream",
     "text": [
      "The keys for cell type CT8 are dict_keys(['norm_burst_size', 'norm_degradation_rate', 'norm_splicing_rate', 'norm_spliced_mean', 'norm_unspliced_mean'])\n",
      "\u001b[34mINFO    \u001b[0m Received view of anndata, making copy.                                                                    \n",
      "\u001b[34mINFO    \u001b[0m Input AnnData not setup with scvi-tools. attempting to transfer AnnData setup                             \n",
      "\u001b[34mINFO    \u001b[0m Received view of anndata, making copy.                                                                    \n",
      "\u001b[34mINFO    \u001b[0m Input AnnData not setup with scvi-tools. attempting to transfer AnnData setup                             \n",
      "CT9\n",
      "working on cell_type : CT9\n"
     ]
    },
    {
     "name": "stderr",
     "output_type": "stream",
     "text": [
      "/home/tara/maria/scBIVI/GCCCP_2021/Code/Preprint/../BIVI/biVI.py:529: RuntimeWarning: divide by zero encountered in true_divide\n",
      "  BF = np.sum(lfc_abs>=delta,axis=0)/(np.sum(lfc_abs<delta,axis=0))\n"
     ]
    },
    {
     "name": "stdout",
     "output_type": "stream",
     "text": [
      "The keys for cell type CT9 are dict_keys(['norm_burst_size', 'norm_degradation_rate', 'norm_splicing_rate', 'norm_spliced_mean', 'norm_unspliced_mean'])\n",
      "\u001b[34mINFO    \u001b[0m Received view of anndata, making copy.                                                                    \n",
      "\u001b[34mINFO    \u001b[0m Input AnnData not setup with scvi-tools. attempting to transfer AnnData setup                             \n",
      "\u001b[34mINFO    \u001b[0m Received view of anndata, making copy.                                                                    \n",
      "\u001b[34mINFO    \u001b[0m Input AnnData not setup with scvi-tools. attempting to transfer AnnData setup                             \n"
     ]
    },
    {
     "name": "stderr",
     "output_type": "stream",
     "text": [
      "/usr/local/lib/python3.8/dist-packages/pandas/core/arraylike.py:397: RuntimeWarning: divide by zero encountered in log\n",
      "  result = getattr(ufunc, method)(*inputs, **kwargs)\n"
     ]
    },
    {
     "name": "stdout",
     "output_type": "stream",
     "text": [
      "CT0\n",
      "CT1\n",
      "CT10\n",
      "CT11\n",
      "CT12\n",
      "CT13\n",
      "CT14\n",
      "CT15\n",
      "CT16\n",
      "CT17\n",
      "CT18\n",
      "CT19\n",
      "CT2\n",
      "CT3\n",
      "CT4\n",
      "CT5\n",
      "CT6\n",
      "CT7\n",
      "CT8\n",
      "CT9\n",
      "DE...: 100%|██████████| 20/20 [00:07<00:00,  2.52it/s]\n",
      "CT0\n",
      "working on cell_type : CT0\n"
     ]
    },
    {
     "name": "stderr",
     "output_type": "stream",
     "text": [
      "/home/tara/maria/scBIVI/GCCCP_2021/Code/Preprint/../BIVI/biVI.py:529: RuntimeWarning: divide by zero encountered in true_divide\n",
      "  BF = np.sum(lfc_abs>=delta,axis=0)/(np.sum(lfc_abs<delta,axis=0))\n"
     ]
    },
    {
     "name": "stdout",
     "output_type": "stream",
     "text": [
      "The keys for cell type CT0 are dict_keys(['norm_burst_size', 'norm_degradation_rate', 'norm_splicing_rate', 'norm_spliced_mean', 'norm_unspliced_mean'])\n",
      "\u001b[34mINFO    \u001b[0m Received view of anndata, making copy.                                                                    \n",
      "\u001b[34mINFO    \u001b[0m Input AnnData not setup with scvi-tools. attempting to transfer AnnData setup                             \n",
      "\u001b[34mINFO    \u001b[0m Received view of anndata, making copy.                                                                    \n",
      "\u001b[34mINFO    \u001b[0m Input AnnData not setup with scvi-tools. attempting to transfer AnnData setup                             \n",
      "CT1\n",
      "working on cell_type : CT1\n"
     ]
    },
    {
     "name": "stderr",
     "output_type": "stream",
     "text": [
      "/home/tara/maria/scBIVI/GCCCP_2021/Code/Preprint/../BIVI/biVI.py:529: RuntimeWarning: divide by zero encountered in true_divide\n",
      "  BF = np.sum(lfc_abs>=delta,axis=0)/(np.sum(lfc_abs<delta,axis=0))\n"
     ]
    },
    {
     "name": "stdout",
     "output_type": "stream",
     "text": [
      "The keys for cell type CT1 are dict_keys(['norm_burst_size', 'norm_degradation_rate', 'norm_splicing_rate', 'norm_spliced_mean', 'norm_unspliced_mean'])\n",
      "\u001b[34mINFO    \u001b[0m Received view of anndata, making copy.                                                                    \n",
      "\u001b[34mINFO    \u001b[0m Input AnnData not setup with scvi-tools. attempting to transfer AnnData setup                             \n",
      "\u001b[34mINFO    \u001b[0m Received view of anndata, making copy.                                                                    \n",
      "\u001b[34mINFO    \u001b[0m Input AnnData not setup with scvi-tools. attempting to transfer AnnData setup                             \n",
      "CT10\n",
      "working on cell_type : CT10\n"
     ]
    },
    {
     "name": "stderr",
     "output_type": "stream",
     "text": [
      "/home/tara/maria/scBIVI/GCCCP_2021/Code/Preprint/../BIVI/biVI.py:529: RuntimeWarning: divide by zero encountered in true_divide\n",
      "  BF = np.sum(lfc_abs>=delta,axis=0)/(np.sum(lfc_abs<delta,axis=0))\n"
     ]
    },
    {
     "name": "stdout",
     "output_type": "stream",
     "text": [
      "The keys for cell type CT10 are dict_keys(['norm_burst_size', 'norm_degradation_rate', 'norm_splicing_rate', 'norm_spliced_mean', 'norm_unspliced_mean'])\n",
      "\u001b[34mINFO    \u001b[0m Received view of anndata, making copy.                                                                    \n",
      "\u001b[34mINFO    \u001b[0m Input AnnData not setup with scvi-tools. attempting to transfer AnnData setup                             \n",
      "\u001b[34mINFO    \u001b[0m Received view of anndata, making copy.                                                                    \n",
      "\u001b[34mINFO    \u001b[0m Input AnnData not setup with scvi-tools. attempting to transfer AnnData setup                             \n",
      "CT11\n",
      "working on cell_type : CT11\n"
     ]
    },
    {
     "name": "stderr",
     "output_type": "stream",
     "text": [
      "/home/tara/maria/scBIVI/GCCCP_2021/Code/Preprint/../BIVI/biVI.py:529: RuntimeWarning: divide by zero encountered in true_divide\n",
      "  BF = np.sum(lfc_abs>=delta,axis=0)/(np.sum(lfc_abs<delta,axis=0))\n"
     ]
    },
    {
     "name": "stdout",
     "output_type": "stream",
     "text": [
      "The keys for cell type CT11 are dict_keys(['norm_burst_size', 'norm_degradation_rate', 'norm_splicing_rate', 'norm_spliced_mean', 'norm_unspliced_mean'])\n",
      "\u001b[34mINFO    \u001b[0m Received view of anndata, making copy.                                                                    \n",
      "\u001b[34mINFO    \u001b[0m Input AnnData not setup with scvi-tools. attempting to transfer AnnData setup                             \n",
      "\u001b[34mINFO    \u001b[0m Received view of anndata, making copy.                                                                    \n",
      "\u001b[34mINFO    \u001b[0m Input AnnData not setup with scvi-tools. attempting to transfer AnnData setup                             \n",
      "CT12\n",
      "working on cell_type : CT12\n"
     ]
    },
    {
     "name": "stderr",
     "output_type": "stream",
     "text": [
      "/home/tara/maria/scBIVI/GCCCP_2021/Code/Preprint/../BIVI/biVI.py:529: RuntimeWarning: divide by zero encountered in true_divide\n",
      "  BF = np.sum(lfc_abs>=delta,axis=0)/(np.sum(lfc_abs<delta,axis=0))\n"
     ]
    },
    {
     "name": "stdout",
     "output_type": "stream",
     "text": [
      "The keys for cell type CT12 are dict_keys(['norm_burst_size', 'norm_degradation_rate', 'norm_splicing_rate', 'norm_spliced_mean', 'norm_unspliced_mean'])\n",
      "\u001b[34mINFO    \u001b[0m Received view of anndata, making copy.                                                                    \n",
      "\u001b[34mINFO    \u001b[0m Input AnnData not setup with scvi-tools. attempting to transfer AnnData setup                             \n",
      "\u001b[34mINFO    \u001b[0m Received view of anndata, making copy.                                                                    \n",
      "\u001b[34mINFO    \u001b[0m Input AnnData not setup with scvi-tools. attempting to transfer AnnData setup                             \n",
      "CT13\n",
      "working on cell_type : CT13\n"
     ]
    },
    {
     "name": "stderr",
     "output_type": "stream",
     "text": [
      "/home/tara/maria/scBIVI/GCCCP_2021/Code/Preprint/../BIVI/biVI.py:529: RuntimeWarning: divide by zero encountered in true_divide\n",
      "  BF = np.sum(lfc_abs>=delta,axis=0)/(np.sum(lfc_abs<delta,axis=0))\n"
     ]
    },
    {
     "name": "stdout",
     "output_type": "stream",
     "text": [
      "The keys for cell type CT13 are dict_keys(['norm_burst_size', 'norm_degradation_rate', 'norm_splicing_rate', 'norm_spliced_mean', 'norm_unspliced_mean'])\n",
      "\u001b[34mINFO    \u001b[0m Received view of anndata, making copy.                                                                    \n",
      "\u001b[34mINFO    \u001b[0m Input AnnData not setup with scvi-tools. attempting to transfer AnnData setup                             \n",
      "\u001b[34mINFO    \u001b[0m Received view of anndata, making copy.                                                                    \n",
      "\u001b[34mINFO    \u001b[0m Input AnnData not setup with scvi-tools. attempting to transfer AnnData setup                             \n",
      "CT14\n",
      "working on cell_type : CT14\n"
     ]
    },
    {
     "name": "stderr",
     "output_type": "stream",
     "text": [
      "/home/tara/maria/scBIVI/GCCCP_2021/Code/Preprint/../BIVI/biVI.py:529: RuntimeWarning: divide by zero encountered in true_divide\n",
      "  BF = np.sum(lfc_abs>=delta,axis=0)/(np.sum(lfc_abs<delta,axis=0))\n"
     ]
    },
    {
     "name": "stdout",
     "output_type": "stream",
     "text": [
      "The keys for cell type CT14 are dict_keys(['norm_burst_size', 'norm_degradation_rate', 'norm_splicing_rate', 'norm_spliced_mean', 'norm_unspliced_mean'])\n",
      "\u001b[34mINFO    \u001b[0m Received view of anndata, making copy.                                                                    \n",
      "\u001b[34mINFO    \u001b[0m Input AnnData not setup with scvi-tools. attempting to transfer AnnData setup                             \n",
      "\u001b[34mINFO    \u001b[0m Received view of anndata, making copy.                                                                    \n",
      "\u001b[34mINFO    \u001b[0m Input AnnData not setup with scvi-tools. attempting to transfer AnnData setup                             \n",
      "CT15\n",
      "working on cell_type : CT15\n"
     ]
    },
    {
     "name": "stderr",
     "output_type": "stream",
     "text": [
      "/home/tara/maria/scBIVI/GCCCP_2021/Code/Preprint/../BIVI/biVI.py:529: RuntimeWarning: divide by zero encountered in true_divide\n",
      "  BF = np.sum(lfc_abs>=delta,axis=0)/(np.sum(lfc_abs<delta,axis=0))\n"
     ]
    },
    {
     "name": "stdout",
     "output_type": "stream",
     "text": [
      "The keys for cell type CT15 are dict_keys(['norm_burst_size', 'norm_degradation_rate', 'norm_splicing_rate', 'norm_spliced_mean', 'norm_unspliced_mean'])\n",
      "\u001b[34mINFO    \u001b[0m Received view of anndata, making copy.                                                                    \n",
      "\u001b[34mINFO    \u001b[0m Input AnnData not setup with scvi-tools. attempting to transfer AnnData setup                             \n",
      "\u001b[34mINFO    \u001b[0m Received view of anndata, making copy.                                                                    \n",
      "\u001b[34mINFO    \u001b[0m Input AnnData not setup with scvi-tools. attempting to transfer AnnData setup                             \n",
      "CT16\n",
      "working on cell_type : CT16\n"
     ]
    },
    {
     "name": "stderr",
     "output_type": "stream",
     "text": [
      "/home/tara/maria/scBIVI/GCCCP_2021/Code/Preprint/../BIVI/biVI.py:529: RuntimeWarning: divide by zero encountered in true_divide\n",
      "  BF = np.sum(lfc_abs>=delta,axis=0)/(np.sum(lfc_abs<delta,axis=0))\n"
     ]
    },
    {
     "name": "stdout",
     "output_type": "stream",
     "text": [
      "The keys for cell type CT16 are dict_keys(['norm_burst_size', 'norm_degradation_rate', 'norm_splicing_rate', 'norm_spliced_mean', 'norm_unspliced_mean'])\n",
      "\u001b[34mINFO    \u001b[0m Received view of anndata, making copy.                                                                    \n",
      "\u001b[34mINFO    \u001b[0m Input AnnData not setup with scvi-tools. attempting to transfer AnnData setup                             \n",
      "\u001b[34mINFO    \u001b[0m Received view of anndata, making copy.                                                                    \n",
      "\u001b[34mINFO    \u001b[0m Input AnnData not setup with scvi-tools. attempting to transfer AnnData setup                             \n",
      "CT17\n",
      "working on cell_type : CT17\n"
     ]
    },
    {
     "name": "stderr",
     "output_type": "stream",
     "text": [
      "/home/tara/maria/scBIVI/GCCCP_2021/Code/Preprint/../BIVI/biVI.py:529: RuntimeWarning: divide by zero encountered in true_divide\n",
      "  BF = np.sum(lfc_abs>=delta,axis=0)/(np.sum(lfc_abs<delta,axis=0))\n"
     ]
    },
    {
     "name": "stdout",
     "output_type": "stream",
     "text": [
      "The keys for cell type CT17 are dict_keys(['norm_burst_size', 'norm_degradation_rate', 'norm_splicing_rate', 'norm_spliced_mean', 'norm_unspliced_mean'])\n",
      "\u001b[34mINFO    \u001b[0m Received view of anndata, making copy.                                                                    \n",
      "\u001b[34mINFO    \u001b[0m Input AnnData not setup with scvi-tools. attempting to transfer AnnData setup                             \n",
      "\u001b[34mINFO    \u001b[0m Received view of anndata, making copy.                                                                    \n",
      "\u001b[34mINFO    \u001b[0m Input AnnData not setup with scvi-tools. attempting to transfer AnnData setup                             \n",
      "CT18\n",
      "working on cell_type : CT18\n"
     ]
    },
    {
     "name": "stderr",
     "output_type": "stream",
     "text": [
      "/home/tara/maria/scBIVI/GCCCP_2021/Code/Preprint/../BIVI/biVI.py:529: RuntimeWarning: divide by zero encountered in true_divide\n",
      "  BF = np.sum(lfc_abs>=delta,axis=0)/(np.sum(lfc_abs<delta,axis=0))\n"
     ]
    },
    {
     "name": "stdout",
     "output_type": "stream",
     "text": [
      "The keys for cell type CT18 are dict_keys(['norm_burst_size', 'norm_degradation_rate', 'norm_splicing_rate', 'norm_spliced_mean', 'norm_unspliced_mean'])\n",
      "\u001b[34mINFO    \u001b[0m Received view of anndata, making copy.                                                                    \n",
      "\u001b[34mINFO    \u001b[0m Input AnnData not setup with scvi-tools. attempting to transfer AnnData setup                             \n",
      "\u001b[34mINFO    \u001b[0m Received view of anndata, making copy.                                                                    \n",
      "\u001b[34mINFO    \u001b[0m Input AnnData not setup with scvi-tools. attempting to transfer AnnData setup                             \n",
      "CT19\n",
      "working on cell_type : CT19\n"
     ]
    },
    {
     "name": "stderr",
     "output_type": "stream",
     "text": [
      "/home/tara/maria/scBIVI/GCCCP_2021/Code/Preprint/../BIVI/biVI.py:529: RuntimeWarning: divide by zero encountered in true_divide\n",
      "  BF = np.sum(lfc_abs>=delta,axis=0)/(np.sum(lfc_abs<delta,axis=0))\n"
     ]
    },
    {
     "name": "stdout",
     "output_type": "stream",
     "text": [
      "The keys for cell type CT19 are dict_keys(['norm_burst_size', 'norm_degradation_rate', 'norm_splicing_rate', 'norm_spliced_mean', 'norm_unspliced_mean'])\n",
      "\u001b[34mINFO    \u001b[0m Received view of anndata, making copy.                                                                    \n",
      "\u001b[34mINFO    \u001b[0m Input AnnData not setup with scvi-tools. attempting to transfer AnnData setup                             \n",
      "\u001b[34mINFO    \u001b[0m Received view of anndata, making copy.                                                                    \n",
      "\u001b[34mINFO    \u001b[0m Input AnnData not setup with scvi-tools. attempting to transfer AnnData setup                             \n",
      "CT2\n",
      "working on cell_type : CT2\n"
     ]
    },
    {
     "name": "stderr",
     "output_type": "stream",
     "text": [
      "/home/tara/maria/scBIVI/GCCCP_2021/Code/Preprint/../BIVI/biVI.py:529: RuntimeWarning: divide by zero encountered in true_divide\n",
      "  BF = np.sum(lfc_abs>=delta,axis=0)/(np.sum(lfc_abs<delta,axis=0))\n"
     ]
    },
    {
     "name": "stdout",
     "output_type": "stream",
     "text": [
      "The keys for cell type CT2 are dict_keys(['norm_burst_size', 'norm_degradation_rate', 'norm_splicing_rate', 'norm_spliced_mean', 'norm_unspliced_mean'])\n",
      "\u001b[34mINFO    \u001b[0m Received view of anndata, making copy.                                                                    \n",
      "\u001b[34mINFO    \u001b[0m Input AnnData not setup with scvi-tools. attempting to transfer AnnData setup                             \n",
      "\u001b[34mINFO    \u001b[0m Received view of anndata, making copy.                                                                    \n",
      "\u001b[34mINFO    \u001b[0m Input AnnData not setup with scvi-tools. attempting to transfer AnnData setup                             \n",
      "CT3\n",
      "working on cell_type : CT3\n",
      "The keys for cell type CT3 are dict_keys(['norm_burst_size', 'norm_degradation_rate', 'norm_splicing_rate', 'norm_spliced_mean', 'norm_unspliced_mean'])\n",
      "\u001b[34mINFO    \u001b[0m Received view of anndata, making copy.                                                                    \n",
      "\u001b[34mINFO    \u001b[0m Input AnnData not setup with scvi-tools. attempting to transfer AnnData setup                             \n",
      "\u001b[34mINFO    \u001b[0m Received view of anndata, making copy.                                                                    \n",
      "\u001b[34mINFO    \u001b[0m Input AnnData not setup with scvi-tools. attempting to transfer AnnData setup                             \n",
      "CT4\n",
      "working on cell_type : CT4\n"
     ]
    },
    {
     "name": "stderr",
     "output_type": "stream",
     "text": [
      "/home/tara/maria/scBIVI/GCCCP_2021/Code/Preprint/../BIVI/biVI.py:529: RuntimeWarning: divide by zero encountered in true_divide\n",
      "  BF = np.sum(lfc_abs>=delta,axis=0)/(np.sum(lfc_abs<delta,axis=0))\n"
     ]
    },
    {
     "name": "stdout",
     "output_type": "stream",
     "text": [
      "The keys for cell type CT4 are dict_keys(['norm_burst_size', 'norm_degradation_rate', 'norm_splicing_rate', 'norm_spliced_mean', 'norm_unspliced_mean'])\n",
      "\u001b[34mINFO    \u001b[0m Received view of anndata, making copy.                                                                    \n",
      "\u001b[34mINFO    \u001b[0m Input AnnData not setup with scvi-tools. attempting to transfer AnnData setup                             \n",
      "\u001b[34mINFO    \u001b[0m Received view of anndata, making copy.                                                                    \n",
      "\u001b[34mINFO    \u001b[0m Input AnnData not setup with scvi-tools. attempting to transfer AnnData setup                             \n",
      "CT5\n",
      "working on cell_type : CT5\n"
     ]
    },
    {
     "name": "stderr",
     "output_type": "stream",
     "text": [
      "/home/tara/maria/scBIVI/GCCCP_2021/Code/Preprint/../BIVI/biVI.py:529: RuntimeWarning: divide by zero encountered in true_divide\n",
      "  BF = np.sum(lfc_abs>=delta,axis=0)/(np.sum(lfc_abs<delta,axis=0))\n"
     ]
    },
    {
     "name": "stdout",
     "output_type": "stream",
     "text": [
      "The keys for cell type CT5 are dict_keys(['norm_burst_size', 'norm_degradation_rate', 'norm_splicing_rate', 'norm_spliced_mean', 'norm_unspliced_mean'])\n",
      "\u001b[34mINFO    \u001b[0m Received view of anndata, making copy.                                                                    \n",
      "\u001b[34mINFO    \u001b[0m Input AnnData not setup with scvi-tools. attempting to transfer AnnData setup                             \n",
      "\u001b[34mINFO    \u001b[0m Received view of anndata, making copy.                                                                    \n",
      "\u001b[34mINFO    \u001b[0m Input AnnData not setup with scvi-tools. attempting to transfer AnnData setup                             \n",
      "CT6\n",
      "working on cell_type : CT6\n"
     ]
    },
    {
     "name": "stderr",
     "output_type": "stream",
     "text": [
      "/home/tara/maria/scBIVI/GCCCP_2021/Code/Preprint/../BIVI/biVI.py:529: RuntimeWarning: divide by zero encountered in true_divide\n",
      "  BF = np.sum(lfc_abs>=delta,axis=0)/(np.sum(lfc_abs<delta,axis=0))\n"
     ]
    },
    {
     "name": "stdout",
     "output_type": "stream",
     "text": [
      "The keys for cell type CT6 are dict_keys(['norm_burst_size', 'norm_degradation_rate', 'norm_splicing_rate', 'norm_spliced_mean', 'norm_unspliced_mean'])\n",
      "\u001b[34mINFO    \u001b[0m Received view of anndata, making copy.                                                                    \n",
      "\u001b[34mINFO    \u001b[0m Input AnnData not setup with scvi-tools. attempting to transfer AnnData setup                             \n",
      "\u001b[34mINFO    \u001b[0m Received view of anndata, making copy.                                                                    \n",
      "\u001b[34mINFO    \u001b[0m Input AnnData not setup with scvi-tools. attempting to transfer AnnData setup                             \n",
      "CT7\n",
      "working on cell_type : CT7\n"
     ]
    },
    {
     "name": "stderr",
     "output_type": "stream",
     "text": [
      "/home/tara/maria/scBIVI/GCCCP_2021/Code/Preprint/../BIVI/biVI.py:529: RuntimeWarning: divide by zero encountered in true_divide\n",
      "  BF = np.sum(lfc_abs>=delta,axis=0)/(np.sum(lfc_abs<delta,axis=0))\n"
     ]
    },
    {
     "name": "stdout",
     "output_type": "stream",
     "text": [
      "The keys for cell type CT7 are dict_keys(['norm_burst_size', 'norm_degradation_rate', 'norm_splicing_rate', 'norm_spliced_mean', 'norm_unspliced_mean'])\n",
      "\u001b[34mINFO    \u001b[0m Received view of anndata, making copy.                                                                    \n",
      "\u001b[34mINFO    \u001b[0m Input AnnData not setup with scvi-tools. attempting to transfer AnnData setup                             \n",
      "\u001b[34mINFO    \u001b[0m Received view of anndata, making copy.                                                                    \n",
      "\u001b[34mINFO    \u001b[0m Input AnnData not setup with scvi-tools. attempting to transfer AnnData setup                             \n",
      "CT8\n",
      "working on cell_type : CT8\n"
     ]
    },
    {
     "name": "stderr",
     "output_type": "stream",
     "text": [
      "/home/tara/maria/scBIVI/GCCCP_2021/Code/Preprint/../BIVI/biVI.py:529: RuntimeWarning: divide by zero encountered in true_divide\n",
      "  BF = np.sum(lfc_abs>=delta,axis=0)/(np.sum(lfc_abs<delta,axis=0))\n"
     ]
    },
    {
     "name": "stdout",
     "output_type": "stream",
     "text": [
      "The keys for cell type CT8 are dict_keys(['norm_burst_size', 'norm_degradation_rate', 'norm_splicing_rate', 'norm_spliced_mean', 'norm_unspliced_mean'])\n",
      "\u001b[34mINFO    \u001b[0m Received view of anndata, making copy.                                                                    \n",
      "\u001b[34mINFO    \u001b[0m Input AnnData not setup with scvi-tools. attempting to transfer AnnData setup                             \n",
      "\u001b[34mINFO    \u001b[0m Received view of anndata, making copy.                                                                    \n",
      "\u001b[34mINFO    \u001b[0m Input AnnData not setup with scvi-tools. attempting to transfer AnnData setup                             \n",
      "CT9\n",
      "working on cell_type : CT9\n"
     ]
    },
    {
     "name": "stderr",
     "output_type": "stream",
     "text": [
      "/home/tara/maria/scBIVI/GCCCP_2021/Code/Preprint/../BIVI/biVI.py:529: RuntimeWarning: divide by zero encountered in true_divide\n",
      "  BF = np.sum(lfc_abs>=delta,axis=0)/(np.sum(lfc_abs<delta,axis=0))\n"
     ]
    },
    {
     "name": "stdout",
     "output_type": "stream",
     "text": [
      "The keys for cell type CT9 are dict_keys(['norm_burst_size', 'norm_degradation_rate', 'norm_splicing_rate', 'norm_spliced_mean', 'norm_unspliced_mean'])\n",
      "\u001b[34mINFO    \u001b[0m Received view of anndata, making copy.                                                                    \n",
      "\u001b[34mINFO    \u001b[0m Input AnnData not setup with scvi-tools. attempting to transfer AnnData setup                             \n",
      "\u001b[34mINFO    \u001b[0m Received view of anndata, making copy.                                                                    \n",
      "\u001b[34mINFO    \u001b[0m Input AnnData not setup with scvi-tools. attempting to transfer AnnData setup                             \n",
      "CT0\n",
      "CT1\n",
      "CT10\n",
      "CT11\n",
      "CT12\n",
      "CT13\n",
      "CT14\n",
      "CT15\n",
      "CT16\n",
      "CT17\n",
      "CT18\n",
      "CT19\n",
      "CT2\n",
      "CT3\n",
      "CT4\n",
      "CT5\n",
      "CT6\n",
      "CT7\n",
      "CT8\n",
      "CT9\n"
     ]
    },
    {
     "name": "stderr",
     "output_type": "stream",
     "text": [
      "/usr/local/lib/python3.8/dist-packages/pandas/core/arraylike.py:397: RuntimeWarning: divide by zero encountered in log\n",
      "  result = getattr(ufunc, method)(*inputs, **kwargs)\n"
     ]
    }
   ],
   "source": [
    "delta_list = [0.2,0.5,1.0,1.5,2.0]\n",
    "BF_THRESH_list = [0.5,0.7,1.0,1.5,2.0]\n",
    "\n",
    "\n",
    "for BF_THRESH in BF_THRESH_list:\n",
    "    delta = 0.5\n",
    "    bursty_BF_DE,const_BF_DE,ext_BF_DE,scVI_BF_DE,scVI_BF_DE_built = get_BF_dict(delta)\n",
    "    bursty_genes, const_genes, ext_genes, scVI_genes, scVI_genes_built = get_DE_gene_dict(bursty_BF_DE,\n",
    "                                                const_BF_DE,ext_BF_DE,scVI_BF_DE,scVI_BF_DE_built,BF_THRESH)\n",
    "\n",
    "    sensitivity_u,specificity_u,sensitivity_s,specificity_s,sensitivity_both,specificity_both,method_list, CT_list = get_sens_spec([bursty_genes,\n",
    "                                                                                                                                   const_genes,\n",
    "                                                                                                                                   ext_genes,\n",
    "                                                                                                                                   scVI_genes,\n",
    "                                                                                                                                   scVI_genes_built])\n",
    "    \n",
    "    save_dict = {'delta' : delta,\n",
    "                 'BF_THRESH' : BF_THRESH,\n",
    "                 'sensitivity_u' : sensitivity_u,\n",
    "                 'sensitivity_s' : sensitivity_s,\n",
    "                 'sensitivity_both' : sensitivity_both,\n",
    "                 'specificity_u' : specificity_u,\n",
    "                 'specificity_s' : specificity_s,\n",
    "                 'specificity_both' : specificity_both,\n",
    "                 'method_list' : method_list,\n",
    "                 'CT_list' : CT_list}\n",
    "    \n",
    "    save_name = f'../results/bursty_20ct_many_figs/sensitivity_specificity_delta{delta}_BF{BF_THRESH}'\n",
    "    with open(save_name, 'wb') as handle:\n",
    "        pickle.dump(save_dict, handle, protocol=pickle.HIGHEST_PROTOCOL)"
   ]
  },
  {
   "cell_type": "markdown",
   "metadata": {},
   "source": [
    "------ \n",
    "# Plotting\n"
   ]
  },
  {
   "cell_type": "code",
   "execution_count": 33,
   "metadata": {},
   "outputs": [],
   "source": [
    "# nice colors\n",
    "# colors\n",
    "color_list = [\n",
    "              sns.color_palette(\"YlOrBr\")[1],\n",
    "              sns.color_palette(\"YlOrBr\")[3],\n",
    "              sns.color_palette(\"YlOrBr\")[5],\n",
    "              sns.color_palette()[0],\n",
    "              sns.color_palette()[-1] ]"
   ]
  },
  {
   "cell_type": "code",
   "execution_count": 34,
   "metadata": {},
   "outputs": [],
   "source": [
    "# load in data:\n",
    "RNA = ['Unspliced','Spliced','Both']\n",
    "methods = ['Bursty', 'Constitutive', 'Extrinsic','scVI, my function', 'scVI']\n",
    "\n",
    "sensitivity_delta_dict = {r : np.ones((5,5,2)) for r in RNA}\n",
    "specificity_delta_dict = {r : np.ones((5,5,2)) for r in RNA}\n",
    "\n",
    "\n",
    "sensitivity_BF_dict = {r : np.ones((5,5,2)) for r in RNA}\n",
    "specificity_BF_dict = {r : np.ones((5,5,2)) for r in RNA}\n",
    "\n",
    "for i,delta in enumerate(delta_list):\n",
    "    path = f'../results/bursty_20ct_many_figs/sensitivity_specificity_delta{delta}_BF0.7'\n",
    "    with open(path, 'rb') as handle:\n",
    "        working_dict = pickle.load(handle)\n",
    "    for m,method in enumerate(methods):\n",
    "\n",
    "        sensitivity_delta_dict['Unspliced'][m,i,0] = np.mean(working_dict['sensitivity_u'][m:100+m:5])\n",
    "        sensitivity_delta_dict['Spliced'][m,i,0] = np.mean(working_dict['sensitivity_s'][m:100+m:5])\n",
    "        sensitivity_delta_dict['Both'][m,i,0] = np.mean(working_dict['sensitivity_both'][m:100+m:5])\n",
    "        \n",
    "        sensitivity_delta_dict['Unspliced'][m,i,1] = np.std(working_dict['sensitivity_u'][m:100+m:5])\n",
    "        sensitivity_delta_dict['Spliced'][m,i,1] = np.std(working_dict['sensitivity_s'][m:100+m:5])\n",
    "        sensitivity_delta_dict['Both'][m,i,1] = np.std(working_dict['sensitivity_both'][m:100+m:5])\n",
    "        \n",
    "        \n",
    "        specificity_delta_dict['Unspliced'][m,i,0] = np.mean(working_dict['specificity_u'][m:100+m:5])\n",
    "        specificity_delta_dict['Spliced'][m,i,0] = np.mean(working_dict['specificity_s'][m:100+m:5])\n",
    "        specificity_delta_dict['Both'][m,i,0] = np.mean(working_dict['specificity_both'][m:100+m:5])\n",
    "        \n",
    "        \n",
    "        specificity_delta_dict['Unspliced'][m,i,1] = np.std(working_dict['specificity_u'][m:100+m:5])\n",
    "        specificity_delta_dict['Spliced'][m,i,1] = np.std(working_dict['specificity_s'][m:100+m:5])\n",
    "        specificity_delta_dict['Both'][m,i,1] = np.std(working_dict['specificity_both'][m:100+m:5])\n",
    "        \n",
    "        \n",
    "for i,BF in enumerate(BF_THRESH_list):\n",
    "    path = f'../results/bursty_20ct_many_figs/sensitivity_specificity_delta0.5_BF{BF}'\n",
    "    with open(path, 'rb') as handle:\n",
    "        working_dict = pickle.load(handle)\n",
    "    \n",
    "    for m,method in enumerate(methods):\n",
    "        sensitivity_BF_dict['Unspliced'][m,i,0] = np.mean(working_dict['sensitivity_u'][m:100+m:5])\n",
    "        sensitivity_BF_dict['Spliced'][m,i,0] = np.mean(working_dict['sensitivity_s'][m:100+m:5])\n",
    "        sensitivity_BF_dict['Both'][m,i,0] = np.mean(working_dict['sensitivity_both'][m:100+m:5])\n",
    "        \n",
    "        sensitivity_BF_dict['Unspliced'][m,i,1] = np.std(working_dict['sensitivity_u'][m:100+m:5])\n",
    "        sensitivity_BF_dict['Spliced'][m,i,1] = np.std(working_dict['sensitivity_s'][m:100+m:5])\n",
    "        sensitivity_BF_dict['Both'][m,i,1] = np.std(working_dict['sensitivity_both'][m:100+m:5])\n",
    "        \n",
    "        \n",
    "        specificity_BF_dict['Unspliced'][m,i,0] = np.mean(working_dict['specificity_u'][m:100+m:5])\n",
    "        specificity_BF_dict['Spliced'][m,i,0] = np.mean(working_dict['specificity_s'][m:100+m:5])\n",
    "        specificity_BF_dict['Both'][m,i,0] = np.mean(working_dict['specificity_both'][m:100+m:5])\n",
    "        \n",
    "        \n",
    "        specificity_BF_dict['Unspliced'][m,i,1] = np.std(working_dict['specificity_u'][m:100+m:5])\n",
    "        specificity_BF_dict['Spliced'][m,i,1] = np.std(working_dict['specificity_s'][m:100+m:5])\n",
    "        specificity_BF_dict['Both'][m,i,1] = np.std(working_dict['specificity_both'][m:100+m:5])\n",
    "        "
   ]
  },
  {
   "cell_type": "code",
   "execution_count": 46,
   "metadata": {},
   "outputs": [
    {
     "data": {
      "image/png": "[encoded data removed]",
      "text/plain": [
       "<Figure size 1296x504 with 3 Axes>"
      ]
     },
     "metadata": {
      "needs_background": "light"
     },
     "output_type": "display_data"
    }
   ],
   "source": [
    "# SENSITIVITY\n",
    "\n",
    "fig, ax = plt.subplots(1,3,figsize = (18,7))\n",
    "\n",
    "for i,r in enumerate(RNA):\n",
    "\n",
    "    values_ = sensitivity_delta_dict[r]\n",
    "    \n",
    "    for m,method in enumerate(methods):\n",
    "        if method == 'scVI, my function':\n",
    "            pass\n",
    "        else:\n",
    "            ax[i].plot(delta_list,values_[m,:,0],color = color_list[m], label = method, linewidth = 4.0)\n",
    "            ax[i].fill_between(delta_list,[max(values_[m,j,0]-values_[m,j,1],0.0) for j in range(len(methods))],\n",
    "                           [min(values_[m,j,0]+values_[m,j,1],1.0) for j in range(len(methods))],\n",
    "                          color = color_list[m], alpha = 0.1)\n",
    "            ax[i].set_title(r,fontsize = 35)\n",
    "            ax[i].tick_params('both',labelsize = 25)\n",
    "            ax[i].set_xticks(delta_list)\n",
    "            if i == 0:\n",
    "                ax[i].set_xlabel('LFC threshold, $T$',fontsize = 35)\n",
    "                ax[i].set_ylabel('Sensitivity',fontsize = 35)\n",
    " \n",
    "plt.tight_layout()\n",
    "plt.legend(fontsize = 25, bbox_to_anchor = (1.0,1.0))\n",
    "plt.savefig('../results/bursty_20ct_many_figs/sense_LFC.png',bbox_inches = 'tight');"
   ]
  },
  {
   "cell_type": "code",
   "execution_count": 47,
   "metadata": {},
   "outputs": [
    {
     "data": {
      "image/png": "[encoded data removed]",
      "text/plain": [
       "<Figure size 1296x504 with 3 Axes>"
      ]
     },
     "metadata": {
      "needs_background": "light"
     },
     "output_type": "display_data"
    }
   ],
   "source": [
    "# SPECIFICITY, DELTA\n",
    "fig, ax = plt.subplots(1,3,figsize = (18,7))\n",
    "\n",
    "for i,r in enumerate(RNA):\n",
    "\n",
    "    values_ = specificity_delta_dict[r]\n",
    "    \n",
    "    for m,method in enumerate(methods):\n",
    "        if method == 'scVI, my function':\n",
    "            pass\n",
    "        else:   \n",
    "            ax[i].plot(delta_list,values_[m,:,0],color = color_list[m], label = method, linewidth = 4.0)\n",
    "            ax[i].fill_between(delta_list,[max(values_[m,j,0]-values_[m,j,1],0.0) for j in range(len(methods))],\n",
    "                           [min(values_[m,j,0]+values_[m,j,1],1.0) for j in range(len(methods))],\n",
    "                          color = color_list[m], alpha = 0.1)\n",
    "            ax[i].set_title(r,fontsize = 35)\n",
    "            ax[i].tick_params('both',labelsize = 25)\n",
    "            ax[i].set_xticks(delta_list)\n",
    "            if i == 0:\n",
    "                ax[i].set_xlabel('LFC threshold, $T$',fontsize = 35)\n",
    "                ax[i].set_ylabel('Specificity',fontsize = 35)\n",
    " \n",
    "plt.tight_layout()\n",
    "plt.legend(fontsize = 25, bbox_to_anchor = (1.0,1.0))\n",
    "plt.savefig('../results/bursty_20ct_many_figs/spec_LFC.png',bbox_inches = 'tight');"
   ]
  },
  {
   "cell_type": "code",
   "execution_count": 48,
   "metadata": {},
   "outputs": [
    {
     "data": {
      "image/png": "[encoded data removed]",
      "text/plain": [
       "<Figure size 1296x504 with 3 Axes>"
      ]
     },
     "metadata": {
      "needs_background": "light"
     },
     "output_type": "display_data"
    }
   ],
   "source": [
    "# SENSITIVITY\n",
    "\n",
    "fig, ax = plt.subplots(1,3,figsize = (18,7))\n",
    "\n",
    "for i,r in enumerate(RNA):\n",
    "\n",
    "    values_ = sensitivity_BF_dict[r]\n",
    "    \n",
    "    for m,method in enumerate(methods):\n",
    "        if method == 'scVI, my function':\n",
    "            pass\n",
    "        else:\n",
    "            ax[i].plot(delta_list,values_[m,:,0],color = color_list[m], label = method, linewidth = 4.0)\n",
    "            ax[i].fill_between(delta_list,\n",
    "                           [max(values_[m,j,0]-values_[m,j,1],0.0) for j in range(len(methods))],\n",
    "                           [min(values_[m,j,0]+values_[m,j,1],1.0) for j in range(len(methods))],\n",
    "                          color = color_list[m], alpha = 0.1)\n",
    "            ax[i].set_title(r,fontsize = 35)\n",
    "            ax[i].tick_params('both',labelsize = 25)\n",
    "            ax[i].set_xticks(delta_list)\n",
    "            if i == 0:\n",
    "                ax[i].set_xlabel('Bayes factor threshold',fontsize = 35)\n",
    "                ax[i].set_ylabel('Sensitivity',fontsize = 35)\n",
    " \n",
    "plt.tight_layout()\n",
    "plt.legend(fontsize = 25, bbox_to_anchor = (1.0,1.0))\n",
    "plt.savefig('../results/bursty_20ct_many_figs/sense_BF.png',bbox_inches = 'tight');"
   ]
  },
  {
   "cell_type": "code",
   "execution_count": 49,
   "metadata": {},
   "outputs": [
    {
     "data": {
      "image/png": "[encoded data removed]",
      "text/plain": [
       "<Figure size 1296x504 with 3 Axes>"
      ]
     },
     "metadata": {
      "needs_background": "light"
     },
     "output_type": "display_data"
    }
   ],
   "source": [
    "# SPECIFICITY\n",
    "\n",
    "fig, ax = plt.subplots(1,3,figsize = (18,7))\n",
    "\n",
    "for i,r in enumerate(RNA):\n",
    "\n",
    "    values_ = specificity_BF_dict[r]\n",
    "    \n",
    "    for m,method in enumerate(methods):\n",
    "        if method == 'scVI, my function':\n",
    "            pass\n",
    "        ax[i].plot(delta_list,values_[m,:,0],color = color_list[m], label = method, linewidth = 4.0)\n",
    "        ax[i].fill_between(delta_list,values_[m,:,0]-values_[m,:,1],\n",
    "                           [min(values_[m,j,0]+values_[m,j,1],1.0) for j in range(len(methods))] ,\n",
    "                          color = color_list[m], alpha = 0.1)\n",
    "\n",
    "        ax[i].set_title(r,fontsize = 35)\n",
    "        ax[i].tick_params('both',labelsize = 25)\n",
    "        ax[i].set_xticks(delta_list)\n",
    "        ax[i].set_ylim(0.8,1.005)\n",
    "        if i == 0:\n",
    "            ax[i].set_xlabel('Bayes factor threshold',fontsize = 35)\n",
    "            ax[i].set_ylabel('Specificity',fontsize = 35)\n",
    " \n",
    "plt.tight_layout()\n",
    "plt.legend(fontsize = 25, bbox_to_anchor = (1.0,1.0))\n",
    "plt.savefig('../results/bursty_20ct_many_figs/spec_BF.png',bbox_inches = 'tight');"
   ]
  },
  {
   "cell_type": "markdown",
   "metadata": {},
   "source": [
    "----\n",
    "## Cells per cell type\n",
    "\n",
    "Could be interesting"
   ]
  },
  {
   "cell_type": "code",
   "execution_count": 31,
   "metadata": {},
   "outputs": [],
   "source": [
    "MG_per_celltype = []\n",
    "\n",
    "ct_list = [f'CT{i}' for i in range(20)]\n",
    "\n",
    "for i in range(20):\n",
    "    MG_per_celltype.append(sum(adata.var['Marker Annotation'] == i)/2)\n",
    "    "
   ]
  },
  {
   "cell_type": "code",
   "execution_count": 46,
   "metadata": {},
   "outputs": [
    {
     "name": "stderr",
     "output_type": "stream",
     "text": [
      "/usr/local/lib/python3.8/dist-packages/seaborn/_decorators.py:36: FutureWarning: Pass the following variables as keyword args: x, y. From version 0.12, the only valid positional argument will be `data`, and passing other arguments without an explicit keyword will result in an error or misinterpretation.\n",
      "  warnings.warn(\n"
     ]
    },
    {
     "data": {
      "image/png": "[encoded data removed]",
      "text/plain": [
       "<Figure size 720x360 with 1 Axes>"
      ]
     },
     "metadata": {
      "needs_background": "light"
     },
     "output_type": "display_data"
    }
   ],
   "source": [
    "plt.figure(figsize = (10,5))\n",
    "sns.barplot(ct_list,MG_per_celltype,palette = sns.color_palette(\"YlOrBr\",n_colors=20))\n",
    "plt.tick_params('both',labelsize = 20)\n",
    "plt.xticks(rotation = 90)\n",
    "plt.ylabel('Number of marker genes', fontsize = 20)\n",
    "plt.xlabel('Cell type',fontsize = 30)\n",
    "            \n",
    "            \n",
    "plt.savefig('../results/bursty_20ct_many_figs/MG_per_ct.png',bbox_inches = 'tight');"
   ]
  },
  {
   "cell_type": "markdown",
   "metadata": {},
   "source": [
    "# Histogram of Parameters"
   ]
  },
  {
   "cell_type": "code",
   "execution_count": 96,
   "metadata": {},
   "outputs": [],
   "source": [
    "# set some cell type to look at\n",
    "ct = 'CT0'\n",
    "ct_i = 0\n",
    "idx1 = np.array([cell_types == ct]).flatten()\n",
    "idx2 = np.array([cell_types != ct]).flatten()\n",
    "gene = 3\n",
    "\n",
    "# hyperparameters\n",
    "n_samples = 10"
   ]
  },
  {
   "cell_type": "code",
   "execution_count": 101,
   "metadata": {},
   "outputs": [],
   "source": [
    "true_params_u1 = 10**simulated_params[ct_i,i,0]/10**simulated_params[ct_i,i,1]\n",
    "true_params_s1 = 10**simulated_params[ct_i,i,0]/10**simulated_params[ct_i,i,2]\n",
    "\n",
    "\n",
    "true_params_u2 = 10**simulated_params[1,i,0]/10**simulated_params[1,i,1]\n",
    "true_params_s2 = 10**simulated_params[1,i,0]/10**simulated_params[1,i,2]"
   ]
  },
  {
   "cell_type": "code",
   "execution_count": 65,
   "metadata": {},
   "outputs": [
    {
     "name": "stdout",
     "output_type": "stream",
     "text": [
      "\u001b[34mINFO    \u001b[0m Received view of anndata, making copy.                                                                    \n",
      "\u001b[34mINFO    \u001b[0m Input AnnData not setup with scvi-tools. attempting to transfer AnnData setup                             \n",
      "\u001b[34mINFO    \u001b[0m Received view of anndata, making copy.                                                                    \n",
      "\u001b[34mINFO    \u001b[0m Input AnnData not setup with scvi-tools. attempting to transfer AnnData setup                             \n",
      "\u001b[34mINFO    \u001b[0m Received view of anndata, making copy.                                                                    \n",
      "\u001b[34mINFO    \u001b[0m Input AnnData not setup with scvi-tools. attempting to transfer AnnData setup                             \n",
      "\u001b[34mINFO    \u001b[0m Received view of anndata, making copy.                                                                    \n",
      "\u001b[34mINFO    \u001b[0m Input AnnData not setup with scvi-tools. attempting to transfer AnnData setup                             \n",
      "\u001b[34mINFO    \u001b[0m Received view of anndata, making copy.                                                                    \n",
      "\u001b[34mINFO    \u001b[0m Input AnnData not setup with scvi-tools. attempting to transfer AnnData setup                             \n",
      "\u001b[34mINFO    \u001b[0m Received view of anndata, making copy.                                                                    \n",
      "\u001b[34mINFO    \u001b[0m Input AnnData not setup with scvi-tools. attempting to transfer AnnData setup                             \n",
      "\u001b[34mINFO    \u001b[0m Received view of anndata, making copy.                                                                    \n",
      "\u001b[34mINFO    \u001b[0m Input AnnData not setup with scvi-tools. attempting to transfer AnnData setup                             \n",
      "\u001b[34mINFO    \u001b[0m Received view of anndata, making copy.                                                                    \n",
      "\u001b[34mINFO    \u001b[0m Input AnnData not setup with scvi-tools. attempting to transfer AnnData setup                             \n"
     ]
    }
   ],
   "source": [
    "# biVI\n",
    "params1b = model1.get_normalized_expression(adata[idx1],\n",
    "                                          n_samples = n_samples, return_mean = False)\n",
    "params2b = model1.get_normalized_expression(adata[idx2],\n",
    "                                            n_samples = n_samples, return_mean = False)\n",
    "\n",
    "# scVI \n",
    "params1v_ = model2.get_normalized_expression(adata[idx1],\n",
    "                                          n_samples = n_samples, return_mean = False)\n",
    "params2v_ = model2.get_normalized_expression(adata[idx2],\n",
    "                                          n_samples = n_samples, return_mean = False)\n",
    "\n",
    "params1v = {}\n",
    "params2v = {}\n",
    "params1v['norm_unspliced_mean'] = params1v_[:,:,:2000]\n",
    "params1v['norm_spliced_mean'] = params1v_[:,:,2000:]\n",
    "params2v['norm_unspliced_mean'] = params2v_[:,:,:2000]\n",
    "params2v['norm_spliced_mean'] = params2v_[:,:,2000:]\n",
    "\n",
    "\n",
    "# biVI constitutive\n",
    "params1c = model3.get_normalized_expression(adata[idx1],\n",
    "                                          n_samples = n_samples, return_mean = False)\n",
    "params2c = model3.get_normalized_expression(adata[idx2],\n",
    "                                           n_samples = n_samples, return_mean = False)\n",
    "\n",
    "# biVI extrinsic\n",
    "params1e = model4.get_normalized_expression(adata[idx1],\n",
    "                                          n_samples = n_samples, return_mean = False)\n",
    "params2e = model4.get_normalized_expression(adata[idx2],\n",
    "                                            n_samples = n_samples, return_mean = False)"
   ]
  },
  {
   "cell_type": "markdown",
   "metadata": {},
   "source": [
    "# HISTOGRAMS"
   ]
  },
  {
   "cell_type": "code",
   "execution_count": 104,
   "metadata": {},
   "outputs": [
    {
     "data": {
      "text/plain": [
       "Text(0.5, 1.0, 'gene 107')"
      ]
     },
     "execution_count": 104,
     "metadata": {},
     "output_type": "execute_result"
    },
    {
     "data": {
      "image/png": "[encoded data removed]",
      "text/plain": [
       "<Figure size 432x288 with 1 Axes>"
      ]
     },
     "metadata": {
      "needs_background": "light"
     },
     "output_type": "display_data"
    }
   ],
   "source": [
    "i = 107\n",
    "\n",
    "true_u1 = adata[idx1,i].X/adata[idx1,:].X.sum(axis=1)\n",
    "true_u2 =  adata[idx2,i].X/adata[idx2,:].X.sum(axis=1)\n",
    "\n",
    "true_s1 = adata[idx1,i+2000].X/adata[idx1,:].X.sum(axis=1)\n",
    "true_s2 =  adata[idx2,i+2000].X/adata[idx2,:].X.sum(axis=1)\n",
    "\n",
    "\n",
    "plt.hist(params1b['norm_spliced_mean'][:,:,i].flatten(),label='biVI',density=True)\n",
    "plt.hist(params1v['norm_spliced_mean'][:,:,i].flatten(),label='scVI',density=True)\n",
    "plt.hist(params1c['norm_spliced_mean'][:,:,i].flatten(),label='const',density=True)\n",
    "plt.hist(params1e['norm_spliced_mean'][:,:,i].flatten(),label='ext',density=True)\n",
    "\n",
    "plt.hist(np.array(true_s1).flatten(),label='True',density=True)\n",
    "\n",
    "\n",
    "plt.legend()\n",
    "#plt.xlim(0,0.002)\n",
    "plt.title(f'gene {i}')"
   ]
  },
  {
   "cell_type": "code",
   "execution_count": 88,
   "metadata": {},
   "outputs": [
    {
     "data": {
      "text/plain": [
       "Text(0.5, 1.0, 'gene 107')"
      ]
     },
     "execution_count": 88,
     "metadata": {},
     "output_type": "execute_result"
    },
    {
     "data": {
      "image/png": "[encoded data removed]",
      "text/plain": [
       "<Figure size 432x288 with 1 Axes>"
      ]
     },
     "metadata": {
      "needs_background": "light"
     },
     "output_type": "display_data"
    }
   ],
   "source": [
    "\n",
    "\n",
    "true_u1 = adata[idx1,i].X/adata[idx1,:].X.sum(axis=1)\n",
    "true_u2 =  adata[idx2,i].X/adata[idx2,:].X.sum(axis=1)\n",
    "\n",
    "true_s1 = adata[idx1,i+2000].X/adata[idx1,:].X.sum(axis=1)\n",
    "true_s2 =  adata[idx2,i+2000].X/adata[idx2,:].X.sum(axis=1)\n",
    "\n",
    "\n",
    "plt.hist(params1b['norm_unspliced_mean'][:,:,i].flatten(),label='biVI',density=True)\n",
    "plt.hist(params1v['norm_unspliced_mean'][:,:,i].flatten(),label='scVI',density=True)\n",
    "plt.hist(params1c['norm_unspliced_mean'][:,:,i].flatten(),label='const',density=True)\n",
    "plt.hist(params1e['norm_unspliced_mean'][:,:,i].flatten(),label='ext',density=True)\n",
    "\n",
    "plt.hist(np.array(true_u1).flatten(),label='True',density=True)\n",
    "plt.hist(np.array(true_u1).flatten(),label='True',density=True)\n",
    "\n",
    "plt.legend()\n",
    "#plt.xlim(0,0.002)\n",
    "plt.title(f'gene {i}')"
   ]
  },
  {
   "cell_type": "code",
   "execution_count": 89,
   "metadata": {},
   "outputs": [
    {
     "data": {
      "text/plain": [
       "Text(0.5, 1.0, 'gene 107')"
      ]
     },
     "execution_count": 89,
     "metadata": {},
     "output_type": "execute_result"
    },
    {
     "data": {
      "image/png": "[encoded data removed]",
      "text/plain": [
       "<Figure size 432x288 with 1 Axes>"
      ]
     },
     "metadata": {
      "needs_background": "light"
     },
     "output_type": "display_data"
    }
   ],
   "source": [
    "plt.hist(params2b['norm_unspliced_mean'][:,:,i].flatten(),label='biVI',density=True)\n",
    "plt.hist(params2v['norm_unspliced_mean'][:,:,i].flatten(),label='scVI',density=True)\n",
    "plt.hist(params2c['norm_unspliced_mean'][:,:,i].flatten(),label='const',density=True)\n",
    "plt.hist(params2e['norm_unspliced_mean'][:,:,i].flatten(),label='ext',density=True)\n",
    "\n",
    "plt.hist(np.array(true_u2).flatten(),label='True',density=True)\n",
    "\n",
    "\n",
    "plt.legend()\n",
    "#plt.xlim(0,0.002)\n",
    "plt.title(f'gene {i}')"
   ]
  },
  {
   "cell_type": "code",
   "execution_count": 90,
   "metadata": {},
   "outputs": [
    {
     "data": {
      "text/plain": [
       "<matplotlib.legend.Legend at 0x7f195662f940>"
      ]
     },
     "execution_count": 90,
     "metadata": {},
     "output_type": "execute_result"
    },
    {
     "data": {
      "image/png": "[encoded data removed]",
      "text/plain": [
       "<Figure size 432x288 with 1 Axes>"
      ]
     },
     "metadata": {
      "needs_background": "light"
     },
     "output_type": "display_data"
    }
   ],
   "source": [
    "#biVI\n",
    "plt.hist(params1b['norm_spliced_mean'][:,:,i].flatten(),label='group 1',density=True)\n",
    "plt.hist(params2b['norm_spliced_mean'][:,:,i].flatten(),label='group 2',density=True)\n",
    "\n",
    "plt.hist(np.array(true_s1).flatten(),density=True, label = 'group 1 true')\n",
    "plt.hist(np.array(true_s2).flatten(),density=True, label = 'group 2 true')\n",
    "\n",
    "\n",
    "plt.title(f'biVI means, gene {i}')\n",
    "plt.legend()"
   ]
  },
  {
   "cell_type": "code",
   "execution_count": 91,
   "metadata": {},
   "outputs": [
    {
     "data": {
      "text/plain": [
       "<matplotlib.legend.Legend at 0x7f1db494e2e0>"
      ]
     },
     "execution_count": 91,
     "metadata": {},
     "output_type": "execute_result"
    },
    {
     "data": {
      "image/png": "[encoded data removed]",
      "text/plain": [
       "<Figure size 432x288 with 1 Axes>"
      ]
     },
     "metadata": {
      "needs_background": "light"
     },
     "output_type": "display_data"
    }
   ],
   "source": [
    "#biVI\n",
    "plt.hist(params1c['norm_spliced_mean'][:,:,i].flatten(),label='group 1',density=True)\n",
    "plt.hist(params2c['norm_spliced_mean'][:,:,i].flatten(),label='group 2',density=True)\n",
    "\n",
    "plt.hist(np.array(true_s1).flatten(),density=True, label = 'group 1 true')\n",
    "plt.hist(np.array(true_s2).flatten(),density=True, label = 'group 2 true')\n",
    "\n",
    "\n",
    "plt.title(f'const means, gene {i}')\n",
    "plt.legend()"
   ]
  },
  {
   "cell_type": "code",
   "execution_count": 92,
   "metadata": {},
   "outputs": [
    {
     "data": {
      "text/plain": [
       "Index(['8', '145', '187', '206', '209', '212', '264', '317', '404', '420',\n",
       "       ...\n",
       "       '3484', '3532', '3536', '3566', '3567', '3584', '3772', '3796', '3825',\n",
       "       '3967'],\n",
       "      dtype='object', length=106)"
      ]
     },
     "execution_count": 92,
     "metadata": {},
     "output_type": "execute_result"
    }
   ],
   "source": [
    "adata.var.index[adata.var['Marker Annotation'] == 0]"
   ]
  }
 ],
 "metadata": {
  "kernelspec": {
   "display_name": "Python 3",
   "language": "python",
   "name": "python3"
  },
  "language_info": {
   "codemirror_mode": {
    "name": "ipython",
    "version": 3
   },
   "file_extension": ".py",
   "mimetype": "text/x-python",
   "name": "python",
   "nbconvert_exporter": "python",
   "pygments_lexer": "ipython3",
   "version": "3.8.10"
  }
 },
 "nbformat": 4,
 "nbformat_minor": 4
}
