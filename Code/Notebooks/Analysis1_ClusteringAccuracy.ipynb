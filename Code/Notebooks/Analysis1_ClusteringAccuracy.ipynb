{
 "cells": [
  {
   "cell_type": "markdown",
   "metadata": {},
   "source": [
    "# Clustering Accuracy\n",
    "\n",
    "\n",
    "\n",
    "1. Silhouette\n",
    "2. Intra-cell type distance to mean <br/>\n",
    "    a. average over all cells <br/>\n",
    "    b. average over cell types <br/>\n",
    "    c. no-average <br/>\n",
    "3. Inter-cell type distances (average over all combinations of cell types?)\n",
    "4. Average variance (of distance to mean) of clusters "
   ]
  },
  {
   "cell_type": "code",
   "execution_count": 27,
   "metadata": {},
   "outputs": [],
   "source": [
    "# load in what ya need\n",
    "\n",
    "# System\n",
    "import sys\n",
    "sys.path.insert(0, '../analysis_scripts/')\n",
    "\n",
    "# Math\n",
    "import numpy as np\n",
    "import pandas as pd\n",
    "import pickle\n",
    "\n",
    "# Plots\n",
    "import seaborn as sns\n",
    "import matplotlib\n",
    "import matplotlib.pyplot as plt\n",
    "matplotlib.rcParams.update({'font.size': 30})\n",
    "# colors\n",
    "import matplotlib.colors as mcolors\n",
    "fs = 20\n",
    "\n",
    "# scvi\n",
    "import anndata\n",
    "import scanpy as sc\n",
    "\n",
    "\n",
    "# sklearn\n",
    "from sklearn.decomposition import PCA\n",
    "from sklearn.metrics import silhouette_score \n",
    "\n",
    "\n",
    "from calculate_metrics import *"
   ]
  },
  {
   "cell_type": "code",
   "execution_count": 8,
   "metadata": {},
   "outputs": [
    {
     "name": "stderr",
     "output_type": "stream",
     "text": [
      "/usr/local/lib/python3.8/dist-packages/anndata/_core/anndata.py:121: ImplicitModificationWarning: Transforming to str index.\n",
      "  warnings.warn(\"Transforming to str index.\", ImplicitModificationWarning)\n"
     ]
    }
   ],
   "source": [
    "# load in data\n",
    "name = 'bursty_20ct_many'\n",
    "index = 'test'\n",
    "data_dir = '../../data/simulated_data/'\n",
    "\n",
    "results_file = open(f'../../results/{name}_results_dict.pickle', 'rb')\n",
    "results_dict = pickle.load(results_file)\n",
    "results_file.close()\n",
    "\n",
    "\n",
    "cell_types = results_dict.pop('Cell Type')\n",
    "train_index = results_dict.pop('train_index')\n",
    "test_index = results_dict.pop('test_index')\n",
    "\n",
    "if index == 'train':\n",
    "    index_ = train_index\n",
    "if index == 'test':\n",
    "    index_ = test_index\n",
    "\n",
    "if 'ct' not in name:\n",
    "    cell_range = range(len(cell_types.unique()))\n",
    "    cell_dict = {cell : i for i,cell in enumerate(cell_types.unique())}\n",
    "    cluster_assignments = np.array([cell_dict[ct] for ct in cell_types])\n",
    "    print(len(cluster_assignments))\n",
    "    \n",
    "else:\n",
    "    cluster_assignments = np.array([int(ct[2:]) for ct in cell_types])\n",
    "\n",
    "# read in adata and subset to test or train data\n",
    "adata = anndata.read_loom(data_dir+f'{name}.loom')\n",
    "adata = adata[index_]\n",
    "cluster_assignments = cluster_assignments[index_]\n",
    "\n",
    "if 'gene_name' in adata.var.columns:\n",
    "    adata.var_names = adata.var['gene_name'].to_list()\n",
    "    \n",
    "# anndata objects for spliced and unspliced counts\n",
    "adata_u = adata[:,adata.var['Spliced']==0].copy()\n",
    "adata_s = adata[:,adata.var['Spliced']==1].copy()    "
   ]
  },
  {
   "cell_type": "code",
   "execution_count": 9,
   "metadata": {},
   "outputs": [],
   "source": [
    "# add latent spaces to anndata object\n",
    "for setup in results_dict.keys():\n",
    "    adata.obsm[f'X_{setup}'] = results_dict[setup]['X_10'][index_]"
   ]
  },
  {
   "cell_type": "markdown",
   "metadata": {},
   "source": [
    "### Normalization"
   ]
  },
  {
   "cell_type": "code",
   "execution_count": 10,
   "metadata": {},
   "outputs": [],
   "source": [
    "# NORMALIZE data\n",
    "\n",
    "# concatenated\n",
    "sc.pp.normalize_total(adata,target_sum=10**4)\n",
    "sc.pp.log1p(adata)\n",
    "# unspliced\n",
    "sc.pp.normalize_total(adata_s,target_sum=10**4)\n",
    "sc.pp.log1p(adata_u)\n",
    "# spliced\n",
    "sc.pp.normalize_total(adata_u,target_sum=10**4)\n",
    "sc.pp.log1p(adata_s)"
   ]
  },
  {
   "cell_type": "markdown",
   "metadata": {},
   "source": [
    "### PCA\n",
    "\n"
   ]
  },
  {
   "cell_type": "code",
   "execution_count": 11,
   "metadata": {},
   "outputs": [
    {
     "name": "stderr",
     "output_type": "stream",
     "text": [
      "/usr/local/lib/python3.8/dist-packages/scikit_learn-1.0.1-py3.8-linux-x86_64.egg/sklearn/utils/validation.py:585: FutureWarning: np.matrix usage is deprecated in 1.0 and will raise a TypeError in 1.2. Please convert to a numpy array with np.asarray. For more information see: https://numpy.org/doc/stable/reference/generated/numpy.matrix.html\n",
      "  warnings.warn(\n",
      "/usr/local/lib/python3.8/dist-packages/scikit_learn-1.0.1-py3.8-linux-x86_64.egg/sklearn/utils/validation.py:585: FutureWarning: np.matrix usage is deprecated in 1.0 and will raise a TypeError in 1.2. Please convert to a numpy array with np.asarray. For more information see: https://numpy.org/doc/stable/reference/generated/numpy.matrix.html\n",
      "  warnings.warn(\n",
      "/usr/local/lib/python3.8/dist-packages/scikit_learn-1.0.1-py3.8-linux-x86_64.egg/sklearn/utils/validation.py:585: FutureWarning: np.matrix usage is deprecated in 1.0 and will raise a TypeError in 1.2. Please convert to a numpy array with np.asarray. For more information see: https://numpy.org/doc/stable/reference/generated/numpy.matrix.html\n",
      "  warnings.warn(\n",
      "/usr/local/lib/python3.8/dist-packages/scikit_learn-1.0.1-py3.8-linux-x86_64.egg/sklearn/utils/validation.py:585: FutureWarning: np.matrix usage is deprecated in 1.0 and will raise a TypeError in 1.2. Please convert to a numpy array with np.asarray. For more information see: https://numpy.org/doc/stable/reference/generated/numpy.matrix.html\n",
      "  warnings.warn(\n",
      "/usr/local/lib/python3.8/dist-packages/scikit_learn-1.0.1-py3.8-linux-x86_64.egg/sklearn/utils/validation.py:585: FutureWarning: np.matrix usage is deprecated in 1.0 and will raise a TypeError in 1.2. Please convert to a numpy array with np.asarray. For more information see: https://numpy.org/doc/stable/reference/generated/numpy.matrix.html\n",
      "  warnings.warn(\n",
      "/usr/local/lib/python3.8/dist-packages/scikit_learn-1.0.1-py3.8-linux-x86_64.egg/sklearn/utils/validation.py:585: FutureWarning: np.matrix usage is deprecated in 1.0 and will raise a TypeError in 1.2. Please convert to a numpy array with np.asarray. For more information see: https://numpy.org/doc/stable/reference/generated/numpy.matrix.html\n",
      "  warnings.warn(\n"
     ]
    }
   ],
   "source": [
    "# PCA on full\n",
    "pca = PCA(n_components=50)\n",
    "pca.fit(adata.X.todense())\n",
    "pca_full = pca.transform(adata.X.todense())\n",
    "# PCA on unspliced\n",
    "pca_U = PCA(n_components=50)\n",
    "pca_U.fit(adata_u.X.todense())\n",
    "pca_u = pca_U.transform(adata_u.X.todense())\n",
    "# PCA on spliced\n",
    "pca_S = PCA(n_components=50)\n",
    "pca_S.fit(adata_s.X.todense())\n",
    "pca_s = pca_S.transform(adata_s.X.todense())"
   ]
  },
  {
   "cell_type": "markdown",
   "metadata": {},
   "source": [
    "------------\n",
    "# Comparing Clustering Metrics\n",
    "\n",
    "\n",
    "## Silhouette Scores\n"
   ]
  },
  {
   "cell_type": "code",
   "execution_count": 12,
   "metadata": {},
   "outputs": [],
   "source": [
    "# n samples by n features for ss\n",
    "ss_dict = {}\n",
    "\n",
    "setups_to_compare = results_dict.keys()\n",
    "setup_name_change = {'vanilla.full-10-NAS_SHAPE':'scVI','Bursty-10-NAS_SHAPE': 'biVI','TRUE':'True'}\n",
    "\n",
    "\n",
    "for setup in setups_to_compare:\n",
    "    name_ = setup.split('-')[0]\n",
    "    ss_dict[name_] = [silhouette_score(adata.obsm[f'X_{setup}'], cluster_assignments)]\n",
    "\n",
    "    \n",
    "ss_dict['PCA full'] = silhouette_score(pca_full[:,:10],cluster_assignments)\n",
    "ss_dict['PCA U'] = silhouette_score(pca_u[:,:10],cluster_assignments)\n",
    "ss_dict['PCA S'] = silhouette_score(pca_s[:,:10],cluster_assignments)"
   ]
  },
  {
   "cell_type": "code",
   "execution_count": 13,
   "metadata": {},
   "outputs": [
    {
     "data": {
      "image/png": "[encoded data removed]",
      "text/plain": [
       "<Figure size 432x288 with 1 Axes>"
      ]
     },
     "metadata": {
      "needs_background": "light"
     },
     "output_type": "display_data"
    }
   ],
   "source": [
    "df_plot = pd.DataFrame(ss_dict).melt()\n",
    "sns.barplot(data = df_plot,x = 'variable', y ='value')\n",
    "plt.title('Silhouette Clustering Accuracy',fontsize=fs)\n",
    "plt.ylabel('Silhouette Value',fontsize=fs)\n",
    "plt.xlabel('Latent Space',fontsize=fs)\n",
    "plt.xticks(rotation = 90)\n",
    "plt.savefig(f'../../results/{name}_figs/silhouette_{index}.png',bbox_inches='tight');"
   ]
  },
  {
   "cell_type": "code",
   "execution_count": 14,
   "metadata": {},
   "outputs": [
    {
     "name": "stdout",
     "output_type": "stream",
     "text": [
      "SCVI\n",
      "[0.3867039]\n",
      "BIVI\n",
      "[0.38295755]\n"
     ]
    }
   ],
   "source": [
    "print('SCVI')\n",
    "print(ss_dict['scVI'])\n",
    "print('BIVI')\n",
    "print(ss_dict['Bursty'])"
   ]
  },
  {
   "cell_type": "code",
   "execution_count": 16,
   "metadata": {},
   "outputs": [],
   "source": [
    "def l2_norm(x,y):\n",
    "    \n",
    "    a = (x-y)**2\n",
    "    l2 = np.sqrt(np.sum(a))\n",
    "    \n",
    "    return(l2)\n",
    "\n",
    "def get_intra_cluster_distances(X,cluster_assignments,return_all = False):\n",
    "    ''' Get distance to cluster mean for each cell.\n",
    "    -----\n",
    "    params:\n",
    "    latent_spaces : np array, size samples x features\n",
    "    \n",
    "    cluster_assignments : np array or list, size samples\n",
    "    \n",
    "    return_all : return distance to mean of cluster for ALL cells, default FALSE\n",
    "    \n",
    "    (if FALSE, returns AVERAGE distance to mean for each cluster assignment)\n",
    "    -----\n",
    "    \n",
    "    returns:\n",
    "    \n",
    "    av_distance_to_mean : size n_clusters\n",
    "    \n",
    "    cluster_var : variance in av_distance_to_mean, size n_clusters\n",
    "    \n",
    "    if return_all == TRUE , also returns distances_to_mean : size # samples\n",
    "    '''\n",
    "    \n",
    "    # declare array to hold all distances\n",
    "    all_distances = np.zeros(X.shape[0])\n",
    "    \n",
    "    # declare array to hold average distances per cluster\n",
    "    cluster_assignments = np.array(cluster_assignments)\n",
    "    unique_clusters = np.unique(cluster_assignments)\n",
    "    \n",
    "    cluster_distances = np.zeros(len(unique_clusters))\n",
    "    \n",
    "    # declare array to hold average variances per cluster\n",
    "    cluster_variances = np.zeros(len(unique_clusters))\n",
    "    \n",
    "    # how many cells have we calculated distances for? \n",
    "    cells_finished = 0\n",
    "    \n",
    "    # now go through each cluster and calculate distance between mean of that cluster and the vector\n",
    "    for i,cluster in enumerate(unique_clusters):\n",
    "        \n",
    "        # subset to get samples in specific cluster\n",
    "        X_subset = X[cluster_assignments == cluster]\n",
    "        \n",
    "        # take average across all samples in the cluster of the feature values\n",
    "        cluster_mean = np.mean(X_subset,axis=0)\n",
    "    \n",
    "        # find the distance between samples in X_subset and the cluster mean\n",
    "        distances_ = np.array([l2_norm(vec,cluster_mean) for vec in X_subset])\n",
    "        \n",
    "        # append or add distances to distance array\n",
    "        all_distances[cells_finished : (cells_finished+X_subset.shape[0])] = distances_\n",
    "        cells_finished += X_subset.shape[0]\n",
    "        \n",
    "        # average cluster distance\n",
    "        cluster_distances[i] = np.mean(distances_)\n",
    "        \n",
    "        # variances\n",
    "        cluster_variances[i] = np.var(distances_)\n",
    "    \n",
    "    cluster_variances = cluster_variances[cluster_variances != 0]\n",
    "    cluster_distances = cluster_distances[cluster_distances != 0]\n",
    "    all_distances = all_distances[all_distances != 0]\n",
    "        \n",
    "    if return_all == True:\n",
    "        return(cluster_distances,cluster_variances,all_distances)\n",
    "    \n",
    "    else:\n",
    "        return(cluster_distances,cluster_variances)"
   ]
  },
  {
   "cell_type": "code",
   "execution_count": 17,
   "metadata": {},
   "outputs": [],
   "source": [
    "def get_inter_cluster_distances(X,cluster_assignments):\n",
    "    ''' Gets distances between all cluster means. \n",
    "    --------\n",
    "    params:\n",
    "    X : size samples by features\n",
    "    cluster assignments: clusters of samples in X\n",
    "    \n",
    "    -------\n",
    "    returns:\n",
    "    inter_cluster_distances : matrix size cluster by cluster of distances between each cluster\n",
    "    '''\n",
    "        \n",
    "        \n",
    "    cluster_assignments = np.array(cluster_assignments)\n",
    "    unique_clusters = np.unique(cluster_assignments)\n",
    "    \n",
    "    # array to hold mean vectors for each cluster\n",
    "    cluster_means = np.ones((len(unique_clusters),X.shape[1]))\n",
    "    \n",
    "    # array to hold inter cluster distances\n",
    "    inter_cluster_distances = np.ones((len(unique_clusters),len(unique_clusters)))\n",
    "    \n",
    "     # calculate each cluster mean\n",
    "    for i,cluster in enumerate(unique_clusters):\n",
    "        \n",
    "        # subset to get samples in specific cluster\n",
    "        X_subset = X[cluster_assignments == cluster]\n",
    "        \n",
    "        # take average across all samples in the cluster of the feature values\n",
    "        cluster_mean = np.mean(X_subset,axis=0)\n",
    "        cluster_means[i,:] = cluster_mean\n",
    "    \n",
    "    for i in range(len(unique_clusters)):\n",
    "        \n",
    "        for j in range(len(unique_clusters)):\n",
    "            \n",
    "            inter_cluster_distances[i,j] = l2_norm(cluster_means[i],cluster_means[j])\n",
    "            \n",
    "    return(inter_cluster_distances)\n",
    "                            \n",
    "                            \n",
    "        \n",
    "        "
   ]
  },
  {
   "cell_type": "markdown",
   "metadata": {},
   "source": [
    "--------\n",
    "\n",
    "# Plot inter and intra-cluster distances for different setups"
   ]
  },
  {
   "cell_type": "code",
   "execution_count": 18,
   "metadata": {},
   "outputs": [],
   "source": [
    "# # define latent spaces to compare\n",
    "\n",
    "# extract the desired # pca components\n",
    "num_pca = 10\n",
    "x_pca_full = pca_full[:,:10]\n",
    "x_pca_u = pca_u[:,:10]\n",
    "x_pca_s = pca_s[:,:10]\n",
    "\n",
    "# create a dictionary with the latent spaces \n",
    "X_latent = {}\n",
    "\n",
    "for setup in results_dict.keys():\n",
    "    X_latent[setup.split('-')[0]] = results_dict[setup]['X_10'][index_]\n",
    "\n",
    "X_latent['PCA full'] = x_pca_full\n",
    "X_latent['PCA U'] = x_pca_u\n",
    "X_latent['PCA S'] = x_pca_s\n",
    "    \n",
    "    \n",
    "# define dictionary of distances for each model\n",
    "distance_dict = {ls : {} for ls in X_latent.keys()}\n",
    "distance_dict_plot = {ls : {} for ls in X_latent.keys()}"
   ]
  },
  {
   "cell_type": "code",
   "execution_count": 19,
   "metadata": {},
   "outputs": [],
   "source": [
    "for setup in X_latent.keys():\n",
    "    \n",
    "    cluster_distances,cluster_variances = get_intra_cluster_distances(X_latent[setup],cluster_assignments)\n",
    "    inter_cluster_matrix = get_inter_cluster_distances(X_latent[setup],cluster_assignments)\n",
    "    distance_dict[setup]['Intra-Cluster Distance to Mean'] = cluster_distances\n",
    "    distance_dict[setup]['Intra-Cluster Variance'] = cluster_variances\n",
    "    distance_dict[setup]['Inter-Cluster Distance between Means'] = inter_cluster_matrix\n",
    "    distance_dict[setup]['Fano Factor'] = cluster_variances/cluster_distances \n",
    "\n",
    "    \n",
    "    distance_dict_plot[setup]['Average Intra-Cluster Distance'] = np.mean(cluster_distances)\n",
    "    distance_dict_plot[setup]['Average Intra-Cluster Variance'] = np.mean(cluster_variances)\n",
    "    distance_dict_plot[setup]['Average Inter-Cluster Distance'] = np.mean(inter_cluster_matrix[inter_cluster_matrix != 0])\n",
    "    distance_dict_plot[setup]['Average Fano Factor'] = np.mean(cluster_variances/cluster_distances)"
   ]
  },
  {
   "cell_type": "code",
   "execution_count": 20,
   "metadata": {},
   "outputs": [],
   "source": [
    "# should I be dividing by some metric of overall norm ? it could be that the inter cluster is large but so is intra?\n",
    "# average cluster inter cluster distance / average intra cluster distance -- want to be large ??? or something idk\n",
    "distance_df = pd.DataFrame(distance_dict_plot).transpose"
   ]
  },
  {
   "cell_type": "code",
   "execution_count": 25,
   "metadata": {},
   "outputs": [
    {
     "data": {
      "image/png": "[encoded data removed]",
      "text/plain": [
       "<Figure size 1944x576 with 4 Axes>"
      ]
     },
     "metadata": {
      "needs_background": "light"
     },
     "output_type": "display_data"
    }
   ],
   "source": [
    "metrics = ['Average Intra-Cluster Distance',\n",
    "           'Average Intra-Cluster Variance',\n",
    "           'Average Inter-Cluster Distance']\n",
    "\n",
    "\n",
    "\n",
    "fig,axes = plt.subplots(1,4,figsize = (27,8))\n",
    "fs = 30\n",
    "for i,metric in enumerate(metrics):\n",
    "    \n",
    "    dict_plot = {}\n",
    "    ax = axes[i]\n",
    "    setups = list(X_latent.keys())\n",
    "    metric_list = [distance_dict_plot[setup][metric] for setup in setups]\n",
    "    dict_plot['setup'] = setups\n",
    "    dict_plot['metric'] = metric_list\n",
    "    df_plot = pd.DataFrame(dict_plot)\n",
    "    sns.barplot(ax = ax, data = df_plot, x = 'setup', y ='metric')\n",
    "    ax.set_title(f'{metric}',fontsize = fs)\n",
    "    ax.set_ylabel(f'value',fontsize=fs)\n",
    "    #plt.xlabel('Latent Space Method')\n",
    "    ax.set_xticklabels(labels = setups, rotation = 90)\n",
    "\n",
    "ax= axes[i+1]\n",
    "setups = list(X_latent.keys())\n",
    "metric_list = [distance_dict_plot[setup]['Average Inter-Cluster Distance']/distance_dict_plot[setup]['Average Intra-Cluster Distance']\n",
    "               for setup in setups]\n",
    "dict_plot['setup'] = setups\n",
    "dict_plot['metric'] = metric_list\n",
    "df_plot = pd.DataFrame(dict_plot)\n",
    "sns.barplot(ax = ax, data = df_plot,x = 'setup', y ='metric')\n",
    "ax.set_title(f'Scaled Inter-Cluster Distance',fontsize = fs)\n",
    "ax.set_ylabel(f'value',fontsize=fs)\n",
    "ax.set_xticklabels(labels = setups, rotation = 90, fontsize = fs)\n",
    "    \n",
    "plt.tight_layout()\n",
    "plt.savefig(f'../../results/{name}_figs/clustering_metrics_{index}.png',bbox_inches='tight');\n"
   ]
  },
  {
   "cell_type": "code",
   "execution_count": 26,
   "metadata": {},
   "outputs": [
    {
     "name": "stdout",
     "output_type": "stream",
     "text": [
      "SCVI\n",
      "2.5999679210758053\n",
      "BIVI\n",
      "2.7472786364322244\n"
     ]
    }
   ],
   "source": [
    "metric = 'Scaled Inter-Cluster Distance'\n",
    "print('SCVI')\n",
    "print(distance_dict_plot['scVI']['Average Inter-Cluster Distance']/distance_dict_plot['scVI']['Average Intra-Cluster Distance'])\n",
    "print('BIVI')\n",
    "print(distance_dict_plot['Bursty']['Average Inter-Cluster Distance']/distance_dict_plot['Bursty']['Average Intra-Cluster Distance'])"
   ]
  }
 ],
 "metadata": {
  "kernelspec": {
   "display_name": "Python 3",
   "language": "python",
   "name": "python3"
  },
  "language_info": {
   "codemirror_mode": {
    "name": "ipython",
    "version": 3
   },
   "file_extension": ".py",
   "mimetype": "text/x-python",
   "name": "python",
   "nbconvert_exporter": "python",
   "pygments_lexer": "ipython3",
   "version": "3.8.10"
  }
 },
 "nbformat": 4,
 "nbformat_minor": 4
}
