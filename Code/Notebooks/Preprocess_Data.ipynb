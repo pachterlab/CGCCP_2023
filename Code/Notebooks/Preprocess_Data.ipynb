{
 "cells": [
  {
   "cell_type": "markdown",
   "metadata": {},
   "source": [
    "# Preprocess Allen Data\n",
    "\n",
    "\n",
    "Adds annotations (cell types and whatnot) using the Allen Brain Dataset. "
   ]
  },
  {
   "cell_type": "code",
   "execution_count": 267,
   "metadata": {},
   "outputs": [],
   "source": [
    "# import %%capture\n",
    "# %pip install scanpy \n",
    "# %pip install scvi-tools==\n",
    "# %pip install loompy\n",
    "# %pip install leidenalg"
   ]
  },
  {
   "cell_type": "code",
   "execution_count": 288,
   "metadata": {},
   "outputs": [],
   "source": [
    "# system\n",
    "import os, sys\n",
    "\n",
    "# numbers\n",
    "import numpy as np\n",
    "\n",
    "import pandas as pd\n",
    "\n",
    "#sc\n",
    "import anndata\n",
    "import scanpy as sc\n",
    "\n",
    "# Plots\n",
    "import matplotlib\n",
    "import matplotlib.pyplot as plt\n",
    "import seaborn as sns"
   ]
  },
  {
   "cell_type": "code",
   "execution_count": 345,
   "metadata": {},
   "outputs": [
    {
     "name": "stdout",
     "output_type": "stream",
     "text": [
      "A08_processed_hv.loom  allen_C01_raw.loom     B08_processed.loom\r\n",
      "A08_processed.loom     allen_F08_raw.loom     C01_processed_hv.loom\r\n",
      "allen_A02_raw.loom     allen_H12_raw.loom     C01_processed.loom\r\n",
      "allen_A08_raw.loom     B01_processed_hv.loom  cluster.annotation.csv\r\n",
      "allen_B01_raw.loom     B01_processed.loom     cluster.membership.csv\r\n",
      "allen_B08_raw.loom     B08_processed_hv.loom  sample_metadata.csv\r\n"
     ]
    }
   ],
   "source": [
    "!ls ../data/allen/ "
   ]
  },
  {
   "cell_type": "code",
   "execution_count": 346,
   "metadata": {},
   "outputs": [
    {
     "name": "stderr",
     "output_type": "stream",
     "text": [
      "/usr/local/lib/python3.8/dist-packages/anndata/_core/anndata.py:121: ImplicitModificationWarning: Transforming to str index.\n",
      "  warnings.warn(\"Transforming to str index.\", ImplicitModificationWarning)\n"
     ]
    }
   ],
   "source": [
    "# load in raw loom file:\n",
    "data_dir = '../../data/allen/'\n",
    "name = 'F08'\n",
    "adata = sc.read_loom(data_dir+f'allen_{name}_raw.loom')"
   ]
  },
  {
   "cell_type": "code",
   "execution_count": 347,
   "metadata": {},
   "outputs": [
    {
     "data": {
      "text/plain": [
       "array(['A01', 'A08', 'B01', 'B08', 'C01', 'D01', 'E01', 'F01', 'F08',\n",
       "       'G08', 'G12', 'H12'], dtype=object)"
      ]
     },
     "execution_count": 347,
     "metadata": {},
     "output_type": "execute_result"
    }
   ],
   "source": [
    "np.unique(meta['sample'])"
   ]
  },
  {
   "cell_type": "code",
   "execution_count": 348,
   "metadata": {},
   "outputs": [],
   "source": [
    "# load in metadata\n",
    "allen_membership = pd.read_csv(data_dir+'/cluster.membership.csv',skiprows = 1, names=['barcode','cluster_id'])\n",
    "allen_annot = pd.read_csv(data_dir+'/cluster.annotation.csv')\n",
    "allen_membership['cell_barcode'] = allen_membership['barcode'].str[:16]\n",
    "allen_membership['sample'] = allen_membership['barcode'].str[-3:]\n",
    "allen_membership['cluster_id'] = allen_membership['cluster_id'].astype(\"category\")\n",
    "allen_annot.set_index('cluster_id',inplace=True)\n",
    "allen_annot_bc = allen_annot.loc[allen_membership['cluster_id']][['cluster_label','subclass_label','class_label']].set_index(allen_membership.index)\n",
    "meta = pd.concat((allen_membership,allen_annot_bc),axis=1)\n",
    "\n",
    "# choose the sample to work on\n",
    "meta_name = meta[meta['sample'] == name]"
   ]
  },
  {
   "cell_type": "code",
   "execution_count": 349,
   "metadata": {},
   "outputs": [
    {
     "data": {
      "text/plain": [
       "View of AnnData object with n_obs × n_vars = 9112 × 32285\n",
       "    obs: 'barcode'\n",
       "    var: 'gene_id', 'gene_name'\n",
       "    layers: 'matrix', 'spliced', 'unspliced'"
      ]
     },
     "execution_count": 349,
     "metadata": {},
     "output_type": "execute_result"
    }
   ],
   "source": [
    "# subset for cells observed in metadata -- remove all others\n",
    "index = [adata.obs['barcode'][i] in np.array(meta_name['cell_barcode']) for i in range(len(adata))]\n",
    "adata_A = adata[index,:]"
   ]
  },
  {
   "cell_type": "code",
   "execution_count": 350,
   "metadata": {},
   "outputs": [],
   "source": [
    "S = adata_A.layers['spliced'][:]\n",
    "U = adata_A.layers['unspliced'][:]\n",
    "S_old = adata.layers['spliced'][:]\n",
    "U_old = adata.layers['unspliced'][:]"
   ]
  },
  {
   "cell_type": "code",
   "execution_count": 351,
   "metadata": {},
   "outputs": [],
   "source": [
    "def knee_plot(S):\n",
    "    UMI_sorted =  np.sort(np.array(S.sum(1)).flatten())\n",
    "    x_range =  range(len(UMI_sorted))[::-1]\n",
    "\n",
    "    plt.scatter(x_range,UMI_sorted,c='k',s=5)\n",
    "    plt.yscale('log')\n",
    "    plt.xscale('log')\n",
    "    plt.xlabel('# UMI')\n",
    "    plt.ylabel('cell rank')\n",
    "    plt.hlines(10**4,xmin=0,xmax= len(x_range)+1000,colors='red',linestyles='dashed',label='10^4')\n",
    "    plt.vlines(10**4,ymin=0,ymax= 10**5,colors='red',linestyles='dashed')\n",
    "    plt.grid()\n",
    "    plt.legend()\n",
    "    plt.title('Cell Rank vs. UMI ')"
   ]
  },
  {
   "cell_type": "code",
   "execution_count": null,
   "metadata": {},
   "outputs": [],
   "source": [
    "# visualize knee plot, use to filter data\n",
    "# knee_plot(S_old+U_old)"
   ]
  },
  {
   "cell_type": "code",
   "execution_count": null,
   "metadata": {},
   "outputs": [],
   "source": [
    "cluster_ids = []\n",
    "cluster_labels = []\n",
    "subclass_labels = []\n",
    "class_labels = []\n",
    "\n",
    "for i in range(len(adata_A)):\n",
    "    \n",
    "    barcode = adata_A.obs['barcode'][i]\n",
    "\n",
    "    index = np.where(np.array(meta_name['cell_barcode']) == barcode)[0][0]\n",
    "    cluster_id = meta_name['cluster_id'].to_list()[index]\n",
    "    cluster_label = meta_name['cluster_label'].to_list()[index]\n",
    "    subclass_label = meta_name['subclass_label'].to_list()[index]\n",
    "    class_label = meta_name['class_label'].to_list()[index]\n",
    "    \n",
    "    cluster_ids.append(cluster_id)\n",
    "    cluster_labels.append(cluster_label)\n",
    "    subclass_labels.append(subclass_label)\n",
    "    class_labels.append(class_label)"
   ]
  },
  {
   "cell_type": "code",
   "execution_count": null,
   "metadata": {},
   "outputs": [],
   "source": [
    "adata_A.obs['cluster_id'] = cluster_ids\n",
    "adata_A.obs['cluster_label'] = cluster_labels\n",
    "adata_A.obs['subclass_label'] = subclass_labels\n",
    "adata_A.obs['class_label'] = class_labels\n",
    "adata_A.obs['Cell Type'] = subclass_labels"
   ]
  },
  {
   "cell_type": "markdown",
   "metadata": {},
   "source": [
    "Now, find highly variable genes."
   ]
  },
  {
   "cell_type": "code",
   "execution_count": null,
   "metadata": {},
   "outputs": [],
   "source": [
    "# normalize, log1p, then select highly variable genes :) \n",
    "\n",
    "sc.pp.normalize_total(adata_A, target_sum=1e4)\n",
    "sc.pp.log1p(adata_A)\n",
    "sc.pp.highly_variable_genes(adata_A, n_top_genes=2000, min_mean=0.0125, max_mean=3, min_disp=0.5)\n",
    "\n",
    "# Subset to highly variable genes\n",
    "adata_s = adata_A[:, adata_A.var.highly_variable]"
   ]
  },
  {
   "cell_type": "code",
   "execution_count": null,
   "metadata": {},
   "outputs": [],
   "source": [
    "adata_old = adata_s\n",
    "adata_spliced   = anndata.AnnData(adata_A.layers['spliced'])\n",
    "adata_unspliced = anndata.AnnData(adata_A.layers['unspliced'])\n",
    "\n",
    "adata_spliced.var = adata_A.var.copy()\n",
    "adata_unspliced.var = adata_A.var.copy()\n",
    "adata_spliced.var['Spliced']   = True\n",
    "adata_unspliced.var['Spliced'] = False\n",
    "adata_unspliced.var_names = adata_unspliced.var_names + '-u'\n",
    "\n",
    "adata = anndata.concat([adata_unspliced,adata_spliced],axis=1)\n",
    "## Change AnnData expression to raw counts for negative binomial distribution\n",
    "adata.layers[\"counts\"] = adata.X.copy() # preserve counts\n",
    "\n",
    "# Update obs,var\n",
    "adata.obs = adata_old.obs.copy()"
   ]
  },
  {
   "cell_type": "code",
   "execution_count": null,
   "metadata": {},
   "outputs": [],
   "source": [
    "adata.write_loom(f'../data/allen/{name}_processed.loom')"
   ]
  },
  {
   "cell_type": "code",
   "execution_count": null,
   "metadata": {},
   "outputs": [],
   "source": [
    "adata_hv = adata[:, adata.var.highly_variable]\n",
    "adata_hv.write_loom(f'../data/allen/{name}_processed_hv.loom')"
   ]
  }
 ],
 "metadata": {
  "kernelspec": {
   "display_name": "Python 3",
   "language": "python",
   "name": "python3"
  },
  "language_info": {
   "codemirror_mode": {
    "name": "ipython",
    "version": 3
   },
   "file_extension": ".py",
   "mimetype": "text/x-python",
   "name": "python",
   "nbconvert_exporter": "python",
   "pygments_lexer": "ipython3",
   "version": "3.8.10"
  }
 },
 "nbformat": 4,
 "nbformat_minor": 4
}
