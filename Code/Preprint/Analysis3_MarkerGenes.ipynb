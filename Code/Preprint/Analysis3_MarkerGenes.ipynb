{
 "cells": [
  {
   "cell_type": "markdown",
   "metadata": {},
   "source": [
    "# Marker Gene Modulation\n",
    "\n",
    "\n",
    "Are marker genes regulated by change in burst size or rates of degradation or splicing ?\n",
    "\n",
    "Check for bursty model. \n"
   ]
  },
  {
   "cell_type": "code",
   "execution_count": 1,
   "metadata": {},
   "outputs": [],
   "source": [
    "# System\n",
    "import sys\n",
    "\n",
    "# Math\n",
    "import numpy as np\n",
    "import pandas as pd\n",
    "import pickle\n",
    "\n",
    "# Plots\n",
    "import seaborn as sns\n",
    "import matplotlib\n",
    "import matplotlib.pyplot as plt\n",
    "matplotlib.rcParams.update({'font.size': 20})\n",
    "\n",
    "# scvi\n",
    "import anndata\n",
    "import scanpy as sc\n",
    "\n",
    "\n",
    "# stats\n",
    "from scipy.stats import ttest_ind"
   ]
  },
  {
   "cell_type": "code",
   "execution_count": 4,
   "metadata": {},
   "outputs": [
    {
     "name": "stdout",
     "output_type": "stream",
     "text": [
      "6454\n"
     ]
    },
    {
     "name": "stderr",
     "output_type": "stream",
     "text": [
      "/usr/local/lib/python3.8/dist-packages/anndata/_core/anndata.py:121: ImplicitModificationWarning: Transforming to str index.\n",
      "  warnings.warn(\"Transforming to str index.\", ImplicitModificationWarning)\n",
      "/usr/local/lib/python3.8/dist-packages/anndata/_core/anndata.py:1830: UserWarning: Variable names are not unique. To make them unique, call `.var_names_make_unique`.\n",
      "  utils.warn_names_duplicates(\"var\")\n"
     ]
    }
   ],
   "source": [
    "# load in data\n",
    "\n",
    "# open a file, where you stored the pickled data\n",
    "# name = 'BVNB_20ct'\n",
    "# data_dir = '../../data/simulated_data/'\n",
    "\n",
    "\n",
    "# change name to look at different datasets \n",
    "name = 'B08_processed_hv'\n",
    "data_dir = '../../data/allen/'\n",
    "\n",
    "results_file = open(f'../../results/{name}_results_dict.pickle', 'rb')\n",
    "data = 'not_simulated'\n",
    "\n",
    "if data == 'simulated':\n",
    "    simulated_params = np.load(f'../../data/simulated_data/{name}_params.npy')\n",
    "else:\n",
    "    simulated_params = None\n",
    "\n",
    "results_dict = pickle.load(results_file)\n",
    "results_file.close()\n",
    "\n",
    "# read in adata\n",
    "adata = anndata.read_loom(data_dir+f'{name}.loom')\n",
    "adata.var_names_make_unique()\n",
    "\n",
    "if 'gene_name' in adata.var.columns:\n",
    "    adata.var_names = adata.var['gene_name'].to_list()\n",
    "\n",
    "\n",
    "if data == 'not_simulated':\n",
    "    cell_types = adata.obs['Cell Type']\n",
    "    cell_range = range(len(cell_types.unique()))\n",
    "    cell_dict = {cell : i for i,cell in enumerate(cell_types.unique())}\n",
    "    cluster_assignments = np.array([cell_dict[ct] for ct in cell_types])\n",
    "    print(len(cluster_assignments))\n",
    "    \n",
    "else:\n",
    "    cluster_assignments = np.array([int(ct[2:]) for ct in cell_types])\n",
    "    \n",
    "\n",
    "# anndata objects for spliced and unspliced counts\n",
    "adata_s = adata[:,adata.var['Spliced']==1].copy()    \n",
    "adata_u = adata[:,adata.var['Spliced']==0].copy()\n",
    "\n",
    "train_index = results_dict.pop('train_index')\n",
    "test_index = results_dict.pop('test_index')\n",
    "cell_types = results_dict.pop('Cell Type')\n",
    "\n",
    "\n",
    "cluster_labels = adata.obs['cluster_label']"
   ]
  },
  {
   "cell_type": "code",
   "execution_count": 5,
   "metadata": {},
   "outputs": [],
   "source": [
    "# load in marker gene annotations\n",
    "marker_gene_annotation = pd.read_csv('../../data/Supplementary Table 6')"
   ]
  },
  {
   "cell_type": "code",
   "execution_count": 26,
   "metadata": {},
   "outputs": [
    {
     "data": {
      "text/html": [
       "<div>\n",
       "<style scoped>\n",
       "    .dataframe tbody tr th:only-of-type {\n",
       "        vertical-align: middle;\n",
       "    }\n",
       "\n",
       "    .dataframe tbody tr th {\n",
       "        vertical-align: top;\n",
       "    }\n",
       "\n",
       "    .dataframe thead th {\n",
       "        text-align: right;\n",
       "    }\n",
       "</style>\n",
       "<table border=\"1\" class=\"dataframe\">\n",
       "  <thead>\n",
       "    <tr style=\"text-align: right;\">\n",
       "      <th></th>\n",
       "      <th>Unnamed: 0</th>\n",
       "      <th>cl1_cluster_label</th>\n",
       "      <th>cl2_cluster_label</th>\n",
       "      <th>cl1_cluster_id</th>\n",
       "      <th>cl2_cluster_id</th>\n",
       "      <th>direction</th>\n",
       "      <th>genes</th>\n",
       "    </tr>\n",
       "  </thead>\n",
       "  <tbody>\n",
       "    <tr>\n",
       "      <th>0</th>\n",
       "      <td>1</td>\n",
       "      <td>Lamp5 Pax6</td>\n",
       "      <td>Lamp5 Egln3_1</td>\n",
       "      <td>1</td>\n",
       "      <td>2</td>\n",
       "      <td>up</td>\n",
       "      <td>Nxph1</td>\n",
       "    </tr>\n",
       "    <tr>\n",
       "      <th>1</th>\n",
       "      <td>2</td>\n",
       "      <td>Lamp5 Pax6</td>\n",
       "      <td>Lamp5 Egln3_1</td>\n",
       "      <td>1</td>\n",
       "      <td>2</td>\n",
       "      <td>up</td>\n",
       "      <td>Luzp2</td>\n",
       "    </tr>\n",
       "    <tr>\n",
       "      <th>2</th>\n",
       "      <td>3</td>\n",
       "      <td>Lamp5 Pax6</td>\n",
       "      <td>Lamp5 Egln3_1</td>\n",
       "      <td>1</td>\n",
       "      <td>2</td>\n",
       "      <td>up</td>\n",
       "      <td>Scrg1</td>\n",
       "    </tr>\n",
       "    <tr>\n",
       "      <th>3</th>\n",
       "      <td>4</td>\n",
       "      <td>Lamp5 Pax6</td>\n",
       "      <td>Lamp5 Egln3_1</td>\n",
       "      <td>1</td>\n",
       "      <td>2</td>\n",
       "      <td>up</td>\n",
       "      <td>Pax6</td>\n",
       "    </tr>\n",
       "    <tr>\n",
       "      <th>4</th>\n",
       "      <td>5</td>\n",
       "      <td>Lamp5 Pax6</td>\n",
       "      <td>Lamp5 Egln3_1</td>\n",
       "      <td>1</td>\n",
       "      <td>2</td>\n",
       "      <td>up</td>\n",
       "      <td>Ano3</td>\n",
       "    </tr>\n",
       "    <tr>\n",
       "      <th>...</th>\n",
       "      <td>...</td>\n",
       "      <td>...</td>\n",
       "      <td>...</td>\n",
       "      <td>...</td>\n",
       "      <td>...</td>\n",
       "      <td>...</td>\n",
       "      <td>...</td>\n",
       "    </tr>\n",
       "    <tr>\n",
       "      <th>4272595</th>\n",
       "      <td>4272596</td>\n",
       "      <td>PVM_3</td>\n",
       "      <td>VLMC_7</td>\n",
       "      <td>116</td>\n",
       "      <td>110</td>\n",
       "      <td>down</td>\n",
       "      <td>Tbc1d16</td>\n",
       "    </tr>\n",
       "    <tr>\n",
       "      <th>4272596</th>\n",
       "      <td>4272597</td>\n",
       "      <td>PVM_3</td>\n",
       "      <td>VLMC_7</td>\n",
       "      <td>116</td>\n",
       "      <td>110</td>\n",
       "      <td>down</td>\n",
       "      <td>Taf1c</td>\n",
       "    </tr>\n",
       "    <tr>\n",
       "      <th>4272597</th>\n",
       "      <td>4272598</td>\n",
       "      <td>PVM_3</td>\n",
       "      <td>VLMC_7</td>\n",
       "      <td>116</td>\n",
       "      <td>110</td>\n",
       "      <td>down</td>\n",
       "      <td>Tmem159</td>\n",
       "    </tr>\n",
       "    <tr>\n",
       "      <th>4272598</th>\n",
       "      <td>4272599</td>\n",
       "      <td>PVM_3</td>\n",
       "      <td>VLMC_7</td>\n",
       "      <td>116</td>\n",
       "      <td>110</td>\n",
       "      <td>down</td>\n",
       "      <td>Dpysl3</td>\n",
       "    </tr>\n",
       "    <tr>\n",
       "      <th>4272599</th>\n",
       "      <td>4272600</td>\n",
       "      <td>PVM_3</td>\n",
       "      <td>VLMC_7</td>\n",
       "      <td>116</td>\n",
       "      <td>110</td>\n",
       "      <td>down</td>\n",
       "      <td>Snx18</td>\n",
       "    </tr>\n",
       "  </tbody>\n",
       "</table>\n",
       "<p>4272600 rows × 7 columns</p>\n",
       "</div>"
      ],
      "text/plain": [
       "         Unnamed: 0 cl1_cluster_label cl2_cluster_label  cl1_cluster_id  \\\n",
       "0                 1        Lamp5 Pax6     Lamp5 Egln3_1               1   \n",
       "1                 2        Lamp5 Pax6     Lamp5 Egln3_1               1   \n",
       "2                 3        Lamp5 Pax6     Lamp5 Egln3_1               1   \n",
       "3                 4        Lamp5 Pax6     Lamp5 Egln3_1               1   \n",
       "4                 5        Lamp5 Pax6     Lamp5 Egln3_1               1   \n",
       "...             ...               ...               ...             ...   \n",
       "4272595     4272596             PVM_3            VLMC_7             116   \n",
       "4272596     4272597             PVM_3            VLMC_7             116   \n",
       "4272597     4272598             PVM_3            VLMC_7             116   \n",
       "4272598     4272599             PVM_3            VLMC_7             116   \n",
       "4272599     4272600             PVM_3            VLMC_7             116   \n",
       "\n",
       "         cl2_cluster_id direction    genes  \n",
       "0                     2        up    Nxph1  \n",
       "1                     2        up    Luzp2  \n",
       "2                     2        up    Scrg1  \n",
       "3                     2        up     Pax6  \n",
       "4                     2        up     Ano3  \n",
       "...                 ...       ...      ...  \n",
       "4272595             110      down  Tbc1d16  \n",
       "4272596             110      down    Taf1c  \n",
       "4272597             110      down  Tmem159  \n",
       "4272598             110      down   Dpysl3  \n",
       "4272599             110      down    Snx18  \n",
       "\n",
       "[4272600 rows x 7 columns]"
      ]
     },
     "execution_count": 26,
     "metadata": {},
     "output_type": "execute_result"
    }
   ],
   "source": [
    "marker_gene_annotation"
   ]
  },
  {
   "cell_type": "code",
   "execution_count": 7,
   "metadata": {},
   "outputs": [],
   "source": [
    "# get unique marker genes for clusters\n",
    "mg_cl1_unique = marker_gene_annotation['cl1_cluster_label'].unique()\n",
    "mg_cl2_unique = marker_gene_annotation['cl2_cluster_label'].unique()\n",
    "adata_cl_unique = adata.obs['cluster_label'].unique()\n",
    "adata_subclass_unique = adata.obs['subclass_label'].unique()\n",
    "\n",
    "# which clusters/sublcasses are observed in this sample\n",
    "cl1_adata_overlap = [c for c in mg_cl1_unique if c in adata_cl_unique]\n",
    "cl2_adata_overlap = [c for c in mg_cl2_unique if c in adata_cl_unique]"
   ]
  },
  {
   "cell_type": "code",
   "execution_count": 8,
   "metadata": {},
   "outputs": [
    {
     "name": "stdout",
     "output_type": "stream",
     "text": [
      "1\n"
     ]
    }
   ],
   "source": [
    "#visualize expression of marker genes? \n",
    "mg_both_ = [c for c in cl1_adata_overlap if c in cl2_adata_overlap]\n",
    "print(len(cl1_adata_overlap) - len(mg_both_))\n",
    "# just one cluster not present in both cl1 and cl2-- will use cl2_adata_overlap"
   ]
  },
  {
   "cell_type": "code",
   "execution_count": 9,
   "metadata": {},
   "outputs": [],
   "source": [
    "# what genes are observed in adata\n",
    "adata_genes = adata.var['gene_name'].to_list()"
   ]
  },
  {
   "cell_type": "code",
   "execution_count": 10,
   "metadata": {},
   "outputs": [],
   "source": [
    "# store dictionary of marker genes for each subclass and the direction (up or down regulated)\n",
    "marker_gene_dict = {cl : {} for cl in cl2_adata_overlap}\n",
    "\n",
    "for cl in cl2_adata_overlap:\n",
    "    \n",
    "    genes = marker_gene_annotation[marker_gene_annotation['cl2_cluster_label'] == cl]['genes'].tolist()\n",
    "    direction = marker_gene_annotation[marker_gene_annotation['cl2_cluster_label'] == cl]['direction'].tolist()\n",
    "    mg = [g for g in genes if g in adata_genes]\n",
    "    mg_direction = [d for i,d in enumerate(direction) if genes[i] in adata_genes]\n",
    "    marker_gene_dict[cl]['gene'] = mg\n",
    "    marker_gene_dict[cl]['direction'] = mg_direction\n"
   ]
  },
  {
   "cell_type": "code",
   "execution_count": 16,
   "metadata": {
    "scrolled": true
   },
   "outputs": [],
   "source": [
    "# save marker gene dictionary\n",
    "with open('../../results/B08_marker_genes_dict.pickle', 'wb') as handle:\n",
    "    pickle.dump(marker_gene_dict, handle, protocol=pickle.HIGHEST_PROTOCOL)"
   ]
  },
  {
   "cell_type": "code",
   "execution_count": 18,
   "metadata": {},
   "outputs": [
    {
     "data": {
      "text/plain": [
       "['Lamp5 Lhx6',\n",
       " 'Sst Chodl',\n",
       " 'Sst Myh8_1',\n",
       " 'Sst Myh8_2',\n",
       " 'Sst Pvalb Etv1',\n",
       " 'Sst Crhr2_1',\n",
       " 'Sst Crhr2_2',\n",
       " 'Sst Calb2',\n",
       " 'Sst C1ql3_1',\n",
       " 'Sst C1ql3_2',\n",
       " 'Pvalb Reln',\n",
       " 'L6 IT Car3',\n",
       " 'L5 ET_1',\n",
       " 'L5 ET_3',\n",
       " 'L6 CT Gpr139',\n",
       " 'OPC Pdgfra',\n",
       " 'Oligo Enpp6_2',\n",
       " 'Oligo Opalin_1',\n",
       " 'Oligo Opalin_2',\n",
       " 'SMC',\n",
       " 'Lamp5 Pdlim5_1',\n",
       " 'Lamp5 Pdlim5_2',\n",
       " 'L5 ET_2',\n",
       " 'Vip Gpc3',\n",
       " 'Vip Mybpc1_1']"
      ]
     },
     "execution_count": 18,
     "metadata": {},
     "output_type": "execute_result"
    }
   ],
   "source": [
    "gene = 'Cux2'\n",
    "direction = 'up'\n",
    "\n",
    "idx = 1\n",
    "gene  = marker_gene_dict['Lamp5 Lhx6']['gene'][idx]\n",
    "\n",
    "#gene = 'Lhx9'\n",
    "\n",
    "observed_clusters = []\n",
    "all_clusters = marker_gene_annotation[((marker_gene_annotation['genes'] == gene) & (marker_gene_annotation['direction'] == direction))]['cl2_cluster_label'].unique()\n",
    "\n",
    "observed_clusters = [c for c in all_clusters if c in adata_cl_unique]"
   ]
  },
  {
   "cell_type": "code",
   "execution_count": 21,
   "metadata": {},
   "outputs": [
    {
     "data": {
      "text/plain": [
       "Text(0.5, 1.0, 'Gene: Shisa9')"
      ]
     },
     "execution_count": 21,
     "metadata": {},
     "output_type": "execute_result"
    },
    {
     "data": {
      "image/png": "[encoded data removed]",
      "text/plain": [
       "<Figure size 576x432 with 1 Axes>"
      ]
     },
     "metadata": {
      "needs_background": "light"
     },
     "output_type": "display_data"
    }
   ],
   "source": [
    "# plot marker gene parameters \n",
    "model = 'bursty'\n",
    "setup = 'Bursty-10-NAS_SHAPE'\n",
    "\n",
    "cluster_label = 'idk'\n",
    "\n",
    "#gene = 'Clic4'\n",
    "\n",
    "index = adata_genes.index(gene)\n",
    "plt.figure(figsize = (8,6))\n",
    "\n",
    "for i,cl in enumerate(cl2_adata_overlap):\n",
    "    N = int(len(results_dict[setup]['params']['mean'][0,:])/2)\n",
    "    mu1 = results_dict[setup]['params']['mean'][cluster_labels==cl,index]\n",
    "    mu2 =  results_dict[setup]['params']['mean'][cluster_labels==cl,index+N]\n",
    "    theta = results_dict[setup]['params']['dispersions'][cluster_labels==cl,index]\n",
    "\n",
    "    if model == 'bursty':\n",
    "        b,beta,gamma = get_bursty_params(mu1,mu2,theta)\n",
    "    elif model == 'constitutive':\n",
    "        beta,gamma = get_constitutive_params(mu1,mu2)\n",
    "    elif model == 'BVNB':\n",
    "        alpha,beta,gamma = get_BVNB_params(mu1,mu2,theta)\n",
    "\n",
    "    plt.scatter(b,gamma,s=2,label=f'{cl}')\n",
    "    plt.ylabel('degradation rate gamma',fontsize = 15)\n",
    "    plt.xlabel('burst size b', fontsize = 15)\n",
    "    plt.xscale('log')\n",
    "    plt.yscale('log')\n",
    "plt.legend(loc='center right',bbox_to_anchor=(1.0, 0.5))\n",
    "plt.title(f'Gene: {gene}',fontsize = 20)"
   ]
  },
  {
   "cell_type": "code",
   "execution_count": 22,
   "metadata": {},
   "outputs": [],
   "source": [
    "def get_bursty_params(mu1,mu2,theta):\n",
    "    ''' Returns b, beta, gamma of bursty distribution given mu1, mu2 and theta.\n",
    "    Returns whatever size was input. \n",
    "    '''\n",
    "    \n",
    "    b = mu1/theta\n",
    "    beta = 1/theta\n",
    "    gamma = mu1/(mu2*theta)\n",
    "    \n",
    "    \n",
    "    return(b,beta,gamma)\n",
    "\n",
    "def get_BVNB_params(mu1,mu2,theta):\n",
    "    ''' Returns splicing rate beta, degradation rate gamma, and alpha (mean of transcription rate distribution) \n",
    "    given BVNB extrinsic noise model.\n",
    "    '''\n",
    "    alpha = theta\n",
    "    beta = theta/mu1\n",
    "    gamma = theta/mu2\n",
    "    \n",
    "    \n",
    "    return(alpha,beta,gamma)\n",
    "\n",
    "def get_constitutive_params(mu1,mu2):\n",
    "    ''' Returns rate of splicing rate beta and rate of degradation gamma given constitutive model.\n",
    "    '''\n",
    "    beta = 1/mu1\n",
    "    gamma = 1/mu2\n",
    "    \n",
    "    return(beta,gamma)"
   ]
  },
  {
   "cell_type": "markdown",
   "metadata": {},
   "source": [
    "------\n",
    "\n",
    "\n",
    "# Differential parameter expression\n",
    "\n",
    "Calculate the t-value and p-value using less-than, greater-than, and two-sided hypotheses for burst size and degradation rate. Calculates results between subclass and the rest of the observed data points. "
   ]
  },
  {
   "cell_type": "code",
   "execution_count": 23,
   "metadata": {},
   "outputs": [],
   "source": [
    "from scipy.stats import ttest_ind"
   ]
  },
  {
   "cell_type": "code",
   "execution_count": 24,
   "metadata": {},
   "outputs": [
    {
     "data": {
      "text/plain": [
       "6454"
      ]
     },
     "execution_count": 24,
     "metadata": {},
     "output_type": "execute_result"
    }
   ],
   "source": [
    "len(adata)"
   ]
  },
  {
   "cell_type": "code",
   "execution_count": 25,
   "metadata": {},
   "outputs": [],
   "source": [
    "def perform_ttest(adata,genes,results_dict,cluster_label='subclass_label',\n",
    "                   setup='Bursty-10-NAS_SHAPE',alternative = ['two-sided','less','greater']):\n",
    "    ''' Perform three ttests on genes in adata using parameters in results dict. \n",
    "    '''\n",
    "    # define dictionaries to hold t and p values\n",
    "    b_dict = {}\n",
    "    beta_dict = {}\n",
    "    gamma_dict = {}\n",
    "    alpha_dict = {}\n",
    "    \n",
    "    b_dict['genes'] = genes\n",
    "    beta_dict['genes'] = genes\n",
    "    gamma_dict['genes'] = genes\n",
    "    alpha_dict['genes'] = genes\n",
    "    \n",
    "    \n",
    "    # define cluster labels\n",
    "    cluster_labels = np.array(adata.obs[cluster_label].tolist())\n",
    "    unique_clusters = np.unique(cluster_labels)\n",
    "    adata_genes = adata.var['gene_name'].tolist()\n",
    "    \n",
    "    N = int(len(results_dict[setup]['params']['mean'][0,:])/2)\n",
    "    \n",
    "    # arrays to hold parameters\n",
    "    b = np.ones((len(adata),len(genes)))\n",
    "    beta = np.ones((len(adata),len(genes)))\n",
    "    gamma = np.ones((len(adata),len(genes)))\n",
    "    alpha = np.ones((len(adata),len(genes)))\n",
    "    \n",
    "    # loop through genes and calculate parameters\n",
    "    for i,g in enumerate(genes):\n",
    "        index = adata_genes.index(g)\n",
    "        mu1 = results_dict[setup]['params']['mean'][:,index]\n",
    "        mu2 =  results_dict[setup]['params']['mean'][:,index+N]\n",
    "        theta = results_dict[setup]['params']['dispersions'][:,index]\n",
    "    \n",
    "        if 'Bursty' in setup:\n",
    "            b_,beta_,gamma_ = get_bursty_params(mu1,mu2,theta)\n",
    "            b[:,i] = b_\n",
    "            beta[:,i] = beta_\n",
    "            gamma[:,i] = gamma_\n",
    "        elif 'Poisson' in setup:\n",
    "            beta_,gamma_ = get_constitutive_params(mu1,mu2)\n",
    "            beta[:,i] = beta_\n",
    "            gamma[:,i] = gamma_\n",
    "        elif 'NBcorr' in setup:\n",
    "            alpha_,beta_,gamma_ = get_BVNB_params(mu1,mu2,theta)\n",
    "            alpha[:,i] = alpha_\n",
    "            beta[:,i] = beta_\n",
    "            gamma[:,i] = gamma_\n",
    "            \n",
    "    for cl in unique_clusters:\n",
    "        # subset parameters\n",
    "        b_cl = b[cluster_labels == cl,:]\n",
    "        beta_c1 = beta[cluster_labels == cl,:]\n",
    "        gamma_c1 = gamma[cluster_labels == cl,:]\n",
    "        alpha_c1 = alpha[cluster_labels == cl,:]\n",
    "        \n",
    "        b_rest = b[cluster_labels != cl,:]\n",
    "        beta_rest = beta[cluster_labels != cl,:]\n",
    "        gamma_rest = gamma[cluster_labels != cl,:]\n",
    "        alpha_rest = alpha[cluster_labels != cl,:]\n",
    "        \n",
    "        # statistics for each parameters\n",
    "        for alt in alternative:\n",
    "            statistics_b, pvalues_b = ttest_ind(b_cl, b_rest, axis=0, equal_var= False, \n",
    "                              alternative=alt)\n",
    "            statistics_beta, pvalues_beta = ttest_ind(b_cl, b_rest, axis=0, equal_var= False, \n",
    "                              alternative=alt)\n",
    "            statistics_gamma, pvalues_gamma = ttest_ind(b_cl, b_rest, axis=0, equal_var= False, \n",
    "                              alternative=alt)\n",
    "            statistics_alpha, pvalues_alpha = ttest_ind(b_cl, b_rest, axis=0, equal_var= False, \n",
    "                              alternative=alt)\n",
    "        \n",
    "            b_dict[f'{cl} t-value, {alt}'] = statistics_b\n",
    "            beta_dict[f'{cl} t-value, {alt}'] = statistics_beta\n",
    "            gamma_dict[f'{cl} t-value, {alt}'] = statistics_gamma\n",
    "            alpha_dict[f'{cl} t-value, {alt}'] = statistics_alpha\n",
    "            \n",
    "            b_dict[f'{cl} p-value, {alt}'] = pvalues_b\n",
    "            beta_dict[f'{cl} p-value, {alt}'] = pvalues_beta\n",
    "            gamma_dict[f'{cl} p-value, {alt}'] = pvalues_gamma\n",
    "            alpha_dict[f'{cl} p-value, {alt}'] = pvalues_alpha\n",
    "\n",
    "    return(b_dict,beta_dict,gamma_dict,alpha_dict)"
   ]
  },
  {
   "cell_type": "code",
   "execution_count": 27,
   "metadata": {},
   "outputs": [
    {
     "name": "stderr",
     "output_type": "stream",
     "text": [
      "<ipython-input-25-9621b37b21cb>:66: RuntimeWarning: Precision loss occurred in moment calculation due to catastrophic cancellation. This occurs when the data are nearly identical. Results may be unreliable.\n",
      "  statistics_b, pvalues_b = ttest_ind(b_cl, b_rest, axis=0, equal_var= False,\n",
      "/usr/local/lib/python3.8/dist-packages/scipy/stats/_stats_py.py:1250: RuntimeWarning: divide by zero encountered in true_divide\n",
      "  var *= np.divide(n, n-ddof)  # to avoid error on division by zero\n",
      "/usr/local/lib/python3.8/dist-packages/scipy/stats/_stats_py.py:1250: RuntimeWarning: invalid value encountered in multiply\n",
      "  var *= np.divide(n, n-ddof)  # to avoid error on division by zero\n",
      "<ipython-input-25-9621b37b21cb>:68: RuntimeWarning: Precision loss occurred in moment calculation due to catastrophic cancellation. This occurs when the data are nearly identical. Results may be unreliable.\n",
      "  statistics_beta, pvalues_beta = ttest_ind(b_cl, b_rest, axis=0, equal_var= False,\n",
      "<ipython-input-25-9621b37b21cb>:70: RuntimeWarning: Precision loss occurred in moment calculation due to catastrophic cancellation. This occurs when the data are nearly identical. Results may be unreliable.\n",
      "  statistics_gamma, pvalues_gamma = ttest_ind(b_cl, b_rest, axis=0, equal_var= False,\n",
      "<ipython-input-25-9621b37b21cb>:72: RuntimeWarning: Precision loss occurred in moment calculation due to catastrophic cancellation. This occurs when the data are nearly identical. Results may be unreliable.\n",
      "  statistics_alpha, pvalues_alpha = ttest_ind(b_cl, b_rest, axis=0, equal_var= False,\n"
     ]
    }
   ],
   "source": [
    "#two sided test\n",
    "genes = adata.var['gene_name'].tolist()\n",
    "b_dict,beta_dict,gamma_dict,alpha_dict = perform_ttest(adata,genes,results_dict,cluster_label='subclass_label',\n",
    "                   setup='Bursty-10-NAS_SHAPE',alternative = ['two-sided','less','greater'])"
   ]
  },
  {
   "cell_type": "code",
   "execution_count": 28,
   "metadata": {},
   "outputs": [],
   "source": [
    "b_df = pd.DataFrame(b_dict)\n",
    "gamma_df = pd.DataFrame(gamma_dict)"
   ]
  },
  {
   "cell_type": "markdown",
   "metadata": {},
   "source": [
    "### Change in burst size or degradation rate?\n"
   ]
  },
  {
   "cell_type": "code",
   "execution_count": null,
   "metadata": {},
   "outputs": [],
   "source": [
    "# marker genes that are upregulated in cell-type: increased burst size or decreased gamma or both? \n",
    "direction = 'up'\n",
    "\n",
    "for i,cl in enumerate(cluster_labels):\n",
    "    \n",
    "    # select marker genes that are upregulated\n",
    "    genes = marker_gene_dict[cl]['genes'][marker_gene_dict[cl]['direction'] == direction]\n",
    "    \n",
    "    # increased burst size ? \n",
    "    subset_df = b_df[b_df['genes'] in genes]\n",
    "    \n",
    "    len(b_df[f'{cl} p-value, greater' < 0.05])\n",
    "    \n",
    "    "
   ]
  }
 ],
 "metadata": {
  "kernelspec": {
   "display_name": "Python 3",
   "language": "python",
   "name": "python3"
  },
  "language_info": {
   "codemirror_mode": {
    "name": "ipython",
    "version": 3
   },
   "file_extension": ".py",
   "mimetype": "text/x-python",
   "name": "python",
   "nbconvert_exporter": "python",
   "pygments_lexer": "ipython3",
   "version": "3.8.10"
  }
 },
 "nbformat": 4,
 "nbformat_minor": 4
}
