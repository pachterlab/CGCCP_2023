{
 "cells": [
  {
   "cell_type": "markdown",
   "metadata": {},
   "source": [
    "# New differential expression testing using Bayes Factor\n",
    "\n",
    "\n",
    "\n",
    "Compare sets of DE genes identified using standard hypothesis testing (t-test) on point estimates of parameters and scVI bayes factor tests. \n",
    "\n",
    "\n",
    "\n",
    "### Bayes factor calculation *a la scVI*  and *totalVI*\n",
    "\n",
    "\n",
    "Hypothesis testing in a Bayesian setting can be done by comparing two hypothesis, $H_0$ (null) and $H_1$ (alternate), and choosing the one with the higher probability given the data $X$. That is, accepting or rejecting $H_0$ by comparing the Bayes Factor to a set threshold value:\n",
    "\n",
    "$$ \\frac{P(H_1 | X)}{P(H_0 | X)}\n",
    "$$\n"
   ]
  },
  {
   "cell_type": "code",
   "execution_count": 1,
   "metadata": {},
   "outputs": [
    {
     "name": "stderr",
     "output_type": "stream",
     "text": [
      "Global seed set to 0\n",
      "/home/tara/.local/lib/python3.8/site-packages/pytorch_lightning/utilities/warnings.py:53: LightningDeprecationWarning: pytorch_lightning.utilities.warnings.rank_zero_deprecation has been deprecated in v1.6 and will be removed in v1.8. Use the equivalent function from the pytorch_lightning.utilities.rank_zero module instead.\n",
      "  new_rank_zero_deprecation(\n",
      "/home/tara/.local/lib/python3.8/site-packages/pytorch_lightning/utilities/warnings.py:58: LightningDeprecationWarning: The `pytorch_lightning.loggers.base.rank_zero_experiment` is deprecated in v1.7 and will be removed in v1.9. Please use `pytorch_lightning.loggers.logger.rank_zero_experiment` instead.\n",
      "  return new_rank_zero_deprecation(*args, **kwargs)\n"
     ]
    },
    {
     "name": "stdout",
     "output_type": "stream",
     "text": [
      "0.18.0\n"
     ]
    }
   ],
   "source": [
    "# system\n",
    "import sys, os\n",
    "sys.path.insert(0,'../BIVI/')\n",
    "\n",
    "# timing\n",
    "import time\n",
    "\n",
    "# numbers\n",
    "import numpy as np\n",
    "import torch\n",
    "import pandas as pd\n",
    "\n",
    "# sc \n",
    "import anndata\n",
    "\n",
    "# plots\n",
    "import matplotlib.pyplot as plt\n",
    "import seaborn as sns\n",
    "cmap = plt.get_cmap('Purples')\n",
    "cmap_green = plt.get_cmap('Greens')\n",
    "cmap_orange = plt.get_cmap('Oranges')\n",
    "cmap_red = plt.get_cmap('Reds')\n",
    "cmap_blue = plt.get_cmap('Blues')\n",
    "cmap_ygb = plt.get_cmap('YlGnBu')\n",
    "\n",
    "# biVI\n",
    "import biVI\n",
    "import scvi\n",
    "print(scvi.__version__)\n",
    "\n",
    "\n",
    "\n",
    "# reproducibility, set random seeds\n",
    "scvi._settings.ScviConfig.seed=(8675309)\n",
    "torch.manual_seed(8675309)\n",
    "np.random.seed(8675309)"
   ]
  },
  {
   "cell_type": "markdown",
   "metadata": {},
   "source": [
    "Load in data."
   ]
  },
  {
   "cell_type": "code",
   "execution_count": 2,
   "metadata": {},
   "outputs": [
    {
     "name": "stderr",
     "output_type": "stream",
     "text": [
      "/usr/local/lib/python3.8/dist-packages/anndata/_core/anndata.py:121: ImplicitModificationWarning: Transforming to str index.\n",
      "  warnings.warn(\"Transforming to str index.\", ImplicitModificationWarning)\n"
     ]
    }
   ],
   "source": [
    "# first load in data\n",
    "adata = anndata.read_loom('../../data/allen/B08_processed_hv.loom')\n",
    "\n",
    "# make variable names unique \n",
    "adata.var_names_make_unique()\n",
    "\n",
    "# remove genes with fewer than 10 cells\n",
    "cell_types = np.array(adata.obs['subclass_label'].tolist())\n",
    "\n",
    "\n",
    "# ordered according to cell subclass\n",
    "unique_cell_types = ['Lamp5', 'Sncg', 'Vip', 'Sst', 'Pvalb',\n",
    "                    'L2/3 IT', 'L5 IT', 'L5/6 NP', 'L6 CT', 'L6 IT', 'L6b',\n",
    "                    'Astro', 'OPC', 'Oligo', 'Macrophage', 'Endo']\n",
    "\n",
    "\n",
    "for ct in unique_cell_types:\n",
    "    \n",
    "    cells_per_ct_ = (ct == cell_types).sum()\n",
    "    if cells_per_ct_ < 10.0:\n",
    "        adata = adata[adata.obs['subclass_label'] != ct, :]\n",
    "    \n",
    "adata = adata.copy() \n",
    "\n",
    "cell_types = np.array(adata.obs['subclass_label'].tolist())\n",
    "\n"
   ]
  },
  {
   "cell_type": "markdown",
   "metadata": {},
   "source": [
    "## Load in trained models"
   ]
  },
  {
   "cell_type": "code",
   "execution_count": 3,
   "metadata": {},
   "outputs": [
    {
     "data": {
      "text/plain": [
       "<module 'biVI' from '/home/tara/maria/scBIVI/GCCCP_2021/Code/Preprint/../BIVI/biVI.py'>"
      ]
     },
     "execution_count": 3,
     "metadata": {},
     "output_type": "execute_result"
    }
   ],
   "source": [
    "import importlib\n",
    "importlib.reload(biVI)"
   ]
  },
  {
   "cell_type": "code",
   "execution_count": 4,
   "metadata": {},
   "outputs": [
    {
     "name": "stdout",
     "output_type": "stream",
     "text": [
      "\u001b[34mINFO    \u001b[0m File ..\u001b[35m/../results/Bursty_B08_processed_hv_MODEL/\u001b[0m\u001b[95mmodel.pt\u001b[0m already downloaded                              \n",
      "{'n_input': 4000, 'n_hidden': 128, 'n_latent': 10, 'n_layers': 3, 'dropout_rate': 0.1, 'dispersion': 'gene', 'latent_distribution': 'normal', 'log_variational': True}\n",
      "Initiating biVAE\n",
      "Mode: Bursty, Decoder: non-linear\n",
      "\u001b[34mINFO    \u001b[0m File ..\u001b[35m/../results/scVI_B08_processed_hv_MODEL/\u001b[0m\u001b[95mmodel.pt\u001b[0m already downloaded                                \n"
     ]
    },
    {
     "name": "stderr",
     "output_type": "stream",
     "text": [
      "/home/tara/.local/lib/python3.8/site-packages/scvi/model/base/_utils.py:142: UserWarning: var_names for adata passed in does not match var_names of adata used to train the model. For valid results, the vars need to be the same and in the same order as the adata used to train the model.\n",
      "  warnings.warn(\n",
      "/home/tara/.local/lib/python3.8/site-packages/scvi/model/base/_utils.py:142: UserWarning: var_names for adata passed in does not match var_names of adata used to train the model. For valid results, the vars need to be the same and in the same order as the adata used to train the model.\n",
      "  warnings.warn(\n"
     ]
    }
   ],
   "source": [
    "model1 = biVI.biVI.load(\"../../results/Bursty_B08_processed_hv_MODEL\", adata=adata, use_gpu = True)\n",
    "model2 = scvi.model.SCVI.load(\"../../results/scVI_B08_processed_hv_MODEL\", adata=adata, use_gpu = True)\n",
    "# model3 = biVI.biVI.load(\"../../results/Constitutive_B08_processed_hv_MODEL\", adata=adata, use_gpu = True)\n",
    "# model4 = biVI.biVI.load(\"../../results/Extrinsic_B08_processed_hv_MODEL\", adata=adata, use_gpu = True)"
   ]
  },
  {
   "cell_type": "markdown",
   "metadata": {},
   "source": [
    "## Calculate Bayes Factors for one cell type versus rest "
   ]
  },
  {
   "cell_type": "code",
   "execution_count": 6,
   "metadata": {},
   "outputs": [
    {
     "name": "stdout",
     "output_type": "stream",
     "text": [
      "DE...: 100%|██████████| 20/20 [00:02<00:00,  7.43it/s]\n"
     ]
    }
   ],
   "source": [
    "# scVI has a nice built function that allows easy comparisons between cell types\n",
    "delta = 1.0\n",
    "scVI_BF_DE_built = model2.differential_expression(adata, groupby = \"Cell Type\", m_permutation = 10000,\n",
    "                                           mode = \"change\", delta = delta, n_samples = 20)"
   ]
  },
  {
   "cell_type": "code",
   "execution_count": 9,
   "metadata": {},
   "outputs": [
    {
     "name": "stdout",
     "output_type": "stream",
     "text": [
      "Lamp5\n",
      "Sncg\n",
      "Vip\n",
      "Sst\n",
      "Pvalb\n",
      "L2/3 IT\n",
      "L5 IT\n",
      "L5/6 NP\n"
     ]
    },
    {
     "name": "stderr",
     "output_type": "stream",
     "text": [
      "/home/tara/maria/scBIVI/GCCCP_2021/Code/Preprint/../BIVI/biVI.py:529: RuntimeWarning: divide by zero encountered in true_divide\n",
      "  BF = np.sum(lfc_abs>=delta,axis=0)/(np.sum(lfc_abs<delta,axis=0))\n"
     ]
    },
    {
     "name": "stdout",
     "output_type": "stream",
     "text": [
      "L6 CT\n",
      "L6 IT\n",
      "L6b\n",
      "Astro\n",
      "OPC\n",
      "Oligo\n",
      "Macrophage\n",
      "Endo\n"
     ]
    }
   ],
   "source": [
    "# In biVI, for now loop through cell types and calculate BF for each\n",
    "n_samples = 20\n",
    "parameters = ['norm_burst_size','norm_degradation_rate','norm_spliced_mean','norm_unspliced_mean']\n",
    "biVI_BF_DE = {ct : {} for ct in unique_cell_types}\n",
    "scVI_BF_DE = {ct : {} for ct in unique_cell_types}\n",
    "const_BF_DE = {ct : {} for ct in unique_cell_types}\n",
    "ext_BF_DE = {ct : {} for ct in unique_cell_types}\n",
    "\n",
    "for cell_type in unique_cell_types:\n",
    "    print(cell_type)\n",
    "    idx1 = np.arange(len(cell_types))[cell_types == cell_type]\n",
    "    idx2 =  np.arange(len(cell_types))[cell_types != cell_type]\n",
    "\n",
    "    biVI_BF_DE[cell_type] = model1.get_bayes_factors(adata,idx1,idx2,\n",
    "                                                     n_samples_1 = n_samples,\n",
    "                                                     n_samples_2 = n_samples,\n",
    "                                                     n_comparisons = 10000,\n",
    "                                                     return_df = True,\n",
    "                                                     delta = delta)\n",
    "    \n",
    "    \n",
    "#     params1 = model2.get_normalized_expression(adata[idx1],\n",
    "#                                           n_samples = n_samples, return_mean = False)\n",
    "#     params2 = model2.get_normalized_expression(adata[idx2],\n",
    "#                                           n_samples = n_samples, return_mean = False)\n",
    "#     params_dict_1 = {}\n",
    "#     params_dict_2 = {}\n",
    "#     params_dict_1['norm_unspliced_mean'] = params1[:,:,:2000]\n",
    "#     params_dict_1['norm_spliced_mean'] = params1[:,:,2000:]\n",
    "#     params_dict_2['norm_unspliced_mean'] = params2[:,:,:2000]\n",
    "#     params_dict_2['norm_spliced_mean'] = params2[:,:,2000:]\n",
    "    \n",
    "#     scVI_BF_DE[cell_type] = model1.get_bayes_factors(adata,idx1,idx2,\n",
    "#                                                      n_samples_1 = n_samples,\n",
    "#                                                      n_samples_2 = n_samples,\n",
    "#                                                      n_comparisons = 10000,\n",
    "#                                                      return_df = True,\n",
    "#                                                      delta = delta,\n",
    "#                                                     params_dict_1 = params_dict_1,\n",
    "#                                                     params_dict_2 = params_dict_2)\n",
    "    \n",
    "#     params1c = model3.get_normalized_expression(adata[idx1],\n",
    "#                                           n_samples = n_samples, return_mean = False)\n",
    "#     params2c = model3.get_normalized_expression(adata[idx2],\n",
    "#                                           n_samples = n_samples, return_mean = False)\n",
    "\n",
    "#     const_BF_DE[cell_type] = model3.get_bayes_factors(adata,idx1,idx2,\n",
    "#                                                      n_samples_1 = n_samples,\n",
    "#                                                      n_samples_2 = n_samples,\n",
    "#                                                      n_comparisons = 10000,\n",
    "#                                                      return_df = True,\n",
    "#                                                      delta = 1.0)\n",
    "    \n",
    "#     ext_BF_DE[cell_type] = model3.get_bayes_factors(adata,idx1,idx2,\n",
    "#                                                      n_samples_1 = n_samples,\n",
    "#                                                      n_samples_2 = n_samples,\n",
    "#                                                      n_comparisons = 10000,\n",
    "#                                                      return_df = True,\n",
    "#                                                      delta = 1.0)"
   ]
  },
  {
   "cell_type": "markdown",
   "metadata": {},
   "source": [
    "Get significant genes using Bayes Factor for scVI and biVI.\n",
    "\n",
    "The scVI paper uses a Bayes Factor cutoff of 0.7 and a delta cutoff of 0.25 (although this seems too small to me, perhaps I will use a more stringent cutoff).\n",
    "\n",
    "\n",
    "The delta cutoff means that absolute value log2(param_in_A/param_in_rest) >= delta.\n",
    "\n",
    "The Bayes Factor is the probability that log2(param_in_A/param_in_rest) >= delta divided by the probability that it is less than delta. \n"
   ]
  },
  {
   "cell_type": "code",
   "execution_count": 10,
   "metadata": {},
   "outputs": [],
   "source": [
    "genes_unspliced = adata.var['gene_name'].tolist()\n",
    "genes_unspliced[2000:] = [0]*2000\n",
    "genes_spliced = adata.var['gene_name'].tolist()\n",
    "genes_spliced[:2000] = [0]*2000\n",
    "genes = np.array(adata.var['gene_name'])[:2000]"
   ]
  },
  {
   "cell_type": "code",
   "execution_count": 11,
   "metadata": {},
   "outputs": [
    {
     "name": "stdout",
     "output_type": "stream",
     "text": [
      "Lamp5\n",
      "BIVI PARAM\n",
      "BIVI PARAM\n",
      "BIVI PARAM\n",
      "BIVI PARAM\n",
      "BIVI PARAM\n",
      "Sncg\n",
      "BIVI PARAM\n",
      "BIVI PARAM\n",
      "BIVI PARAM\n",
      "BIVI PARAM\n",
      "BIVI PARAM\n",
      "Vip\n",
      "BIVI PARAM\n",
      "BIVI PARAM\n",
      "BIVI PARAM\n",
      "BIVI PARAM\n",
      "BIVI PARAM\n",
      "Sst\n",
      "BIVI PARAM\n",
      "BIVI PARAM\n",
      "BIVI PARAM\n",
      "BIVI PARAM\n",
      "BIVI PARAM\n",
      "Pvalb\n",
      "BIVI PARAM\n",
      "BIVI PARAM\n",
      "BIVI PARAM\n",
      "BIVI PARAM\n",
      "BIVI PARAM\n",
      "L2/3 IT\n",
      "BIVI PARAM\n",
      "BIVI PARAM\n",
      "BIVI PARAM\n",
      "BIVI PARAM\n",
      "BIVI PARAM\n",
      "L5 IT\n",
      "BIVI PARAM\n",
      "BIVI PARAM\n",
      "BIVI PARAM\n",
      "BIVI PARAM\n",
      "BIVI PARAM\n",
      "L5/6 NP\n",
      "BIVI PARAM\n",
      "BIVI PARAM\n",
      "BIVI PARAM\n",
      "BIVI PARAM\n",
      "BIVI PARAM\n",
      "L6 CT\n",
      "BIVI PARAM\n",
      "BIVI PARAM\n",
      "BIVI PARAM\n",
      "BIVI PARAM\n",
      "BIVI PARAM\n",
      "L6 IT\n",
      "BIVI PARAM\n",
      "BIVI PARAM\n",
      "BIVI PARAM\n",
      "BIVI PARAM\n",
      "BIVI PARAM\n",
      "L6b\n",
      "BIVI PARAM\n",
      "BIVI PARAM\n",
      "BIVI PARAM\n",
      "BIVI PARAM\n",
      "BIVI PARAM\n",
      "Astro\n",
      "BIVI PARAM\n",
      "BIVI PARAM\n",
      "BIVI PARAM\n",
      "BIVI PARAM\n",
      "BIVI PARAM\n",
      "OPC\n",
      "BIVI PARAM\n",
      "BIVI PARAM\n",
      "BIVI PARAM\n",
      "BIVI PARAM\n",
      "BIVI PARAM\n",
      "Oligo\n",
      "BIVI PARAM\n",
      "BIVI PARAM\n",
      "BIVI PARAM\n",
      "BIVI PARAM\n",
      "BIVI PARAM\n",
      "Macrophage\n",
      "BIVI PARAM\n",
      "BIVI PARAM\n",
      "BIVI PARAM\n",
      "BIVI PARAM\n",
      "BIVI PARAM\n",
      "Endo\n",
      "BIVI PARAM\n",
      "BIVI PARAM\n",
      "BIVI PARAM\n",
      "BIVI PARAM\n",
      "BIVI PARAM\n"
     ]
    },
    {
     "name": "stderr",
     "output_type": "stream",
     "text": [
      "/usr/local/lib/python3.8/dist-packages/pandas/core/arraylike.py:397: RuntimeWarning: divide by zero encountered in log\n",
      "  result = getattr(ufunc, method)(*inputs, **kwargs)\n",
      "/usr/local/lib/python3.8/dist-packages/pandas/core/arraylike.py:397: RuntimeWarning: invalid value encountered in log\n",
      "  result = getattr(ufunc, method)(*inputs, **kwargs)\n"
     ]
    }
   ],
   "source": [
    "biVI_sig_BF_genes = {ct : {} for ct in unique_cell_types}\n",
    "# scVI_sig_BF_genes = {ct : {} for ct in unique_cell_types}\n",
    "# const_sig_BF_genes = {ct : {} for ct in unique_cell_types}\n",
    "# ext_sig_BF_genes = {ct : {} for ct in unique_cell_types}\n",
    "\n",
    "scVI_sig_BF_genes_built = {ct : {} for ct in unique_cell_types}\n",
    "\n",
    "BF_THRESH = 1.5\n",
    "LFC_THRESH = 1.0\n",
    "\n",
    "\n",
    "for cell_type in unique_cell_types:\n",
    "    print(cell_type)\n",
    "    idx_scVI = np.array(scVI_BF_DE_built[(scVI_BF_DE_built['group1']==cell_type) & \n",
    "                                         (scVI_BF_DE_built['bayes_factor']>BF_THRESH) &\n",
    "                                         (scVI_BF_DE_built['lfc_mean']>LFC_THRESH)].index,dtype=int)\n",
    "\n",
    "    sig_genes_unspliced = list(map(genes_unspliced.__getitem__,idx_scVI))\n",
    "    sig_genes_unspliced = [g for g in sig_genes_unspliced if g != 0]\n",
    "    \n",
    "    sig_genes_spliced = list(map(genes_spliced.__getitem__,idx_scVI))\n",
    "    sig_genes_spliced = [g for g in sig_genes_spliced if g != 0]\n",
    "    \n",
    "    \n",
    "    scVI_sig_BF_genes_built[cell_type]['norm_unspliced_mean'] = sig_genes_unspliced\n",
    "    scVI_sig_BF_genes_built[cell_type]['norm_spliced_mean'] = sig_genes_spliced\n",
    "    \n",
    "    for param in biVI_BF_DE[cell_type].keys():\n",
    "        \n",
    "        df = biVI_BF_DE[cell_type][param]\n",
    "        \n",
    "        idx_biVI = np.array(df[(np.log(df['bayes_factor'])>BF_THRESH) &\n",
    "                                (np.log(df['lfc_mean'])>LFC_THRESH)].index,dtype=int)\n",
    "        sig_genes_param = list(map(genes.__getitem__,idx_biVI))\n",
    "        biVI_sig_BF_genes[cell_type][param] = sig_genes_param\n",
    "        \n",
    "#     for param in scVI_BF_DE[cell_type].keys():\n",
    "#         df = scVI_BF_DE[cell_type][param]\n",
    "        \n",
    "#         idx_scVI = np.array(df[np.log(df['bayes_factor'])>BF_THRESH].index,dtype=int)\n",
    "#         sig_genes_param = list(map(genes.__getitem__,idx_scVI))\n",
    "        \n",
    "#         scVI_sig_BF_genes[cell_type][param] = sig_genes_param\n",
    "\n",
    "#     for param in const_BF_DE[cell_type].keys():\n",
    "#         df = const_BF_DE[cell_type][param]\n",
    "        \n",
    "#         idx_const = np.array(df[np.log(df['bayes_factor'])>BF_THRESH].index,dtype=int)\n",
    "#         sig_genes_param = list(map(genes.__getitem__,idx_const))\n",
    "        \n",
    "#         const_sig_BF_genes[cell_type][param] = sig_genes_param\n",
    "        \n",
    "#     for param in ext_BF_DE[cell_type].keys():\n",
    "#         df = ext_BF_DE[cell_type][param]\n",
    "        \n",
    "#         idx_ext = np.array(df[np.log(df['bayes_factor'])>BF_THRESH].index,dtype=int)\n",
    "#         sig_genes_param = list(map(genes.__getitem__,idx_ext))\n",
    "        \n",
    "#         ext_sig_BF_genes[cell_type][param] = sig_genes_param\n",
    "        "
   ]
  },
  {
   "cell_type": "code",
   "execution_count": 86,
   "metadata": {},
   "outputs": [
    {
     "name": "stdout",
     "output_type": "stream",
     "text": [
      "Working cell type:  Lamp5\n",
      "asdasda\n",
      "There are 144 genes significant in norm_burst_size BIVI MINE\n",
      "asdasda\n",
      "There are 180 genes significant in norm_degradation_rate BIVI MINE\n",
      "asdasda\n",
      "There are 0 genes significant in norm_splicing_rate BIVI MINE\n",
      "asdasda\n",
      "There are 123 genes significant in norm_spliced_mean BIVI MINE\n",
      "asdasda\n",
      "There are 125 genes significant in norm_unspliced_mean BIVI MINE\n",
      "There are 1 genes significant in norm_unspliced_mean SCVI BUILT\n",
      "There are 3 genes significant in norm_spliced_mean SCVI BUILT\n",
      "There are 0 genes significant in norm_unspliced_mean SCVI MINE\n",
      "There are 0 genes significant in norm_spliced_mean SCVI MINE\n",
      "Working cell type:  Sncg\n",
      "There are 5 genes significant in norm_unspliced_mean SCVI BUILT\n",
      "There are 16 genes significant in norm_spliced_mean SCVI BUILT\n",
      "Working cell type:  Vip\n",
      "There are 2 genes significant in norm_unspliced_mean SCVI BUILT\n",
      "There are 7 genes significant in norm_spliced_mean SCVI BUILT\n"
     ]
    }
   ],
   "source": [
    "for ct in unique_cell_types[:3]:\n",
    "\n",
    "    print('Working cell type: ',ct)\n",
    "\n",
    "    for param in biVI_sig_BF_genes[ct].keys():\n",
    "        n = len(biVI_sig_BF_genes[ct][param])\n",
    "        print(f'There are {n} genes significant in {param} BIVI MINE')\n",
    "        \n",
    "    for param in scVI_sig_BF_genes_built[ct].keys():\n",
    "        n = len(scVI_sig_BF_genes_built[ct][param])\n",
    "        print(f'There are {n} genes significant in {param} SCVI BUILT')\n",
    "        \n",
    "    for param in scVI_sig_BF_genes[ct].keys():\n",
    "        n = len(scVI_sig_BF_genes[ct][param])\n",
    "        print(f'There are {n} genes significant in {param} SCVI MINE')\n",
    "\n",
    "        \n",
    "#     for param in const_sig_BF_genes[ct].keys():\n",
    "\n",
    "#         n = len(const_sig_BF_genes[ct][param])\n",
    "#         print(f'There are {n} genes significant in {param} const')\n",
    "        \n",
    "#     for param in ext_sig_BF_genes[ct].keys():\n",
    "\n",
    "#         n = len(ext_sig_BF_genes[ct][param])\n",
    "#         print(f'There are {n} genes significant in {param} ext')"
   ]
  },
  {
   "cell_type": "markdown",
   "metadata": {},
   "source": [
    "# Novel gene identification\n",
    "\n",
    "Identify genes that are DE (up, for now) in biVI parameters but NOT in scVI spliced means (as is the typical case).\n",
    "\n",
    "\n"
   ]
  },
  {
   "cell_type": "code",
   "execution_count": 12,
   "metadata": {},
   "outputs": [],
   "source": [
    "b_changed_mu2_unchanged = {}\n",
    "gamma_changed_mu2_unchanged = {}\n",
    "\n",
    "for ct in unique_cell_types:\n",
    "    genes_b = biVI_sig_BF_genes[cell_type]['norm_burst_size']\n",
    "    genes_gamma = biVI_sig_BF_genes[cell_type]['norm_degradation_rate']\n",
    "    genes_scVI_mu2 = scVI_sig_BF_genes_built[cell_type]['norm_spliced_mean']\n",
    "    \n",
    "    b_changed_mu2_unchanged[ct] = [g for g in genes_b if g not in genes_scVI_mu2]\n",
    "    gamma_changed_mu2_unchanged[ct] = [g for g in genes_gamma if g not in genes_scVI_mu2]"
   ]
  },
  {
   "cell_type": "code",
   "execution_count": 13,
   "metadata": {},
   "outputs": [
    {
     "data": {
      "text/plain": [
       "True"
      ]
     },
     "execution_count": 13,
     "metadata": {},
     "output_type": "execute_result"
    }
   ],
   "source": [
    "'Ndnf' in b_changed_mu2_unchanged['L6 CT']"
   ]
  },
  {
   "cell_type": "code",
   "execution_count": 14,
   "metadata": {},
   "outputs": [
    {
     "data": {
      "text/plain": [
       "True"
      ]
     },
     "execution_count": 14,
     "metadata": {},
     "output_type": "execute_result"
    }
   ],
   "source": [
    "'Trem2' in gamma_changed_mu2_unchanged['L5 IT']"
   ]
  },
  {
   "cell_type": "markdown",
   "metadata": {},
   "source": [
    "------\n",
    "\n",
    "# Plot biVI DE genes"
   ]
  },
  {
   "cell_type": "code",
   "execution_count": 22,
   "metadata": {},
   "outputs": [
    {
     "name": "stderr",
     "output_type": "stream",
     "text": [
      "<ipython-input-22-5adba29b9aa7>:18: FutureWarning: elementwise comparison failed; returning scalar instead, but in the future will perform elementwise comparison\n",
      "  biVIX_sig_genes = [g for g in biVI_sig_genes if g not in mu_sig_genes]\n",
      "<ipython-input-22-5adba29b9aa7>:20: FutureWarning: elementwise comparison failed; returning scalar instead, but in the future will perform elementwise comparison\n",
      "  both_sig_genes = [g for g in biVI_sig_genes if g in mu_sig_genes]\n"
     ]
    },
    {
     "data": {
      "image/png": "[encoded data removed]",
      "text/plain": [
       "<Figure size 648x288 with 1 Axes>"
      ]
     },
     "metadata": {
      "needs_background": "light"
     },
     "output_type": "display_data"
    }
   ],
   "source": [
    "sig_gene_plot = []\n",
    "\n",
    "num_muX_sig = 0\n",
    "num_both_sig = 0\n",
    "num_biVIX_sig = 0\n",
    "\n",
    "for ct in unique_cell_types:\n",
    "\n",
    "    biVI_sig_genes = np.array(biVI_sig_BF_genes[ct]['norm_burst_size'] + biVI_sig_BF_genes[ct]['norm_degradation_rate'])\n",
    "    \n",
    "    biVI_sig_genes = np.unique(biVI_sig_genes)\n",
    "\n",
    "    mu_sig_genes = np.array(scVI_sig_BF_genes_built[ct]['norm_spliced_mean'])\n",
    "                           # + scVI_sig_BF_genes_built[ct]['norm_unspliced_mean'])\n",
    "    mu_sig_genes = np.unique(mu_sig_genes)\n",
    "    muX_sig_genes = [g for g in mu_sig_genes if g not in biVI_sig_genes]\n",
    "    \n",
    "    biVIX_sig_genes = [g for g in biVI_sig_genes if g not in mu_sig_genes]\n",
    "    \n",
    "    both_sig_genes = [g for g in biVI_sig_genes if g in mu_sig_genes]\n",
    "    sig_gene_plot.append(len(biVIX_sig_genes))\n",
    "    \n",
    "    num_muX_sig += len(muX_sig_genes)\n",
    "    num_both_sig += len(both_sig_genes)\n",
    "    num_biVIX_sig += len(biVIX_sig_genes)\n",
    "        \n",
    "plt.figure(figsize=(9,4))\n",
    "sns.barplot(x =  unique_cell_types, y = sig_gene_plot,\n",
    "            palette = ['lightsalmon' for i in range(19)])\n",
    "\n",
    "plt.xticks(rotation=90);\n",
    "plt.xlabel('Cell subclass',fontsize = 25)\n",
    "plt.tick_params(axis='both', which='major', labelsize=20)\n",
    "#plt.title(f'$biVI$ Significant Differentially Regulated Genes',fontsize = 30)\n",
    "plt.ylabel('Number of genes',fontsize = 25);\n",
    "\n",
    "\n",
    "\n",
    "plt.savefig(f'../../results/B08_processed_hv_figs/biVI_DE_genes.png',bbox_inches='tight')\n",
    "\n",
    "\n"
   ]
  },
  {
   "cell_type": "code",
   "execution_count": 23,
   "metadata": {},
   "outputs": [
    {
     "name": "stdout",
     "output_type": "stream",
     "text": [
      "0\n",
      "0\n",
      "3865\n"
     ]
    }
   ],
   "source": [
    "print(num_muX_sig)\n",
    "print(num_both_sig)\n",
    "print(num_biVIX_sig)"
   ]
  },
  {
   "cell_type": "markdown",
   "metadata": {},
   "source": [
    "# Fraction of DE genes\n",
    "\n",
    "\n",
    "For all genes found to be differentially expressed in *biVI* parameters, are they mostly regulated by burst size, degradation rate, or both?"
   ]
  },
  {
   "cell_type": "code",
   "execution_count": 24,
   "metadata": {},
   "outputs": [
    {
     "name": "stdout",
     "output_type": "stream",
     "text": [
      "Lamp5\n",
      "Sncg\n",
      "Vip\n",
      "Sst\n",
      "Pvalb\n",
      "L2/3 IT\n",
      "L5 IT\n",
      "L5/6 NP\n",
      "L6 CT\n",
      "L6 IT\n",
      "L6b\n",
      "Astro\n",
      "OPC\n",
      "Oligo\n",
      "Macrophage\n",
      "Endo\n"
     ]
    }
   ],
   "source": [
    "compare_b_gamma_dict = {ct : {} for ct in unique_cell_types}\n",
    "\n",
    "b_fractions = []\n",
    "gamma_fractions = []\n",
    "both_fractions = []\n",
    "ct_for_df = []\n",
    "\n",
    "for ct in unique_cell_types:\n",
    "        print(ct)\n",
    "        b_genes = biVI_sig_BF_genes[ct]['norm_burst_size']\n",
    "        gamma_genes = biVI_sig_BF_genes[ct]['norm_degradation_rate']\n",
    "        \n",
    "        \n",
    "        all_sig_genes = np.unique( np.array(b_genes+gamma_genes) )\n",
    "        \n",
    "        if len(all_sig_genes) != 0: \n",
    "            fraction_b_genes = len([b for b in b_genes if b not in gamma_genes])/len(all_sig_genes)\n",
    "            fraction_gamma_genes = len([g for g in gamma_genes if g not in b_genes])/len(all_sig_genes)\n",
    "            fraction_both = len([a for a in all_sig_genes if (a in b_genes) and (a in gamma_genes)])/len(all_sig_genes)\n",
    "        \n",
    "        \n",
    "            b_fractions.append(fraction_b_genes) \n",
    "            gamma_fractions.append(fraction_gamma_genes) \n",
    "            both_fractions.append(fraction_both)\n",
    "            ct_for_df.append(ct)\n",
    "        \n",
    "        "
   ]
  },
  {
   "cell_type": "code",
   "execution_count": 18,
   "metadata": {},
   "outputs": [],
   "source": [
    "# how many genes"
   ]
  },
  {
   "cell_type": "code",
   "execution_count": 19,
   "metadata": {},
   "outputs": [],
   "source": [
    "\n",
    "N = len(ct_for_df)\n",
    "df_1 = pd.DataFrame({'Cell subclass' : ct_for_df,'Fraction' : b_fractions, 'Parameter' : ['Burst size']*N})\n",
    "df_2 = pd.DataFrame({'Cell subclass' : ct_for_df,'Fraction' : gamma_fractions, 'Parameter' : ['Relative degradation rate']*N})\n",
    "df_3 = pd.DataFrame({'Cell subclass' : ct_for_df,'Fraction' : both_fractions, 'Parameter' : ['Both']*N})\n",
    "df_plot = pd.concat([df_1,df_2,df_3],axis=0)"
   ]
  },
  {
   "cell_type": "code",
   "execution_count": 20,
   "metadata": {},
   "outputs": [],
   "source": [
    "# get number of cells in each cell type\n",
    "num_cell_type = []\n",
    "for ct in ct_for_df:\n",
    "    num_cell_type.append(len(adata[adata.obs.subclass_label==ct]))"
   ]
  },
  {
   "cell_type": "code",
   "execution_count": 25,
   "metadata": {},
   "outputs": [
    {
     "name": "stderr",
     "output_type": "stream",
     "text": [
      "<ipython-input-25-c8b49c45f923>:17: UserWarning: FixedFormatter should only be used together with FixedLocator\n",
      "  ax[0].set_yticklabels([0.0,0.2,0.4,0.6,0.8,1.0,],fontsize = 30)\n",
      "<ipython-input-25-c8b49c45f923>:28: UserWarning: Attempted to set non-positive bottom ylim on a log-scaled axis.\n",
      "Invalid limit will be ignored.\n",
      "  ax[1].set_ylim(0,8000)\n",
      "<ipython-input-25-c8b49c45f923>:29: UserWarning: FixedFormatter should only be used together with FixedLocator\n",
      "  ax[1].set_yticklabels([0,1,10,10**2,10**3],fontsize = 25);\n"
     ]
    },
    {
     "data": {
      "image/png": "[encoded data removed]",
      "text/plain": [
       "<Figure size 1224x864 with 2 Axes>"
      ]
     },
     "metadata": {
      "needs_background": "light"
     },
     "output_type": "display_data"
    }
   ],
   "source": [
    "fig, ax = plt.subplots(2,1,figsize = (17,12),gridspec_kw={'height_ratios': [5, 1],\n",
    "                                                         'wspace': 0.0, 'hspace':0.07})\n",
    "plt.xticks(rotation = 90, fontsize = 30)\n",
    "fig.subplots_adjust(wspace=None)\n",
    "#plt.yticks(fontsize=34)\n",
    "sns.barplot(x='Cell subclass', y='Fraction', hue='Parameter', data=df_plot, \n",
    "            palette = [cmap_ygb(80),cmap_ygb(170),cmap_ygb(270)], ax = ax[0])\n",
    "ax[0].set_ylabel('Fraction',fontsize = 40)\n",
    "ax[0].set_ylim(0,1.2)\n",
    "ax[0].set(xlabel=None)\n",
    "ax[0].tick_params(\n",
    "    axis='x',          # changes apply to the x-axis\n",
    "    which='both',      # both major and minor ticks are affected\n",
    "    bottom=False,      # ticks along the bottom edge are off\n",
    "    top=False,         # ticks along the top edge are off\n",
    "    labelbottom=False,)\n",
    "ax[0].set_yticklabels([0.0,0.2,0.4,0.6,0.8,1.0,],fontsize = 30)\n",
    "plt.setp(ax[0].get_legend().get_texts(), fontsize='30');\n",
    "plt.setp(ax[0].get_legend().get_title(), fontsize='30');\n",
    "\n",
    "\n",
    "sns.barplot(x=ct_for_df,y = num_cell_type,color = 'gray',ax=ax[1])\n",
    "ax[1].set_xticklabels(ct_for_df, rotation=90);\n",
    "ax[1].set_yscale('log')\n",
    "ax[1].set_yscale('log')\n",
    "ax[1].set_xlabel('Cell subclass',fontsize = 40)\n",
    "ax[1].set_ylabel('# Cells',fontsize = 30)\n",
    "ax[1].set_ylim(0,8000)\n",
    "ax[1].set_yticklabels([0,1,10,10**2,10**3],fontsize = 25);\n",
    "#ax[1].ticklabel_format(axis='y',style='sci');\n",
    "\n",
    "\n",
    "plt.savefig(f'../../results/B08_processed_hv_figs/b_gamma_percent.png',bbox_inches='tight');"
   ]
  }
 ],
 "metadata": {
  "kernelspec": {
   "display_name": "Python 3",
   "language": "python",
   "name": "python3"
  },
  "language_info": {
   "codemirror_mode": {
    "name": "ipython",
    "version": 3
   },
   "file_extension": ".py",
   "mimetype": "text/x-python",
   "name": "python",
   "nbconvert_exporter": "python",
   "pygments_lexer": "ipython3",
   "version": "3.8.10"
  }
 },
 "nbformat": 4,
 "nbformat_minor": 4
}
